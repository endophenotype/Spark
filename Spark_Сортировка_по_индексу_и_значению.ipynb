{
  "nbformat": 4,
  "nbformat_minor": 0,
  "metadata": {
    "colab": {
      "provenance": [],
      "authorship_tag": "ABX9TyMDYUspxZvY7f+aIpw33U4w",
      "include_colab_link": true
    },
    "kernelspec": {
      "name": "python3",
      "display_name": "Python 3"
    },
    "language_info": {
      "name": "python"
    }
  },
  "cells": [
    {
      "cell_type": "markdown",
      "metadata": {
        "id": "view-in-github",
        "colab_type": "text"
      },
      "source": [
        "<a href=\"https://colab.research.google.com/github/endophenotype/Spark/blob/main/Spark_%D0%A1%D0%BE%D1%80%D1%82%D0%B8%D1%80%D0%BE%D0%B2%D0%BA%D0%B0_%D0%BF%D0%BE_%D0%B8%D0%BD%D0%B4%D0%B5%D0%BA%D1%81%D1%83_%D0%B8_%D0%B7%D0%BD%D0%B0%D1%87%D0%B5%D0%BD%D0%B8%D1%8E.ipynb\" target=\"_parent\"><img src=\"https://colab.research.google.com/assets/colab-badge.svg\" alt=\"Open In Colab\"/></a>"
      ]
    },
    {
      "cell_type": "code",
      "execution_count": null,
      "metadata": {
        "id": "IMXcmvz9czSG"
      },
      "outputs": [],
      "source": [
        "!apt-get install openjdk-8-jdk-headless -qq > /dev/null\n",
        "!wget -q http://archive.apache.org/dist/spark/spark-3.4.0/spark-3.4.0-bin-hadoop3.tgz\n",
        "!tar xf spark-3.4.0-bin-hadoop3.tgz\n",
        "!pip install -q findspark"
      ]
    },
    {
      "cell_type": "code",
      "source": [
        "import os\n",
        "os.environ[\"JAVA_HOME\"] = \"/usr/lib/jvm/java-8-openjdk-amd64\"\n",
        "os.environ[\"SPARK_HOME\"] = \"/content/spark-3.4.0-bin-hadoop3\"\n",
        "os.environ[\"PYARROW_IGNORE_TIMEZONE\"] = \"1\""
      ],
      "metadata": {
        "id": "aSBIgXsxq3hY"
      },
      "execution_count": null,
      "outputs": []
    },
    {
      "cell_type": "code",
      "source": [
        "import findspark\n",
        "findspark.init()"
      ],
      "metadata": {
        "id": "Z6yyIRGmq3hb"
      },
      "execution_count": null,
      "outputs": []
    },
    {
      "cell_type": "code",
      "source": [
        "import pandas as pd\n",
        "import numpy as np\n",
        "from pyspark.sql import SparkSession\n",
        "import pyspark.pandas as ps"
      ],
      "metadata": {
        "id": "Mqo3Tp_CsBC6"
      },
      "execution_count": null,
      "outputs": []
    },
    {
      "cell_type": "markdown",
      "source": [
        "Создание серии pandas-on-Spark путем передачи списка значений, позволяя\n",
        "API pandas в Spark создать целочисленный индекс по умолчанию:"
      ],
      "metadata": {
        "id": "FuZZXids2YdI"
      }
    },
    {
      "cell_type": "code",
      "source": [
        "s = ps.Series([1, 3, 5, np.nan, 6, 8])\n",
        "print(type(s))\n",
        "print(s)"
      ],
      "metadata": {
        "colab": {
          "base_uri": "https://localhost:8080/"
        },
        "id": "6D77uWlKyVLL",
        "outputId": "0eccf626-e9ea-44d9-fc7d-5efdf1bc0721"
      },
      "execution_count": null,
      "outputs": [
        {
          "output_type": "stream",
          "name": "stdout",
          "text": [
            "<class 'pyspark.pandas.series.Series'>\n",
            "0    1.0\n",
            "1    3.0\n",
            "2    5.0\n",
            "3    NaN\n",
            "4    6.0\n",
            "5    8.0\n",
            "dtype: float64\n"
          ]
        }
      ]
    },
    {
      "cell_type": "markdown",
      "source": [
        "Создание кадра данных pandas-on-Spark путем передачи набора объектов,\n",
        "которые можно преобразовать в ряды."
      ],
      "metadata": {
        "id": "HICQv1_A2ajS"
      }
    },
    {
      "cell_type": "code",
      "source": [
        "psdf = ps.DataFrame(\n",
        " {'a': [1, 2, 3, 4, 5, 6],\n",
        " 'b': [100, 200, 300, 400, 500, 600],\n",
        " 'c': [\"one\", \"two\", \"three\", \"four\", \"five\", \"six\"]},\n",
        " index=[10, 20, 30, 40, 50, 60])\n",
        "print(type(psdf))\n",
        "psdf"
      ],
      "metadata": {
        "colab": {
          "base_uri": "https://localhost:8080/",
          "height": 256
        },
        "id": "_8LnkuOOyjnp",
        "outputId": "da36716e-dd5c-4735-aaaf-c307b5d73d51"
      },
      "execution_count": null,
      "outputs": [
        {
          "output_type": "stream",
          "name": "stdout",
          "text": [
            "<class 'pyspark.pandas.frame.DataFrame'>\n"
          ]
        },
        {
          "output_type": "execute_result",
          "data": {
            "text/plain": [
              "    a    b      c\n",
              "10  1  100    one\n",
              "20  2  200    two\n",
              "30  3  300  three\n",
              "40  4  400   four\n",
              "50  5  500   five\n",
              "60  6  600    six"
            ],
            "text/html": [
              "<div>\n",
              "<style scoped>\n",
              "    .dataframe tbody tr th:only-of-type {\n",
              "        vertical-align: middle;\n",
              "    }\n",
              "\n",
              "    .dataframe tbody tr th {\n",
              "        vertical-align: top;\n",
              "    }\n",
              "\n",
              "    .dataframe thead th {\n",
              "        text-align: right;\n",
              "    }\n",
              "</style>\n",
              "<table border=\"1\" class=\"dataframe\">\n",
              "  <thead>\n",
              "    <tr style=\"text-align: right;\">\n",
              "      <th></th>\n",
              "      <th>a</th>\n",
              "      <th>b</th>\n",
              "      <th>c</th>\n",
              "    </tr>\n",
              "  </thead>\n",
              "  <tbody>\n",
              "    <tr>\n",
              "      <th>10</th>\n",
              "      <td>1</td>\n",
              "      <td>100</td>\n",
              "      <td>one</td>\n",
              "    </tr>\n",
              "    <tr>\n",
              "      <th>20</th>\n",
              "      <td>2</td>\n",
              "      <td>200</td>\n",
              "      <td>two</td>\n",
              "    </tr>\n",
              "    <tr>\n",
              "      <th>30</th>\n",
              "      <td>3</td>\n",
              "      <td>300</td>\n",
              "      <td>three</td>\n",
              "    </tr>\n",
              "    <tr>\n",
              "      <th>40</th>\n",
              "      <td>4</td>\n",
              "      <td>400</td>\n",
              "      <td>four</td>\n",
              "    </tr>\n",
              "    <tr>\n",
              "      <th>50</th>\n",
              "      <td>5</td>\n",
              "      <td>500</td>\n",
              "      <td>five</td>\n",
              "    </tr>\n",
              "    <tr>\n",
              "      <th>60</th>\n",
              "      <td>6</td>\n",
              "      <td>600</td>\n",
              "      <td>six</td>\n",
              "    </tr>\n",
              "  </tbody>\n",
              "</table>\n",
              "</div>"
            ]
          },
          "metadata": {},
          "execution_count": 6
        }
      ]
    },
    {
      "cell_type": "markdown",
      "source": [
        "Создание pandas DataFrame путем передачи массива numpy с индексом даты и\n",
        "времени и помеченными столбцами:"
      ],
      "metadata": {
        "id": "-U8zwOu82i7x"
      }
    },
    {
      "cell_type": "code",
      "source": [
        "dates = pd.date_range('20130101', periods=6)\n",
        "pdf = pd.DataFrame(np.random.randn(6, 4), index=dates,\n",
        "columns=list('ABCD'))\n",
        "print(type(pdf))\n",
        "pdf"
      ],
      "metadata": {
        "colab": {
          "base_uri": "https://localhost:8080/",
          "height": 256
        },
        "id": "8LA7E_GryrnV",
        "outputId": "5a2827b0-9606-482f-d267-2195c912442c"
      },
      "execution_count": null,
      "outputs": [
        {
          "output_type": "stream",
          "name": "stdout",
          "text": [
            "<class 'pandas.core.frame.DataFrame'>\n"
          ]
        },
        {
          "output_type": "execute_result",
          "data": {
            "text/plain": [
              "                   A         B         C         D\n",
              "2013-01-01  0.314070 -0.692824 -0.099695 -0.352332\n",
              "2013-01-02  2.059596  0.835948  0.835169 -0.636309\n",
              "2013-01-03 -0.781449  0.107534  0.997069  0.063576\n",
              "2013-01-04 -0.462132 -0.114443  2.330371  2.297337\n",
              "2013-01-05  1.164568 -0.117555  0.594833  1.138423\n",
              "2013-01-06  1.947992 -1.268541  0.073194 -0.006961"
            ],
            "text/html": [
              "\n",
              "  <div id=\"df-d734f4a3-4142-4071-a177-261e618bdecd\">\n",
              "    <div class=\"colab-df-container\">\n",
              "      <div>\n",
              "<style scoped>\n",
              "    .dataframe tbody tr th:only-of-type {\n",
              "        vertical-align: middle;\n",
              "    }\n",
              "\n",
              "    .dataframe tbody tr th {\n",
              "        vertical-align: top;\n",
              "    }\n",
              "\n",
              "    .dataframe thead th {\n",
              "        text-align: right;\n",
              "    }\n",
              "</style>\n",
              "<table border=\"1\" class=\"dataframe\">\n",
              "  <thead>\n",
              "    <tr style=\"text-align: right;\">\n",
              "      <th></th>\n",
              "      <th>A</th>\n",
              "      <th>B</th>\n",
              "      <th>C</th>\n",
              "      <th>D</th>\n",
              "    </tr>\n",
              "  </thead>\n",
              "  <tbody>\n",
              "    <tr>\n",
              "      <th>2013-01-01</th>\n",
              "      <td>0.314070</td>\n",
              "      <td>-0.692824</td>\n",
              "      <td>-0.099695</td>\n",
              "      <td>-0.352332</td>\n",
              "    </tr>\n",
              "    <tr>\n",
              "      <th>2013-01-02</th>\n",
              "      <td>2.059596</td>\n",
              "      <td>0.835948</td>\n",
              "      <td>0.835169</td>\n",
              "      <td>-0.636309</td>\n",
              "    </tr>\n",
              "    <tr>\n",
              "      <th>2013-01-03</th>\n",
              "      <td>-0.781449</td>\n",
              "      <td>0.107534</td>\n",
              "      <td>0.997069</td>\n",
              "      <td>0.063576</td>\n",
              "    </tr>\n",
              "    <tr>\n",
              "      <th>2013-01-04</th>\n",
              "      <td>-0.462132</td>\n",
              "      <td>-0.114443</td>\n",
              "      <td>2.330371</td>\n",
              "      <td>2.297337</td>\n",
              "    </tr>\n",
              "    <tr>\n",
              "      <th>2013-01-05</th>\n",
              "      <td>1.164568</td>\n",
              "      <td>-0.117555</td>\n",
              "      <td>0.594833</td>\n",
              "      <td>1.138423</td>\n",
              "    </tr>\n",
              "    <tr>\n",
              "      <th>2013-01-06</th>\n",
              "      <td>1.947992</td>\n",
              "      <td>-1.268541</td>\n",
              "      <td>0.073194</td>\n",
              "      <td>-0.006961</td>\n",
              "    </tr>\n",
              "  </tbody>\n",
              "</table>\n",
              "</div>\n",
              "      <button class=\"colab-df-convert\" onclick=\"convertToInteractive('df-d734f4a3-4142-4071-a177-261e618bdecd')\"\n",
              "              title=\"Convert this dataframe to an interactive table.\"\n",
              "              style=\"display:none;\">\n",
              "        \n",
              "  <svg xmlns=\"http://www.w3.org/2000/svg\" height=\"24px\"viewBox=\"0 0 24 24\"\n",
              "       width=\"24px\">\n",
              "    <path d=\"M0 0h24v24H0V0z\" fill=\"none\"/>\n",
              "    <path d=\"M18.56 5.44l.94 2.06.94-2.06 2.06-.94-2.06-.94-.94-2.06-.94 2.06-2.06.94zm-11 1L8.5 8.5l.94-2.06 2.06-.94-2.06-.94L8.5 2.5l-.94 2.06-2.06.94zm10 10l.94 2.06.94-2.06 2.06-.94-2.06-.94-.94-2.06-.94 2.06-2.06.94z\"/><path d=\"M17.41 7.96l-1.37-1.37c-.4-.4-.92-.59-1.43-.59-.52 0-1.04.2-1.43.59L10.3 9.45l-7.72 7.72c-.78.78-.78 2.05 0 2.83L4 21.41c.39.39.9.59 1.41.59.51 0 1.02-.2 1.41-.59l7.78-7.78 2.81-2.81c.8-.78.8-2.07 0-2.86zM5.41 20L4 18.59l7.72-7.72 1.47 1.35L5.41 20z\"/>\n",
              "  </svg>\n",
              "      </button>\n",
              "      \n",
              "  <style>\n",
              "    .colab-df-container {\n",
              "      display:flex;\n",
              "      flex-wrap:wrap;\n",
              "      gap: 12px;\n",
              "    }\n",
              "\n",
              "    .colab-df-convert {\n",
              "      background-color: #E8F0FE;\n",
              "      border: none;\n",
              "      border-radius: 50%;\n",
              "      cursor: pointer;\n",
              "      display: none;\n",
              "      fill: #1967D2;\n",
              "      height: 32px;\n",
              "      padding: 0 0 0 0;\n",
              "      width: 32px;\n",
              "    }\n",
              "\n",
              "    .colab-df-convert:hover {\n",
              "      background-color: #E2EBFA;\n",
              "      box-shadow: 0px 1px 2px rgba(60, 64, 67, 0.3), 0px 1px 3px 1px rgba(60, 64, 67, 0.15);\n",
              "      fill: #174EA6;\n",
              "    }\n",
              "\n",
              "    [theme=dark] .colab-df-convert {\n",
              "      background-color: #3B4455;\n",
              "      fill: #D2E3FC;\n",
              "    }\n",
              "\n",
              "    [theme=dark] .colab-df-convert:hover {\n",
              "      background-color: #434B5C;\n",
              "      box-shadow: 0px 1px 3px 1px rgba(0, 0, 0, 0.15);\n",
              "      filter: drop-shadow(0px 1px 2px rgba(0, 0, 0, 0.3));\n",
              "      fill: #FFFFFF;\n",
              "    }\n",
              "  </style>\n",
              "\n",
              "      <script>\n",
              "        const buttonEl =\n",
              "          document.querySelector('#df-d734f4a3-4142-4071-a177-261e618bdecd button.colab-df-convert');\n",
              "        buttonEl.style.display =\n",
              "          google.colab.kernel.accessAllowed ? 'block' : 'none';\n",
              "\n",
              "        async function convertToInteractive(key) {\n",
              "          const element = document.querySelector('#df-d734f4a3-4142-4071-a177-261e618bdecd');\n",
              "          const dataTable =\n",
              "            await google.colab.kernel.invokeFunction('convertToInteractive',\n",
              "                                                     [key], {});\n",
              "          if (!dataTable) return;\n",
              "\n",
              "          const docLinkHtml = 'Like what you see? Visit the ' +\n",
              "            '<a target=\"_blank\" href=https://colab.research.google.com/notebooks/data_table.ipynb>data table notebook</a>'\n",
              "            + ' to learn more about interactive tables.';\n",
              "          element.innerHTML = '';\n",
              "          dataTable['output_type'] = 'display_data';\n",
              "          await google.colab.output.renderOutput(dataTable, element);\n",
              "          const docLink = document.createElement('div');\n",
              "          docLink.innerHTML = docLinkHtml;\n",
              "          element.appendChild(docLink);\n",
              "        }\n",
              "      </script>\n",
              "    </div>\n",
              "  </div>\n",
              "  "
            ]
          },
          "metadata": {},
          "execution_count": 7
        }
      ]
    },
    {
      "cell_type": "markdown",
      "source": [
        "Теперь этот кадр данных pandas можно преобразовать в кадр данных pandason-Spark. Он выглядит и ведет себя так же, как DataFrame pandas.\n"
      ],
      "metadata": {
        "id": "OdZta87C27nS"
      }
    },
    {
      "cell_type": "code",
      "source": [
        "pdf = pd.DataFrame(np.random.randn(6, 4), index=dates,\n",
        "columns=list('ABCD'))\n",
        "psdf = ps.from_pandas(pdf)\n",
        "print(type(psdf))\n",
        "psdf"
      ],
      "metadata": {
        "colab": {
          "base_uri": "https://localhost:8080/",
          "height": 313
        },
        "id": "0NWy67PdzDlW",
        "outputId": "eb44446b-c084-401b-b6f7-142b687439d2"
      },
      "execution_count": null,
      "outputs": [
        {
          "output_type": "stream",
          "name": "stdout",
          "text": [
            "<class 'pyspark.pandas.frame.DataFrame'>\n"
          ]
        },
        {
          "output_type": "stream",
          "name": "stderr",
          "text": [
            "/content/spark-3.4.0-bin-hadoop3/python/pyspark/sql/pandas/conversion.py:251: FutureWarning: Passing unit-less datetime64 dtype to .astype is deprecated and will raise in a future version. Pass 'datetime64[ns]' instead\n",
            "  series = series.astype(t, copy=False)\n"
          ]
        },
        {
          "output_type": "execute_result",
          "data": {
            "text/plain": [
              "                   A         B         C         D\n",
              "2013-01-01 -0.814221 -0.184297  0.307478 -0.120932\n",
              "2013-01-02 -0.300036  0.303448 -2.395153 -1.525261\n",
              "2013-01-03  0.831222 -0.311197 -0.623138  0.641323\n",
              "2013-01-04 -0.380377 -1.951432 -1.769315  1.097422\n",
              "2013-01-05 -0.356805 -1.772349 -1.915302 -0.040536\n",
              "2013-01-06 -0.946458 -0.205107 -0.544837 -1.578703"
            ],
            "text/html": [
              "<div>\n",
              "<style scoped>\n",
              "    .dataframe tbody tr th:only-of-type {\n",
              "        vertical-align: middle;\n",
              "    }\n",
              "\n",
              "    .dataframe tbody tr th {\n",
              "        vertical-align: top;\n",
              "    }\n",
              "\n",
              "    .dataframe thead th {\n",
              "        text-align: right;\n",
              "    }\n",
              "</style>\n",
              "<table border=\"1\" class=\"dataframe\">\n",
              "  <thead>\n",
              "    <tr style=\"text-align: right;\">\n",
              "      <th></th>\n",
              "      <th>A</th>\n",
              "      <th>B</th>\n",
              "      <th>C</th>\n",
              "      <th>D</th>\n",
              "    </tr>\n",
              "  </thead>\n",
              "  <tbody>\n",
              "    <tr>\n",
              "      <th>2013-01-01</th>\n",
              "      <td>-0.814221</td>\n",
              "      <td>-0.184297</td>\n",
              "      <td>0.307478</td>\n",
              "      <td>-0.120932</td>\n",
              "    </tr>\n",
              "    <tr>\n",
              "      <th>2013-01-02</th>\n",
              "      <td>-0.300036</td>\n",
              "      <td>0.303448</td>\n",
              "      <td>-2.395153</td>\n",
              "      <td>-1.525261</td>\n",
              "    </tr>\n",
              "    <tr>\n",
              "      <th>2013-01-03</th>\n",
              "      <td>0.831222</td>\n",
              "      <td>-0.311197</td>\n",
              "      <td>-0.623138</td>\n",
              "      <td>0.641323</td>\n",
              "    </tr>\n",
              "    <tr>\n",
              "      <th>2013-01-04</th>\n",
              "      <td>-0.380377</td>\n",
              "      <td>-1.951432</td>\n",
              "      <td>-1.769315</td>\n",
              "      <td>1.097422</td>\n",
              "    </tr>\n",
              "    <tr>\n",
              "      <th>2013-01-05</th>\n",
              "      <td>-0.356805</td>\n",
              "      <td>-1.772349</td>\n",
              "      <td>-1.915302</td>\n",
              "      <td>-0.040536</td>\n",
              "    </tr>\n",
              "    <tr>\n",
              "      <th>2013-01-06</th>\n",
              "      <td>-0.946458</td>\n",
              "      <td>-0.205107</td>\n",
              "      <td>-0.544837</td>\n",
              "      <td>-1.578703</td>\n",
              "    </tr>\n",
              "  </tbody>\n",
              "</table>\n",
              "</div>"
            ]
          },
          "metadata": {},
          "execution_count": 8
        }
      ]
    },
    {
      "cell_type": "markdown",
      "source": [
        "Создание Spark DataFrame из pandas DataFrame"
      ],
      "metadata": {
        "id": "Sbe9Hsqo288g"
      }
    },
    {
      "cell_type": "code",
      "source": [
        "dates = pd.date_range('20130101', periods=6)\n",
        "pdf = pd.DataFrame(np.random.randn(6, 4), index=dates,\n",
        "columns=list('ABCD'))\n",
        "spark = SparkSession.builder.getOrCreate()\n",
        "sdf = spark.createDataFrame(pdf)\n",
        "print(type(sdf))\n",
        "sdf.show()\n"
      ],
      "metadata": {
        "colab": {
          "base_uri": "https://localhost:8080/"
        },
        "id": "TOoOdr9wzLdC",
        "outputId": "a25524f8-a0a1-4df7-a025-b9d5a8e2d46f"
      },
      "execution_count": null,
      "outputs": [
        {
          "output_type": "stream",
          "name": "stdout",
          "text": [
            "<class 'pyspark.sql.dataframe.DataFrame'>\n",
            "+--------------------+--------------------+-------------------+-------------------+\n",
            "|                   A|                   B|                  C|                  D|\n",
            "+--------------------+--------------------+-------------------+-------------------+\n",
            "|   1.466315287979996| -1.9114009252086537| 0.3735081400510273| 0.3194235643081175|\n",
            "|  -0.604817548318114|  0.8077108867334667|-1.8215884203352855|-0.5739728090522077|\n",
            "|-0.16470589547921918|  0.9342492514956033| 0.8131577634973838| 0.4542387184729648|\n",
            "|0.010490913940606621| -1.5246654116789993|-0.6435431655084777|0.41695501635568005|\n",
            "|   0.722587756255043|0.006161736994996647|-0.6126243511865711| 0.1631914129641181|\n",
            "|  0.7747883536744892| -1.0678813193390868|0.35492731388256266|-1.6354102684750276|\n",
            "+--------------------+--------------------+-------------------+-------------------+\n",
            "\n"
          ]
        }
      ]
    },
    {
      "cell_type": "markdown",
      "source": [
        "Создание pandas-on-Spark DataFrame из Spark DataFrame"
      ],
      "metadata": {
        "id": "4HlfA84R3D7K"
      }
    },
    {
      "cell_type": "code",
      "source": [
        "psdf = sdf.pandas_api()\n",
        "print(type(psdf))\n",
        "psdf"
      ],
      "metadata": {
        "colab": {
          "base_uri": "https://localhost:8080/",
          "height": 256
        },
        "id": "ghJmNSosznxk",
        "outputId": "be65794e-d612-49b6-cb97-f8767565de0b"
      },
      "execution_count": null,
      "outputs": [
        {
          "output_type": "stream",
          "name": "stdout",
          "text": [
            "<class 'pyspark.pandas.frame.DataFrame'>\n"
          ]
        },
        {
          "output_type": "execute_result",
          "data": {
            "text/plain": [
              "          A         B         C         D\n",
              "0  1.466315 -1.911401  0.373508  0.319424\n",
              "1 -0.604818  0.807711 -1.821588 -0.573973\n",
              "2 -0.164706  0.934249  0.813158  0.454239\n",
              "3  0.010491 -1.524665 -0.643543  0.416955\n",
              "4  0.722588  0.006162 -0.612624  0.163191\n",
              "5  0.774788 -1.067881  0.354927 -1.635410"
            ],
            "text/html": [
              "<div>\n",
              "<style scoped>\n",
              "    .dataframe tbody tr th:only-of-type {\n",
              "        vertical-align: middle;\n",
              "    }\n",
              "\n",
              "    .dataframe tbody tr th {\n",
              "        vertical-align: top;\n",
              "    }\n",
              "\n",
              "    .dataframe thead th {\n",
              "        text-align: right;\n",
              "    }\n",
              "</style>\n",
              "<table border=\"1\" class=\"dataframe\">\n",
              "  <thead>\n",
              "    <tr style=\"text-align: right;\">\n",
              "      <th></th>\n",
              "      <th>A</th>\n",
              "      <th>B</th>\n",
              "      <th>C</th>\n",
              "      <th>D</th>\n",
              "    </tr>\n",
              "  </thead>\n",
              "  <tbody>\n",
              "    <tr>\n",
              "      <th>0</th>\n",
              "      <td>1.466315</td>\n",
              "      <td>-1.911401</td>\n",
              "      <td>0.373508</td>\n",
              "      <td>0.319424</td>\n",
              "    </tr>\n",
              "    <tr>\n",
              "      <th>1</th>\n",
              "      <td>-0.604818</td>\n",
              "      <td>0.807711</td>\n",
              "      <td>-1.821588</td>\n",
              "      <td>-0.573973</td>\n",
              "    </tr>\n",
              "    <tr>\n",
              "      <th>2</th>\n",
              "      <td>-0.164706</td>\n",
              "      <td>0.934249</td>\n",
              "      <td>0.813158</td>\n",
              "      <td>0.454239</td>\n",
              "    </tr>\n",
              "    <tr>\n",
              "      <th>3</th>\n",
              "      <td>0.010491</td>\n",
              "      <td>-1.524665</td>\n",
              "      <td>-0.643543</td>\n",
              "      <td>0.416955</td>\n",
              "    </tr>\n",
              "    <tr>\n",
              "      <th>4</th>\n",
              "      <td>0.722588</td>\n",
              "      <td>0.006162</td>\n",
              "      <td>-0.612624</td>\n",
              "      <td>0.163191</td>\n",
              "    </tr>\n",
              "    <tr>\n",
              "      <th>5</th>\n",
              "      <td>0.774788</td>\n",
              "      <td>-1.067881</td>\n",
              "      <td>0.354927</td>\n",
              "      <td>-1.635410</td>\n",
              "    </tr>\n",
              "  </tbody>\n",
              "</table>\n",
              "</div>"
            ]
          },
          "metadata": {},
          "execution_count": 10
        }
      ]
    },
    {
      "cell_type": "markdown",
      "source": [
        "В настоящее время поддерживаются типы,\n",
        "общие как для Spark, так и для pandas."
      ],
      "metadata": {
        "id": "CRYndiRd3TSm"
      }
    },
    {
      "cell_type": "code",
      "source": [
        "spark = SparkSession.builder.getOrCreate()\n",
        "sdf = spark.createDataFrame(pdf)\n",
        "psdf = sdf.pandas_api()\n",
        "psdf.dtypes"
      ],
      "metadata": {
        "colab": {
          "base_uri": "https://localhost:8080/"
        },
        "id": "yG5q5aFuz2z6",
        "outputId": "8d452b19-c8cb-40fe-9169-eebb066af146"
      },
      "execution_count": null,
      "outputs": [
        {
          "output_type": "execute_result",
          "data": {
            "text/plain": [
              "A    float64\n",
              "B    float64\n",
              "C    float64\n",
              "D    float64\n",
              "dtype: object"
            ]
          },
          "metadata": {},
          "execution_count": 11
        }
      ]
    },
    {
      "cell_type": "markdown",
      "source": [
        "Отображение индекса, столбцов и базовых данных numpy"
      ],
      "metadata": {
        "id": "DGQzyLCz3cfo"
      }
    },
    {
      "cell_type": "code",
      "source": [
        "print(psdf.index)\n",
        "print(psdf.columns)\n",
        "print(psdf.to_numpy())\n",
        "print(psdf.describe())"
      ],
      "metadata": {
        "colab": {
          "base_uri": "https://localhost:8080/"
        },
        "id": "vDHiebfY0O5x",
        "outputId": "373aab57-305b-42bc-f976-1efc34e62ada"
      },
      "execution_count": null,
      "outputs": [
        {
          "output_type": "stream",
          "name": "stdout",
          "text": [
            "Int64Index([0, 1, 2, 3, 4, 5], dtype='int64')\n",
            "Index(['A', 'B', 'C', 'D'], dtype='object')\n"
          ]
        },
        {
          "output_type": "stream",
          "name": "stderr",
          "text": [
            "/content/spark-3.4.0-bin-hadoop3/python/pyspark/pandas/utils.py:975: PandasAPIOnSparkAdviceWarning: `to_numpy` loads all data into the driver's memory. It should only be used if the resulting NumPy ndarray is expected to be small.\n",
            "  warnings.warn(message, PandasAPIOnSparkAdviceWarning)\n"
          ]
        },
        {
          "output_type": "stream",
          "name": "stdout",
          "text": [
            "[[ 1.46631529 -1.91140093  0.37350814  0.31942356]\n",
            " [-0.60481755  0.80771089 -1.82158842 -0.57397281]\n",
            " [-0.1647059   0.93424925  0.81315776  0.45423872]\n",
            " [ 0.01049091 -1.52466541 -0.64354317  0.41695502]\n",
            " [ 0.72258776  0.00616174 -0.61262435  0.16319141]\n",
            " [ 0.77478835 -1.06788132  0.35492731 -1.63541027]]\n",
            "              A         B         C         D\n",
            "count  6.000000  6.000000  6.000000  6.000000\n",
            "mean   0.367443 -0.459304 -0.256027 -0.142596\n",
            "std    0.755707  1.214736  0.963436  0.823512\n",
            "min   -0.604818 -1.911401 -1.821588 -1.635410\n",
            "25%   -0.164706 -1.524665 -0.643543 -0.573973\n",
            "50%    0.010491 -1.067881 -0.612624  0.163191\n",
            "75%    0.774788  0.807711  0.373508  0.416955\n",
            "max    1.466315  0.934249  0.813158  0.454239\n"
          ]
        }
      ]
    },
    {
      "cell_type": "markdown",
      "source": [
        "Данные\n",
        "#########\n",
        "\n",
        "Транспонирование\n",
        "#########\n",
        "\n",
        "Сортировка по индексу\n",
        "#########\n",
        "\n",
        "Сортировка по значению"
      ],
      "metadata": {
        "id": "WrRkB3JO3oQa"
      }
    },
    {
      "cell_type": "code",
      "source": [
        "print(psdf)\n",
        "print(\"#########\")\n",
        "print(psdf.T)\n",
        "print(\"#########\")\n",
        "print(psdf.sort_index(ascending=False))\n",
        "print(\"#########\")\n",
        "print(psdf.sort_values(by='B'))"
      ],
      "metadata": {
        "colab": {
          "base_uri": "https://localhost:8080/"
        },
        "id": "gOKGYx1g06GV",
        "outputId": "d225b8b1-784e-48b6-d7f8-57e46957b61c"
      },
      "execution_count": null,
      "outputs": [
        {
          "output_type": "stream",
          "name": "stdout",
          "text": [
            "          A         B         C         D\n",
            "0  1.466315 -1.911401  0.373508  0.319424\n",
            "1 -0.604818  0.807711 -1.821588 -0.573973\n",
            "2 -0.164706  0.934249  0.813158  0.454239\n",
            "3  0.010491 -1.524665 -0.643543  0.416955\n",
            "4  0.722588  0.006162 -0.612624  0.163191\n",
            "5  0.774788 -1.067881  0.354927 -1.635410\n",
            "#########\n",
            "          0         1         2         3         4         5\n",
            "A  1.466315 -0.604818 -0.164706  0.010491  0.722588  0.774788\n",
            "B -1.911401  0.807711  0.934249 -1.524665  0.006162 -1.067881\n",
            "C  0.373508 -1.821588  0.813158 -0.643543 -0.612624  0.354927\n",
            "D  0.319424 -0.573973  0.454239  0.416955  0.163191 -1.635410\n",
            "#########\n",
            "          A         B         C         D\n",
            "5  0.774788 -1.067881  0.354927 -1.635410\n",
            "4  0.722588  0.006162 -0.612624  0.163191\n",
            "3  0.010491 -1.524665 -0.643543  0.416955\n",
            "2 -0.164706  0.934249  0.813158  0.454239\n",
            "1 -0.604818  0.807711 -1.821588 -0.573973\n",
            "0  1.466315 -1.911401  0.373508  0.319424\n",
            "#########\n",
            "          A         B         C         D\n",
            "0  1.466315 -1.911401  0.373508  0.319424\n",
            "3  0.010491 -1.524665 -0.643543  0.416955\n",
            "5  0.774788 -1.067881  0.354927 -1.635410\n",
            "4  0.722588  0.006162 -0.612624  0.163191\n",
            "1 -0.604818  0.807711 -1.821588 -0.573973\n",
            "2 -0.164706  0.934249  0.813158  0.454239\n"
          ]
        }
      ]
    },
    {
      "cell_type": "markdown",
      "source": [
        "Pandas API в Spark в основном использует значение np.nanдля представления отсутствующих данных.\n",
        "По умолчанию он не включается в расчеты.\n",
        "Удалим все строки с отсутствующими данными.\n",
        "Заполнение недостающих данных цифрой 5"
      ],
      "metadata": {
        "id": "sfHLGmT43_Lj"
      }
    },
    {
      "cell_type": "code",
      "source": [
        "pdf1 = pdf.reindex(index=dates[0:4], columns=list(pdf.columns) + ['E'])\n",
        "pdf1.loc[dates[0]:dates[1], 'E'] = 1\n",
        "psdf1 = ps.from_pandas(pdf1)\n",
        "print(psdf1)\n",
        "print(\"#########\")\n",
        "print(psdf1.dropna(how='any'))\n",
        "print(\"#########\")\n",
        "print(psdf1.fillna(value=5))"
      ],
      "metadata": {
        "colab": {
          "base_uri": "https://localhost:8080/"
        },
        "id": "BzN13cjH1F8p",
        "outputId": "c7288291-be54-4b2b-c139-97a88dab879e"
      },
      "execution_count": null,
      "outputs": [
        {
          "output_type": "stream",
          "name": "stderr",
          "text": [
            "/content/spark-3.4.0-bin-hadoop3/python/pyspark/sql/pandas/conversion.py:251: FutureWarning: Passing unit-less datetime64 dtype to .astype is deprecated and will raise in a future version. Pass 'datetime64[ns]' instead\n",
            "  series = series.astype(t, copy=False)\n"
          ]
        },
        {
          "output_type": "stream",
          "name": "stdout",
          "text": [
            "                   A         B         C         D    E\n",
            "2013-01-01  1.466315 -1.911401  0.373508  0.319424  1.0\n",
            "2013-01-02 -0.604818  0.807711 -1.821588 -0.573973  1.0\n",
            "2013-01-03 -0.164706  0.934249  0.813158  0.454239  NaN\n",
            "2013-01-04  0.010491 -1.524665 -0.643543  0.416955  NaN\n",
            "#########\n"
          ]
        },
        {
          "output_type": "stream",
          "name": "stderr",
          "text": [
            "/content/spark-3.4.0-bin-hadoop3/python/pyspark/sql/pandas/conversion.py:251: FutureWarning: Passing unit-less datetime64 dtype to .astype is deprecated and will raise in a future version. Pass 'datetime64[ns]' instead\n",
            "  series = series.astype(t, copy=False)\n"
          ]
        },
        {
          "output_type": "stream",
          "name": "stdout",
          "text": [
            "                   A         B         C         D    E\n",
            "2013-01-01  1.466315 -1.911401  0.373508  0.319424  1.0\n",
            "2013-01-02 -0.604818  0.807711 -1.821588 -0.573973  1.0\n",
            "#########\n",
            "                   A         B         C         D    E\n",
            "2013-01-01  1.466315 -1.911401  0.373508  0.319424  1.0\n",
            "2013-01-02 -0.604818  0.807711 -1.821588 -0.573973  1.0\n",
            "2013-01-03 -0.164706  0.934249  0.813158  0.454239  5.0\n",
            "2013-01-04  0.010491 -1.524665 -0.643543  0.416955  5.0\n"
          ]
        },
        {
          "output_type": "stream",
          "name": "stderr",
          "text": [
            "/content/spark-3.4.0-bin-hadoop3/python/pyspark/sql/pandas/conversion.py:251: FutureWarning: Passing unit-less datetime64 dtype to .astype is deprecated and will raise in a future version. Pass 'datetime64[ns]' instead\n",
            "  series = series.astype(t, copy=False)\n"
          ]
        }
      ]
    },
    {
      "cell_type": "markdown",
      "source": [],
      "metadata": {
        "id": "TCbgp7XB4XvW"
      }
    },
    {
      "cell_type": "markdown",
      "source": [
        "Описательная статистика:"
      ],
      "metadata": {
        "id": "DZSi_4BB4dpb"
      }
    },
    {
      "cell_type": "code",
      "source": [
        "psdf1 = ps.from_pandas(pdf1)\n",
        "print(psdf1)\n",
        "print(\"#########\")\n",
        "print(psdf1.mean())"
      ],
      "metadata": {
        "colab": {
          "base_uri": "https://localhost:8080/"
        },
        "id": "d04bMIYa1cCx",
        "outputId": "7cf0c997-5d66-473c-d064-46753855e403"
      },
      "execution_count": null,
      "outputs": [
        {
          "output_type": "stream",
          "name": "stderr",
          "text": [
            "/content/spark-3.4.0-bin-hadoop3/python/pyspark/sql/pandas/conversion.py:251: FutureWarning: Passing unit-less datetime64 dtype to .astype is deprecated and will raise in a future version. Pass 'datetime64[ns]' instead\n",
            "  series = series.astype(t, copy=False)\n"
          ]
        },
        {
          "output_type": "stream",
          "name": "stdout",
          "text": [
            "                   A         B         C         D    E\n",
            "2013-01-01  1.466315 -1.911401  0.373508  0.319424  1.0\n",
            "2013-01-02 -0.604818  0.807711 -1.821588 -0.573973  1.0\n",
            "2013-01-03 -0.164706  0.934249  0.813158  0.454239  NaN\n",
            "2013-01-04  0.010491 -1.524665 -0.643543  0.416955  NaN\n",
            "#########\n",
            "A    0.176821\n",
            "B   -0.423527\n",
            "C   -0.319616\n",
            "D    0.154161\n",
            "E    1.000000\n",
            "dtype: float64\n"
          ]
        }
      ]
    },
    {
      "cell_type": "code",
      "source": [
        "Объединение результатов в структуру данных"
      ],
      "metadata": {
        "id": "k1od6Rf64gii"
      },
      "execution_count": null,
      "outputs": []
    },
    {
      "cell_type": "code",
      "source": [
        "psdf = ps.DataFrame({'A': ['foo', 'bar', 'foo', 'bar',\n",
        " 'foo', 'bar', 'foo', 'foo'],\n",
        " 'B': ['one', 'one', 'two', 'three',\n",
        " 'two', 'two', 'one', 'three'],\n",
        " 'C': np.random.randn(8),\n",
        " 'D': np.random.randn(8)})\n",
        "psdf"
      ],
      "metadata": {
        "colab": {
          "base_uri": "https://localhost:8080/",
          "height": 300
        },
        "id": "8tfmTzii1rP2",
        "outputId": "30bdbdfd-0234-469a-d552-02763b3f52f5"
      },
      "execution_count": null,
      "outputs": [
        {
          "output_type": "execute_result",
          "data": {
            "text/plain": [
              "     A      B         C         D\n",
              "0  foo    one -0.163064 -2.675978\n",
              "1  bar    one -2.011391 -0.638548\n",
              "2  foo    two  1.049836 -0.579499\n",
              "3  bar  three -0.908411  0.521396\n",
              "4  foo    two  1.552550  0.228866\n",
              "5  bar    two -1.146576 -0.569629\n",
              "6  foo    one  1.148161 -0.055125\n",
              "7  foo  three  0.658542  0.787660"
            ],
            "text/html": [
              "<div>\n",
              "<style scoped>\n",
              "    .dataframe tbody tr th:only-of-type {\n",
              "        vertical-align: middle;\n",
              "    }\n",
              "\n",
              "    .dataframe tbody tr th {\n",
              "        vertical-align: top;\n",
              "    }\n",
              "\n",
              "    .dataframe thead th {\n",
              "        text-align: right;\n",
              "    }\n",
              "</style>\n",
              "<table border=\"1\" class=\"dataframe\">\n",
              "  <thead>\n",
              "    <tr style=\"text-align: right;\">\n",
              "      <th></th>\n",
              "      <th>A</th>\n",
              "      <th>B</th>\n",
              "      <th>C</th>\n",
              "      <th>D</th>\n",
              "    </tr>\n",
              "  </thead>\n",
              "  <tbody>\n",
              "    <tr>\n",
              "      <th>0</th>\n",
              "      <td>foo</td>\n",
              "      <td>one</td>\n",
              "      <td>-0.163064</td>\n",
              "      <td>-2.675978</td>\n",
              "    </tr>\n",
              "    <tr>\n",
              "      <th>1</th>\n",
              "      <td>bar</td>\n",
              "      <td>one</td>\n",
              "      <td>-2.011391</td>\n",
              "      <td>-0.638548</td>\n",
              "    </tr>\n",
              "    <tr>\n",
              "      <th>2</th>\n",
              "      <td>foo</td>\n",
              "      <td>two</td>\n",
              "      <td>1.049836</td>\n",
              "      <td>-0.579499</td>\n",
              "    </tr>\n",
              "    <tr>\n",
              "      <th>3</th>\n",
              "      <td>bar</td>\n",
              "      <td>three</td>\n",
              "      <td>-0.908411</td>\n",
              "      <td>0.521396</td>\n",
              "    </tr>\n",
              "    <tr>\n",
              "      <th>4</th>\n",
              "      <td>foo</td>\n",
              "      <td>two</td>\n",
              "      <td>1.552550</td>\n",
              "      <td>0.228866</td>\n",
              "    </tr>\n",
              "    <tr>\n",
              "      <th>5</th>\n",
              "      <td>bar</td>\n",
              "      <td>two</td>\n",
              "      <td>-1.146576</td>\n",
              "      <td>-0.569629</td>\n",
              "    </tr>\n",
              "    <tr>\n",
              "      <th>6</th>\n",
              "      <td>foo</td>\n",
              "      <td>one</td>\n",
              "      <td>1.148161</td>\n",
              "      <td>-0.055125</td>\n",
              "    </tr>\n",
              "    <tr>\n",
              "      <th>7</th>\n",
              "      <td>foo</td>\n",
              "      <td>three</td>\n",
              "      <td>0.658542</td>\n",
              "      <td>0.787660</td>\n",
              "    </tr>\n",
              "  </tbody>\n",
              "</table>\n",
              "</div>"
            ]
          },
          "metadata": {},
          "execution_count": 16
        }
      ]
    },
    {
      "cell_type": "code",
      "source": [
        "Группировка и последующее применение функции sum() к полученным\n",
        "группам"
      ],
      "metadata": {
        "id": "GhPbjNYE4wgy"
      },
      "execution_count": null,
      "outputs": []
    },
    {
      "cell_type": "code",
      "source": [
        "print(psdf.groupby('A').sum())"
      ],
      "metadata": {
        "colab": {
          "base_uri": "https://localhost:8080/"
        },
        "id": "5O-aozM-14Ct",
        "outputId": "b3dd3359-fc09-4511-c150-a3da288b5ab4"
      },
      "execution_count": null,
      "outputs": [
        {
          "output_type": "stream",
          "name": "stdout",
          "text": [
            "            C         D\n",
            "A                      \n",
            "bar -4.066378 -0.686781\n",
            "foo  4.246023 -2.294076\n"
          ]
        }
      ]
    },
    {
      "cell_type": "markdown",
      "source": [
        "Группировка по нескольким столбцам формирует иерархический индекс, и мы снова можем применить функцию суммирования.\n"
      ],
      "metadata": {
        "id": "eNzit_yC40bI"
      }
    },
    {
      "cell_type": "code",
      "source": [
        "print(psdf.groupby(['A', 'B']).sum())"
      ],
      "metadata": {
        "colab": {
          "base_uri": "https://localhost:8080/"
        },
        "id": "G-PluY1Z170n",
        "outputId": "df980343-47b2-48c1-f249-bfd786be666b"
      },
      "execution_count": null,
      "outputs": [
        {
          "output_type": "stream",
          "name": "stdout",
          "text": [
            "                  C         D\n",
            "A   B                        \n",
            "foo one    0.985096 -2.731103\n",
            "    two    2.602386 -0.350633\n",
            "bar three -0.908411  0.521396\n",
            "    one   -2.011391 -0.638548\n",
            "foo three  0.658542  0.787660\n",
            "bar two   -1.146576 -0.569629\n"
          ]
        }
      ]
    },
    {
      "cell_type": "code",
      "source": [
        "pser = pd.Series(np.random.randn(1000),\n",
        " index=pd.date_range('1/1/2000', periods=1000))\n",
        "psser = ps.Series(pser)\n",
        "psser = psser.cummax()\n",
        "psser.plot()"
      ],
      "metadata": {
        "colab": {
          "base_uri": "https://localhost:8080/",
          "height": 599
        },
        "id": "lHhfY67U18U8",
        "outputId": "17ab9b6d-1f00-40a7-ac12-a3b2345cbcfd"
      },
      "execution_count": null,
      "outputs": [
        {
          "output_type": "stream",
          "name": "stderr",
          "text": [
            "/content/spark-3.4.0-bin-hadoop3/python/pyspark/sql/pandas/conversion.py:251: FutureWarning: Passing unit-less datetime64 dtype to .astype is deprecated and will raise in a future version. Pass 'datetime64[ns]' instead\n",
            "  series = series.astype(t, copy=False)\n"
          ]
        },
        {
          "output_type": "display_data",
          "data": {
            "text/html": [
              "<html>\n",
              "<head><meta charset=\"utf-8\" /></head>\n",
              "<body>\n",
              "    <div>            <script src=\"https://cdnjs.cloudflare.com/ajax/libs/mathjax/2.7.5/MathJax.js?config=TeX-AMS-MML_SVG\"></script><script type=\"text/javascript\">if (window.MathJax && window.MathJax.Hub && window.MathJax.Hub.Config) {window.MathJax.Hub.Config({SVG: {font: \"STIX-Web\"}});}</script>                <script type=\"text/javascript\">window.PlotlyConfig = {MathJaxConfig: 'local'};</script>\n",
              "        <script src=\"https://cdn.plot.ly/plotly-2.18.2.min.js\"></script>                <div id=\"9fe091fa-3061-4c4a-a6ee-a75d300d465f\" class=\"plotly-graph-div\" style=\"height:525px; width:100%;\"></div>            <script type=\"text/javascript\">                                    window.PLOTLYENV=window.PLOTLYENV || {};                                    if (document.getElementById(\"9fe091fa-3061-4c4a-a6ee-a75d300d465f\")) {                    Plotly.newPlot(                        \"9fe091fa-3061-4c4a-a6ee-a75d300d465f\",                        [{\"hovertemplate\":\"variable=0<br>index=%{x}<br>value=%{y}<extra></extra>\",\"legendgroup\":\"0\",\"line\":{\"color\":\"#636efa\",\"dash\":\"solid\"},\"marker\":{\"symbol\":\"circle\"},\"mode\":\"lines\",\"name\":\"0\",\"orientation\":\"v\",\"showlegend\":true,\"x\":[\"2000-01-01T00:00:00\",\"2000-01-02T00:00:00\",\"2000-01-03T00:00:00\",\"2000-01-04T00:00:00\",\"2000-01-05T00:00:00\",\"2000-01-06T00:00:00\",\"2000-01-07T00:00:00\",\"2000-01-08T00:00:00\",\"2000-01-09T00:00:00\",\"2000-01-10T00:00:00\",\"2000-01-11T00:00:00\",\"2000-01-12T00:00:00\",\"2000-01-13T00:00:00\",\"2000-01-14T00:00:00\",\"2000-01-15T00:00:00\",\"2000-01-16T00:00:00\",\"2000-01-17T00:00:00\",\"2000-01-18T00:00:00\",\"2000-01-19T00:00:00\",\"2000-01-20T00:00:00\",\"2000-01-21T00:00:00\",\"2000-01-22T00:00:00\",\"2000-01-23T00:00:00\",\"2000-01-24T00:00:00\",\"2000-01-25T00:00:00\",\"2000-01-26T00:00:00\",\"2000-01-27T00:00:00\",\"2000-01-28T00:00:00\",\"2000-01-29T00:00:00\",\"2000-01-30T00:00:00\",\"2000-01-31T00:00:00\",\"2000-02-01T00:00:00\",\"2000-02-02T00:00:00\",\"2000-02-03T00:00:00\",\"2000-02-04T00:00:00\",\"2000-02-05T00:00:00\",\"2000-02-06T00:00:00\",\"2000-02-07T00:00:00\",\"2000-02-08T00:00:00\",\"2000-02-09T00:00:00\",\"2000-02-10T00:00:00\",\"2000-02-11T00:00:00\",\"2000-02-12T00:00:00\",\"2000-02-13T00:00:00\",\"2000-02-14T00:00:00\",\"2000-02-15T00:00:00\",\"2000-02-16T00:00:00\",\"2000-02-17T00:00:00\",\"2000-02-18T00:00:00\",\"2000-02-19T00:00:00\",\"2000-02-20T00:00:00\",\"2000-02-21T00:00:00\",\"2000-02-22T00:00:00\",\"2000-02-23T00:00:00\",\"2000-02-24T00:00:00\",\"2000-02-25T00:00:00\",\"2000-02-26T00:00:00\",\"2000-02-27T00:00:00\",\"2000-02-28T00:00:00\",\"2000-02-29T00:00:00\",\"2000-03-01T00:00:00\",\"2000-03-02T00:00:00\",\"2000-03-03T00:00:00\",\"2000-03-04T00:00:00\",\"2000-03-05T00:00:00\",\"2000-03-06T00:00:00\",\"2000-03-07T00:00:00\",\"2000-03-08T00:00:00\",\"2000-03-09T00:00:00\",\"2000-03-10T00:00:00\",\"2000-03-11T00:00:00\",\"2000-03-12T00:00:00\",\"2000-03-13T00:00:00\",\"2000-03-14T00:00:00\",\"2000-03-15T00:00:00\",\"2000-03-16T00:00:00\",\"2000-03-17T00:00:00\",\"2000-03-18T00:00:00\",\"2000-03-19T00:00:00\",\"2000-03-20T00:00:00\",\"2000-03-21T00:00:00\",\"2000-03-22T00:00:00\",\"2000-03-23T00:00:00\",\"2000-03-24T00:00:00\",\"2000-03-25T00:00:00\",\"2000-03-26T00:00:00\",\"2000-03-27T00:00:00\",\"2000-03-28T00:00:00\",\"2000-03-29T00:00:00\",\"2000-03-30T00:00:00\",\"2000-03-31T00:00:00\",\"2000-04-01T00:00:00\",\"2000-04-02T00:00:00\",\"2000-04-03T00:00:00\",\"2000-04-04T00:00:00\",\"2000-04-05T00:00:00\",\"2000-04-06T00:00:00\",\"2000-04-07T00:00:00\",\"2000-04-08T00:00:00\",\"2000-04-09T00:00:00\",\"2000-04-10T00:00:00\",\"2000-04-11T00:00:00\",\"2000-04-12T00:00:00\",\"2000-04-13T00:00:00\",\"2000-04-14T00:00:00\",\"2000-04-15T00:00:00\",\"2000-04-16T00:00:00\",\"2000-04-17T00:00:00\",\"2000-04-18T00:00:00\",\"2000-04-19T00:00:00\",\"2000-04-20T00:00:00\",\"2000-04-21T00:00:00\",\"2000-04-22T00:00:00\",\"2000-04-23T00:00:00\",\"2000-04-24T00:00:00\",\"2000-04-25T00:00:00\",\"2000-04-26T00:00:00\",\"2000-04-27T00:00:00\",\"2000-04-28T00:00:00\",\"2000-04-29T00:00:00\",\"2000-04-30T00:00:00\",\"2000-05-01T00:00:00\",\"2000-05-02T00:00:00\",\"2000-05-03T00:00:00\",\"2000-05-04T00:00:00\",\"2000-05-05T00:00:00\",\"2000-05-06T00:00:00\",\"2000-05-07T00:00:00\",\"2000-05-08T00:00:00\",\"2000-05-09T00:00:00\",\"2000-05-10T00:00:00\",\"2000-05-11T00:00:00\",\"2000-05-12T00:00:00\",\"2000-05-13T00:00:00\",\"2000-05-14T00:00:00\",\"2000-05-15T00:00:00\",\"2000-05-16T00:00:00\",\"2000-05-17T00:00:00\",\"2000-05-18T00:00:00\",\"2000-05-19T00:00:00\",\"2000-05-20T00:00:00\",\"2000-05-21T00:00:00\",\"2000-05-22T00:00:00\",\"2000-05-23T00:00:00\",\"2000-05-24T00:00:00\",\"2000-05-25T00:00:00\",\"2000-05-26T00:00:00\",\"2000-05-27T00:00:00\",\"2000-05-28T00:00:00\",\"2000-05-29T00:00:00\",\"2000-05-30T00:00:00\",\"2000-05-31T00:00:00\",\"2000-06-01T00:00:00\",\"2000-06-02T00:00:00\",\"2000-06-03T00:00:00\",\"2000-06-04T00:00:00\",\"2000-06-05T00:00:00\",\"2000-06-06T00:00:00\",\"2000-06-07T00:00:00\",\"2000-06-08T00:00:00\",\"2000-06-09T00:00:00\",\"2000-06-10T00:00:00\",\"2000-06-11T00:00:00\",\"2000-06-12T00:00:00\",\"2000-06-13T00:00:00\",\"2000-06-14T00:00:00\",\"2000-06-15T00:00:00\",\"2000-06-16T00:00:00\",\"2000-06-17T00:00:00\",\"2000-06-18T00:00:00\",\"2000-06-19T00:00:00\",\"2000-06-20T00:00:00\",\"2000-06-21T00:00:00\",\"2000-06-22T00:00:00\",\"2000-06-23T00:00:00\",\"2000-06-24T00:00:00\",\"2000-06-25T00:00:00\",\"2000-06-26T00:00:00\",\"2000-06-27T00:00:00\",\"2000-06-28T00:00:00\",\"2000-06-29T00:00:00\",\"2000-06-30T00:00:00\",\"2000-07-01T00:00:00\",\"2000-07-02T00:00:00\",\"2000-07-03T00:00:00\",\"2000-07-04T00:00:00\",\"2000-07-05T00:00:00\",\"2000-07-06T00:00:00\",\"2000-07-07T00:00:00\",\"2000-07-08T00:00:00\",\"2000-07-09T00:00:00\",\"2000-07-10T00:00:00\",\"2000-07-11T00:00:00\",\"2000-07-12T00:00:00\",\"2000-07-13T00:00:00\",\"2000-07-14T00:00:00\",\"2000-07-15T00:00:00\",\"2000-07-16T00:00:00\",\"2000-07-17T00:00:00\",\"2000-07-18T00:00:00\",\"2000-07-19T00:00:00\",\"2000-07-20T00:00:00\",\"2000-07-21T00:00:00\",\"2000-07-22T00:00:00\",\"2000-07-23T00:00:00\",\"2000-07-24T00:00:00\",\"2000-07-25T00:00:00\",\"2000-07-26T00:00:00\",\"2000-07-27T00:00:00\",\"2000-07-28T00:00:00\",\"2000-07-29T00:00:00\",\"2000-07-30T00:00:00\",\"2000-07-31T00:00:00\",\"2000-08-01T00:00:00\",\"2000-08-02T00:00:00\",\"2000-08-03T00:00:00\",\"2000-08-04T00:00:00\",\"2000-08-05T00:00:00\",\"2000-08-06T00:00:00\",\"2000-08-07T00:00:00\",\"2000-08-08T00:00:00\",\"2000-08-09T00:00:00\",\"2000-08-10T00:00:00\",\"2000-08-11T00:00:00\",\"2000-08-12T00:00:00\",\"2000-08-13T00:00:00\",\"2000-08-14T00:00:00\",\"2000-08-15T00:00:00\",\"2000-08-16T00:00:00\",\"2000-08-17T00:00:00\",\"2000-08-18T00:00:00\",\"2000-08-19T00:00:00\",\"2000-08-20T00:00:00\",\"2000-08-21T00:00:00\",\"2000-08-22T00:00:00\",\"2000-08-23T00:00:00\",\"2000-08-24T00:00:00\",\"2000-08-25T00:00:00\",\"2000-08-26T00:00:00\",\"2000-08-27T00:00:00\",\"2000-08-28T00:00:00\",\"2000-08-29T00:00:00\",\"2000-08-30T00:00:00\",\"2000-08-31T00:00:00\",\"2000-09-01T00:00:00\",\"2000-09-02T00:00:00\",\"2000-09-03T00:00:00\",\"2000-09-04T00:00:00\",\"2000-09-05T00:00:00\",\"2000-09-06T00:00:00\",\"2000-09-07T00:00:00\",\"2000-09-08T00:00:00\",\"2000-09-09T00:00:00\",\"2000-09-10T00:00:00\",\"2000-09-11T00:00:00\",\"2000-09-12T00:00:00\",\"2000-09-13T00:00:00\",\"2000-09-14T00:00:00\",\"2000-09-15T00:00:00\",\"2000-09-16T00:00:00\",\"2000-09-17T00:00:00\",\"2000-09-18T00:00:00\",\"2000-09-19T00:00:00\",\"2000-09-20T00:00:00\",\"2000-09-21T00:00:00\",\"2000-09-22T00:00:00\",\"2000-09-23T00:00:00\",\"2000-09-24T00:00:00\",\"2000-09-25T00:00:00\",\"2000-09-26T00:00:00\",\"2000-09-27T00:00:00\",\"2000-09-28T00:00:00\",\"2000-09-29T00:00:00\",\"2000-09-30T00:00:00\",\"2000-10-01T00:00:00\",\"2000-10-02T00:00:00\",\"2000-10-03T00:00:00\",\"2000-10-04T00:00:00\",\"2000-10-05T00:00:00\",\"2000-10-06T00:00:00\",\"2000-10-07T00:00:00\",\"2000-10-08T00:00:00\",\"2000-10-09T00:00:00\",\"2000-10-10T00:00:00\",\"2000-10-11T00:00:00\",\"2000-10-12T00:00:00\",\"2000-10-13T00:00:00\",\"2000-10-14T00:00:00\",\"2000-10-15T00:00:00\",\"2000-10-16T00:00:00\",\"2000-10-17T00:00:00\",\"2000-10-18T00:00:00\",\"2000-10-19T00:00:00\",\"2000-10-20T00:00:00\",\"2000-10-21T00:00:00\",\"2000-10-22T00:00:00\",\"2000-10-23T00:00:00\",\"2000-10-24T00:00:00\",\"2000-10-25T00:00:00\",\"2000-10-26T00:00:00\",\"2000-10-27T00:00:00\",\"2000-10-28T00:00:00\",\"2000-10-29T00:00:00\",\"2000-10-30T00:00:00\",\"2000-10-31T00:00:00\",\"2000-11-01T00:00:00\",\"2000-11-02T00:00:00\",\"2000-11-03T00:00:00\",\"2000-11-04T00:00:00\",\"2000-11-05T00:00:00\",\"2000-11-06T00:00:00\",\"2000-11-07T00:00:00\",\"2000-11-08T00:00:00\",\"2000-11-09T00:00:00\",\"2000-11-10T00:00:00\",\"2000-11-11T00:00:00\",\"2000-11-12T00:00:00\",\"2000-11-13T00:00:00\",\"2000-11-14T00:00:00\",\"2000-11-15T00:00:00\",\"2000-11-16T00:00:00\",\"2000-11-17T00:00:00\",\"2000-11-18T00:00:00\",\"2000-11-19T00:00:00\",\"2000-11-20T00:00:00\",\"2000-11-21T00:00:00\",\"2000-11-22T00:00:00\",\"2000-11-23T00:00:00\",\"2000-11-24T00:00:00\",\"2000-11-25T00:00:00\",\"2000-11-26T00:00:00\",\"2000-11-27T00:00:00\",\"2000-11-28T00:00:00\",\"2000-11-29T00:00:00\",\"2000-11-30T00:00:00\",\"2000-12-01T00:00:00\",\"2000-12-02T00:00:00\",\"2000-12-03T00:00:00\",\"2000-12-04T00:00:00\",\"2000-12-05T00:00:00\",\"2000-12-06T00:00:00\",\"2000-12-07T00:00:00\",\"2000-12-08T00:00:00\",\"2000-12-09T00:00:00\",\"2000-12-10T00:00:00\",\"2000-12-11T00:00:00\",\"2000-12-12T00:00:00\",\"2000-12-13T00:00:00\",\"2000-12-14T00:00:00\",\"2000-12-15T00:00:00\",\"2000-12-16T00:00:00\",\"2000-12-17T00:00:00\",\"2000-12-18T00:00:00\",\"2000-12-19T00:00:00\",\"2000-12-20T00:00:00\",\"2000-12-21T00:00:00\",\"2000-12-22T00:00:00\",\"2000-12-23T00:00:00\",\"2000-12-24T00:00:00\",\"2000-12-25T00:00:00\",\"2000-12-26T00:00:00\",\"2000-12-27T00:00:00\",\"2000-12-28T00:00:00\",\"2000-12-29T00:00:00\",\"2000-12-30T00:00:00\",\"2000-12-31T00:00:00\",\"2001-01-01T00:00:00\",\"2001-01-02T00:00:00\",\"2001-01-03T00:00:00\",\"2001-01-04T00:00:00\",\"2001-01-05T00:00:00\",\"2001-01-06T00:00:00\",\"2001-01-07T00:00:00\",\"2001-01-08T00:00:00\",\"2001-01-09T00:00:00\",\"2001-01-10T00:00:00\",\"2001-01-11T00:00:00\",\"2001-01-12T00:00:00\",\"2001-01-13T00:00:00\",\"2001-01-14T00:00:00\",\"2001-01-15T00:00:00\",\"2001-01-16T00:00:00\",\"2001-01-17T00:00:00\",\"2001-01-18T00:00:00\",\"2001-01-19T00:00:00\",\"2001-01-20T00:00:00\",\"2001-01-21T00:00:00\",\"2001-01-22T00:00:00\",\"2001-01-23T00:00:00\",\"2001-01-24T00:00:00\",\"2001-01-25T00:00:00\",\"2001-01-26T00:00:00\",\"2001-01-27T00:00:00\",\"2001-01-28T00:00:00\",\"2001-01-29T00:00:00\",\"2001-01-30T00:00:00\",\"2001-01-31T00:00:00\",\"2001-02-01T00:00:00\",\"2001-02-02T00:00:00\",\"2001-02-03T00:00:00\",\"2001-02-04T00:00:00\",\"2001-02-05T00:00:00\",\"2001-02-06T00:00:00\",\"2001-02-07T00:00:00\",\"2001-02-08T00:00:00\",\"2001-02-09T00:00:00\",\"2001-02-10T00:00:00\",\"2001-02-11T00:00:00\",\"2001-02-12T00:00:00\",\"2001-02-13T00:00:00\",\"2001-02-14T00:00:00\",\"2001-02-15T00:00:00\",\"2001-02-16T00:00:00\",\"2001-02-17T00:00:00\",\"2001-02-18T00:00:00\",\"2001-02-19T00:00:00\",\"2001-02-20T00:00:00\",\"2001-02-21T00:00:00\",\"2001-02-22T00:00:00\",\"2001-02-23T00:00:00\",\"2001-02-24T00:00:00\",\"2001-02-25T00:00:00\",\"2001-02-26T00:00:00\",\"2001-02-27T00:00:00\",\"2001-02-28T00:00:00\",\"2001-03-01T00:00:00\",\"2001-03-02T00:00:00\",\"2001-03-03T00:00:00\",\"2001-03-04T00:00:00\",\"2001-03-05T00:00:00\",\"2001-03-06T00:00:00\",\"2001-03-07T00:00:00\",\"2001-03-08T00:00:00\",\"2001-03-09T00:00:00\",\"2001-03-10T00:00:00\",\"2001-03-11T00:00:00\",\"2001-03-12T00:00:00\",\"2001-03-13T00:00:00\",\"2001-03-14T00:00:00\",\"2001-03-15T00:00:00\",\"2001-03-16T00:00:00\",\"2001-03-17T00:00:00\",\"2001-03-18T00:00:00\",\"2001-03-19T00:00:00\",\"2001-03-20T00:00:00\",\"2001-03-21T00:00:00\",\"2001-03-22T00:00:00\",\"2001-03-23T00:00:00\",\"2001-03-24T00:00:00\",\"2001-03-25T00:00:00\",\"2001-03-26T00:00:00\",\"2001-03-27T00:00:00\",\"2001-03-28T00:00:00\",\"2001-03-29T00:00:00\",\"2001-03-30T00:00:00\",\"2001-03-31T00:00:00\",\"2001-04-01T00:00:00\",\"2001-04-02T00:00:00\",\"2001-04-03T00:00:00\",\"2001-04-04T00:00:00\",\"2001-04-05T00:00:00\",\"2001-04-06T00:00:00\",\"2001-04-07T00:00:00\",\"2001-04-08T00:00:00\",\"2001-04-09T00:00:00\",\"2001-04-10T00:00:00\",\"2001-04-11T00:00:00\",\"2001-04-12T00:00:00\",\"2001-04-13T00:00:00\",\"2001-04-14T00:00:00\",\"2001-04-15T00:00:00\",\"2001-04-16T00:00:00\",\"2001-04-17T00:00:00\",\"2001-04-18T00:00:00\",\"2001-04-19T00:00:00\",\"2001-04-20T00:00:00\",\"2001-04-21T00:00:00\",\"2001-04-22T00:00:00\",\"2001-04-23T00:00:00\",\"2001-04-24T00:00:00\",\"2001-04-25T00:00:00\",\"2001-04-26T00:00:00\",\"2001-04-27T00:00:00\",\"2001-04-28T00:00:00\",\"2001-04-29T00:00:00\",\"2001-04-30T00:00:00\",\"2001-05-01T00:00:00\",\"2001-05-02T00:00:00\",\"2001-05-03T00:00:00\",\"2001-05-04T00:00:00\",\"2001-05-05T00:00:00\",\"2001-05-06T00:00:00\",\"2001-05-07T00:00:00\",\"2001-05-08T00:00:00\",\"2001-05-09T00:00:00\",\"2001-05-10T00:00:00\",\"2001-05-11T00:00:00\",\"2001-05-12T00:00:00\",\"2001-05-13T00:00:00\",\"2001-05-14T00:00:00\",\"2001-05-15T00:00:00\",\"2001-05-16T00:00:00\",\"2001-05-17T00:00:00\",\"2001-05-18T00:00:00\",\"2001-05-19T00:00:00\",\"2001-05-20T00:00:00\",\"2001-05-21T00:00:00\",\"2001-05-22T00:00:00\",\"2001-05-23T00:00:00\",\"2001-05-24T00:00:00\",\"2001-05-25T00:00:00\",\"2001-05-26T00:00:00\",\"2001-05-27T00:00:00\",\"2001-05-28T00:00:00\",\"2001-05-29T00:00:00\",\"2001-05-30T00:00:00\",\"2001-05-31T00:00:00\",\"2001-06-01T00:00:00\",\"2001-06-02T00:00:00\",\"2001-06-03T00:00:00\",\"2001-06-04T00:00:00\",\"2001-06-05T00:00:00\",\"2001-06-06T00:00:00\",\"2001-06-07T00:00:00\",\"2001-06-08T00:00:00\",\"2001-06-09T00:00:00\",\"2001-06-10T00:00:00\",\"2001-06-11T00:00:00\",\"2001-06-12T00:00:00\",\"2001-06-13T00:00:00\",\"2001-06-14T00:00:00\",\"2001-06-15T00:00:00\",\"2001-06-16T00:00:00\",\"2001-06-17T00:00:00\",\"2001-06-18T00:00:00\",\"2001-06-19T00:00:00\",\"2001-06-20T00:00:00\",\"2001-06-21T00:00:00\",\"2001-06-22T00:00:00\",\"2001-06-23T00:00:00\",\"2001-06-24T00:00:00\",\"2001-06-25T00:00:00\",\"2001-06-26T00:00:00\",\"2001-06-27T00:00:00\",\"2001-06-28T00:00:00\",\"2001-06-29T00:00:00\",\"2001-06-30T00:00:00\",\"2001-07-01T00:00:00\",\"2001-07-02T00:00:00\",\"2001-07-03T00:00:00\",\"2001-07-04T00:00:00\",\"2001-07-05T00:00:00\",\"2001-07-06T00:00:00\",\"2001-07-07T00:00:00\",\"2001-07-08T00:00:00\",\"2001-07-09T00:00:00\",\"2001-07-10T00:00:00\",\"2001-07-11T00:00:00\",\"2001-07-12T00:00:00\",\"2001-07-13T00:00:00\",\"2001-07-14T00:00:00\",\"2001-07-15T00:00:00\",\"2001-07-16T00:00:00\",\"2001-07-17T00:00:00\",\"2001-07-18T00:00:00\",\"2001-07-19T00:00:00\",\"2001-07-20T00:00:00\",\"2001-07-21T00:00:00\",\"2001-07-22T00:00:00\",\"2001-07-23T00:00:00\",\"2001-07-24T00:00:00\",\"2001-07-25T00:00:00\",\"2001-07-26T00:00:00\",\"2001-07-27T00:00:00\",\"2001-07-28T00:00:00\",\"2001-07-29T00:00:00\",\"2001-07-30T00:00:00\",\"2001-07-31T00:00:00\",\"2001-08-01T00:00:00\",\"2001-08-02T00:00:00\",\"2001-08-03T00:00:00\",\"2001-08-04T00:00:00\",\"2001-08-05T00:00:00\",\"2001-08-06T00:00:00\",\"2001-08-07T00:00:00\",\"2001-08-08T00:00:00\",\"2001-08-09T00:00:00\",\"2001-08-10T00:00:00\",\"2001-08-11T00:00:00\",\"2001-08-12T00:00:00\",\"2001-08-13T00:00:00\",\"2001-08-14T00:00:00\",\"2001-08-15T00:00:00\",\"2001-08-16T00:00:00\",\"2001-08-17T00:00:00\",\"2001-08-18T00:00:00\",\"2001-08-19T00:00:00\",\"2001-08-20T00:00:00\",\"2001-08-21T00:00:00\",\"2001-08-22T00:00:00\",\"2001-08-23T00:00:00\",\"2001-08-24T00:00:00\",\"2001-08-25T00:00:00\",\"2001-08-26T00:00:00\",\"2001-08-27T00:00:00\",\"2001-08-28T00:00:00\",\"2001-08-29T00:00:00\",\"2001-08-30T00:00:00\",\"2001-08-31T00:00:00\",\"2001-09-01T00:00:00\",\"2001-09-02T00:00:00\",\"2001-09-03T00:00:00\",\"2001-09-04T00:00:00\",\"2001-09-05T00:00:00\",\"2001-09-06T00:00:00\",\"2001-09-07T00:00:00\",\"2001-09-08T00:00:00\",\"2001-09-09T00:00:00\",\"2001-09-10T00:00:00\",\"2001-09-11T00:00:00\",\"2001-09-12T00:00:00\",\"2001-09-13T00:00:00\",\"2001-09-14T00:00:00\",\"2001-09-15T00:00:00\",\"2001-09-16T00:00:00\",\"2001-09-17T00:00:00\",\"2001-09-18T00:00:00\",\"2001-09-19T00:00:00\",\"2001-09-20T00:00:00\",\"2001-09-21T00:00:00\",\"2001-09-22T00:00:00\",\"2001-09-23T00:00:00\",\"2001-09-24T00:00:00\",\"2001-09-25T00:00:00\",\"2001-09-26T00:00:00\",\"2001-09-27T00:00:00\",\"2001-09-28T00:00:00\",\"2001-09-29T00:00:00\",\"2001-09-30T00:00:00\",\"2001-10-01T00:00:00\",\"2001-10-02T00:00:00\",\"2001-10-03T00:00:00\",\"2001-10-04T00:00:00\",\"2001-10-05T00:00:00\",\"2001-10-06T00:00:00\",\"2001-10-07T00:00:00\",\"2001-10-08T00:00:00\",\"2001-10-09T00:00:00\",\"2001-10-10T00:00:00\",\"2001-10-11T00:00:00\",\"2001-10-12T00:00:00\",\"2001-10-13T00:00:00\",\"2001-10-14T00:00:00\",\"2001-10-15T00:00:00\",\"2001-10-16T00:00:00\",\"2001-10-17T00:00:00\",\"2001-10-18T00:00:00\",\"2001-10-19T00:00:00\",\"2001-10-20T00:00:00\",\"2001-10-21T00:00:00\",\"2001-10-22T00:00:00\",\"2001-10-23T00:00:00\",\"2001-10-24T00:00:00\",\"2001-10-25T00:00:00\",\"2001-10-26T00:00:00\",\"2001-10-27T00:00:00\",\"2001-10-28T00:00:00\",\"2001-10-29T00:00:00\",\"2001-10-30T00:00:00\",\"2001-10-31T00:00:00\",\"2001-11-01T00:00:00\",\"2001-11-02T00:00:00\",\"2001-11-03T00:00:00\",\"2001-11-04T00:00:00\",\"2001-11-05T00:00:00\",\"2001-11-06T00:00:00\",\"2001-11-07T00:00:00\",\"2001-11-08T00:00:00\",\"2001-11-09T00:00:00\",\"2001-11-10T00:00:00\",\"2001-11-11T00:00:00\",\"2001-11-12T00:00:00\",\"2001-11-13T00:00:00\",\"2001-11-14T00:00:00\",\"2001-11-15T00:00:00\",\"2001-11-16T00:00:00\",\"2001-11-17T00:00:00\",\"2001-11-18T00:00:00\",\"2001-11-19T00:00:00\",\"2001-11-20T00:00:00\",\"2001-11-21T00:00:00\",\"2001-11-22T00:00:00\",\"2001-11-23T00:00:00\",\"2001-11-24T00:00:00\",\"2001-11-25T00:00:00\",\"2001-11-26T00:00:00\",\"2001-11-27T00:00:00\",\"2001-11-28T00:00:00\",\"2001-11-29T00:00:00\",\"2001-11-30T00:00:00\",\"2001-12-01T00:00:00\",\"2001-12-02T00:00:00\",\"2001-12-03T00:00:00\",\"2001-12-04T00:00:00\",\"2001-12-05T00:00:00\",\"2001-12-06T00:00:00\",\"2001-12-07T00:00:00\",\"2001-12-08T00:00:00\",\"2001-12-09T00:00:00\",\"2001-12-10T00:00:00\",\"2001-12-11T00:00:00\",\"2001-12-12T00:00:00\",\"2001-12-13T00:00:00\",\"2001-12-14T00:00:00\",\"2001-12-15T00:00:00\",\"2001-12-16T00:00:00\",\"2001-12-17T00:00:00\",\"2001-12-18T00:00:00\",\"2001-12-19T00:00:00\",\"2001-12-20T00:00:00\",\"2001-12-21T00:00:00\",\"2001-12-22T00:00:00\",\"2001-12-23T00:00:00\",\"2001-12-24T00:00:00\",\"2001-12-25T00:00:00\",\"2001-12-26T00:00:00\",\"2001-12-27T00:00:00\",\"2001-12-28T00:00:00\",\"2001-12-29T00:00:00\",\"2001-12-30T00:00:00\",\"2001-12-31T00:00:00\",\"2002-01-01T00:00:00\",\"2002-01-02T00:00:00\",\"2002-01-03T00:00:00\",\"2002-01-04T00:00:00\",\"2002-01-05T00:00:00\",\"2002-01-06T00:00:00\",\"2002-01-07T00:00:00\",\"2002-01-08T00:00:00\",\"2002-01-09T00:00:00\",\"2002-01-10T00:00:00\",\"2002-01-11T00:00:00\",\"2002-01-12T00:00:00\",\"2002-01-13T00:00:00\",\"2002-01-14T00:00:00\",\"2002-01-15T00:00:00\",\"2002-01-16T00:00:00\",\"2002-01-17T00:00:00\",\"2002-01-18T00:00:00\",\"2002-01-19T00:00:00\",\"2002-01-20T00:00:00\",\"2002-01-21T00:00:00\",\"2002-01-22T00:00:00\",\"2002-01-23T00:00:00\",\"2002-01-24T00:00:00\",\"2002-01-25T00:00:00\",\"2002-01-26T00:00:00\",\"2002-01-27T00:00:00\",\"2002-01-28T00:00:00\",\"2002-01-29T00:00:00\",\"2002-01-30T00:00:00\",\"2002-01-31T00:00:00\",\"2002-02-01T00:00:00\",\"2002-02-02T00:00:00\",\"2002-02-03T00:00:00\",\"2002-02-04T00:00:00\",\"2002-02-05T00:00:00\",\"2002-02-06T00:00:00\",\"2002-02-07T00:00:00\",\"2002-02-08T00:00:00\",\"2002-02-09T00:00:00\",\"2002-02-10T00:00:00\",\"2002-02-11T00:00:00\",\"2002-02-12T00:00:00\",\"2002-02-13T00:00:00\",\"2002-02-14T00:00:00\",\"2002-02-15T00:00:00\",\"2002-02-16T00:00:00\",\"2002-02-17T00:00:00\",\"2002-02-18T00:00:00\",\"2002-02-19T00:00:00\",\"2002-02-20T00:00:00\",\"2002-02-21T00:00:00\",\"2002-02-22T00:00:00\",\"2002-02-23T00:00:00\",\"2002-02-24T00:00:00\",\"2002-02-25T00:00:00\",\"2002-02-26T00:00:00\",\"2002-02-27T00:00:00\",\"2002-02-28T00:00:00\",\"2002-03-01T00:00:00\",\"2002-03-02T00:00:00\",\"2002-03-03T00:00:00\",\"2002-03-04T00:00:00\",\"2002-03-05T00:00:00\",\"2002-03-06T00:00:00\",\"2002-03-07T00:00:00\",\"2002-03-08T00:00:00\",\"2002-03-09T00:00:00\",\"2002-03-10T00:00:00\",\"2002-03-11T00:00:00\",\"2002-03-12T00:00:00\",\"2002-03-13T00:00:00\",\"2002-03-14T00:00:00\",\"2002-03-15T00:00:00\",\"2002-03-16T00:00:00\",\"2002-03-17T00:00:00\",\"2002-03-18T00:00:00\",\"2002-03-19T00:00:00\",\"2002-03-20T00:00:00\",\"2002-03-21T00:00:00\",\"2002-03-22T00:00:00\",\"2002-03-23T00:00:00\",\"2002-03-24T00:00:00\",\"2002-03-25T00:00:00\",\"2002-03-26T00:00:00\",\"2002-03-27T00:00:00\",\"2002-03-28T00:00:00\",\"2002-03-29T00:00:00\",\"2002-03-30T00:00:00\",\"2002-03-31T00:00:00\",\"2002-04-01T00:00:00\",\"2002-04-02T00:00:00\",\"2002-04-03T00:00:00\",\"2002-04-04T00:00:00\",\"2002-04-05T00:00:00\",\"2002-04-06T00:00:00\",\"2002-04-07T00:00:00\",\"2002-04-08T00:00:00\",\"2002-04-09T00:00:00\",\"2002-04-10T00:00:00\",\"2002-04-11T00:00:00\",\"2002-04-12T00:00:00\",\"2002-04-13T00:00:00\",\"2002-04-14T00:00:00\",\"2002-04-15T00:00:00\",\"2002-04-16T00:00:00\",\"2002-04-17T00:00:00\",\"2002-04-18T00:00:00\",\"2002-04-19T00:00:00\",\"2002-04-20T00:00:00\",\"2002-04-21T00:00:00\",\"2002-04-22T00:00:00\",\"2002-04-23T00:00:00\",\"2002-04-24T00:00:00\",\"2002-04-25T00:00:00\",\"2002-04-26T00:00:00\",\"2002-04-27T00:00:00\",\"2002-04-28T00:00:00\",\"2002-04-29T00:00:00\",\"2002-04-30T00:00:00\",\"2002-05-01T00:00:00\",\"2002-05-02T00:00:00\",\"2002-05-03T00:00:00\",\"2002-05-04T00:00:00\",\"2002-05-05T00:00:00\",\"2002-05-06T00:00:00\",\"2002-05-07T00:00:00\",\"2002-05-08T00:00:00\",\"2002-05-09T00:00:00\",\"2002-05-10T00:00:00\",\"2002-05-11T00:00:00\",\"2002-05-12T00:00:00\",\"2002-05-13T00:00:00\",\"2002-05-14T00:00:00\",\"2002-05-15T00:00:00\",\"2002-05-16T00:00:00\",\"2002-05-17T00:00:00\",\"2002-05-18T00:00:00\",\"2002-05-19T00:00:00\",\"2002-05-20T00:00:00\",\"2002-05-21T00:00:00\",\"2002-05-22T00:00:00\",\"2002-05-23T00:00:00\",\"2002-05-24T00:00:00\",\"2002-05-25T00:00:00\",\"2002-05-26T00:00:00\",\"2002-05-27T00:00:00\",\"2002-05-28T00:00:00\",\"2002-05-29T00:00:00\",\"2002-05-30T00:00:00\",\"2002-05-31T00:00:00\",\"2002-06-01T00:00:00\",\"2002-06-02T00:00:00\",\"2002-06-03T00:00:00\",\"2002-06-04T00:00:00\",\"2002-06-05T00:00:00\",\"2002-06-06T00:00:00\",\"2002-06-07T00:00:00\",\"2002-06-08T00:00:00\",\"2002-06-09T00:00:00\",\"2002-06-10T00:00:00\",\"2002-06-11T00:00:00\",\"2002-06-12T00:00:00\",\"2002-06-13T00:00:00\",\"2002-06-14T00:00:00\",\"2002-06-15T00:00:00\",\"2002-06-16T00:00:00\",\"2002-06-17T00:00:00\",\"2002-06-18T00:00:00\",\"2002-06-19T00:00:00\",\"2002-06-20T00:00:00\",\"2002-06-21T00:00:00\",\"2002-06-22T00:00:00\",\"2002-06-23T00:00:00\",\"2002-06-24T00:00:00\",\"2002-06-25T00:00:00\",\"2002-06-26T00:00:00\",\"2002-06-27T00:00:00\",\"2002-06-28T00:00:00\",\"2002-06-29T00:00:00\",\"2002-06-30T00:00:00\",\"2002-07-01T00:00:00\",\"2002-07-02T00:00:00\",\"2002-07-03T00:00:00\",\"2002-07-04T00:00:00\",\"2002-07-05T00:00:00\",\"2002-07-06T00:00:00\",\"2002-07-07T00:00:00\",\"2002-07-08T00:00:00\",\"2002-07-09T00:00:00\",\"2002-07-10T00:00:00\",\"2002-07-11T00:00:00\",\"2002-07-12T00:00:00\",\"2002-07-13T00:00:00\",\"2002-07-14T00:00:00\",\"2002-07-15T00:00:00\",\"2002-07-16T00:00:00\",\"2002-07-17T00:00:00\",\"2002-07-18T00:00:00\",\"2002-07-19T00:00:00\",\"2002-07-20T00:00:00\",\"2002-07-21T00:00:00\",\"2002-07-22T00:00:00\",\"2002-07-23T00:00:00\",\"2002-07-24T00:00:00\",\"2002-07-25T00:00:00\",\"2002-07-26T00:00:00\",\"2002-07-27T00:00:00\",\"2002-07-28T00:00:00\",\"2002-07-29T00:00:00\",\"2002-07-30T00:00:00\",\"2002-07-31T00:00:00\",\"2002-08-01T00:00:00\",\"2002-08-02T00:00:00\",\"2002-08-03T00:00:00\",\"2002-08-04T00:00:00\",\"2002-08-05T00:00:00\",\"2002-08-06T00:00:00\",\"2002-08-07T00:00:00\",\"2002-08-08T00:00:00\",\"2002-08-09T00:00:00\",\"2002-08-10T00:00:00\",\"2002-08-11T00:00:00\",\"2002-08-12T00:00:00\",\"2002-08-13T00:00:00\",\"2002-08-14T00:00:00\",\"2002-08-15T00:00:00\",\"2002-08-16T00:00:00\",\"2002-08-17T00:00:00\",\"2002-08-18T00:00:00\",\"2002-08-19T00:00:00\",\"2002-08-20T00:00:00\",\"2002-08-21T00:00:00\",\"2002-08-22T00:00:00\",\"2002-08-23T00:00:00\",\"2002-08-24T00:00:00\",\"2002-08-25T00:00:00\",\"2002-08-26T00:00:00\",\"2002-08-27T00:00:00\",\"2002-08-28T00:00:00\",\"2002-08-29T00:00:00\",\"2002-08-30T00:00:00\",\"2002-08-31T00:00:00\",\"2002-09-01T00:00:00\",\"2002-09-02T00:00:00\",\"2002-09-03T00:00:00\",\"2002-09-04T00:00:00\",\"2002-09-05T00:00:00\",\"2002-09-06T00:00:00\",\"2002-09-07T00:00:00\",\"2002-09-08T00:00:00\",\"2002-09-09T00:00:00\",\"2002-09-10T00:00:00\",\"2002-09-11T00:00:00\",\"2002-09-12T00:00:00\",\"2002-09-13T00:00:00\",\"2002-09-14T00:00:00\",\"2002-09-15T00:00:00\",\"2002-09-16T00:00:00\",\"2002-09-17T00:00:00\",\"2002-09-18T00:00:00\",\"2002-09-19T00:00:00\",\"2002-09-20T00:00:00\",\"2002-09-21T00:00:00\",\"2002-09-22T00:00:00\",\"2002-09-23T00:00:00\",\"2002-09-24T00:00:00\",\"2002-09-25T00:00:00\",\"2002-09-26T00:00:00\"],\"xaxis\":\"x\",\"y\":[-1.1038048152651194,-0.333767985667333,0.7620888726453048,1.1992816537906519,1.1992816537906519,1.1992816537906519,1.1992816537906519,1.1992816537906519,1.1992816537906519,1.1992816537906519,1.1992816537906519,1.1992816537906519,1.3165158503203493,1.3165158503203493,2.363350275407918,2.363350275407918,2.363350275407918,2.363350275407918,2.363350275407918,2.363350275407918,2.363350275407918,2.363350275407918,2.363350275407918,2.363350275407918,2.363350275407918,2.363350275407918,2.363350275407918,2.363350275407918,2.363350275407918,2.363350275407918,2.363350275407918,2.363350275407918,2.363350275407918,2.5866316844065302,2.5866316844065302,2.5866316844065302,2.5866316844065302,2.5866316844065302,2.5866316844065302,2.5866316844065302,2.5866316844065302,2.5866316844065302,2.5866316844065302,2.5866316844065302,2.5866316844065302,2.5866316844065302,2.5866316844065302,2.5866316844065302,2.5866316844065302,2.5866316844065302,2.5866316844065302,2.5866316844065302,2.5866316844065302,2.5866316844065302,2.5866316844065302,2.5866316844065302,2.5866316844065302,2.5866316844065302,2.5866316844065302,2.5866316844065302,2.5866316844065302,2.5866316844065302,2.5866316844065302,2.5866316844065302,2.5866316844065302,2.5866316844065302,2.5866316844065302,2.5866316844065302,2.5866316844065302,2.5866316844065302,2.5866316844065302,2.5866316844065302,2.5866316844065302,2.5866316844065302,2.5866316844065302,2.5866316844065302,2.5866316844065302,2.5866316844065302,2.5866316844065302,2.5866316844065302,2.5866316844065302,2.5866316844065302,2.5866316844065302,2.5866316844065302,2.5866316844065302,2.5866316844065302,2.5866316844065302,2.5866316844065302,2.5866316844065302,2.5866316844065302,2.5866316844065302,2.5866316844065302,2.5866316844065302,2.5866316844065302,2.5866316844065302,2.5866316844065302,2.5866316844065302,2.5866316844065302,2.5866316844065302,2.5866316844065302,2.5866316844065302,2.5866316844065302,2.5866316844065302,2.5866316844065302,2.5866316844065302,2.5866316844065302,2.5866316844065302,2.5866316844065302,2.5866316844065302,2.5866316844065302,2.5866316844065302,2.5866316844065302,2.5866316844065302,2.5866316844065302,2.5866316844065302,2.5866316844065302,2.5866316844065302,2.5866316844065302,2.5866316844065302,2.5866316844065302,2.5866316844065302,2.5866316844065302,2.5866316844065302,2.5866316844065302,2.5866316844065302,2.5866316844065302,2.5866316844065302,2.5866316844065302,2.5866316844065302,2.5866316844065302,2.5866316844065302,2.5866316844065302,2.5866316844065302,2.5866316844065302,2.5866316844065302,2.5866316844065302,2.5866316844065302,2.5866316844065302,2.5866316844065302,2.5866316844065302,2.5866316844065302,2.5866316844065302,2.5866316844065302,2.5866316844065302,2.5866316844065302,2.5866316844065302,2.5866316844065302,2.5866316844065302,2.5866316844065302,2.5866316844065302,2.5866316844065302,2.5866316844065302,2.5866316844065302,2.5866316844065302,2.5866316844065302,2.5866316844065302,2.5866316844065302,2.5866316844065302,2.5866316844065302,2.5866316844065302,2.5866316844065302,2.5866316844065302,2.5866316844065302,2.5866316844065302,2.5866316844065302,2.5866316844065302,2.5866316844065302,2.5866316844065302,2.5866316844065302,2.5866316844065302,2.5866316844065302,2.5866316844065302,2.5866316844065302,2.5866316844065302,2.5866316844065302,2.5866316844065302,2.5866316844065302,2.5866316844065302,2.5866316844065302,2.5866316844065302,2.5866316844065302,2.5866316844065302,2.5866316844065302,2.5866316844065302,2.5866316844065302,2.5866316844065302,2.5866316844065302,2.5866316844065302,2.5866316844065302,2.5866316844065302,2.5866316844065302,2.5866316844065302,2.5866316844065302,2.5866316844065302,2.5866316844065302,2.5866316844065302,2.5866316844065302,2.5866316844065302,2.5866316844065302,2.5866316844065302,2.5866316844065302,2.5866316844065302,2.5866316844065302,2.5866316844065302,2.5866316844065302,2.5866316844065302,2.5866316844065302,2.5866316844065302,2.5866316844065302,2.5866316844065302,2.5866316844065302,2.5866316844065302,2.5866316844065302,2.5866316844065302,2.5866316844065302,2.5866316844065302,2.5866316844065302,2.5866316844065302,2.5866316844065302,2.5866316844065302,2.5866316844065302,2.5866316844065302,2.5866316844065302,2.5866316844065302,2.5866316844065302,2.5866316844065302,2.5866316844065302,2.5866316844065302,2.5866316844065302,2.5866316844065302,2.5866316844065302,2.5866316844065302,2.5866316844065302,2.5866316844065302,2.5866316844065302,2.5866316844065302,2.5866316844065302,2.5866316844065302,2.5866316844065302,2.5866316844065302,2.5866316844065302,2.5866316844065302,2.5866316844065302,2.5866316844065302,2.5866316844065302,2.5866316844065302,2.5866316844065302,2.5866316844065302,2.5866316844065302,2.5866316844065302,2.5866316844065302,2.5866316844065302,2.5866316844065302,2.5866316844065302,2.5866316844065302,2.5866316844065302,2.5866316844065302,2.5866316844065302,2.5866316844065302,2.5866316844065302,2.5866316844065302,2.5866316844065302,2.5866316844065302,2.5866316844065302,2.5866316844065302,2.5866316844065302,2.5866316844065302,2.5866316844065302,2.5866316844065302,2.5866316844065302,2.5866316844065302,2.5866316844065302,2.5866316844065302,2.5866316844065302,2.5866316844065302,2.5866316844065302,2.5866316844065302,2.5866316844065302,2.5866316844065302,2.5866316844065302,2.5866316844065302,2.5866316844065302,2.5866316844065302,2.5866316844065302,2.5866316844065302,2.5866316844065302,2.5866316844065302,2.5866316844065302,2.5866316844065302,2.5866316844065302,2.5866316844065302,2.5866316844065302,2.5866316844065302,2.5866316844065302,2.5866316844065302,2.5866316844065302,2.5866316844065302,2.5866316844065302,2.5866316844065302,2.5866316844065302,2.5866316844065302,2.5866316844065302,2.5866316844065302,3.2428791221148194,3.2428791221148194,3.2428791221148194,3.2428791221148194,3.2428791221148194,3.2428791221148194,3.2428791221148194,3.2428791221148194,3.2428791221148194,3.2428791221148194,3.2428791221148194,3.2428791221148194,3.2428791221148194,3.2428791221148194,3.2428791221148194,3.2428791221148194,3.2428791221148194,3.2428791221148194,3.2428791221148194,3.2428791221148194,3.2428791221148194,3.2428791221148194,3.2428791221148194,3.2428791221148194,3.2428791221148194,3.2428791221148194,3.2428791221148194,3.2428791221148194,3.2428791221148194,3.2428791221148194,3.2428791221148194,3.2428791221148194,3.2428791221148194,3.2428791221148194,3.2428791221148194,3.2428791221148194,3.2428791221148194,3.2428791221148194,3.2428791221148194,3.2428791221148194,3.2428791221148194,3.2428791221148194,3.2428791221148194,3.2428791221148194,3.2428791221148194,3.2428791221148194,3.2428791221148194,3.2428791221148194,3.2428791221148194,3.2428791221148194,3.2428791221148194,3.2428791221148194,3.2428791221148194,3.2428791221148194,3.2428791221148194,3.2428791221148194,3.2428791221148194,3.2428791221148194,3.2428791221148194,3.2428791221148194,3.2428791221148194,3.2428791221148194,3.2428791221148194,3.2428791221148194,3.2428791221148194,3.2428791221148194,3.2428791221148194,3.2428791221148194,3.2428791221148194,3.2428791221148194,3.2428791221148194,3.2428791221148194,3.2428791221148194,3.2428791221148194,3.3441045832215965,3.3441045832215965,3.3441045832215965,3.3441045832215965,3.3441045832215965,3.3441045832215965,3.3441045832215965,3.3441045832215965,3.3441045832215965,3.3441045832215965,3.3441045832215965,3.3441045832215965,3.3441045832215965,3.3441045832215965,3.3441045832215965,3.3441045832215965,3.3441045832215965,3.3441045832215965,3.3441045832215965,3.3441045832215965,3.3441045832215965,3.3441045832215965,3.3441045832215965,3.3441045832215965,3.3441045832215965,3.3441045832215965,3.3441045832215965,3.3441045832215965,3.3441045832215965,3.3441045832215965,3.3441045832215965,3.3441045832215965,3.3441045832215965,3.3441045832215965,3.3441045832215965,3.3441045832215965,3.3441045832215965,3.3441045832215965,3.3441045832215965,3.3441045832215965,3.3441045832215965,3.3441045832215965,3.3441045832215965,3.3441045832215965,3.3441045832215965,3.3441045832215965,3.3441045832215965,3.3441045832215965,3.3441045832215965,3.3441045832215965,3.3441045832215965,3.3441045832215965,3.3441045832215965,3.3441045832215965,3.3441045832215965,3.3441045832215965,3.3441045832215965,3.3441045832215965,3.3441045832215965,3.3441045832215965,3.3441045832215965,3.3441045832215965,3.3441045832215965,3.3441045832215965,3.3441045832215965,3.3441045832215965,3.3441045832215965,3.3441045832215965,3.3441045832215965,3.3441045832215965,3.3441045832215965,3.3441045832215965,3.3441045832215965,3.3441045832215965,3.3441045832215965,3.3441045832215965,3.3441045832215965,3.3441045832215965,3.3441045832215965,3.3441045832215965,3.3441045832215965,3.3441045832215965,3.3441045832215965,3.3441045832215965,3.3441045832215965,3.3441045832215965,3.3441045832215965,3.3441045832215965,3.3441045832215965,3.3441045832215965,3.3441045832215965,3.3441045832215965,3.3441045832215965,3.3441045832215965,3.3441045832215965,3.3441045832215965,3.3441045832215965,3.3441045832215965,3.3441045832215965,3.3441045832215965,3.3441045832215965,3.3441045832215965,3.3441045832215965,3.3441045832215965,3.3441045832215965,3.3441045832215965,3.3441045832215965,3.3441045832215965,3.3441045832215965,3.3441045832215965,3.3441045832215965,3.3441045832215965,3.3441045832215965,3.3441045832215965,3.3441045832215965,3.3441045832215965,3.3441045832215965,3.3441045832215965,3.3441045832215965,3.3441045832215965,3.3441045832215965,3.3441045832215965,3.3441045832215965,3.3441045832215965,3.3441045832215965,3.3441045832215965,3.3441045832215965,3.3441045832215965,3.3441045832215965,3.3441045832215965,3.3441045832215965,3.3441045832215965,3.3441045832215965,3.3441045832215965,3.3441045832215965,3.3441045832215965,3.3441045832215965,3.3441045832215965,3.3441045832215965,3.3441045832215965,3.3441045832215965,3.3441045832215965,3.3441045832215965,3.3441045832215965,3.3441045832215965,3.3441045832215965,3.3441045832215965,3.3441045832215965,3.3441045832215965,3.3441045832215965,3.3441045832215965,3.3441045832215965,3.3441045832215965,3.3441045832215965,3.3441045832215965,3.3441045832215965,3.3441045832215965,3.3441045832215965,3.3441045832215965,3.3441045832215965,3.3441045832215965,3.3441045832215965,3.3441045832215965,3.3441045832215965,3.3441045832215965,3.3441045832215965,3.3441045832215965,3.3441045832215965,3.3441045832215965,3.3441045832215965,3.3441045832215965,3.3441045832215965,3.3441045832215965,3.3441045832215965,3.3441045832215965,3.3441045832215965,3.3441045832215965,3.3441045832215965,3.3441045832215965,3.3441045832215965,3.3441045832215965,3.3441045832215965,3.3441045832215965,3.3441045832215965,3.3441045832215965,3.3441045832215965,3.3441045832215965,3.3441045832215965,3.3441045832215965,3.3441045832215965,3.3441045832215965,3.3441045832215965,3.3441045832215965,3.3441045832215965,3.3441045832215965,3.3441045832215965,3.3441045832215965,3.3441045832215965,3.3441045832215965,3.3441045832215965,3.3441045832215965,3.3441045832215965,3.3441045832215965,3.3441045832215965,3.3441045832215965,3.3441045832215965,3.3441045832215965,3.3441045832215965,3.3441045832215965,3.3441045832215965,3.3441045832215965,3.3441045832215965,3.3441045832215965,3.3441045832215965,3.3441045832215965,3.3441045832215965,3.3441045832215965,3.3441045832215965,3.3441045832215965,3.3441045832215965,3.3441045832215965,3.3441045832215965,3.3441045832215965,3.3441045832215965,3.3441045832215965,3.3441045832215965,3.3441045832215965,3.3441045832215965,3.3441045832215965,3.3441045832215965,3.3441045832215965,3.3441045832215965,3.3441045832215965,3.3441045832215965,3.3441045832215965,3.3441045832215965,3.3441045832215965,3.3441045832215965,3.3441045832215965,3.3441045832215965,3.3441045832215965,3.3441045832215965,3.3441045832215965,3.3441045832215965,3.3441045832215965,3.3441045832215965,3.3441045832215965,3.3441045832215965,3.3441045832215965,3.3441045832215965,3.3441045832215965,3.3441045832215965,3.3441045832215965,3.3441045832215965,3.3441045832215965,3.3441045832215965,3.3441045832215965,3.3441045832215965,3.3441045832215965,3.3441045832215965,3.3441045832215965,3.3441045832215965,3.3441045832215965,3.3441045832215965,3.3441045832215965,3.3441045832215965,3.3441045832215965,3.3441045832215965,3.3441045832215965,3.3441045832215965,3.3441045832215965,3.3441045832215965,3.3441045832215965,3.3441045832215965,3.3441045832215965,3.3441045832215965,3.3441045832215965,3.3441045832215965,3.3441045832215965,3.3441045832215965,3.3441045832215965,3.3441045832215965,3.3441045832215965,3.3441045832215965,3.3441045832215965,3.3441045832215965,3.3441045832215965,3.3441045832215965,3.3441045832215965,3.3441045832215965,3.3441045832215965,3.3441045832215965,3.3441045832215965,3.3441045832215965,3.3441045832215965,3.3441045832215965,3.3441045832215965,3.3441045832215965,3.3441045832215965,3.3441045832215965,3.3441045832215965,3.3441045832215965,3.3441045832215965,3.3441045832215965,3.3441045832215965,3.3441045832215965,3.3441045832215965,3.3441045832215965,3.3441045832215965,3.3441045832215965,3.3441045832215965,3.3441045832215965,3.3441045832215965,3.3441045832215965,3.3441045832215965,3.3441045832215965,3.3441045832215965,3.3441045832215965,3.3441045832215965,3.3441045832215965,3.3441045832215965,3.3441045832215965,3.3441045832215965,3.3441045832215965,3.3441045832215965,3.3441045832215965,3.3441045832215965,3.3441045832215965,3.3441045832215965,3.3441045832215965,3.3441045832215965,3.3441045832215965,3.3441045832215965,3.3441045832215965,3.3441045832215965,3.3441045832215965,3.3441045832215965,3.3441045832215965,3.3441045832215965,3.3441045832215965,3.3441045832215965,3.3441045832215965,3.3441045832215965,3.3441045832215965,3.3441045832215965,3.3441045832215965,3.3441045832215965,3.3441045832215965,3.3441045832215965,3.3441045832215965,3.3441045832215965,3.3441045832215965,3.3441045832215965,3.3441045832215965,3.3441045832215965,3.3441045832215965,3.3441045832215965,3.3441045832215965,3.3441045832215965,3.3441045832215965,3.3441045832215965,3.3441045832215965,3.3441045832215965,3.3441045832215965,3.3441045832215965,3.3441045832215965,3.3441045832215965,3.3441045832215965,3.3441045832215965,3.3441045832215965,3.3441045832215965,3.3441045832215965,3.3441045832215965,3.3441045832215965,3.3441045832215965,3.3441045832215965,3.3441045832215965,3.3441045832215965,3.3441045832215965,3.3441045832215965,3.3441045832215965,3.3441045832215965,3.3441045832215965,3.3441045832215965,3.3441045832215965,3.3441045832215965,3.3441045832215965,3.3441045832215965,3.3441045832215965,3.3441045832215965,3.3441045832215965,3.3441045832215965,3.3441045832215965,3.3441045832215965,3.3441045832215965,3.3441045832215965,3.3441045832215965,3.3441045832215965,3.3441045832215965,3.3441045832215965,3.3441045832215965,3.3441045832215965,3.3441045832215965,3.3441045832215965,3.3441045832215965,3.3441045832215965,3.3441045832215965,3.3441045832215965,3.3441045832215965,3.3441045832215965,3.3441045832215965,3.3441045832215965,3.3441045832215965,3.3441045832215965,3.3441045832215965,3.3441045832215965,3.3441045832215965,3.3441045832215965,3.3441045832215965,3.3441045832215965,3.3441045832215965,3.3441045832215965,3.3441045832215965,3.3441045832215965,3.3441045832215965,3.3441045832215965,3.3441045832215965,3.3441045832215965,3.3441045832215965,3.3441045832215965,3.3441045832215965,3.3441045832215965,3.3441045832215965,3.3441045832215965,3.3441045832215965,3.3441045832215965,3.3441045832215965,3.3441045832215965,3.3441045832215965,3.3441045832215965,3.3441045832215965,3.3441045832215965,3.3441045832215965,3.3441045832215965,3.3441045832215965,3.3441045832215965,3.3441045832215965,3.3441045832215965,3.3441045832215965,3.3441045832215965,3.3441045832215965,3.3441045832215965,3.3441045832215965,3.3441045832215965,3.3441045832215965,3.3441045832215965,3.3441045832215965,3.3441045832215965,3.3441045832215965,3.3441045832215965,3.3441045832215965,3.3441045832215965,3.3441045832215965,3.3441045832215965,3.3441045832215965,3.3441045832215965,3.3441045832215965,3.3441045832215965,3.3441045832215965,3.3441045832215965,3.3441045832215965,3.3441045832215965,3.3441045832215965,3.3441045832215965,3.3441045832215965,3.3441045832215965,3.3441045832215965,3.3441045832215965,3.3441045832215965,3.3441045832215965,3.3441045832215965,3.3441045832215965,3.3441045832215965,3.3441045832215965,3.3441045832215965,3.3441045832215965,3.3441045832215965,3.3441045832215965,3.3441045832215965,3.3441045832215965,3.3441045832215965,3.3441045832215965,3.3441045832215965,3.3441045832215965,3.3441045832215965,3.3441045832215965,3.3441045832215965,3.3441045832215965,3.3441045832215965,3.3441045832215965,3.3441045832215965,3.3441045832215965,3.3441045832215965,3.3441045832215965,3.3441045832215965,3.3441045832215965,3.3441045832215965,3.3441045832215965,3.3441045832215965,3.3441045832215965,3.3441045832215965,3.3441045832215965,3.3441045832215965,3.3441045832215965,3.3441045832215965,3.3441045832215965,3.3441045832215965,3.3441045832215965,3.3441045832215965,3.3441045832215965,3.3441045832215965,3.3441045832215965,3.3441045832215965,3.3441045832215965,3.3441045832215965,3.3441045832215965,3.3441045832215965,3.3441045832215965,3.3441045832215965,3.3441045832215965,3.3441045832215965,3.3441045832215965,3.3441045832215965,3.3441045832215965,3.3441045832215965,3.3441045832215965,3.3441045832215965,3.3441045832215965,3.3441045832215965,3.3441045832215965,3.3441045832215965,3.3441045832215965,3.3441045832215965,3.3441045832215965,3.3441045832215965,3.3441045832215965,3.3441045832215965,3.3441045832215965,3.3441045832215965,3.3441045832215965,3.3441045832215965,3.3441045832215965,3.3441045832215965,3.3441045832215965,3.3441045832215965,3.3441045832215965,3.3441045832215965,3.3441045832215965,3.3441045832215965,3.3441045832215965,3.3441045832215965,3.3441045832215965,3.3441045832215965,3.3441045832215965,3.3441045832215965,3.3441045832215965,3.3441045832215965,3.3441045832215965,3.3441045832215965,3.3441045832215965,3.3441045832215965,3.3441045832215965,3.3441045832215965,3.3441045832215965,3.3441045832215965,3.3441045832215965,3.3441045832215965,3.3441045832215965,3.3441045832215965,3.3441045832215965,3.3441045832215965,3.3441045832215965,3.3441045832215965,3.3441045832215965,3.3441045832215965,3.3441045832215965,3.3441045832215965,3.3441045832215965,3.3441045832215965,3.3441045832215965,3.3441045832215965,3.3441045832215965,3.3441045832215965,3.3441045832215965,3.3441045832215965,3.3441045832215965,3.3441045832215965,3.3441045832215965,3.3441045832215965,3.3441045832215965,3.3441045832215965,3.3441045832215965,3.3441045832215965,3.3441045832215965,3.3441045832215965,3.3441045832215965,3.3441045832215965,3.3441045832215965,3.3441045832215965,3.3441045832215965,3.3441045832215965,3.3441045832215965,3.3441045832215965,3.3441045832215965,3.3441045832215965,3.3441045832215965,3.3441045832215965,3.3441045832215965,3.3441045832215965,3.3441045832215965,3.3441045832215965,3.3441045832215965,3.3441045832215965],\"yaxis\":\"y\",\"type\":\"scatter\"}],                        {\"template\":{\"data\":{\"histogram2dcontour\":[{\"type\":\"histogram2dcontour\",\"colorbar\":{\"outlinewidth\":0,\"ticks\":\"\"},\"colorscale\":[[0.0,\"#0d0887\"],[0.1111111111111111,\"#46039f\"],[0.2222222222222222,\"#7201a8\"],[0.3333333333333333,\"#9c179e\"],[0.4444444444444444,\"#bd3786\"],[0.5555555555555556,\"#d8576b\"],[0.6666666666666666,\"#ed7953\"],[0.7777777777777778,\"#fb9f3a\"],[0.8888888888888888,\"#fdca26\"],[1.0,\"#f0f921\"]]}],\"choropleth\":[{\"type\":\"choropleth\",\"colorbar\":{\"outlinewidth\":0,\"ticks\":\"\"}}],\"histogram2d\":[{\"type\":\"histogram2d\",\"colorbar\":{\"outlinewidth\":0,\"ticks\":\"\"},\"colorscale\":[[0.0,\"#0d0887\"],[0.1111111111111111,\"#46039f\"],[0.2222222222222222,\"#7201a8\"],[0.3333333333333333,\"#9c179e\"],[0.4444444444444444,\"#bd3786\"],[0.5555555555555556,\"#d8576b\"],[0.6666666666666666,\"#ed7953\"],[0.7777777777777778,\"#fb9f3a\"],[0.8888888888888888,\"#fdca26\"],[1.0,\"#f0f921\"]]}],\"heatmap\":[{\"type\":\"heatmap\",\"colorbar\":{\"outlinewidth\":0,\"ticks\":\"\"},\"colorscale\":[[0.0,\"#0d0887\"],[0.1111111111111111,\"#46039f\"],[0.2222222222222222,\"#7201a8\"],[0.3333333333333333,\"#9c179e\"],[0.4444444444444444,\"#bd3786\"],[0.5555555555555556,\"#d8576b\"],[0.6666666666666666,\"#ed7953\"],[0.7777777777777778,\"#fb9f3a\"],[0.8888888888888888,\"#fdca26\"],[1.0,\"#f0f921\"]]}],\"heatmapgl\":[{\"type\":\"heatmapgl\",\"colorbar\":{\"outlinewidth\":0,\"ticks\":\"\"},\"colorscale\":[[0.0,\"#0d0887\"],[0.1111111111111111,\"#46039f\"],[0.2222222222222222,\"#7201a8\"],[0.3333333333333333,\"#9c179e\"],[0.4444444444444444,\"#bd3786\"],[0.5555555555555556,\"#d8576b\"],[0.6666666666666666,\"#ed7953\"],[0.7777777777777778,\"#fb9f3a\"],[0.8888888888888888,\"#fdca26\"],[1.0,\"#f0f921\"]]}],\"contourcarpet\":[{\"type\":\"contourcarpet\",\"colorbar\":{\"outlinewidth\":0,\"ticks\":\"\"}}],\"contour\":[{\"type\":\"contour\",\"colorbar\":{\"outlinewidth\":0,\"ticks\":\"\"},\"colorscale\":[[0.0,\"#0d0887\"],[0.1111111111111111,\"#46039f\"],[0.2222222222222222,\"#7201a8\"],[0.3333333333333333,\"#9c179e\"],[0.4444444444444444,\"#bd3786\"],[0.5555555555555556,\"#d8576b\"],[0.6666666666666666,\"#ed7953\"],[0.7777777777777778,\"#fb9f3a\"],[0.8888888888888888,\"#fdca26\"],[1.0,\"#f0f921\"]]}],\"surface\":[{\"type\":\"surface\",\"colorbar\":{\"outlinewidth\":0,\"ticks\":\"\"},\"colorscale\":[[0.0,\"#0d0887\"],[0.1111111111111111,\"#46039f\"],[0.2222222222222222,\"#7201a8\"],[0.3333333333333333,\"#9c179e\"],[0.4444444444444444,\"#bd3786\"],[0.5555555555555556,\"#d8576b\"],[0.6666666666666666,\"#ed7953\"],[0.7777777777777778,\"#fb9f3a\"],[0.8888888888888888,\"#fdca26\"],[1.0,\"#f0f921\"]]}],\"mesh3d\":[{\"type\":\"mesh3d\",\"colorbar\":{\"outlinewidth\":0,\"ticks\":\"\"}}],\"scatter\":[{\"fillpattern\":{\"fillmode\":\"overlay\",\"size\":10,\"solidity\":0.2},\"type\":\"scatter\"}],\"parcoords\":[{\"type\":\"parcoords\",\"line\":{\"colorbar\":{\"outlinewidth\":0,\"ticks\":\"\"}}}],\"scatterpolargl\":[{\"type\":\"scatterpolargl\",\"marker\":{\"colorbar\":{\"outlinewidth\":0,\"ticks\":\"\"}}}],\"bar\":[{\"error_x\":{\"color\":\"#2a3f5f\"},\"error_y\":{\"color\":\"#2a3f5f\"},\"marker\":{\"line\":{\"color\":\"#E5ECF6\",\"width\":0.5},\"pattern\":{\"fillmode\":\"overlay\",\"size\":10,\"solidity\":0.2}},\"type\":\"bar\"}],\"scattergeo\":[{\"type\":\"scattergeo\",\"marker\":{\"colorbar\":{\"outlinewidth\":0,\"ticks\":\"\"}}}],\"scatterpolar\":[{\"type\":\"scatterpolar\",\"marker\":{\"colorbar\":{\"outlinewidth\":0,\"ticks\":\"\"}}}],\"histogram\":[{\"marker\":{\"pattern\":{\"fillmode\":\"overlay\",\"size\":10,\"solidity\":0.2}},\"type\":\"histogram\"}],\"scattergl\":[{\"type\":\"scattergl\",\"marker\":{\"colorbar\":{\"outlinewidth\":0,\"ticks\":\"\"}}}],\"scatter3d\":[{\"type\":\"scatter3d\",\"line\":{\"colorbar\":{\"outlinewidth\":0,\"ticks\":\"\"}},\"marker\":{\"colorbar\":{\"outlinewidth\":0,\"ticks\":\"\"}}}],\"scattermapbox\":[{\"type\":\"scattermapbox\",\"marker\":{\"colorbar\":{\"outlinewidth\":0,\"ticks\":\"\"}}}],\"scatterternary\":[{\"type\":\"scatterternary\",\"marker\":{\"colorbar\":{\"outlinewidth\":0,\"ticks\":\"\"}}}],\"scattercarpet\":[{\"type\":\"scattercarpet\",\"marker\":{\"colorbar\":{\"outlinewidth\":0,\"ticks\":\"\"}}}],\"carpet\":[{\"aaxis\":{\"endlinecolor\":\"#2a3f5f\",\"gridcolor\":\"white\",\"linecolor\":\"white\",\"minorgridcolor\":\"white\",\"startlinecolor\":\"#2a3f5f\"},\"baxis\":{\"endlinecolor\":\"#2a3f5f\",\"gridcolor\":\"white\",\"linecolor\":\"white\",\"minorgridcolor\":\"white\",\"startlinecolor\":\"#2a3f5f\"},\"type\":\"carpet\"}],\"table\":[{\"cells\":{\"fill\":{\"color\":\"#EBF0F8\"},\"line\":{\"color\":\"white\"}},\"header\":{\"fill\":{\"color\":\"#C8D4E3\"},\"line\":{\"color\":\"white\"}},\"type\":\"table\"}],\"barpolar\":[{\"marker\":{\"line\":{\"color\":\"#E5ECF6\",\"width\":0.5},\"pattern\":{\"fillmode\":\"overlay\",\"size\":10,\"solidity\":0.2}},\"type\":\"barpolar\"}],\"pie\":[{\"automargin\":true,\"type\":\"pie\"}]},\"layout\":{\"autotypenumbers\":\"strict\",\"colorway\":[\"#636efa\",\"#EF553B\",\"#00cc96\",\"#ab63fa\",\"#FFA15A\",\"#19d3f3\",\"#FF6692\",\"#B6E880\",\"#FF97FF\",\"#FECB52\"],\"font\":{\"color\":\"#2a3f5f\"},\"hovermode\":\"closest\",\"hoverlabel\":{\"align\":\"left\"},\"paper_bgcolor\":\"white\",\"plot_bgcolor\":\"#E5ECF6\",\"polar\":{\"bgcolor\":\"#E5ECF6\",\"angularaxis\":{\"gridcolor\":\"white\",\"linecolor\":\"white\",\"ticks\":\"\"},\"radialaxis\":{\"gridcolor\":\"white\",\"linecolor\":\"white\",\"ticks\":\"\"}},\"ternary\":{\"bgcolor\":\"#E5ECF6\",\"aaxis\":{\"gridcolor\":\"white\",\"linecolor\":\"white\",\"ticks\":\"\"},\"baxis\":{\"gridcolor\":\"white\",\"linecolor\":\"white\",\"ticks\":\"\"},\"caxis\":{\"gridcolor\":\"white\",\"linecolor\":\"white\",\"ticks\":\"\"}},\"coloraxis\":{\"colorbar\":{\"outlinewidth\":0,\"ticks\":\"\"}},\"colorscale\":{\"sequential\":[[0.0,\"#0d0887\"],[0.1111111111111111,\"#46039f\"],[0.2222222222222222,\"#7201a8\"],[0.3333333333333333,\"#9c179e\"],[0.4444444444444444,\"#bd3786\"],[0.5555555555555556,\"#d8576b\"],[0.6666666666666666,\"#ed7953\"],[0.7777777777777778,\"#fb9f3a\"],[0.8888888888888888,\"#fdca26\"],[1.0,\"#f0f921\"]],\"sequentialminus\":[[0.0,\"#0d0887\"],[0.1111111111111111,\"#46039f\"],[0.2222222222222222,\"#7201a8\"],[0.3333333333333333,\"#9c179e\"],[0.4444444444444444,\"#bd3786\"],[0.5555555555555556,\"#d8576b\"],[0.6666666666666666,\"#ed7953\"],[0.7777777777777778,\"#fb9f3a\"],[0.8888888888888888,\"#fdca26\"],[1.0,\"#f0f921\"]],\"diverging\":[[0,\"#8e0152\"],[0.1,\"#c51b7d\"],[0.2,\"#de77ae\"],[0.3,\"#f1b6da\"],[0.4,\"#fde0ef\"],[0.5,\"#f7f7f7\"],[0.6,\"#e6f5d0\"],[0.7,\"#b8e186\"],[0.8,\"#7fbc41\"],[0.9,\"#4d9221\"],[1,\"#276419\"]]},\"xaxis\":{\"gridcolor\":\"white\",\"linecolor\":\"white\",\"ticks\":\"\",\"title\":{\"standoff\":15},\"zerolinecolor\":\"white\",\"automargin\":true,\"zerolinewidth\":2},\"yaxis\":{\"gridcolor\":\"white\",\"linecolor\":\"white\",\"ticks\":\"\",\"title\":{\"standoff\":15},\"zerolinecolor\":\"white\",\"automargin\":true,\"zerolinewidth\":2},\"scene\":{\"xaxis\":{\"backgroundcolor\":\"#E5ECF6\",\"gridcolor\":\"white\",\"linecolor\":\"white\",\"showbackground\":true,\"ticks\":\"\",\"zerolinecolor\":\"white\",\"gridwidth\":2},\"yaxis\":{\"backgroundcolor\":\"#E5ECF6\",\"gridcolor\":\"white\",\"linecolor\":\"white\",\"showbackground\":true,\"ticks\":\"\",\"zerolinecolor\":\"white\",\"gridwidth\":2},\"zaxis\":{\"backgroundcolor\":\"#E5ECF6\",\"gridcolor\":\"white\",\"linecolor\":\"white\",\"showbackground\":true,\"ticks\":\"\",\"zerolinecolor\":\"white\",\"gridwidth\":2}},\"shapedefaults\":{\"line\":{\"color\":\"#2a3f5f\"}},\"annotationdefaults\":{\"arrowcolor\":\"#2a3f5f\",\"arrowhead\":0,\"arrowwidth\":1},\"geo\":{\"bgcolor\":\"white\",\"landcolor\":\"#E5ECF6\",\"subunitcolor\":\"white\",\"showland\":true,\"showlakes\":true,\"lakecolor\":\"white\"},\"title\":{\"x\":0.05},\"mapbox\":{\"style\":\"light\"}}},\"xaxis\":{\"anchor\":\"y\",\"domain\":[0.0,1.0],\"title\":{\"text\":\"index\"}},\"yaxis\":{\"anchor\":\"x\",\"domain\":[0.0,1.0],\"title\":{\"text\":\"value\"}},\"legend\":{\"title\":{\"text\":\"variable\"},\"tracegroupgap\":0},\"margin\":{\"t\":60}},                        {\"responsive\": true}                    ).then(function(){\n",
              "                            \n",
              "var gd = document.getElementById('9fe091fa-3061-4c4a-a6ee-a75d300d465f');\n",
              "var x = new MutationObserver(function (mutations, observer) {{\n",
              "        var display = window.getComputedStyle(gd).display;\n",
              "        if (!display || display === 'none') {{\n",
              "            console.log([gd, 'removed!']);\n",
              "            Plotly.purge(gd);\n",
              "            observer.disconnect();\n",
              "        }}\n",
              "}});\n",
              "\n",
              "// Listen for the removal of the full notebook cells\n",
              "var notebookContainer = gd.closest('#notebook-container');\n",
              "if (notebookContainer) {{\n",
              "    x.observe(notebookContainer, {childList: true});\n",
              "}}\n",
              "\n",
              "// Listen for the clearing of the current output cell\n",
              "var outputEl = gd.closest('.output');\n",
              "if (outputEl) {{\n",
              "    x.observe(outputEl, {childList: true});\n",
              "}}\n",
              "\n",
              "                        })                };                            </script>        </div>\n",
              "</body>\n",
              "</html>"
            ]
          },
          "metadata": {}
        }
      ]
    },
    {
      "cell_type": "code",
      "source": [
        "pdf = pd.DataFrame(np.random.randn(1000, 4), index=pser.index,\n",
        " columns=['A', 'B', 'C', 'D'])\n",
        "psdf = ps.from_pandas(pdf)\n",
        "psdf = psdf.cummax()\n",
        "psdf.plot()"
      ],
      "metadata": {
        "colab": {
          "base_uri": "https://localhost:8080/",
          "height": 636
        },
        "id": "MA05Z5MC2CTy",
        "outputId": "6979d7a3-6853-429c-b11f-1ac5b9809b37"
      },
      "execution_count": null,
      "outputs": [
        {
          "output_type": "stream",
          "name": "stderr",
          "text": [
            "/content/spark-3.4.0-bin-hadoop3/python/pyspark/sql/pandas/conversion.py:251: FutureWarning:\n",
            "\n",
            "Passing unit-less datetime64 dtype to .astype is deprecated and will raise in a future version. Pass 'datetime64[ns]' instead\n",
            "\n"
          ]
        },
        {
          "output_type": "display_data",
          "data": {
            "text/html": [
              "<html>\n",
              "<head><meta charset=\"utf-8\" /></head>\n",
              "<body>\n",
              "    <div>            <script src=\"https://cdnjs.cloudflare.com/ajax/libs/mathjax/2.7.5/MathJax.js?config=TeX-AMS-MML_SVG\"></script><script type=\"text/javascript\">if (window.MathJax && window.MathJax.Hub && window.MathJax.Hub.Config) {window.MathJax.Hub.Config({SVG: {font: \"STIX-Web\"}});}</script>                <script type=\"text/javascript\">window.PlotlyConfig = {MathJaxConfig: 'local'};</script>\n",
              "        <script src=\"https://cdn.plot.ly/plotly-2.18.2.min.js\"></script>                <div id=\"9816cb5b-de9a-48c4-9aca-99200643ffd5\" class=\"plotly-graph-div\" style=\"height:525px; width:100%;\"></div>            <script type=\"text/javascript\">                                    window.PLOTLYENV=window.PLOTLYENV || {};                                    if (document.getElementById(\"9816cb5b-de9a-48c4-9aca-99200643ffd5\")) {                    Plotly.newPlot(                        \"9816cb5b-de9a-48c4-9aca-99200643ffd5\",                        [{\"hovertemplate\":\"variable=A<br>index=%{x}<br>value=%{y}<extra></extra>\",\"legendgroup\":\"A\",\"line\":{\"color\":\"#636efa\",\"dash\":\"solid\"},\"marker\":{\"symbol\":\"circle\"},\"mode\":\"lines\",\"name\":\"A\",\"showlegend\":true,\"x\":[\"2000-01-01T00:00:00\",\"2000-01-02T00:00:00\",\"2000-01-03T00:00:00\",\"2000-01-04T00:00:00\",\"2000-01-05T00:00:00\",\"2000-01-06T00:00:00\",\"2000-01-07T00:00:00\",\"2000-01-08T00:00:00\",\"2000-01-09T00:00:00\",\"2000-01-10T00:00:00\",\"2000-01-11T00:00:00\",\"2000-01-12T00:00:00\",\"2000-01-13T00:00:00\",\"2000-01-14T00:00:00\",\"2000-01-15T00:00:00\",\"2000-01-16T00:00:00\",\"2000-01-17T00:00:00\",\"2000-01-18T00:00:00\",\"2000-01-19T00:00:00\",\"2000-01-20T00:00:00\",\"2000-01-21T00:00:00\",\"2000-01-22T00:00:00\",\"2000-01-23T00:00:00\",\"2000-01-24T00:00:00\",\"2000-01-25T00:00:00\",\"2000-01-26T00:00:00\",\"2000-01-27T00:00:00\",\"2000-01-28T00:00:00\",\"2000-01-29T00:00:00\",\"2000-01-30T00:00:00\",\"2000-01-31T00:00:00\",\"2000-02-01T00:00:00\",\"2000-02-02T00:00:00\",\"2000-02-03T00:00:00\",\"2000-02-04T00:00:00\",\"2000-02-05T00:00:00\",\"2000-02-06T00:00:00\",\"2000-02-07T00:00:00\",\"2000-02-08T00:00:00\",\"2000-02-09T00:00:00\",\"2000-02-10T00:00:00\",\"2000-02-11T00:00:00\",\"2000-02-12T00:00:00\",\"2000-02-13T00:00:00\",\"2000-02-14T00:00:00\",\"2000-02-15T00:00:00\",\"2000-02-16T00:00:00\",\"2000-02-17T00:00:00\",\"2000-02-18T00:00:00\",\"2000-02-19T00:00:00\",\"2000-02-20T00:00:00\",\"2000-02-21T00:00:00\",\"2000-02-22T00:00:00\",\"2000-02-23T00:00:00\",\"2000-02-24T00:00:00\",\"2000-02-25T00:00:00\",\"2000-02-26T00:00:00\",\"2000-02-27T00:00:00\",\"2000-02-28T00:00:00\",\"2000-02-29T00:00:00\",\"2000-03-01T00:00:00\",\"2000-03-02T00:00:00\",\"2000-03-03T00:00:00\",\"2000-03-04T00:00:00\",\"2000-03-05T00:00:00\",\"2000-03-06T00:00:00\",\"2000-03-07T00:00:00\",\"2000-03-08T00:00:00\",\"2000-03-09T00:00:00\",\"2000-03-10T00:00:00\",\"2000-03-11T00:00:00\",\"2000-03-12T00:00:00\",\"2000-03-13T00:00:00\",\"2000-03-14T00:00:00\",\"2000-03-15T00:00:00\",\"2000-03-16T00:00:00\",\"2000-03-17T00:00:00\",\"2000-03-18T00:00:00\",\"2000-03-19T00:00:00\",\"2000-03-20T00:00:00\",\"2000-03-21T00:00:00\",\"2000-03-22T00:00:00\",\"2000-03-23T00:00:00\",\"2000-03-24T00:00:00\",\"2000-03-25T00:00:00\",\"2000-03-26T00:00:00\",\"2000-03-27T00:00:00\",\"2000-03-28T00:00:00\",\"2000-03-29T00:00:00\",\"2000-03-30T00:00:00\",\"2000-03-31T00:00:00\",\"2000-04-01T00:00:00\",\"2000-04-02T00:00:00\",\"2000-04-03T00:00:00\",\"2000-04-04T00:00:00\",\"2000-04-05T00:00:00\",\"2000-04-06T00:00:00\",\"2000-04-07T00:00:00\",\"2000-04-08T00:00:00\",\"2000-04-09T00:00:00\",\"2000-04-10T00:00:00\",\"2000-04-11T00:00:00\",\"2000-04-12T00:00:00\",\"2000-04-13T00:00:00\",\"2000-04-14T00:00:00\",\"2000-04-15T00:00:00\",\"2000-04-16T00:00:00\",\"2000-04-17T00:00:00\",\"2000-04-18T00:00:00\",\"2000-04-19T00:00:00\",\"2000-04-20T00:00:00\",\"2000-04-21T00:00:00\",\"2000-04-22T00:00:00\",\"2000-04-23T00:00:00\",\"2000-04-24T00:00:00\",\"2000-04-25T00:00:00\",\"2000-04-26T00:00:00\",\"2000-04-27T00:00:00\",\"2000-04-28T00:00:00\",\"2000-04-29T00:00:00\",\"2000-04-30T00:00:00\",\"2000-05-01T00:00:00\",\"2000-05-02T00:00:00\",\"2000-05-03T00:00:00\",\"2000-05-04T00:00:00\",\"2000-05-05T00:00:00\",\"2000-05-06T00:00:00\",\"2000-05-07T00:00:00\",\"2000-05-08T00:00:00\",\"2000-05-09T00:00:00\",\"2000-05-10T00:00:00\",\"2000-05-11T00:00:00\",\"2000-05-12T00:00:00\",\"2000-05-13T00:00:00\",\"2000-05-14T00:00:00\",\"2000-05-15T00:00:00\",\"2000-05-16T00:00:00\",\"2000-05-17T00:00:00\",\"2000-05-18T00:00:00\",\"2000-05-19T00:00:00\",\"2000-05-20T00:00:00\",\"2000-05-21T00:00:00\",\"2000-05-22T00:00:00\",\"2000-05-23T00:00:00\",\"2000-05-24T00:00:00\",\"2000-05-25T00:00:00\",\"2000-05-26T00:00:00\",\"2000-05-27T00:00:00\",\"2000-05-28T00:00:00\",\"2000-05-29T00:00:00\",\"2000-05-30T00:00:00\",\"2000-05-31T00:00:00\",\"2000-06-01T00:00:00\",\"2000-06-02T00:00:00\",\"2000-06-03T00:00:00\",\"2000-06-04T00:00:00\",\"2000-06-05T00:00:00\",\"2000-06-06T00:00:00\",\"2000-06-07T00:00:00\",\"2000-06-08T00:00:00\",\"2000-06-09T00:00:00\",\"2000-06-10T00:00:00\",\"2000-06-11T00:00:00\",\"2000-06-12T00:00:00\",\"2000-06-13T00:00:00\",\"2000-06-14T00:00:00\",\"2000-06-15T00:00:00\",\"2000-06-16T00:00:00\",\"2000-06-17T00:00:00\",\"2000-06-18T00:00:00\",\"2000-06-19T00:00:00\",\"2000-06-20T00:00:00\",\"2000-06-21T00:00:00\",\"2000-06-22T00:00:00\",\"2000-06-23T00:00:00\",\"2000-06-24T00:00:00\",\"2000-06-25T00:00:00\",\"2000-06-26T00:00:00\",\"2000-06-27T00:00:00\",\"2000-06-28T00:00:00\",\"2000-06-29T00:00:00\",\"2000-06-30T00:00:00\",\"2000-07-01T00:00:00\",\"2000-07-02T00:00:00\",\"2000-07-03T00:00:00\",\"2000-07-04T00:00:00\",\"2000-07-05T00:00:00\",\"2000-07-06T00:00:00\",\"2000-07-07T00:00:00\",\"2000-07-08T00:00:00\",\"2000-07-09T00:00:00\",\"2000-07-10T00:00:00\",\"2000-07-11T00:00:00\",\"2000-07-12T00:00:00\",\"2000-07-13T00:00:00\",\"2000-07-14T00:00:00\",\"2000-07-15T00:00:00\",\"2000-07-16T00:00:00\",\"2000-07-17T00:00:00\",\"2000-07-18T00:00:00\",\"2000-07-19T00:00:00\",\"2000-07-20T00:00:00\",\"2000-07-21T00:00:00\",\"2000-07-22T00:00:00\",\"2000-07-23T00:00:00\",\"2000-07-24T00:00:00\",\"2000-07-25T00:00:00\",\"2000-07-26T00:00:00\",\"2000-07-27T00:00:00\",\"2000-07-28T00:00:00\",\"2000-07-29T00:00:00\",\"2000-07-30T00:00:00\",\"2000-07-31T00:00:00\",\"2000-08-01T00:00:00\",\"2000-08-02T00:00:00\",\"2000-08-03T00:00:00\",\"2000-08-04T00:00:00\",\"2000-08-05T00:00:00\",\"2000-08-06T00:00:00\",\"2000-08-07T00:00:00\",\"2000-08-08T00:00:00\",\"2000-08-09T00:00:00\",\"2000-08-10T00:00:00\",\"2000-08-11T00:00:00\",\"2000-08-12T00:00:00\",\"2000-08-13T00:00:00\",\"2000-08-14T00:00:00\",\"2000-08-15T00:00:00\",\"2000-08-16T00:00:00\",\"2000-08-17T00:00:00\",\"2000-08-18T00:00:00\",\"2000-08-19T00:00:00\",\"2000-08-20T00:00:00\",\"2000-08-21T00:00:00\",\"2000-08-22T00:00:00\",\"2000-08-23T00:00:00\",\"2000-08-24T00:00:00\",\"2000-08-25T00:00:00\",\"2000-08-26T00:00:00\",\"2000-08-27T00:00:00\",\"2000-08-28T00:00:00\",\"2000-08-29T00:00:00\",\"2000-08-30T00:00:00\",\"2000-08-31T00:00:00\",\"2000-09-01T00:00:00\",\"2000-09-02T00:00:00\",\"2000-09-03T00:00:00\",\"2000-09-04T00:00:00\",\"2000-09-05T00:00:00\",\"2000-09-06T00:00:00\",\"2000-09-07T00:00:00\",\"2000-09-08T00:00:00\",\"2000-09-09T00:00:00\",\"2000-09-10T00:00:00\",\"2000-09-11T00:00:00\",\"2000-09-12T00:00:00\",\"2000-09-13T00:00:00\",\"2000-09-14T00:00:00\",\"2000-09-15T00:00:00\",\"2000-09-16T00:00:00\",\"2000-09-17T00:00:00\",\"2000-09-18T00:00:00\",\"2000-09-19T00:00:00\",\"2000-09-20T00:00:00\",\"2000-09-21T00:00:00\",\"2000-09-22T00:00:00\",\"2000-09-23T00:00:00\",\"2000-09-24T00:00:00\",\"2000-09-25T00:00:00\",\"2000-09-26T00:00:00\",\"2000-09-27T00:00:00\",\"2000-09-28T00:00:00\",\"2000-09-29T00:00:00\",\"2000-09-30T00:00:00\",\"2000-10-01T00:00:00\",\"2000-10-02T00:00:00\",\"2000-10-03T00:00:00\",\"2000-10-04T00:00:00\",\"2000-10-05T00:00:00\",\"2000-10-06T00:00:00\",\"2000-10-07T00:00:00\",\"2000-10-08T00:00:00\",\"2000-10-09T00:00:00\",\"2000-10-10T00:00:00\",\"2000-10-11T00:00:00\",\"2000-10-12T00:00:00\",\"2000-10-13T00:00:00\",\"2000-10-14T00:00:00\",\"2000-10-15T00:00:00\",\"2000-10-16T00:00:00\",\"2000-10-17T00:00:00\",\"2000-10-18T00:00:00\",\"2000-10-19T00:00:00\",\"2000-10-20T00:00:00\",\"2000-10-21T00:00:00\",\"2000-10-22T00:00:00\",\"2000-10-23T00:00:00\",\"2000-10-24T00:00:00\",\"2000-10-25T00:00:00\",\"2000-10-26T00:00:00\",\"2000-10-27T00:00:00\",\"2000-10-28T00:00:00\",\"2000-10-29T00:00:00\",\"2000-10-30T00:00:00\",\"2000-10-31T00:00:00\",\"2000-11-01T00:00:00\",\"2000-11-02T00:00:00\",\"2000-11-03T00:00:00\",\"2000-11-04T00:00:00\",\"2000-11-05T00:00:00\",\"2000-11-06T00:00:00\",\"2000-11-07T00:00:00\",\"2000-11-08T00:00:00\",\"2000-11-09T00:00:00\",\"2000-11-10T00:00:00\",\"2000-11-11T00:00:00\",\"2000-11-12T00:00:00\",\"2000-11-13T00:00:00\",\"2000-11-14T00:00:00\",\"2000-11-15T00:00:00\",\"2000-11-16T00:00:00\",\"2000-11-17T00:00:00\",\"2000-11-18T00:00:00\",\"2000-11-19T00:00:00\",\"2000-11-20T00:00:00\",\"2000-11-21T00:00:00\",\"2000-11-22T00:00:00\",\"2000-11-23T00:00:00\",\"2000-11-24T00:00:00\",\"2000-11-25T00:00:00\",\"2000-11-26T00:00:00\",\"2000-11-27T00:00:00\",\"2000-11-28T00:00:00\",\"2000-11-29T00:00:00\",\"2000-11-30T00:00:00\",\"2000-12-01T00:00:00\",\"2000-12-02T00:00:00\",\"2000-12-03T00:00:00\",\"2000-12-04T00:00:00\",\"2000-12-05T00:00:00\",\"2000-12-06T00:00:00\",\"2000-12-07T00:00:00\",\"2000-12-08T00:00:00\",\"2000-12-09T00:00:00\",\"2000-12-10T00:00:00\",\"2000-12-11T00:00:00\",\"2000-12-12T00:00:00\",\"2000-12-13T00:00:00\",\"2000-12-14T00:00:00\",\"2000-12-15T00:00:00\",\"2000-12-16T00:00:00\",\"2000-12-17T00:00:00\",\"2000-12-18T00:00:00\",\"2000-12-19T00:00:00\",\"2000-12-20T00:00:00\",\"2000-12-21T00:00:00\",\"2000-12-22T00:00:00\",\"2000-12-23T00:00:00\",\"2000-12-24T00:00:00\",\"2000-12-25T00:00:00\",\"2000-12-26T00:00:00\",\"2000-12-27T00:00:00\",\"2000-12-28T00:00:00\",\"2000-12-29T00:00:00\",\"2000-12-30T00:00:00\",\"2000-12-31T00:00:00\",\"2001-01-01T00:00:00\",\"2001-01-02T00:00:00\",\"2001-01-03T00:00:00\",\"2001-01-04T00:00:00\",\"2001-01-05T00:00:00\",\"2001-01-06T00:00:00\",\"2001-01-07T00:00:00\",\"2001-01-08T00:00:00\",\"2001-01-09T00:00:00\",\"2001-01-10T00:00:00\",\"2001-01-11T00:00:00\",\"2001-01-12T00:00:00\",\"2001-01-13T00:00:00\",\"2001-01-14T00:00:00\",\"2001-01-15T00:00:00\",\"2001-01-16T00:00:00\",\"2001-01-17T00:00:00\",\"2001-01-18T00:00:00\",\"2001-01-19T00:00:00\",\"2001-01-20T00:00:00\",\"2001-01-21T00:00:00\",\"2001-01-22T00:00:00\",\"2001-01-23T00:00:00\",\"2001-01-24T00:00:00\",\"2001-01-25T00:00:00\",\"2001-01-26T00:00:00\",\"2001-01-27T00:00:00\",\"2001-01-28T00:00:00\",\"2001-01-29T00:00:00\",\"2001-01-30T00:00:00\",\"2001-01-31T00:00:00\",\"2001-02-01T00:00:00\",\"2001-02-02T00:00:00\",\"2001-02-03T00:00:00\",\"2001-02-04T00:00:00\",\"2001-02-05T00:00:00\",\"2001-02-06T00:00:00\",\"2001-02-07T00:00:00\",\"2001-02-08T00:00:00\",\"2001-02-09T00:00:00\",\"2001-02-10T00:00:00\",\"2001-02-11T00:00:00\",\"2001-02-12T00:00:00\",\"2001-02-13T00:00:00\",\"2001-02-14T00:00:00\",\"2001-02-15T00:00:00\",\"2001-02-16T00:00:00\",\"2001-02-17T00:00:00\",\"2001-02-18T00:00:00\",\"2001-02-19T00:00:00\",\"2001-02-20T00:00:00\",\"2001-02-21T00:00:00\",\"2001-02-22T00:00:00\",\"2001-02-23T00:00:00\",\"2001-02-24T00:00:00\",\"2001-02-25T00:00:00\",\"2001-02-26T00:00:00\",\"2001-02-27T00:00:00\",\"2001-02-28T00:00:00\",\"2001-03-01T00:00:00\",\"2001-03-02T00:00:00\",\"2001-03-03T00:00:00\",\"2001-03-04T00:00:00\",\"2001-03-05T00:00:00\",\"2001-03-06T00:00:00\",\"2001-03-07T00:00:00\",\"2001-03-08T00:00:00\",\"2001-03-09T00:00:00\",\"2001-03-10T00:00:00\",\"2001-03-11T00:00:00\",\"2001-03-12T00:00:00\",\"2001-03-13T00:00:00\",\"2001-03-14T00:00:00\",\"2001-03-15T00:00:00\",\"2001-03-16T00:00:00\",\"2001-03-17T00:00:00\",\"2001-03-18T00:00:00\",\"2001-03-19T00:00:00\",\"2001-03-20T00:00:00\",\"2001-03-21T00:00:00\",\"2001-03-22T00:00:00\",\"2001-03-23T00:00:00\",\"2001-03-24T00:00:00\",\"2001-03-25T00:00:00\",\"2001-03-26T00:00:00\",\"2001-03-27T00:00:00\",\"2001-03-28T00:00:00\",\"2001-03-29T00:00:00\",\"2001-03-30T00:00:00\",\"2001-03-31T00:00:00\",\"2001-04-01T00:00:00\",\"2001-04-02T00:00:00\",\"2001-04-03T00:00:00\",\"2001-04-04T00:00:00\",\"2001-04-05T00:00:00\",\"2001-04-06T00:00:00\",\"2001-04-07T00:00:00\",\"2001-04-08T00:00:00\",\"2001-04-09T00:00:00\",\"2001-04-10T00:00:00\",\"2001-04-11T00:00:00\",\"2001-04-12T00:00:00\",\"2001-04-13T00:00:00\",\"2001-04-14T00:00:00\",\"2001-04-15T00:00:00\",\"2001-04-16T00:00:00\",\"2001-04-17T00:00:00\",\"2001-04-18T00:00:00\",\"2001-04-19T00:00:00\",\"2001-04-20T00:00:00\",\"2001-04-21T00:00:00\",\"2001-04-22T00:00:00\",\"2001-04-23T00:00:00\",\"2001-04-24T00:00:00\",\"2001-04-25T00:00:00\",\"2001-04-26T00:00:00\",\"2001-04-27T00:00:00\",\"2001-04-28T00:00:00\",\"2001-04-29T00:00:00\",\"2001-04-30T00:00:00\",\"2001-05-01T00:00:00\",\"2001-05-02T00:00:00\",\"2001-05-03T00:00:00\",\"2001-05-04T00:00:00\",\"2001-05-05T00:00:00\",\"2001-05-06T00:00:00\",\"2001-05-07T00:00:00\",\"2001-05-08T00:00:00\",\"2001-05-09T00:00:00\",\"2001-05-10T00:00:00\",\"2001-05-11T00:00:00\",\"2001-05-12T00:00:00\",\"2001-05-13T00:00:00\",\"2001-05-14T00:00:00\",\"2001-05-15T00:00:00\",\"2001-05-16T00:00:00\",\"2001-05-17T00:00:00\",\"2001-05-18T00:00:00\",\"2001-05-19T00:00:00\",\"2001-05-20T00:00:00\",\"2001-05-21T00:00:00\",\"2001-05-22T00:00:00\",\"2001-05-23T00:00:00\",\"2001-05-24T00:00:00\",\"2001-05-25T00:00:00\",\"2001-05-26T00:00:00\",\"2001-05-27T00:00:00\",\"2001-05-28T00:00:00\",\"2001-05-29T00:00:00\",\"2001-05-30T00:00:00\",\"2001-05-31T00:00:00\",\"2001-06-01T00:00:00\",\"2001-06-02T00:00:00\",\"2001-06-03T00:00:00\",\"2001-06-04T00:00:00\",\"2001-06-05T00:00:00\",\"2001-06-06T00:00:00\",\"2001-06-07T00:00:00\",\"2001-06-08T00:00:00\",\"2001-06-09T00:00:00\",\"2001-06-10T00:00:00\",\"2001-06-11T00:00:00\",\"2001-06-12T00:00:00\",\"2001-06-13T00:00:00\",\"2001-06-14T00:00:00\",\"2001-06-15T00:00:00\",\"2001-06-16T00:00:00\",\"2001-06-17T00:00:00\",\"2001-06-18T00:00:00\",\"2001-06-19T00:00:00\",\"2001-06-20T00:00:00\",\"2001-06-21T00:00:00\",\"2001-06-22T00:00:00\",\"2001-06-23T00:00:00\",\"2001-06-24T00:00:00\",\"2001-06-25T00:00:00\",\"2001-06-26T00:00:00\",\"2001-06-27T00:00:00\",\"2001-06-28T00:00:00\",\"2001-06-29T00:00:00\",\"2001-06-30T00:00:00\",\"2001-07-01T00:00:00\",\"2001-07-02T00:00:00\",\"2001-07-03T00:00:00\",\"2001-07-04T00:00:00\",\"2001-07-05T00:00:00\",\"2001-07-06T00:00:00\",\"2001-07-07T00:00:00\",\"2001-07-08T00:00:00\",\"2001-07-09T00:00:00\",\"2001-07-10T00:00:00\",\"2001-07-11T00:00:00\",\"2001-07-12T00:00:00\",\"2001-07-13T00:00:00\",\"2001-07-14T00:00:00\",\"2001-07-15T00:00:00\",\"2001-07-16T00:00:00\",\"2001-07-17T00:00:00\",\"2001-07-18T00:00:00\",\"2001-07-19T00:00:00\",\"2001-07-20T00:00:00\",\"2001-07-21T00:00:00\",\"2001-07-22T00:00:00\",\"2001-07-23T00:00:00\",\"2001-07-24T00:00:00\",\"2001-07-25T00:00:00\",\"2001-07-26T00:00:00\",\"2001-07-27T00:00:00\",\"2001-07-28T00:00:00\",\"2001-07-29T00:00:00\",\"2001-07-30T00:00:00\",\"2001-07-31T00:00:00\",\"2001-08-01T00:00:00\",\"2001-08-02T00:00:00\",\"2001-08-03T00:00:00\",\"2001-08-04T00:00:00\",\"2001-08-05T00:00:00\",\"2001-08-06T00:00:00\",\"2001-08-07T00:00:00\",\"2001-08-08T00:00:00\",\"2001-08-09T00:00:00\",\"2001-08-10T00:00:00\",\"2001-08-11T00:00:00\",\"2001-08-12T00:00:00\",\"2001-08-13T00:00:00\",\"2001-08-14T00:00:00\",\"2001-08-15T00:00:00\",\"2001-08-16T00:00:00\",\"2001-08-17T00:00:00\",\"2001-08-18T00:00:00\",\"2001-08-19T00:00:00\",\"2001-08-20T00:00:00\",\"2001-08-21T00:00:00\",\"2001-08-22T00:00:00\",\"2001-08-23T00:00:00\",\"2001-08-24T00:00:00\",\"2001-08-25T00:00:00\",\"2001-08-26T00:00:00\",\"2001-08-27T00:00:00\",\"2001-08-28T00:00:00\",\"2001-08-29T00:00:00\",\"2001-08-30T00:00:00\",\"2001-08-31T00:00:00\",\"2001-09-01T00:00:00\",\"2001-09-02T00:00:00\",\"2001-09-03T00:00:00\",\"2001-09-04T00:00:00\",\"2001-09-05T00:00:00\",\"2001-09-06T00:00:00\",\"2001-09-07T00:00:00\",\"2001-09-08T00:00:00\",\"2001-09-09T00:00:00\",\"2001-09-10T00:00:00\",\"2001-09-11T00:00:00\",\"2001-09-12T00:00:00\",\"2001-09-13T00:00:00\",\"2001-09-14T00:00:00\",\"2001-09-15T00:00:00\",\"2001-09-16T00:00:00\",\"2001-09-17T00:00:00\",\"2001-09-18T00:00:00\",\"2001-09-19T00:00:00\",\"2001-09-20T00:00:00\",\"2001-09-21T00:00:00\",\"2001-09-22T00:00:00\",\"2001-09-23T00:00:00\",\"2001-09-24T00:00:00\",\"2001-09-25T00:00:00\",\"2001-09-26T00:00:00\",\"2001-09-27T00:00:00\",\"2001-09-28T00:00:00\",\"2001-09-29T00:00:00\",\"2001-09-30T00:00:00\",\"2001-10-01T00:00:00\",\"2001-10-02T00:00:00\",\"2001-10-03T00:00:00\",\"2001-10-04T00:00:00\",\"2001-10-05T00:00:00\",\"2001-10-06T00:00:00\",\"2001-10-07T00:00:00\",\"2001-10-08T00:00:00\",\"2001-10-09T00:00:00\",\"2001-10-10T00:00:00\",\"2001-10-11T00:00:00\",\"2001-10-12T00:00:00\",\"2001-10-13T00:00:00\",\"2001-10-14T00:00:00\",\"2001-10-15T00:00:00\",\"2001-10-16T00:00:00\",\"2001-10-17T00:00:00\",\"2001-10-18T00:00:00\",\"2001-10-19T00:00:00\",\"2001-10-20T00:00:00\",\"2001-10-21T00:00:00\",\"2001-10-22T00:00:00\",\"2001-10-23T00:00:00\",\"2001-10-24T00:00:00\",\"2001-10-25T00:00:00\",\"2001-10-26T00:00:00\",\"2001-10-27T00:00:00\",\"2001-10-28T00:00:00\",\"2001-10-29T00:00:00\",\"2001-10-30T00:00:00\",\"2001-10-31T00:00:00\",\"2001-11-01T00:00:00\",\"2001-11-02T00:00:00\",\"2001-11-03T00:00:00\",\"2001-11-04T00:00:00\",\"2001-11-05T00:00:00\",\"2001-11-06T00:00:00\",\"2001-11-07T00:00:00\",\"2001-11-08T00:00:00\",\"2001-11-09T00:00:00\",\"2001-11-10T00:00:00\",\"2001-11-11T00:00:00\",\"2001-11-12T00:00:00\",\"2001-11-13T00:00:00\",\"2001-11-14T00:00:00\",\"2001-11-15T00:00:00\",\"2001-11-16T00:00:00\",\"2001-11-17T00:00:00\",\"2001-11-18T00:00:00\",\"2001-11-19T00:00:00\",\"2001-11-20T00:00:00\",\"2001-11-21T00:00:00\",\"2001-11-22T00:00:00\",\"2001-11-23T00:00:00\",\"2001-11-24T00:00:00\",\"2001-11-25T00:00:00\",\"2001-11-26T00:00:00\",\"2001-11-27T00:00:00\",\"2001-11-28T00:00:00\",\"2001-11-29T00:00:00\",\"2001-11-30T00:00:00\",\"2001-12-01T00:00:00\",\"2001-12-02T00:00:00\",\"2001-12-03T00:00:00\",\"2001-12-04T00:00:00\",\"2001-12-05T00:00:00\",\"2001-12-06T00:00:00\",\"2001-12-07T00:00:00\",\"2001-12-08T00:00:00\",\"2001-12-09T00:00:00\",\"2001-12-10T00:00:00\",\"2001-12-11T00:00:00\",\"2001-12-12T00:00:00\",\"2001-12-13T00:00:00\",\"2001-12-14T00:00:00\",\"2001-12-15T00:00:00\",\"2001-12-16T00:00:00\",\"2001-12-17T00:00:00\",\"2001-12-18T00:00:00\",\"2001-12-19T00:00:00\",\"2001-12-20T00:00:00\",\"2001-12-21T00:00:00\",\"2001-12-22T00:00:00\",\"2001-12-23T00:00:00\",\"2001-12-24T00:00:00\",\"2001-12-25T00:00:00\",\"2001-12-26T00:00:00\",\"2001-12-27T00:00:00\",\"2001-12-28T00:00:00\",\"2001-12-29T00:00:00\",\"2001-12-30T00:00:00\",\"2001-12-31T00:00:00\",\"2002-01-01T00:00:00\",\"2002-01-02T00:00:00\",\"2002-01-03T00:00:00\",\"2002-01-04T00:00:00\",\"2002-01-05T00:00:00\",\"2002-01-06T00:00:00\",\"2002-01-07T00:00:00\",\"2002-01-08T00:00:00\",\"2002-01-09T00:00:00\",\"2002-01-10T00:00:00\",\"2002-01-11T00:00:00\",\"2002-01-12T00:00:00\",\"2002-01-13T00:00:00\",\"2002-01-14T00:00:00\",\"2002-01-15T00:00:00\",\"2002-01-16T00:00:00\",\"2002-01-17T00:00:00\",\"2002-01-18T00:00:00\",\"2002-01-19T00:00:00\",\"2002-01-20T00:00:00\",\"2002-01-21T00:00:00\",\"2002-01-22T00:00:00\",\"2002-01-23T00:00:00\",\"2002-01-24T00:00:00\",\"2002-01-25T00:00:00\",\"2002-01-26T00:00:00\",\"2002-01-27T00:00:00\",\"2002-01-28T00:00:00\",\"2002-01-29T00:00:00\",\"2002-01-30T00:00:00\",\"2002-01-31T00:00:00\",\"2002-02-01T00:00:00\",\"2002-02-02T00:00:00\",\"2002-02-03T00:00:00\",\"2002-02-04T00:00:00\",\"2002-02-05T00:00:00\",\"2002-02-06T00:00:00\",\"2002-02-07T00:00:00\",\"2002-02-08T00:00:00\",\"2002-02-09T00:00:00\",\"2002-02-10T00:00:00\",\"2002-02-11T00:00:00\",\"2002-02-12T00:00:00\",\"2002-02-13T00:00:00\",\"2002-02-14T00:00:00\",\"2002-02-15T00:00:00\",\"2002-02-16T00:00:00\",\"2002-02-17T00:00:00\",\"2002-02-18T00:00:00\",\"2002-02-19T00:00:00\",\"2002-02-20T00:00:00\",\"2002-02-21T00:00:00\",\"2002-02-22T00:00:00\",\"2002-02-23T00:00:00\",\"2002-02-24T00:00:00\",\"2002-02-25T00:00:00\",\"2002-02-26T00:00:00\",\"2002-02-27T00:00:00\",\"2002-02-28T00:00:00\",\"2002-03-01T00:00:00\",\"2002-03-02T00:00:00\",\"2002-03-03T00:00:00\",\"2002-03-04T00:00:00\",\"2002-03-05T00:00:00\",\"2002-03-06T00:00:00\",\"2002-03-07T00:00:00\",\"2002-03-08T00:00:00\",\"2002-03-09T00:00:00\",\"2002-03-10T00:00:00\",\"2002-03-11T00:00:00\",\"2002-03-12T00:00:00\",\"2002-03-13T00:00:00\",\"2002-03-14T00:00:00\",\"2002-03-15T00:00:00\",\"2002-03-16T00:00:00\",\"2002-03-17T00:00:00\",\"2002-03-18T00:00:00\",\"2002-03-19T00:00:00\",\"2002-03-20T00:00:00\",\"2002-03-21T00:00:00\",\"2002-03-22T00:00:00\",\"2002-03-23T00:00:00\",\"2002-03-24T00:00:00\",\"2002-03-25T00:00:00\",\"2002-03-26T00:00:00\",\"2002-03-27T00:00:00\",\"2002-03-28T00:00:00\",\"2002-03-29T00:00:00\",\"2002-03-30T00:00:00\",\"2002-03-31T00:00:00\",\"2002-04-01T00:00:00\",\"2002-04-02T00:00:00\",\"2002-04-03T00:00:00\",\"2002-04-04T00:00:00\",\"2002-04-05T00:00:00\",\"2002-04-06T00:00:00\",\"2002-04-07T00:00:00\",\"2002-04-08T00:00:00\",\"2002-04-09T00:00:00\",\"2002-04-10T00:00:00\",\"2002-04-11T00:00:00\",\"2002-04-12T00:00:00\",\"2002-04-13T00:00:00\",\"2002-04-14T00:00:00\",\"2002-04-15T00:00:00\",\"2002-04-16T00:00:00\",\"2002-04-17T00:00:00\",\"2002-04-18T00:00:00\",\"2002-04-19T00:00:00\",\"2002-04-20T00:00:00\",\"2002-04-21T00:00:00\",\"2002-04-22T00:00:00\",\"2002-04-23T00:00:00\",\"2002-04-24T00:00:00\",\"2002-04-25T00:00:00\",\"2002-04-26T00:00:00\",\"2002-04-27T00:00:00\",\"2002-04-28T00:00:00\",\"2002-04-29T00:00:00\",\"2002-04-30T00:00:00\",\"2002-05-01T00:00:00\",\"2002-05-02T00:00:00\",\"2002-05-03T00:00:00\",\"2002-05-04T00:00:00\",\"2002-05-05T00:00:00\",\"2002-05-06T00:00:00\",\"2002-05-07T00:00:00\",\"2002-05-08T00:00:00\",\"2002-05-09T00:00:00\",\"2002-05-10T00:00:00\",\"2002-05-11T00:00:00\",\"2002-05-12T00:00:00\",\"2002-05-13T00:00:00\",\"2002-05-14T00:00:00\",\"2002-05-15T00:00:00\",\"2002-05-16T00:00:00\",\"2002-05-17T00:00:00\",\"2002-05-18T00:00:00\",\"2002-05-19T00:00:00\",\"2002-05-20T00:00:00\",\"2002-05-21T00:00:00\",\"2002-05-22T00:00:00\",\"2002-05-23T00:00:00\",\"2002-05-24T00:00:00\",\"2002-05-25T00:00:00\",\"2002-05-26T00:00:00\",\"2002-05-27T00:00:00\",\"2002-05-28T00:00:00\",\"2002-05-29T00:00:00\",\"2002-05-30T00:00:00\",\"2002-05-31T00:00:00\",\"2002-06-01T00:00:00\",\"2002-06-02T00:00:00\",\"2002-06-03T00:00:00\",\"2002-06-04T00:00:00\",\"2002-06-05T00:00:00\",\"2002-06-06T00:00:00\",\"2002-06-07T00:00:00\",\"2002-06-08T00:00:00\",\"2002-06-09T00:00:00\",\"2002-06-10T00:00:00\",\"2002-06-11T00:00:00\",\"2002-06-12T00:00:00\",\"2002-06-13T00:00:00\",\"2002-06-14T00:00:00\",\"2002-06-15T00:00:00\",\"2002-06-16T00:00:00\",\"2002-06-17T00:00:00\",\"2002-06-18T00:00:00\",\"2002-06-19T00:00:00\",\"2002-06-20T00:00:00\",\"2002-06-21T00:00:00\",\"2002-06-22T00:00:00\",\"2002-06-23T00:00:00\",\"2002-06-24T00:00:00\",\"2002-06-25T00:00:00\",\"2002-06-26T00:00:00\",\"2002-06-27T00:00:00\",\"2002-06-28T00:00:00\",\"2002-06-29T00:00:00\",\"2002-06-30T00:00:00\",\"2002-07-01T00:00:00\",\"2002-07-02T00:00:00\",\"2002-07-03T00:00:00\",\"2002-07-04T00:00:00\",\"2002-07-05T00:00:00\",\"2002-07-06T00:00:00\",\"2002-07-07T00:00:00\",\"2002-07-08T00:00:00\",\"2002-07-09T00:00:00\",\"2002-07-10T00:00:00\",\"2002-07-11T00:00:00\",\"2002-07-12T00:00:00\",\"2002-07-13T00:00:00\",\"2002-07-14T00:00:00\",\"2002-07-15T00:00:00\",\"2002-07-16T00:00:00\",\"2002-07-17T00:00:00\",\"2002-07-18T00:00:00\",\"2002-07-19T00:00:00\",\"2002-07-20T00:00:00\",\"2002-07-21T00:00:00\",\"2002-07-22T00:00:00\",\"2002-07-23T00:00:00\",\"2002-07-24T00:00:00\",\"2002-07-25T00:00:00\",\"2002-07-26T00:00:00\",\"2002-07-27T00:00:00\",\"2002-07-28T00:00:00\",\"2002-07-29T00:00:00\",\"2002-07-30T00:00:00\",\"2002-07-31T00:00:00\",\"2002-08-01T00:00:00\",\"2002-08-02T00:00:00\",\"2002-08-03T00:00:00\",\"2002-08-04T00:00:00\",\"2002-08-05T00:00:00\",\"2002-08-06T00:00:00\",\"2002-08-07T00:00:00\",\"2002-08-08T00:00:00\",\"2002-08-09T00:00:00\",\"2002-08-10T00:00:00\",\"2002-08-11T00:00:00\",\"2002-08-12T00:00:00\",\"2002-08-13T00:00:00\",\"2002-08-14T00:00:00\",\"2002-08-15T00:00:00\",\"2002-08-16T00:00:00\",\"2002-08-17T00:00:00\",\"2002-08-18T00:00:00\",\"2002-08-19T00:00:00\",\"2002-08-20T00:00:00\",\"2002-08-21T00:00:00\",\"2002-08-22T00:00:00\",\"2002-08-23T00:00:00\",\"2002-08-24T00:00:00\",\"2002-08-25T00:00:00\",\"2002-08-26T00:00:00\",\"2002-08-27T00:00:00\",\"2002-08-28T00:00:00\",\"2002-08-29T00:00:00\",\"2002-08-30T00:00:00\",\"2002-08-31T00:00:00\",\"2002-09-01T00:00:00\",\"2002-09-02T00:00:00\",\"2002-09-03T00:00:00\",\"2002-09-04T00:00:00\",\"2002-09-05T00:00:00\",\"2002-09-06T00:00:00\",\"2002-09-07T00:00:00\",\"2002-09-08T00:00:00\",\"2002-09-09T00:00:00\",\"2002-09-10T00:00:00\",\"2002-09-11T00:00:00\",\"2002-09-12T00:00:00\",\"2002-09-13T00:00:00\",\"2002-09-14T00:00:00\",\"2002-09-15T00:00:00\",\"2002-09-16T00:00:00\",\"2002-09-17T00:00:00\",\"2002-09-18T00:00:00\",\"2002-09-19T00:00:00\",\"2002-09-20T00:00:00\",\"2002-09-21T00:00:00\",\"2002-09-22T00:00:00\",\"2002-09-23T00:00:00\",\"2002-09-24T00:00:00\",\"2002-09-25T00:00:00\",\"2002-09-26T00:00:00\"],\"xaxis\":\"x\",\"y\":[-0.9374696250141649,0.9535741034788877,0.9535741034788877,0.9535741034788877,0.9535741034788877,0.9535741034788877,0.9535741034788877,1.5947366776734009,1.5947366776734009,1.5947366776734009,1.5947366776734009,1.5947366776734009,1.5947366776734009,1.5947366776734009,1.5947366776734009,1.5947366776734009,1.5947366776734009,1.5947366776734009,1.5947366776734009,1.5947366776734009,1.5947366776734009,1.5947366776734009,1.5947366776734009,1.5947366776734009,1.5947366776734009,1.5947366776734009,1.5947366776734009,1.5947366776734009,1.9942851914521151,1.9942851914521151,1.9942851914521151,1.9942851914521151,1.9942851914521151,1.9942851914521151,1.9942851914521151,1.9942851914521151,1.9942851914521151,1.9942851914521151,1.9942851914521151,1.9942851914521151,1.9942851914521151,1.9942851914521151,1.9942851914521151,1.9942851914521151,1.9942851914521151,1.9942851914521151,1.9942851914521151,1.9942851914521151,1.9942851914521151,1.9942851914521151,1.9942851914521151,1.9942851914521151,1.9942851914521151,1.9942851914521151,1.9942851914521151,1.9942851914521151,1.9942851914521151,1.9942851914521151,1.9942851914521151,1.9942851914521151,1.9942851914521151,1.9942851914521151,1.9942851914521151,1.9942851914521151,1.9942851914521151,1.9942851914521151,1.9942851914521151,1.9942851914521151,1.9942851914521151,1.9942851914521151,1.9942851914521151,1.9942851914521151,1.9942851914521151,1.9942851914521151,1.9942851914521151,1.9942851914521151,1.9942851914521151,1.9942851914521151,1.9942851914521151,1.9942851914521151,1.9942851914521151,1.9942851914521151,1.9942851914521151,1.9942851914521151,1.9942851914521151,1.9942851914521151,1.9942851914521151,1.9942851914521151,1.9942851914521151,1.9942851914521151,1.9942851914521151,1.9942851914521151,1.9942851914521151,1.9942851914521151,1.9942851914521151,1.9942851914521151,1.9942851914521151,1.9942851914521151,1.9942851914521151,1.9942851914521151,1.9942851914521151,1.9942851914521151,1.9942851914521151,1.9942851914521151,1.9942851914521151,1.9942851914521151,1.9942851914521151,1.9942851914521151,1.9942851914521151,1.9942851914521151,1.9942851914521151,1.9942851914521151,1.9942851914521151,1.9942851914521151,1.9942851914521151,1.9942851914521151,1.9942851914521151,1.9942851914521151,1.9942851914521151,1.9942851914521151,1.9942851914521151,1.9942851914521151,1.9942851914521151,1.9942851914521151,1.9942851914521151,1.9942851914521151,1.9942851914521151,1.9942851914521151,2.0938532741865923,2.0938532741865923,2.0938532741865923,2.0938532741865923,2.0938532741865923,2.0938532741865923,2.0938532741865923,2.0938532741865923,2.0938532741865923,2.0938532741865923,2.0938532741865923,2.0938532741865923,2.0938532741865923,2.0938532741865923,2.0938532741865923,2.0938532741865923,2.0938532741865923,2.0938532741865923,2.0938532741865923,2.0938532741865923,2.0938532741865923,2.0938532741865923,2.0938532741865923,2.0938532741865923,2.0938532741865923,2.0938532741865923,2.0938532741865923,2.0938532741865923,2.0938532741865923,2.0938532741865923,2.0938532741865923,2.0938532741865923,2.0938532741865923,2.0938532741865923,2.0938532741865923,2.0938532741865923,2.0938532741865923,2.0938532741865923,2.0938532741865923,2.0938532741865923,2.0938532741865923,2.0938532741865923,2.0938532741865923,2.0938532741865923,2.0938532741865923,2.0938532741865923,2.0938532741865923,2.0938532741865923,2.0938532741865923,2.0938532741865923,2.0938532741865923,2.0938532741865923,2.0938532741865923,2.0938532741865923,2.0938532741865923,2.0938532741865923,2.0938532741865923,2.0938532741865923,2.0938532741865923,2.0938532741865923,2.0938532741865923,2.0938532741865923,2.0938532741865923,2.0938532741865923,2.0938532741865923,2.0938532741865923,2.0938532741865923,2.0938532741865923,2.0938532741865923,2.0938532741865923,2.0938532741865923,2.0938532741865923,2.0938532741865923,2.0938532741865923,2.0938532741865923,2.0938532741865923,2.0938532741865923,2.0938532741865923,2.0938532741865923,2.0938532741865923,2.0938532741865923,2.0938532741865923,2.0938532741865923,2.0938532741865923,2.0938532741865923,2.0938532741865923,2.0938532741865923,2.132720142229323,2.132720142229323,2.132720142229323,2.132720142229323,2.132720142229323,2.132720142229323,2.132720142229323,2.132720142229323,2.132720142229323,2.132720142229323,2.132720142229323,2.132720142229323,2.132720142229323,2.132720142229323,2.132720142229323,2.132720142229323,2.132720142229323,2.132720142229323,2.132720142229323,2.132720142229323,2.132720142229323,2.132720142229323,2.132720142229323,2.132720142229323,2.132720142229323,2.132720142229323,2.132720142229323,2.132720142229323,2.132720142229323,2.132720142229323,2.132720142229323,2.132720142229323,2.132720142229323,2.132720142229323,2.132720142229323,2.132720142229323,2.132720142229323,2.132720142229323,2.132720142229323,2.132720142229323,2.132720142229323,2.132720142229323,2.132720142229323,2.132720142229323,2.132720142229323,2.132720142229323,2.132720142229323,2.132720142229323,2.132720142229323,2.132720142229323,2.132720142229323,2.132720142229323,2.132720142229323,2.132720142229323,2.132720142229323,2.132720142229323,2.132720142229323,2.132720142229323,3.3436141113650586,3.3436141113650586,3.3436141113650586,3.3436141113650586,3.3436141113650586,3.3436141113650586,3.3436141113650586,3.3436141113650586,3.3436141113650586,3.3436141113650586,3.3436141113650586,3.3436141113650586,3.3436141113650586,3.3436141113650586,3.3436141113650586,3.3436141113650586,3.3436141113650586,3.3436141113650586,3.3436141113650586,3.3436141113650586,3.3436141113650586,3.3436141113650586,3.3436141113650586,3.3436141113650586,3.3436141113650586,3.3436141113650586,3.3436141113650586,3.3436141113650586,3.3436141113650586,3.3436141113650586,3.3436141113650586,3.3436141113650586,3.3436141113650586,3.3436141113650586,3.3436141113650586,3.3436141113650586,3.3436141113650586,3.3436141113650586,3.3436141113650586,3.3436141113650586,3.3436141113650586,3.3436141113650586,3.3436141113650586,3.3436141113650586,3.3436141113650586,3.3436141113650586,3.3436141113650586,3.3436141113650586,3.3436141113650586,3.3436141113650586,3.3436141113650586,3.3436141113650586,3.3436141113650586,3.3436141113650586,3.3436141113650586,3.3436141113650586,3.3436141113650586,3.3436141113650586,3.3436141113650586,3.3436141113650586,3.3436141113650586,3.3436141113650586,3.3436141113650586,3.3436141113650586,3.3436141113650586,3.3436141113650586,3.3436141113650586,3.3436141113650586,3.3436141113650586,3.3436141113650586,3.3436141113650586,3.3436141113650586,3.3436141113650586,3.3436141113650586,3.3436141113650586,3.3436141113650586,3.3436141113650586,3.3436141113650586,3.3436141113650586,3.3436141113650586,3.3436141113650586,3.3436141113650586,3.3436141113650586,3.3436141113650586,3.3436141113650586,3.3436141113650586,3.3436141113650586,3.3436141113650586,3.3436141113650586,3.3436141113650586,3.3436141113650586,3.3436141113650586,3.3436141113650586,3.3436141113650586,3.3436141113650586,3.3436141113650586,3.3436141113650586,3.3436141113650586,3.3436141113650586,3.3436141113650586,3.3436141113650586,3.3436141113650586,3.3436141113650586,3.3436141113650586,3.3436141113650586,3.3436141113650586,3.3436141113650586,3.3436141113650586,3.3436141113650586,3.3436141113650586,3.3436141113650586,3.3436141113650586,3.3436141113650586,3.3436141113650586,3.3436141113650586,3.3436141113650586,3.3436141113650586,3.3436141113650586,3.3436141113650586,3.3436141113650586,3.3436141113650586,3.3436141113650586,3.3436141113650586,3.3436141113650586,3.3436141113650586,3.3436141113650586,3.3436141113650586,3.3436141113650586,3.3436141113650586,3.3436141113650586,3.3436141113650586,3.3436141113650586,3.3436141113650586,3.3436141113650586,3.3436141113650586,3.3436141113650586,3.3436141113650586,3.3436141113650586,3.3436141113650586,3.3436141113650586,3.3436141113650586,3.3436141113650586,3.3436141113650586,3.3436141113650586,3.3436141113650586,3.3436141113650586,3.3436141113650586,3.3436141113650586,3.3436141113650586,3.3436141113650586,3.3436141113650586,3.3436141113650586,3.3436141113650586,3.3436141113650586,3.3436141113650586,3.3436141113650586,3.3436141113650586,3.3436141113650586,3.3436141113650586,3.3436141113650586,3.3436141113650586,3.3436141113650586,3.3436141113650586,3.3436141113650586,3.3436141113650586,3.3436141113650586,3.3436141113650586,3.3436141113650586,3.3436141113650586,3.3436141113650586,3.3436141113650586,3.3436141113650586,3.3436141113650586,3.3436141113650586,3.3436141113650586,3.3436141113650586,3.3436141113650586,3.3436141113650586,3.3436141113650586,3.3436141113650586,3.3436141113650586,3.3436141113650586,3.3436141113650586,3.3436141113650586,3.3436141113650586,3.3436141113650586,3.3436141113650586,3.3436141113650586,3.3436141113650586,3.3436141113650586,3.3436141113650586,3.3436141113650586,3.3436141113650586,3.3436141113650586,3.3436141113650586,3.3436141113650586,3.3436141113650586,3.3436141113650586,3.3436141113650586,3.3436141113650586,3.3436141113650586,3.3436141113650586,3.3436141113650586,3.3436141113650586,3.3436141113650586,3.3436141113650586,3.3436141113650586,3.3436141113650586,3.3436141113650586,3.3436141113650586,3.3436141113650586,3.3436141113650586,3.3436141113650586,3.3436141113650586,3.3436141113650586,3.3436141113650586,3.3436141113650586,3.3436141113650586,3.3436141113650586,3.3436141113650586,3.3436141113650586,3.3436141113650586,3.3436141113650586,3.3436141113650586,3.3436141113650586,3.3436141113650586,3.3436141113650586,3.3436141113650586,3.3436141113650586,3.3436141113650586,3.3436141113650586,3.3436141113650586,3.3436141113650586,3.3436141113650586,3.3436141113650586,3.3436141113650586,3.3436141113650586,3.3436141113650586,3.3436141113650586,3.3436141113650586,3.3436141113650586,3.3436141113650586,3.3436141113650586,3.3436141113650586,3.3436141113650586,3.3436141113650586,3.3436141113650586,3.3436141113650586,3.3436141113650586,3.3436141113650586,3.3436141113650586,3.3436141113650586,3.3436141113650586,3.3436141113650586,3.3436141113650586,3.3436141113650586,3.3436141113650586,3.3436141113650586,3.3436141113650586,3.3436141113650586,3.3436141113650586,3.3436141113650586,3.3436141113650586,3.3436141113650586,3.3436141113650586,3.3436141113650586,3.3436141113650586,3.3436141113650586,3.3436141113650586,3.3436141113650586,3.3436141113650586,3.3436141113650586,3.3436141113650586,3.3436141113650586,3.3436141113650586,3.3436141113650586,3.3436141113650586,3.3436141113650586,3.3436141113650586,3.3436141113650586,3.3436141113650586,3.3436141113650586,3.3436141113650586,3.3436141113650586,3.3436141113650586,3.3436141113650586,3.3436141113650586,3.3436141113650586,3.3436141113650586,3.3436141113650586,3.3436141113650586,3.3436141113650586,3.3436141113650586,3.3436141113650586,3.3436141113650586,3.3436141113650586,3.3436141113650586,3.3436141113650586,3.3436141113650586,3.3436141113650586,3.3436141113650586,3.3436141113650586,3.3436141113650586,3.3436141113650586,3.3436141113650586,3.3436141113650586,3.3436141113650586,3.3436141113650586,3.3436141113650586,3.3436141113650586,3.3436141113650586,3.3436141113650586,3.3436141113650586,3.3436141113650586,3.3436141113650586,3.3436141113650586,3.3436141113650586,3.3436141113650586,3.3436141113650586,3.3436141113650586,3.3436141113650586,3.3436141113650586,3.3436141113650586,3.3436141113650586,3.3436141113650586,3.3436141113650586,3.3436141113650586,3.3436141113650586,3.3436141113650586,3.3436141113650586,3.3436141113650586,3.3436141113650586,3.3436141113650586,3.3436141113650586,3.3436141113650586,3.3436141113650586,3.3436141113650586,3.3436141113650586,3.3436141113650586,3.3436141113650586,3.3436141113650586,3.3436141113650586,3.3436141113650586,3.3436141113650586,3.3436141113650586,3.3436141113650586,3.3436141113650586,3.3436141113650586,3.3436141113650586,3.3436141113650586,3.3436141113650586,3.3436141113650586,3.3436141113650586,3.3436141113650586,3.3436141113650586,3.3436141113650586,3.3436141113650586,3.3436141113650586,3.3436141113650586,3.3436141113650586,3.3436141113650586,3.3436141113650586,3.3436141113650586,3.3436141113650586,3.3436141113650586,3.3436141113650586,3.3436141113650586,3.3436141113650586,3.3436141113650586,3.3436141113650586,3.3436141113650586,3.3436141113650586,3.3436141113650586,3.3436141113650586,3.3436141113650586,3.3436141113650586,3.3436141113650586,3.3436141113650586,3.3436141113650586,3.3436141113650586,3.3436141113650586,3.3436141113650586,3.3436141113650586,3.3436141113650586,3.3436141113650586,3.3436141113650586,3.3436141113650586,3.3436141113650586,3.3436141113650586,3.3436141113650586,3.3436141113650586,3.3436141113650586,3.3436141113650586,3.3436141113650586,3.3436141113650586,3.3436141113650586,3.3436141113650586,3.3436141113650586,3.3436141113650586,3.3436141113650586,3.3436141113650586,3.3436141113650586,3.3436141113650586,3.3436141113650586,3.3436141113650586,3.3436141113650586,3.3436141113650586,3.3436141113650586,3.3436141113650586,3.3436141113650586,3.3436141113650586,3.3436141113650586,3.3436141113650586,3.3436141113650586,3.3436141113650586,3.3436141113650586,3.3436141113650586,3.3436141113650586,3.3436141113650586,3.3436141113650586,3.3436141113650586,3.3436141113650586,3.3436141113650586,3.3436141113650586,3.3436141113650586,3.3436141113650586,3.3436141113650586,3.3436141113650586,3.3436141113650586,3.3436141113650586,3.3436141113650586,3.3436141113650586,3.3436141113650586,3.3436141113650586,3.3436141113650586,3.3436141113650586,3.3436141113650586,3.3436141113650586,3.3436141113650586,3.3436141113650586,3.3436141113650586,3.3436141113650586,3.3436141113650586,3.3436141113650586,3.3436141113650586,3.3436141113650586,3.3436141113650586,3.3436141113650586,3.3436141113650586,3.3436141113650586,3.3436141113650586,3.3436141113650586,3.3436141113650586,3.3436141113650586,3.3436141113650586,3.3436141113650586,3.3436141113650586,3.3436141113650586,3.3436141113650586,3.3436141113650586,3.3436141113650586,3.3436141113650586,3.3436141113650586,3.3436141113650586,3.3436141113650586,3.3436141113650586,3.3436141113650586,3.3436141113650586,3.3436141113650586,3.3436141113650586,3.3436141113650586,3.3436141113650586,3.3436141113650586,3.3436141113650586,3.3436141113650586,3.3436141113650586,3.3436141113650586,3.3436141113650586,3.3436141113650586,3.3436141113650586,3.3436141113650586,3.3436141113650586,3.3436141113650586,3.3436141113650586,3.3436141113650586,3.3436141113650586,3.3436141113650586,3.3436141113650586,3.3436141113650586,3.3436141113650586,3.3436141113650586,3.3436141113650586,3.3436141113650586,3.3436141113650586,3.3436141113650586,3.3436141113650586,3.3436141113650586,3.3436141113650586,3.3436141113650586,3.3436141113650586,3.3436141113650586,3.3436141113650586,3.3436141113650586,3.3436141113650586,3.3436141113650586,3.3436141113650586,3.3436141113650586,3.3436141113650586,3.3436141113650586,3.3436141113650586,3.3436141113650586,3.3436141113650586,3.3436141113650586,3.3436141113650586,3.3436141113650586,3.3436141113650586,3.3436141113650586,3.3436141113650586,3.3436141113650586,3.3436141113650586,3.3436141113650586,3.3436141113650586,3.3436141113650586,3.3436141113650586,3.3436141113650586,3.3436141113650586,3.3436141113650586,3.3436141113650586,3.3436141113650586,3.3436141113650586,3.3436141113650586,3.3436141113650586,3.3436141113650586,3.3436141113650586,3.3436141113650586,3.3436141113650586,3.3436141113650586,3.3436141113650586,3.3436141113650586,3.3436141113650586,3.3436141113650586,3.3436141113650586,3.3436141113650586,3.3436141113650586,3.3436141113650586,3.3436141113650586,3.3436141113650586,3.3436141113650586,3.3436141113650586,3.3436141113650586,3.3436141113650586,3.3436141113650586,3.3436141113650586,3.3436141113650586,3.3436141113650586,3.3436141113650586,3.3436141113650586,3.3436141113650586,3.3436141113650586,3.3436141113650586,3.3436141113650586,3.3436141113650586,3.3436141113650586,3.3436141113650586,3.3436141113650586,3.3436141113650586,3.3436141113650586,3.3436141113650586,3.3436141113650586,3.3436141113650586,3.3436141113650586,3.3436141113650586,3.3436141113650586,3.3436141113650586,3.3436141113650586,3.3436141113650586,3.3436141113650586,3.3436141113650586,3.3436141113650586,3.3436141113650586,3.3436141113650586,3.3436141113650586,3.3436141113650586,3.3436141113650586,3.3436141113650586,3.3436141113650586,3.3436141113650586,3.3436141113650586,3.3436141113650586,3.3436141113650586,3.3436141113650586,3.3436141113650586,3.3436141113650586,3.3436141113650586,3.3436141113650586,3.3436141113650586,3.3436141113650586,3.3436141113650586,3.3436141113650586,3.3436141113650586,3.3436141113650586,3.3436141113650586,3.3436141113650586,3.3436141113650586,3.3436141113650586,3.3436141113650586,3.3436141113650586,3.3436141113650586,3.3436141113650586,3.3436141113650586,3.3436141113650586,3.3436141113650586,3.3436141113650586,3.3436141113650586,3.3436141113650586,3.3436141113650586,3.3436141113650586,3.3436141113650586,3.3436141113650586,3.3436141113650586,3.3436141113650586,3.3436141113650586,3.3436141113650586,3.3436141113650586,3.3436141113650586,3.3436141113650586,3.3436141113650586,3.3436141113650586,3.3436141113650586,3.3436141113650586,3.3436141113650586,3.3436141113650586,3.3436141113650586,3.3436141113650586,3.3436141113650586,3.3436141113650586,3.3436141113650586,3.3436141113650586,3.3436141113650586,3.3436141113650586,3.3436141113650586,3.3436141113650586,3.3436141113650586,3.3436141113650586,3.3436141113650586,3.3436141113650586,3.3436141113650586,3.3436141113650586,3.3436141113650586,3.3436141113650586,3.3436141113650586,3.3436141113650586,3.3436141113650586,3.3436141113650586,3.3436141113650586,3.3436141113650586,3.3436141113650586,3.3436141113650586,3.3436141113650586,3.3436141113650586,3.3436141113650586,3.3436141113650586,3.3436141113650586,3.3436141113650586,3.3436141113650586,3.3436141113650586,3.3436141113650586,3.3436141113650586,3.3436141113650586,3.3436141113650586,3.3436141113650586,3.3436141113650586,3.3436141113650586,3.3436141113650586,3.3436141113650586,3.3436141113650586,3.3436141113650586,3.3436141113650586,3.3436141113650586,3.3436141113650586,3.3436141113650586,3.3436141113650586,3.3436141113650586,3.3436141113650586,3.3436141113650586,3.3436141113650586,3.3436141113650586,3.3436141113650586,3.3436141113650586,3.3436141113650586,3.3436141113650586,3.3436141113650586,3.3436141113650586,3.3436141113650586,3.3436141113650586,3.3436141113650586,3.3436141113650586,3.3436141113650586,3.3436141113650586,3.3436141113650586,3.3436141113650586,3.3436141113650586,3.3436141113650586,3.3436141113650586,3.3436141113650586,3.3436141113650586,3.3436141113650586,3.3436141113650586,3.3436141113650586,3.3436141113650586,3.3436141113650586,3.3436141113650586,3.3436141113650586,3.3436141113650586,3.3436141113650586,3.3436141113650586,3.3436141113650586,3.3436141113650586,3.3436141113650586,3.3436141113650586,3.3436141113650586,3.3436141113650586,3.3436141113650586,3.3436141113650586,3.3436141113650586,3.3436141113650586,3.3436141113650586],\"yaxis\":\"y\",\"type\":\"scattergl\"},{\"hovertemplate\":\"variable=B<br>index=%{x}<br>value=%{y}<extra></extra>\",\"legendgroup\":\"B\",\"line\":{\"color\":\"#EF553B\",\"dash\":\"solid\"},\"marker\":{\"symbol\":\"circle\"},\"mode\":\"lines\",\"name\":\"B\",\"showlegend\":true,\"x\":[\"2000-01-01T00:00:00\",\"2000-01-02T00:00:00\",\"2000-01-03T00:00:00\",\"2000-01-04T00:00:00\",\"2000-01-05T00:00:00\",\"2000-01-06T00:00:00\",\"2000-01-07T00:00:00\",\"2000-01-08T00:00:00\",\"2000-01-09T00:00:00\",\"2000-01-10T00:00:00\",\"2000-01-11T00:00:00\",\"2000-01-12T00:00:00\",\"2000-01-13T00:00:00\",\"2000-01-14T00:00:00\",\"2000-01-15T00:00:00\",\"2000-01-16T00:00:00\",\"2000-01-17T00:00:00\",\"2000-01-18T00:00:00\",\"2000-01-19T00:00:00\",\"2000-01-20T00:00:00\",\"2000-01-21T00:00:00\",\"2000-01-22T00:00:00\",\"2000-01-23T00:00:00\",\"2000-01-24T00:00:00\",\"2000-01-25T00:00:00\",\"2000-01-26T00:00:00\",\"2000-01-27T00:00:00\",\"2000-01-28T00:00:00\",\"2000-01-29T00:00:00\",\"2000-01-30T00:00:00\",\"2000-01-31T00:00:00\",\"2000-02-01T00:00:00\",\"2000-02-02T00:00:00\",\"2000-02-03T00:00:00\",\"2000-02-04T00:00:00\",\"2000-02-05T00:00:00\",\"2000-02-06T00:00:00\",\"2000-02-07T00:00:00\",\"2000-02-08T00:00:00\",\"2000-02-09T00:00:00\",\"2000-02-10T00:00:00\",\"2000-02-11T00:00:00\",\"2000-02-12T00:00:00\",\"2000-02-13T00:00:00\",\"2000-02-14T00:00:00\",\"2000-02-15T00:00:00\",\"2000-02-16T00:00:00\",\"2000-02-17T00:00:00\",\"2000-02-18T00:00:00\",\"2000-02-19T00:00:00\",\"2000-02-20T00:00:00\",\"2000-02-21T00:00:00\",\"2000-02-22T00:00:00\",\"2000-02-23T00:00:00\",\"2000-02-24T00:00:00\",\"2000-02-25T00:00:00\",\"2000-02-26T00:00:00\",\"2000-02-27T00:00:00\",\"2000-02-28T00:00:00\",\"2000-02-29T00:00:00\",\"2000-03-01T00:00:00\",\"2000-03-02T00:00:00\",\"2000-03-03T00:00:00\",\"2000-03-04T00:00:00\",\"2000-03-05T00:00:00\",\"2000-03-06T00:00:00\",\"2000-03-07T00:00:00\",\"2000-03-08T00:00:00\",\"2000-03-09T00:00:00\",\"2000-03-10T00:00:00\",\"2000-03-11T00:00:00\",\"2000-03-12T00:00:00\",\"2000-03-13T00:00:00\",\"2000-03-14T00:00:00\",\"2000-03-15T00:00:00\",\"2000-03-16T00:00:00\",\"2000-03-17T00:00:00\",\"2000-03-18T00:00:00\",\"2000-03-19T00:00:00\",\"2000-03-20T00:00:00\",\"2000-03-21T00:00:00\",\"2000-03-22T00:00:00\",\"2000-03-23T00:00:00\",\"2000-03-24T00:00:00\",\"2000-03-25T00:00:00\",\"2000-03-26T00:00:00\",\"2000-03-27T00:00:00\",\"2000-03-28T00:00:00\",\"2000-03-29T00:00:00\",\"2000-03-30T00:00:00\",\"2000-03-31T00:00:00\",\"2000-04-01T00:00:00\",\"2000-04-02T00:00:00\",\"2000-04-03T00:00:00\",\"2000-04-04T00:00:00\",\"2000-04-05T00:00:00\",\"2000-04-06T00:00:00\",\"2000-04-07T00:00:00\",\"2000-04-08T00:00:00\",\"2000-04-09T00:00:00\",\"2000-04-10T00:00:00\",\"2000-04-11T00:00:00\",\"2000-04-12T00:00:00\",\"2000-04-13T00:00:00\",\"2000-04-14T00:00:00\",\"2000-04-15T00:00:00\",\"2000-04-16T00:00:00\",\"2000-04-17T00:00:00\",\"2000-04-18T00:00:00\",\"2000-04-19T00:00:00\",\"2000-04-20T00:00:00\",\"2000-04-21T00:00:00\",\"2000-04-22T00:00:00\",\"2000-04-23T00:00:00\",\"2000-04-24T00:00:00\",\"2000-04-25T00:00:00\",\"2000-04-26T00:00:00\",\"2000-04-27T00:00:00\",\"2000-04-28T00:00:00\",\"2000-04-29T00:00:00\",\"2000-04-30T00:00:00\",\"2000-05-01T00:00:00\",\"2000-05-02T00:00:00\",\"2000-05-03T00:00:00\",\"2000-05-04T00:00:00\",\"2000-05-05T00:00:00\",\"2000-05-06T00:00:00\",\"2000-05-07T00:00:00\",\"2000-05-08T00:00:00\",\"2000-05-09T00:00:00\",\"2000-05-10T00:00:00\",\"2000-05-11T00:00:00\",\"2000-05-12T00:00:00\",\"2000-05-13T00:00:00\",\"2000-05-14T00:00:00\",\"2000-05-15T00:00:00\",\"2000-05-16T00:00:00\",\"2000-05-17T00:00:00\",\"2000-05-18T00:00:00\",\"2000-05-19T00:00:00\",\"2000-05-20T00:00:00\",\"2000-05-21T00:00:00\",\"2000-05-22T00:00:00\",\"2000-05-23T00:00:00\",\"2000-05-24T00:00:00\",\"2000-05-25T00:00:00\",\"2000-05-26T00:00:00\",\"2000-05-27T00:00:00\",\"2000-05-28T00:00:00\",\"2000-05-29T00:00:00\",\"2000-05-30T00:00:00\",\"2000-05-31T00:00:00\",\"2000-06-01T00:00:00\",\"2000-06-02T00:00:00\",\"2000-06-03T00:00:00\",\"2000-06-04T00:00:00\",\"2000-06-05T00:00:00\",\"2000-06-06T00:00:00\",\"2000-06-07T00:00:00\",\"2000-06-08T00:00:00\",\"2000-06-09T00:00:00\",\"2000-06-10T00:00:00\",\"2000-06-11T00:00:00\",\"2000-06-12T00:00:00\",\"2000-06-13T00:00:00\",\"2000-06-14T00:00:00\",\"2000-06-15T00:00:00\",\"2000-06-16T00:00:00\",\"2000-06-17T00:00:00\",\"2000-06-18T00:00:00\",\"2000-06-19T00:00:00\",\"2000-06-20T00:00:00\",\"2000-06-21T00:00:00\",\"2000-06-22T00:00:00\",\"2000-06-23T00:00:00\",\"2000-06-24T00:00:00\",\"2000-06-25T00:00:00\",\"2000-06-26T00:00:00\",\"2000-06-27T00:00:00\",\"2000-06-28T00:00:00\",\"2000-06-29T00:00:00\",\"2000-06-30T00:00:00\",\"2000-07-01T00:00:00\",\"2000-07-02T00:00:00\",\"2000-07-03T00:00:00\",\"2000-07-04T00:00:00\",\"2000-07-05T00:00:00\",\"2000-07-06T00:00:00\",\"2000-07-07T00:00:00\",\"2000-07-08T00:00:00\",\"2000-07-09T00:00:00\",\"2000-07-10T00:00:00\",\"2000-07-11T00:00:00\",\"2000-07-12T00:00:00\",\"2000-07-13T00:00:00\",\"2000-07-14T00:00:00\",\"2000-07-15T00:00:00\",\"2000-07-16T00:00:00\",\"2000-07-17T00:00:00\",\"2000-07-18T00:00:00\",\"2000-07-19T00:00:00\",\"2000-07-20T00:00:00\",\"2000-07-21T00:00:00\",\"2000-07-22T00:00:00\",\"2000-07-23T00:00:00\",\"2000-07-24T00:00:00\",\"2000-07-25T00:00:00\",\"2000-07-26T00:00:00\",\"2000-07-27T00:00:00\",\"2000-07-28T00:00:00\",\"2000-07-29T00:00:00\",\"2000-07-30T00:00:00\",\"2000-07-31T00:00:00\",\"2000-08-01T00:00:00\",\"2000-08-02T00:00:00\",\"2000-08-03T00:00:00\",\"2000-08-04T00:00:00\",\"2000-08-05T00:00:00\",\"2000-08-06T00:00:00\",\"2000-08-07T00:00:00\",\"2000-08-08T00:00:00\",\"2000-08-09T00:00:00\",\"2000-08-10T00:00:00\",\"2000-08-11T00:00:00\",\"2000-08-12T00:00:00\",\"2000-08-13T00:00:00\",\"2000-08-14T00:00:00\",\"2000-08-15T00:00:00\",\"2000-08-16T00:00:00\",\"2000-08-17T00:00:00\",\"2000-08-18T00:00:00\",\"2000-08-19T00:00:00\",\"2000-08-20T00:00:00\",\"2000-08-21T00:00:00\",\"2000-08-22T00:00:00\",\"2000-08-23T00:00:00\",\"2000-08-24T00:00:00\",\"2000-08-25T00:00:00\",\"2000-08-26T00:00:00\",\"2000-08-27T00:00:00\",\"2000-08-28T00:00:00\",\"2000-08-29T00:00:00\",\"2000-08-30T00:00:00\",\"2000-08-31T00:00:00\",\"2000-09-01T00:00:00\",\"2000-09-02T00:00:00\",\"2000-09-03T00:00:00\",\"2000-09-04T00:00:00\",\"2000-09-05T00:00:00\",\"2000-09-06T00:00:00\",\"2000-09-07T00:00:00\",\"2000-09-08T00:00:00\",\"2000-09-09T00:00:00\",\"2000-09-10T00:00:00\",\"2000-09-11T00:00:00\",\"2000-09-12T00:00:00\",\"2000-09-13T00:00:00\",\"2000-09-14T00:00:00\",\"2000-09-15T00:00:00\",\"2000-09-16T00:00:00\",\"2000-09-17T00:00:00\",\"2000-09-18T00:00:00\",\"2000-09-19T00:00:00\",\"2000-09-20T00:00:00\",\"2000-09-21T00:00:00\",\"2000-09-22T00:00:00\",\"2000-09-23T00:00:00\",\"2000-09-24T00:00:00\",\"2000-09-25T00:00:00\",\"2000-09-26T00:00:00\",\"2000-09-27T00:00:00\",\"2000-09-28T00:00:00\",\"2000-09-29T00:00:00\",\"2000-09-30T00:00:00\",\"2000-10-01T00:00:00\",\"2000-10-02T00:00:00\",\"2000-10-03T00:00:00\",\"2000-10-04T00:00:00\",\"2000-10-05T00:00:00\",\"2000-10-06T00:00:00\",\"2000-10-07T00:00:00\",\"2000-10-08T00:00:00\",\"2000-10-09T00:00:00\",\"2000-10-10T00:00:00\",\"2000-10-11T00:00:00\",\"2000-10-12T00:00:00\",\"2000-10-13T00:00:00\",\"2000-10-14T00:00:00\",\"2000-10-15T00:00:00\",\"2000-10-16T00:00:00\",\"2000-10-17T00:00:00\",\"2000-10-18T00:00:00\",\"2000-10-19T00:00:00\",\"2000-10-20T00:00:00\",\"2000-10-21T00:00:00\",\"2000-10-22T00:00:00\",\"2000-10-23T00:00:00\",\"2000-10-24T00:00:00\",\"2000-10-25T00:00:00\",\"2000-10-26T00:00:00\",\"2000-10-27T00:00:00\",\"2000-10-28T00:00:00\",\"2000-10-29T00:00:00\",\"2000-10-30T00:00:00\",\"2000-10-31T00:00:00\",\"2000-11-01T00:00:00\",\"2000-11-02T00:00:00\",\"2000-11-03T00:00:00\",\"2000-11-04T00:00:00\",\"2000-11-05T00:00:00\",\"2000-11-06T00:00:00\",\"2000-11-07T00:00:00\",\"2000-11-08T00:00:00\",\"2000-11-09T00:00:00\",\"2000-11-10T00:00:00\",\"2000-11-11T00:00:00\",\"2000-11-12T00:00:00\",\"2000-11-13T00:00:00\",\"2000-11-14T00:00:00\",\"2000-11-15T00:00:00\",\"2000-11-16T00:00:00\",\"2000-11-17T00:00:00\",\"2000-11-18T00:00:00\",\"2000-11-19T00:00:00\",\"2000-11-20T00:00:00\",\"2000-11-21T00:00:00\",\"2000-11-22T00:00:00\",\"2000-11-23T00:00:00\",\"2000-11-24T00:00:00\",\"2000-11-25T00:00:00\",\"2000-11-26T00:00:00\",\"2000-11-27T00:00:00\",\"2000-11-28T00:00:00\",\"2000-11-29T00:00:00\",\"2000-11-30T00:00:00\",\"2000-12-01T00:00:00\",\"2000-12-02T00:00:00\",\"2000-12-03T00:00:00\",\"2000-12-04T00:00:00\",\"2000-12-05T00:00:00\",\"2000-12-06T00:00:00\",\"2000-12-07T00:00:00\",\"2000-12-08T00:00:00\",\"2000-12-09T00:00:00\",\"2000-12-10T00:00:00\",\"2000-12-11T00:00:00\",\"2000-12-12T00:00:00\",\"2000-12-13T00:00:00\",\"2000-12-14T00:00:00\",\"2000-12-15T00:00:00\",\"2000-12-16T00:00:00\",\"2000-12-17T00:00:00\",\"2000-12-18T00:00:00\",\"2000-12-19T00:00:00\",\"2000-12-20T00:00:00\",\"2000-12-21T00:00:00\",\"2000-12-22T00:00:00\",\"2000-12-23T00:00:00\",\"2000-12-24T00:00:00\",\"2000-12-25T00:00:00\",\"2000-12-26T00:00:00\",\"2000-12-27T00:00:00\",\"2000-12-28T00:00:00\",\"2000-12-29T00:00:00\",\"2000-12-30T00:00:00\",\"2000-12-31T00:00:00\",\"2001-01-01T00:00:00\",\"2001-01-02T00:00:00\",\"2001-01-03T00:00:00\",\"2001-01-04T00:00:00\",\"2001-01-05T00:00:00\",\"2001-01-06T00:00:00\",\"2001-01-07T00:00:00\",\"2001-01-08T00:00:00\",\"2001-01-09T00:00:00\",\"2001-01-10T00:00:00\",\"2001-01-11T00:00:00\",\"2001-01-12T00:00:00\",\"2001-01-13T00:00:00\",\"2001-01-14T00:00:00\",\"2001-01-15T00:00:00\",\"2001-01-16T00:00:00\",\"2001-01-17T00:00:00\",\"2001-01-18T00:00:00\",\"2001-01-19T00:00:00\",\"2001-01-20T00:00:00\",\"2001-01-21T00:00:00\",\"2001-01-22T00:00:00\",\"2001-01-23T00:00:00\",\"2001-01-24T00:00:00\",\"2001-01-25T00:00:00\",\"2001-01-26T00:00:00\",\"2001-01-27T00:00:00\",\"2001-01-28T00:00:00\",\"2001-01-29T00:00:00\",\"2001-01-30T00:00:00\",\"2001-01-31T00:00:00\",\"2001-02-01T00:00:00\",\"2001-02-02T00:00:00\",\"2001-02-03T00:00:00\",\"2001-02-04T00:00:00\",\"2001-02-05T00:00:00\",\"2001-02-06T00:00:00\",\"2001-02-07T00:00:00\",\"2001-02-08T00:00:00\",\"2001-02-09T00:00:00\",\"2001-02-10T00:00:00\",\"2001-02-11T00:00:00\",\"2001-02-12T00:00:00\",\"2001-02-13T00:00:00\",\"2001-02-14T00:00:00\",\"2001-02-15T00:00:00\",\"2001-02-16T00:00:00\",\"2001-02-17T00:00:00\",\"2001-02-18T00:00:00\",\"2001-02-19T00:00:00\",\"2001-02-20T00:00:00\",\"2001-02-21T00:00:00\",\"2001-02-22T00:00:00\",\"2001-02-23T00:00:00\",\"2001-02-24T00:00:00\",\"2001-02-25T00:00:00\",\"2001-02-26T00:00:00\",\"2001-02-27T00:00:00\",\"2001-02-28T00:00:00\",\"2001-03-01T00:00:00\",\"2001-03-02T00:00:00\",\"2001-03-03T00:00:00\",\"2001-03-04T00:00:00\",\"2001-03-05T00:00:00\",\"2001-03-06T00:00:00\",\"2001-03-07T00:00:00\",\"2001-03-08T00:00:00\",\"2001-03-09T00:00:00\",\"2001-03-10T00:00:00\",\"2001-03-11T00:00:00\",\"2001-03-12T00:00:00\",\"2001-03-13T00:00:00\",\"2001-03-14T00:00:00\",\"2001-03-15T00:00:00\",\"2001-03-16T00:00:00\",\"2001-03-17T00:00:00\",\"2001-03-18T00:00:00\",\"2001-03-19T00:00:00\",\"2001-03-20T00:00:00\",\"2001-03-21T00:00:00\",\"2001-03-22T00:00:00\",\"2001-03-23T00:00:00\",\"2001-03-24T00:00:00\",\"2001-03-25T00:00:00\",\"2001-03-26T00:00:00\",\"2001-03-27T00:00:00\",\"2001-03-28T00:00:00\",\"2001-03-29T00:00:00\",\"2001-03-30T00:00:00\",\"2001-03-31T00:00:00\",\"2001-04-01T00:00:00\",\"2001-04-02T00:00:00\",\"2001-04-03T00:00:00\",\"2001-04-04T00:00:00\",\"2001-04-05T00:00:00\",\"2001-04-06T00:00:00\",\"2001-04-07T00:00:00\",\"2001-04-08T00:00:00\",\"2001-04-09T00:00:00\",\"2001-04-10T00:00:00\",\"2001-04-11T00:00:00\",\"2001-04-12T00:00:00\",\"2001-04-13T00:00:00\",\"2001-04-14T00:00:00\",\"2001-04-15T00:00:00\",\"2001-04-16T00:00:00\",\"2001-04-17T00:00:00\",\"2001-04-18T00:00:00\",\"2001-04-19T00:00:00\",\"2001-04-20T00:00:00\",\"2001-04-21T00:00:00\",\"2001-04-22T00:00:00\",\"2001-04-23T00:00:00\",\"2001-04-24T00:00:00\",\"2001-04-25T00:00:00\",\"2001-04-26T00:00:00\",\"2001-04-27T00:00:00\",\"2001-04-28T00:00:00\",\"2001-04-29T00:00:00\",\"2001-04-30T00:00:00\",\"2001-05-01T00:00:00\",\"2001-05-02T00:00:00\",\"2001-05-03T00:00:00\",\"2001-05-04T00:00:00\",\"2001-05-05T00:00:00\",\"2001-05-06T00:00:00\",\"2001-05-07T00:00:00\",\"2001-05-08T00:00:00\",\"2001-05-09T00:00:00\",\"2001-05-10T00:00:00\",\"2001-05-11T00:00:00\",\"2001-05-12T00:00:00\",\"2001-05-13T00:00:00\",\"2001-05-14T00:00:00\",\"2001-05-15T00:00:00\",\"2001-05-16T00:00:00\",\"2001-05-17T00:00:00\",\"2001-05-18T00:00:00\",\"2001-05-19T00:00:00\",\"2001-05-20T00:00:00\",\"2001-05-21T00:00:00\",\"2001-05-22T00:00:00\",\"2001-05-23T00:00:00\",\"2001-05-24T00:00:00\",\"2001-05-25T00:00:00\",\"2001-05-26T00:00:00\",\"2001-05-27T00:00:00\",\"2001-05-28T00:00:00\",\"2001-05-29T00:00:00\",\"2001-05-30T00:00:00\",\"2001-05-31T00:00:00\",\"2001-06-01T00:00:00\",\"2001-06-02T00:00:00\",\"2001-06-03T00:00:00\",\"2001-06-04T00:00:00\",\"2001-06-05T00:00:00\",\"2001-06-06T00:00:00\",\"2001-06-07T00:00:00\",\"2001-06-08T00:00:00\",\"2001-06-09T00:00:00\",\"2001-06-10T00:00:00\",\"2001-06-11T00:00:00\",\"2001-06-12T00:00:00\",\"2001-06-13T00:00:00\",\"2001-06-14T00:00:00\",\"2001-06-15T00:00:00\",\"2001-06-16T00:00:00\",\"2001-06-17T00:00:00\",\"2001-06-18T00:00:00\",\"2001-06-19T00:00:00\",\"2001-06-20T00:00:00\",\"2001-06-21T00:00:00\",\"2001-06-22T00:00:00\",\"2001-06-23T00:00:00\",\"2001-06-24T00:00:00\",\"2001-06-25T00:00:00\",\"2001-06-26T00:00:00\",\"2001-06-27T00:00:00\",\"2001-06-28T00:00:00\",\"2001-06-29T00:00:00\",\"2001-06-30T00:00:00\",\"2001-07-01T00:00:00\",\"2001-07-02T00:00:00\",\"2001-07-03T00:00:00\",\"2001-07-04T00:00:00\",\"2001-07-05T00:00:00\",\"2001-07-06T00:00:00\",\"2001-07-07T00:00:00\",\"2001-07-08T00:00:00\",\"2001-07-09T00:00:00\",\"2001-07-10T00:00:00\",\"2001-07-11T00:00:00\",\"2001-07-12T00:00:00\",\"2001-07-13T00:00:00\",\"2001-07-14T00:00:00\",\"2001-07-15T00:00:00\",\"2001-07-16T00:00:00\",\"2001-07-17T00:00:00\",\"2001-07-18T00:00:00\",\"2001-07-19T00:00:00\",\"2001-07-20T00:00:00\",\"2001-07-21T00:00:00\",\"2001-07-22T00:00:00\",\"2001-07-23T00:00:00\",\"2001-07-24T00:00:00\",\"2001-07-25T00:00:00\",\"2001-07-26T00:00:00\",\"2001-07-27T00:00:00\",\"2001-07-28T00:00:00\",\"2001-07-29T00:00:00\",\"2001-07-30T00:00:00\",\"2001-07-31T00:00:00\",\"2001-08-01T00:00:00\",\"2001-08-02T00:00:00\",\"2001-08-03T00:00:00\",\"2001-08-04T00:00:00\",\"2001-08-05T00:00:00\",\"2001-08-06T00:00:00\",\"2001-08-07T00:00:00\",\"2001-08-08T00:00:00\",\"2001-08-09T00:00:00\",\"2001-08-10T00:00:00\",\"2001-08-11T00:00:00\",\"2001-08-12T00:00:00\",\"2001-08-13T00:00:00\",\"2001-08-14T00:00:00\",\"2001-08-15T00:00:00\",\"2001-08-16T00:00:00\",\"2001-08-17T00:00:00\",\"2001-08-18T00:00:00\",\"2001-08-19T00:00:00\",\"2001-08-20T00:00:00\",\"2001-08-21T00:00:00\",\"2001-08-22T00:00:00\",\"2001-08-23T00:00:00\",\"2001-08-24T00:00:00\",\"2001-08-25T00:00:00\",\"2001-08-26T00:00:00\",\"2001-08-27T00:00:00\",\"2001-08-28T00:00:00\",\"2001-08-29T00:00:00\",\"2001-08-30T00:00:00\",\"2001-08-31T00:00:00\",\"2001-09-01T00:00:00\",\"2001-09-02T00:00:00\",\"2001-09-03T00:00:00\",\"2001-09-04T00:00:00\",\"2001-09-05T00:00:00\",\"2001-09-06T00:00:00\",\"2001-09-07T00:00:00\",\"2001-09-08T00:00:00\",\"2001-09-09T00:00:00\",\"2001-09-10T00:00:00\",\"2001-09-11T00:00:00\",\"2001-09-12T00:00:00\",\"2001-09-13T00:00:00\",\"2001-09-14T00:00:00\",\"2001-09-15T00:00:00\",\"2001-09-16T00:00:00\",\"2001-09-17T00:00:00\",\"2001-09-18T00:00:00\",\"2001-09-19T00:00:00\",\"2001-09-20T00:00:00\",\"2001-09-21T00:00:00\",\"2001-09-22T00:00:00\",\"2001-09-23T00:00:00\",\"2001-09-24T00:00:00\",\"2001-09-25T00:00:00\",\"2001-09-26T00:00:00\",\"2001-09-27T00:00:00\",\"2001-09-28T00:00:00\",\"2001-09-29T00:00:00\",\"2001-09-30T00:00:00\",\"2001-10-01T00:00:00\",\"2001-10-02T00:00:00\",\"2001-10-03T00:00:00\",\"2001-10-04T00:00:00\",\"2001-10-05T00:00:00\",\"2001-10-06T00:00:00\",\"2001-10-07T00:00:00\",\"2001-10-08T00:00:00\",\"2001-10-09T00:00:00\",\"2001-10-10T00:00:00\",\"2001-10-11T00:00:00\",\"2001-10-12T00:00:00\",\"2001-10-13T00:00:00\",\"2001-10-14T00:00:00\",\"2001-10-15T00:00:00\",\"2001-10-16T00:00:00\",\"2001-10-17T00:00:00\",\"2001-10-18T00:00:00\",\"2001-10-19T00:00:00\",\"2001-10-20T00:00:00\",\"2001-10-21T00:00:00\",\"2001-10-22T00:00:00\",\"2001-10-23T00:00:00\",\"2001-10-24T00:00:00\",\"2001-10-25T00:00:00\",\"2001-10-26T00:00:00\",\"2001-10-27T00:00:00\",\"2001-10-28T00:00:00\",\"2001-10-29T00:00:00\",\"2001-10-30T00:00:00\",\"2001-10-31T00:00:00\",\"2001-11-01T00:00:00\",\"2001-11-02T00:00:00\",\"2001-11-03T00:00:00\",\"2001-11-04T00:00:00\",\"2001-11-05T00:00:00\",\"2001-11-06T00:00:00\",\"2001-11-07T00:00:00\",\"2001-11-08T00:00:00\",\"2001-11-09T00:00:00\",\"2001-11-10T00:00:00\",\"2001-11-11T00:00:00\",\"2001-11-12T00:00:00\",\"2001-11-13T00:00:00\",\"2001-11-14T00:00:00\",\"2001-11-15T00:00:00\",\"2001-11-16T00:00:00\",\"2001-11-17T00:00:00\",\"2001-11-18T00:00:00\",\"2001-11-19T00:00:00\",\"2001-11-20T00:00:00\",\"2001-11-21T00:00:00\",\"2001-11-22T00:00:00\",\"2001-11-23T00:00:00\",\"2001-11-24T00:00:00\",\"2001-11-25T00:00:00\",\"2001-11-26T00:00:00\",\"2001-11-27T00:00:00\",\"2001-11-28T00:00:00\",\"2001-11-29T00:00:00\",\"2001-11-30T00:00:00\",\"2001-12-01T00:00:00\",\"2001-12-02T00:00:00\",\"2001-12-03T00:00:00\",\"2001-12-04T00:00:00\",\"2001-12-05T00:00:00\",\"2001-12-06T00:00:00\",\"2001-12-07T00:00:00\",\"2001-12-08T00:00:00\",\"2001-12-09T00:00:00\",\"2001-12-10T00:00:00\",\"2001-12-11T00:00:00\",\"2001-12-12T00:00:00\",\"2001-12-13T00:00:00\",\"2001-12-14T00:00:00\",\"2001-12-15T00:00:00\",\"2001-12-16T00:00:00\",\"2001-12-17T00:00:00\",\"2001-12-18T00:00:00\",\"2001-12-19T00:00:00\",\"2001-12-20T00:00:00\",\"2001-12-21T00:00:00\",\"2001-12-22T00:00:00\",\"2001-12-23T00:00:00\",\"2001-12-24T00:00:00\",\"2001-12-25T00:00:00\",\"2001-12-26T00:00:00\",\"2001-12-27T00:00:00\",\"2001-12-28T00:00:00\",\"2001-12-29T00:00:00\",\"2001-12-30T00:00:00\",\"2001-12-31T00:00:00\",\"2002-01-01T00:00:00\",\"2002-01-02T00:00:00\",\"2002-01-03T00:00:00\",\"2002-01-04T00:00:00\",\"2002-01-05T00:00:00\",\"2002-01-06T00:00:00\",\"2002-01-07T00:00:00\",\"2002-01-08T00:00:00\",\"2002-01-09T00:00:00\",\"2002-01-10T00:00:00\",\"2002-01-11T00:00:00\",\"2002-01-12T00:00:00\",\"2002-01-13T00:00:00\",\"2002-01-14T00:00:00\",\"2002-01-15T00:00:00\",\"2002-01-16T00:00:00\",\"2002-01-17T00:00:00\",\"2002-01-18T00:00:00\",\"2002-01-19T00:00:00\",\"2002-01-20T00:00:00\",\"2002-01-21T00:00:00\",\"2002-01-22T00:00:00\",\"2002-01-23T00:00:00\",\"2002-01-24T00:00:00\",\"2002-01-25T00:00:00\",\"2002-01-26T00:00:00\",\"2002-01-27T00:00:00\",\"2002-01-28T00:00:00\",\"2002-01-29T00:00:00\",\"2002-01-30T00:00:00\",\"2002-01-31T00:00:00\",\"2002-02-01T00:00:00\",\"2002-02-02T00:00:00\",\"2002-02-03T00:00:00\",\"2002-02-04T00:00:00\",\"2002-02-05T00:00:00\",\"2002-02-06T00:00:00\",\"2002-02-07T00:00:00\",\"2002-02-08T00:00:00\",\"2002-02-09T00:00:00\",\"2002-02-10T00:00:00\",\"2002-02-11T00:00:00\",\"2002-02-12T00:00:00\",\"2002-02-13T00:00:00\",\"2002-02-14T00:00:00\",\"2002-02-15T00:00:00\",\"2002-02-16T00:00:00\",\"2002-02-17T00:00:00\",\"2002-02-18T00:00:00\",\"2002-02-19T00:00:00\",\"2002-02-20T00:00:00\",\"2002-02-21T00:00:00\",\"2002-02-22T00:00:00\",\"2002-02-23T00:00:00\",\"2002-02-24T00:00:00\",\"2002-02-25T00:00:00\",\"2002-02-26T00:00:00\",\"2002-02-27T00:00:00\",\"2002-02-28T00:00:00\",\"2002-03-01T00:00:00\",\"2002-03-02T00:00:00\",\"2002-03-03T00:00:00\",\"2002-03-04T00:00:00\",\"2002-03-05T00:00:00\",\"2002-03-06T00:00:00\",\"2002-03-07T00:00:00\",\"2002-03-08T00:00:00\",\"2002-03-09T00:00:00\",\"2002-03-10T00:00:00\",\"2002-03-11T00:00:00\",\"2002-03-12T00:00:00\",\"2002-03-13T00:00:00\",\"2002-03-14T00:00:00\",\"2002-03-15T00:00:00\",\"2002-03-16T00:00:00\",\"2002-03-17T00:00:00\",\"2002-03-18T00:00:00\",\"2002-03-19T00:00:00\",\"2002-03-20T00:00:00\",\"2002-03-21T00:00:00\",\"2002-03-22T00:00:00\",\"2002-03-23T00:00:00\",\"2002-03-24T00:00:00\",\"2002-03-25T00:00:00\",\"2002-03-26T00:00:00\",\"2002-03-27T00:00:00\",\"2002-03-28T00:00:00\",\"2002-03-29T00:00:00\",\"2002-03-30T00:00:00\",\"2002-03-31T00:00:00\",\"2002-04-01T00:00:00\",\"2002-04-02T00:00:00\",\"2002-04-03T00:00:00\",\"2002-04-04T00:00:00\",\"2002-04-05T00:00:00\",\"2002-04-06T00:00:00\",\"2002-04-07T00:00:00\",\"2002-04-08T00:00:00\",\"2002-04-09T00:00:00\",\"2002-04-10T00:00:00\",\"2002-04-11T00:00:00\",\"2002-04-12T00:00:00\",\"2002-04-13T00:00:00\",\"2002-04-14T00:00:00\",\"2002-04-15T00:00:00\",\"2002-04-16T00:00:00\",\"2002-04-17T00:00:00\",\"2002-04-18T00:00:00\",\"2002-04-19T00:00:00\",\"2002-04-20T00:00:00\",\"2002-04-21T00:00:00\",\"2002-04-22T00:00:00\",\"2002-04-23T00:00:00\",\"2002-04-24T00:00:00\",\"2002-04-25T00:00:00\",\"2002-04-26T00:00:00\",\"2002-04-27T00:00:00\",\"2002-04-28T00:00:00\",\"2002-04-29T00:00:00\",\"2002-04-30T00:00:00\",\"2002-05-01T00:00:00\",\"2002-05-02T00:00:00\",\"2002-05-03T00:00:00\",\"2002-05-04T00:00:00\",\"2002-05-05T00:00:00\",\"2002-05-06T00:00:00\",\"2002-05-07T00:00:00\",\"2002-05-08T00:00:00\",\"2002-05-09T00:00:00\",\"2002-05-10T00:00:00\",\"2002-05-11T00:00:00\",\"2002-05-12T00:00:00\",\"2002-05-13T00:00:00\",\"2002-05-14T00:00:00\",\"2002-05-15T00:00:00\",\"2002-05-16T00:00:00\",\"2002-05-17T00:00:00\",\"2002-05-18T00:00:00\",\"2002-05-19T00:00:00\",\"2002-05-20T00:00:00\",\"2002-05-21T00:00:00\",\"2002-05-22T00:00:00\",\"2002-05-23T00:00:00\",\"2002-05-24T00:00:00\",\"2002-05-25T00:00:00\",\"2002-05-26T00:00:00\",\"2002-05-27T00:00:00\",\"2002-05-28T00:00:00\",\"2002-05-29T00:00:00\",\"2002-05-30T00:00:00\",\"2002-05-31T00:00:00\",\"2002-06-01T00:00:00\",\"2002-06-02T00:00:00\",\"2002-06-03T00:00:00\",\"2002-06-04T00:00:00\",\"2002-06-05T00:00:00\",\"2002-06-06T00:00:00\",\"2002-06-07T00:00:00\",\"2002-06-08T00:00:00\",\"2002-06-09T00:00:00\",\"2002-06-10T00:00:00\",\"2002-06-11T00:00:00\",\"2002-06-12T00:00:00\",\"2002-06-13T00:00:00\",\"2002-06-14T00:00:00\",\"2002-06-15T00:00:00\",\"2002-06-16T00:00:00\",\"2002-06-17T00:00:00\",\"2002-06-18T00:00:00\",\"2002-06-19T00:00:00\",\"2002-06-20T00:00:00\",\"2002-06-21T00:00:00\",\"2002-06-22T00:00:00\",\"2002-06-23T00:00:00\",\"2002-06-24T00:00:00\",\"2002-06-25T00:00:00\",\"2002-06-26T00:00:00\",\"2002-06-27T00:00:00\",\"2002-06-28T00:00:00\",\"2002-06-29T00:00:00\",\"2002-06-30T00:00:00\",\"2002-07-01T00:00:00\",\"2002-07-02T00:00:00\",\"2002-07-03T00:00:00\",\"2002-07-04T00:00:00\",\"2002-07-05T00:00:00\",\"2002-07-06T00:00:00\",\"2002-07-07T00:00:00\",\"2002-07-08T00:00:00\",\"2002-07-09T00:00:00\",\"2002-07-10T00:00:00\",\"2002-07-11T00:00:00\",\"2002-07-12T00:00:00\",\"2002-07-13T00:00:00\",\"2002-07-14T00:00:00\",\"2002-07-15T00:00:00\",\"2002-07-16T00:00:00\",\"2002-07-17T00:00:00\",\"2002-07-18T00:00:00\",\"2002-07-19T00:00:00\",\"2002-07-20T00:00:00\",\"2002-07-21T00:00:00\",\"2002-07-22T00:00:00\",\"2002-07-23T00:00:00\",\"2002-07-24T00:00:00\",\"2002-07-25T00:00:00\",\"2002-07-26T00:00:00\",\"2002-07-27T00:00:00\",\"2002-07-28T00:00:00\",\"2002-07-29T00:00:00\",\"2002-07-30T00:00:00\",\"2002-07-31T00:00:00\",\"2002-08-01T00:00:00\",\"2002-08-02T00:00:00\",\"2002-08-03T00:00:00\",\"2002-08-04T00:00:00\",\"2002-08-05T00:00:00\",\"2002-08-06T00:00:00\",\"2002-08-07T00:00:00\",\"2002-08-08T00:00:00\",\"2002-08-09T00:00:00\",\"2002-08-10T00:00:00\",\"2002-08-11T00:00:00\",\"2002-08-12T00:00:00\",\"2002-08-13T00:00:00\",\"2002-08-14T00:00:00\",\"2002-08-15T00:00:00\",\"2002-08-16T00:00:00\",\"2002-08-17T00:00:00\",\"2002-08-18T00:00:00\",\"2002-08-19T00:00:00\",\"2002-08-20T00:00:00\",\"2002-08-21T00:00:00\",\"2002-08-22T00:00:00\",\"2002-08-23T00:00:00\",\"2002-08-24T00:00:00\",\"2002-08-25T00:00:00\",\"2002-08-26T00:00:00\",\"2002-08-27T00:00:00\",\"2002-08-28T00:00:00\",\"2002-08-29T00:00:00\",\"2002-08-30T00:00:00\",\"2002-08-31T00:00:00\",\"2002-09-01T00:00:00\",\"2002-09-02T00:00:00\",\"2002-09-03T00:00:00\",\"2002-09-04T00:00:00\",\"2002-09-05T00:00:00\",\"2002-09-06T00:00:00\",\"2002-09-07T00:00:00\",\"2002-09-08T00:00:00\",\"2002-09-09T00:00:00\",\"2002-09-10T00:00:00\",\"2002-09-11T00:00:00\",\"2002-09-12T00:00:00\",\"2002-09-13T00:00:00\",\"2002-09-14T00:00:00\",\"2002-09-15T00:00:00\",\"2002-09-16T00:00:00\",\"2002-09-17T00:00:00\",\"2002-09-18T00:00:00\",\"2002-09-19T00:00:00\",\"2002-09-20T00:00:00\",\"2002-09-21T00:00:00\",\"2002-09-22T00:00:00\",\"2002-09-23T00:00:00\",\"2002-09-24T00:00:00\",\"2002-09-25T00:00:00\",\"2002-09-26T00:00:00\"],\"xaxis\":\"x\",\"y\":[0.3099599876118517,0.3099599876118517,1.4038740012222335,1.4038740012222335,1.4038740012222335,1.4038740012222335,1.4038740012222335,1.4038740012222335,1.4038740012222335,1.4038740012222335,1.4038740012222335,1.4038740012222335,1.4038740012222335,1.4038740012222335,1.4038740012222335,1.4038740012222335,1.4038740012222335,1.4038740012222335,1.4038740012222335,1.4038740012222335,1.4038740012222335,1.4038740012222335,1.4038740012222335,1.4038740012222335,1.4038740012222335,2.696345325297258,2.696345325297258,2.696345325297258,2.696345325297258,2.696345325297258,2.696345325297258,2.696345325297258,2.696345325297258,2.696345325297258,2.696345325297258,2.696345325297258,2.696345325297258,2.696345325297258,2.696345325297258,2.696345325297258,2.696345325297258,2.696345325297258,2.696345325297258,2.696345325297258,2.696345325297258,2.696345325297258,2.696345325297258,2.696345325297258,2.696345325297258,2.696345325297258,2.696345325297258,2.696345325297258,2.696345325297258,2.696345325297258,2.696345325297258,2.696345325297258,2.696345325297258,2.696345325297258,2.696345325297258,2.696345325297258,2.696345325297258,2.696345325297258,2.696345325297258,2.696345325297258,2.696345325297258,2.696345325297258,2.696345325297258,2.696345325297258,2.696345325297258,2.696345325297258,2.696345325297258,2.696345325297258,2.696345325297258,3.0692545178003674,3.0692545178003674,3.0692545178003674,3.0692545178003674,3.0692545178003674,3.0692545178003674,3.0692545178003674,3.0692545178003674,3.0692545178003674,3.0692545178003674,3.0692545178003674,3.0692545178003674,3.0692545178003674,3.0692545178003674,3.0692545178003674,3.0692545178003674,3.0692545178003674,3.0692545178003674,3.0692545178003674,3.0692545178003674,3.0692545178003674,3.0692545178003674,3.0692545178003674,3.0692545178003674,3.0692545178003674,3.0692545178003674,3.0692545178003674,3.0692545178003674,3.0692545178003674,3.0692545178003674,3.0692545178003674,3.0692545178003674,3.0692545178003674,3.0692545178003674,3.0692545178003674,3.0692545178003674,3.0692545178003674,3.0692545178003674,3.0692545178003674,3.0692545178003674,3.0692545178003674,3.0692545178003674,3.0692545178003674,3.0692545178003674,3.0692545178003674,3.0692545178003674,3.0692545178003674,3.0692545178003674,3.0692545178003674,3.0692545178003674,3.0692545178003674,3.0692545178003674,3.0692545178003674,3.0692545178003674,3.0692545178003674,3.0692545178003674,3.0692545178003674,3.0692545178003674,3.0692545178003674,3.0692545178003674,3.0692545178003674,3.0692545178003674,3.0692545178003674,3.0692545178003674,3.0692545178003674,3.0692545178003674,3.0692545178003674,3.0692545178003674,3.0692545178003674,3.0692545178003674,3.0692545178003674,3.0692545178003674,3.0692545178003674,3.0692545178003674,3.070009677022167,3.070009677022167,3.070009677022167,3.070009677022167,3.070009677022167,3.070009677022167,3.070009677022167,3.070009677022167,3.070009677022167,3.070009677022167,3.070009677022167,3.070009677022167,3.070009677022167,3.070009677022167,3.070009677022167,3.070009677022167,3.070009677022167,3.070009677022167,3.070009677022167,3.070009677022167,3.070009677022167,3.070009677022167,3.070009677022167,3.070009677022167,3.070009677022167,3.070009677022167,3.070009677022167,3.070009677022167,3.070009677022167,3.070009677022167,3.070009677022167,3.070009677022167,3.070009677022167,3.070009677022167,3.070009677022167,3.070009677022167,3.070009677022167,3.070009677022167,3.070009677022167,3.070009677022167,3.070009677022167,3.070009677022167,3.070009677022167,3.070009677022167,3.070009677022167,3.070009677022167,3.070009677022167,3.070009677022167,3.070009677022167,3.070009677022167,3.070009677022167,3.070009677022167,3.070009677022167,3.070009677022167,3.070009677022167,3.070009677022167,3.070009677022167,3.070009677022167,3.070009677022167,3.070009677022167,3.070009677022167,3.070009677022167,3.070009677022167,3.070009677022167,3.070009677022167,3.070009677022167,3.070009677022167,3.070009677022167,3.070009677022167,3.070009677022167,3.070009677022167,3.070009677022167,3.070009677022167,3.070009677022167,3.070009677022167,3.070009677022167,3.070009677022167,3.070009677022167,3.070009677022167,3.070009677022167,3.070009677022167,3.070009677022167,3.070009677022167,3.070009677022167,3.070009677022167,3.070009677022167,3.070009677022167,3.070009677022167,3.070009677022167,3.070009677022167,3.070009677022167,3.070009677022167,3.070009677022167,3.070009677022167,3.070009677022167,3.070009677022167,3.070009677022167,3.070009677022167,3.070009677022167,3.070009677022167,3.070009677022167,3.070009677022167,3.070009677022167,3.070009677022167,3.070009677022167,3.070009677022167,3.070009677022167,3.070009677022167,3.070009677022167,3.070009677022167,3.070009677022167,3.070009677022167,3.070009677022167,3.070009677022167,3.070009677022167,3.070009677022167,3.070009677022167,3.070009677022167,3.070009677022167,3.070009677022167,3.070009677022167,3.070009677022167,3.070009677022167,3.070009677022167,3.070009677022167,3.070009677022167,3.070009677022167,3.070009677022167,3.070009677022167,3.070009677022167,3.070009677022167,3.070009677022167,3.070009677022167,3.070009677022167,3.070009677022167,3.070009677022167,3.070009677022167,3.070009677022167,3.070009677022167,3.070009677022167,3.070009677022167,3.070009677022167,3.070009677022167,3.070009677022167,3.070009677022167,3.070009677022167,3.070009677022167,3.070009677022167,3.070009677022167,3.070009677022167,3.070009677022167,3.070009677022167,3.070009677022167,3.070009677022167,3.070009677022167,3.070009677022167,3.070009677022167,3.070009677022167,3.070009677022167,3.070009677022167,3.070009677022167,3.070009677022167,3.070009677022167,3.070009677022167,3.070009677022167,3.070009677022167,3.070009677022167,3.070009677022167,3.070009677022167,3.070009677022167,3.070009677022167,3.070009677022167,3.070009677022167,3.070009677022167,3.070009677022167,3.070009677022167,3.070009677022167,3.070009677022167,3.070009677022167,3.070009677022167,3.070009677022167,3.070009677022167,3.070009677022167,3.070009677022167,3.070009677022167,3.070009677022167,3.070009677022167,3.070009677022167,3.070009677022167,3.070009677022167,3.070009677022167,3.070009677022167,3.070009677022167,3.070009677022167,3.070009677022167,3.070009677022167,3.070009677022167,3.070009677022167,3.070009677022167,3.070009677022167,3.070009677022167,3.070009677022167,3.070009677022167,3.070009677022167,3.070009677022167,3.070009677022167,3.070009677022167,3.070009677022167,3.070009677022167,3.070009677022167,3.070009677022167,3.070009677022167,3.070009677022167,3.070009677022167,3.070009677022167,3.070009677022167,3.070009677022167,3.070009677022167,3.070009677022167,3.070009677022167,3.070009677022167,3.070009677022167,3.070009677022167,3.070009677022167,3.070009677022167,3.070009677022167,3.070009677022167,3.070009677022167,3.070009677022167,3.070009677022167,3.070009677022167,3.070009677022167,3.070009677022167,3.070009677022167,3.070009677022167,3.070009677022167,3.070009677022167,3.070009677022167,3.070009677022167,3.070009677022167,3.070009677022167,3.070009677022167,3.070009677022167,3.070009677022167,3.070009677022167,3.070009677022167,3.070009677022167,3.070009677022167,3.070009677022167,3.070009677022167,3.070009677022167,3.070009677022167,3.070009677022167,3.070009677022167,3.070009677022167,3.070009677022167,3.070009677022167,3.070009677022167,3.070009677022167,3.070009677022167,3.070009677022167,3.070009677022167,3.070009677022167,3.070009677022167,3.070009677022167,3.070009677022167,3.070009677022167,3.070009677022167,3.070009677022167,3.070009677022167,3.070009677022167,3.070009677022167,3.070009677022167,3.070009677022167,3.070009677022167,3.070009677022167,3.070009677022167,3.070009677022167,3.070009677022167,3.070009677022167,3.070009677022167,3.070009677022167,3.070009677022167,3.070009677022167,3.070009677022167,3.070009677022167,3.070009677022167,3.070009677022167,3.070009677022167,3.070009677022167,3.070009677022167,3.070009677022167,3.070009677022167,3.070009677022167,3.070009677022167,3.070009677022167,3.070009677022167,3.070009677022167,3.070009677022167,3.070009677022167,3.070009677022167,3.070009677022167,3.070009677022167,3.070009677022167,3.070009677022167,3.070009677022167,3.070009677022167,3.070009677022167,3.070009677022167,3.070009677022167,3.070009677022167,3.070009677022167,3.070009677022167,3.070009677022167,3.070009677022167,3.070009677022167,3.070009677022167,3.070009677022167,3.070009677022167,3.070009677022167,3.070009677022167,3.070009677022167,3.070009677022167,3.070009677022167,3.070009677022167,3.070009677022167,3.070009677022167,3.070009677022167,3.070009677022167,3.070009677022167,3.070009677022167,3.070009677022167,3.070009677022167,3.070009677022167,3.070009677022167,3.070009677022167,3.070009677022167,3.070009677022167,3.070009677022167,3.070009677022167,3.070009677022167,3.070009677022167,3.070009677022167,3.070009677022167,3.070009677022167,3.070009677022167,3.070009677022167,3.070009677022167,3.070009677022167,3.070009677022167,3.070009677022167,3.070009677022167,3.070009677022167,3.070009677022167,3.070009677022167,3.070009677022167,3.070009677022167,3.070009677022167,3.070009677022167,3.070009677022167,3.070009677022167,3.070009677022167,3.070009677022167,3.070009677022167,3.070009677022167,3.070009677022167,3.070009677022167,3.070009677022167,3.070009677022167,3.070009677022167,3.070009677022167,3.070009677022167,3.070009677022167,3.070009677022167,3.070009677022167,3.070009677022167,3.070009677022167,3.070009677022167,3.070009677022167,3.070009677022167,3.070009677022167,3.070009677022167,3.070009677022167,3.070009677022167,3.070009677022167,3.070009677022167,3.070009677022167,3.070009677022167,3.070009677022167,3.070009677022167,3.070009677022167,3.070009677022167,3.070009677022167,3.070009677022167,3.070009677022167,3.070009677022167,3.070009677022167,3.070009677022167,3.070009677022167,3.070009677022167,3.070009677022167,3.070009677022167,3.070009677022167,3.070009677022167,3.070009677022167,3.070009677022167,3.070009677022167,3.070009677022167,3.070009677022167,3.070009677022167,3.070009677022167,3.070009677022167,3.070009677022167,3.070009677022167,3.070009677022167,3.070009677022167,3.070009677022167,3.070009677022167,3.070009677022167,3.070009677022167,3.070009677022167,3.070009677022167,3.070009677022167,3.070009677022167,3.070009677022167,3.070009677022167,3.070009677022167,3.070009677022167,3.070009677022167,3.070009677022167,3.070009677022167,3.070009677022167,3.070009677022167,3.070009677022167,3.070009677022167,3.070009677022167,3.070009677022167,3.070009677022167,3.070009677022167,3.070009677022167,3.070009677022167,3.070009677022167,3.070009677022167,3.070009677022167,3.070009677022167,3.070009677022167,3.070009677022167,3.070009677022167,3.070009677022167,3.070009677022167,3.070009677022167,3.070009677022167,3.070009677022167,3.070009677022167,3.070009677022167,3.070009677022167,3.070009677022167,3.070009677022167,3.070009677022167,3.070009677022167,3.070009677022167,3.070009677022167,3.070009677022167,3.070009677022167,3.070009677022167,3.070009677022167,3.070009677022167,3.070009677022167,3.070009677022167,3.070009677022167,3.070009677022167,3.070009677022167,3.070009677022167,3.070009677022167,3.070009677022167,3.070009677022167,3.070009677022167,3.070009677022167,3.070009677022167,3.070009677022167,3.070009677022167,3.070009677022167,3.070009677022167,3.070009677022167,3.070009677022167,3.070009677022167,3.070009677022167,3.070009677022167,3.070009677022167,3.070009677022167,3.070009677022167,3.070009677022167,3.070009677022167,3.070009677022167,3.070009677022167,3.070009677022167,3.070009677022167,3.070009677022167,3.070009677022167,3.070009677022167,3.070009677022167,3.070009677022167,3.070009677022167,3.070009677022167,3.070009677022167,3.070009677022167,3.070009677022167,3.070009677022167,3.070009677022167,3.070009677022167,3.070009677022167,3.070009677022167,3.070009677022167,3.070009677022167,3.070009677022167,3.070009677022167,3.070009677022167,3.070009677022167,3.070009677022167,3.070009677022167,3.070009677022167,3.070009677022167,3.070009677022167,3.070009677022167,3.070009677022167,3.070009677022167,3.070009677022167,3.070009677022167,3.070009677022167,3.070009677022167,3.070009677022167,3.070009677022167,3.070009677022167,3.070009677022167,3.070009677022167,3.070009677022167,3.070009677022167,3.070009677022167,3.070009677022167,3.070009677022167,3.070009677022167,3.070009677022167,3.070009677022167,3.070009677022167,3.070009677022167,3.070009677022167,3.070009677022167,3.070009677022167,3.070009677022167,3.070009677022167,3.070009677022167,3.070009677022167,3.070009677022167,3.070009677022167,3.070009677022167,3.070009677022167,3.070009677022167,3.070009677022167,3.070009677022167,3.070009677022167,3.070009677022167,3.070009677022167,3.070009677022167,3.070009677022167,3.070009677022167,3.070009677022167,3.070009677022167,3.070009677022167,3.070009677022167,3.070009677022167,3.070009677022167,3.070009677022167,3.070009677022167,3.070009677022167,3.070009677022167,3.070009677022167,3.070009677022167,3.070009677022167,3.070009677022167,3.070009677022167,3.070009677022167,3.070009677022167,3.070009677022167,3.070009677022167,3.070009677022167,3.070009677022167,3.070009677022167,3.070009677022167,3.070009677022167,3.070009677022167,3.070009677022167,3.070009677022167,3.070009677022167,3.070009677022167,3.070009677022167,3.070009677022167,3.070009677022167,3.070009677022167,3.070009677022167,3.070009677022167,3.070009677022167,3.070009677022167,3.070009677022167,3.070009677022167,3.070009677022167,3.070009677022167,3.070009677022167,3.070009677022167,3.070009677022167,3.070009677022167,3.070009677022167,3.070009677022167,3.070009677022167,3.070009677022167,3.070009677022167,3.070009677022167,3.070009677022167,3.070009677022167,3.070009677022167,3.070009677022167,3.070009677022167,3.070009677022167,3.070009677022167,3.070009677022167,3.070009677022167,3.070009677022167,3.070009677022167,3.070009677022167,3.070009677022167,3.070009677022167,3.070009677022167,3.070009677022167,3.070009677022167,3.070009677022167,3.070009677022167,3.070009677022167,3.070009677022167,3.070009677022167,3.070009677022167,3.070009677022167,3.070009677022167,3.070009677022167,3.070009677022167,3.070009677022167,3.070009677022167,3.070009677022167,3.070009677022167,3.070009677022167,3.070009677022167,3.070009677022167,3.070009677022167,3.070009677022167,3.070009677022167,3.070009677022167,3.070009677022167,3.070009677022167,3.070009677022167,3.070009677022167,3.070009677022167,3.070009677022167,3.070009677022167,3.070009677022167,3.070009677022167,3.070009677022167,3.070009677022167,3.070009677022167,3.070009677022167,3.070009677022167,3.070009677022167,3.070009677022167,3.070009677022167,3.070009677022167,3.070009677022167,3.070009677022167,3.070009677022167,3.070009677022167,3.070009677022167,3.070009677022167,3.070009677022167,3.070009677022167,3.070009677022167,3.070009677022167,3.070009677022167,3.070009677022167,3.070009677022167,3.070009677022167,3.070009677022167,3.070009677022167,3.070009677022167,3.070009677022167,3.070009677022167,3.070009677022167,3.070009677022167,3.070009677022167,3.070009677022167,3.070009677022167,3.070009677022167,3.070009677022167,3.070009677022167,3.070009677022167,3.070009677022167,3.070009677022167,3.070009677022167,3.070009677022167,3.070009677022167,3.070009677022167,3.070009677022167,3.070009677022167,3.070009677022167,3.070009677022167,3.070009677022167,3.070009677022167,3.070009677022167,3.070009677022167,3.070009677022167,3.070009677022167,3.070009677022167,3.070009677022167,3.070009677022167,3.070009677022167,3.070009677022167,3.070009677022167,3.070009677022167,3.070009677022167,3.070009677022167,3.070009677022167,3.070009677022167,3.070009677022167,3.070009677022167,3.070009677022167,3.070009677022167,3.070009677022167,3.070009677022167,3.070009677022167,3.070009677022167,3.070009677022167,3.070009677022167,3.070009677022167,3.070009677022167,3.070009677022167,3.070009677022167,3.070009677022167,3.070009677022167,3.070009677022167,3.070009677022167,3.070009677022167,3.070009677022167,3.070009677022167,3.070009677022167,3.070009677022167,3.070009677022167,3.070009677022167,3.070009677022167,3.070009677022167,3.070009677022167,3.070009677022167,3.070009677022167,3.070009677022167,3.070009677022167,3.070009677022167,3.070009677022167,3.070009677022167,3.070009677022167,3.070009677022167,3.070009677022167,3.070009677022167,3.070009677022167,3.070009677022167,3.070009677022167,3.070009677022167,3.070009677022167,3.070009677022167,3.070009677022167,3.070009677022167,3.070009677022167,3.070009677022167,3.070009677022167,3.070009677022167,3.070009677022167,3.070009677022167,3.070009677022167,3.070009677022167,3.070009677022167,3.070009677022167,3.070009677022167,3.070009677022167,3.070009677022167,3.070009677022167,3.070009677022167,3.070009677022167,3.070009677022167,3.070009677022167,3.070009677022167,3.070009677022167,3.070009677022167,3.070009677022167,3.070009677022167,3.070009677022167,3.070009677022167,3.070009677022167,3.070009677022167,3.070009677022167,3.070009677022167,3.070009677022167,3.070009677022167,3.070009677022167,3.070009677022167,3.070009677022167,3.070009677022167,3.070009677022167,3.070009677022167,3.070009677022167,3.070009677022167,3.070009677022167,3.070009677022167,3.070009677022167,3.070009677022167,3.070009677022167,3.070009677022167,3.070009677022167,3.070009677022167,3.070009677022167,3.070009677022167,3.070009677022167,3.070009677022167,3.070009677022167,3.070009677022167,3.070009677022167,3.070009677022167,3.070009677022167,3.070009677022167,3.070009677022167,3.070009677022167,3.070009677022167,3.070009677022167,3.070009677022167,3.070009677022167,3.070009677022167,3.070009677022167,3.070009677022167,3.070009677022167,3.070009677022167,3.070009677022167,3.070009677022167,3.070009677022167,3.070009677022167,3.070009677022167,3.070009677022167,3.070009677022167,3.070009677022167,3.070009677022167,3.070009677022167,3.070009677022167],\"yaxis\":\"y\",\"type\":\"scattergl\"},{\"hovertemplate\":\"variable=C<br>index=%{x}<br>value=%{y}<extra></extra>\",\"legendgroup\":\"C\",\"line\":{\"color\":\"#00cc96\",\"dash\":\"solid\"},\"marker\":{\"symbol\":\"circle\"},\"mode\":\"lines\",\"name\":\"C\",\"showlegend\":true,\"x\":[\"2000-01-01T00:00:00\",\"2000-01-02T00:00:00\",\"2000-01-03T00:00:00\",\"2000-01-04T00:00:00\",\"2000-01-05T00:00:00\",\"2000-01-06T00:00:00\",\"2000-01-07T00:00:00\",\"2000-01-08T00:00:00\",\"2000-01-09T00:00:00\",\"2000-01-10T00:00:00\",\"2000-01-11T00:00:00\",\"2000-01-12T00:00:00\",\"2000-01-13T00:00:00\",\"2000-01-14T00:00:00\",\"2000-01-15T00:00:00\",\"2000-01-16T00:00:00\",\"2000-01-17T00:00:00\",\"2000-01-18T00:00:00\",\"2000-01-19T00:00:00\",\"2000-01-20T00:00:00\",\"2000-01-21T00:00:00\",\"2000-01-22T00:00:00\",\"2000-01-23T00:00:00\",\"2000-01-24T00:00:00\",\"2000-01-25T00:00:00\",\"2000-01-26T00:00:00\",\"2000-01-27T00:00:00\",\"2000-01-28T00:00:00\",\"2000-01-29T00:00:00\",\"2000-01-30T00:00:00\",\"2000-01-31T00:00:00\",\"2000-02-01T00:00:00\",\"2000-02-02T00:00:00\",\"2000-02-03T00:00:00\",\"2000-02-04T00:00:00\",\"2000-02-05T00:00:00\",\"2000-02-06T00:00:00\",\"2000-02-07T00:00:00\",\"2000-02-08T00:00:00\",\"2000-02-09T00:00:00\",\"2000-02-10T00:00:00\",\"2000-02-11T00:00:00\",\"2000-02-12T00:00:00\",\"2000-02-13T00:00:00\",\"2000-02-14T00:00:00\",\"2000-02-15T00:00:00\",\"2000-02-16T00:00:00\",\"2000-02-17T00:00:00\",\"2000-02-18T00:00:00\",\"2000-02-19T00:00:00\",\"2000-02-20T00:00:00\",\"2000-02-21T00:00:00\",\"2000-02-22T00:00:00\",\"2000-02-23T00:00:00\",\"2000-02-24T00:00:00\",\"2000-02-25T00:00:00\",\"2000-02-26T00:00:00\",\"2000-02-27T00:00:00\",\"2000-02-28T00:00:00\",\"2000-02-29T00:00:00\",\"2000-03-01T00:00:00\",\"2000-03-02T00:00:00\",\"2000-03-03T00:00:00\",\"2000-03-04T00:00:00\",\"2000-03-05T00:00:00\",\"2000-03-06T00:00:00\",\"2000-03-07T00:00:00\",\"2000-03-08T00:00:00\",\"2000-03-09T00:00:00\",\"2000-03-10T00:00:00\",\"2000-03-11T00:00:00\",\"2000-03-12T00:00:00\",\"2000-03-13T00:00:00\",\"2000-03-14T00:00:00\",\"2000-03-15T00:00:00\",\"2000-03-16T00:00:00\",\"2000-03-17T00:00:00\",\"2000-03-18T00:00:00\",\"2000-03-19T00:00:00\",\"2000-03-20T00:00:00\",\"2000-03-21T00:00:00\",\"2000-03-22T00:00:00\",\"2000-03-23T00:00:00\",\"2000-03-24T00:00:00\",\"2000-03-25T00:00:00\",\"2000-03-26T00:00:00\",\"2000-03-27T00:00:00\",\"2000-03-28T00:00:00\",\"2000-03-29T00:00:00\",\"2000-03-30T00:00:00\",\"2000-03-31T00:00:00\",\"2000-04-01T00:00:00\",\"2000-04-02T00:00:00\",\"2000-04-03T00:00:00\",\"2000-04-04T00:00:00\",\"2000-04-05T00:00:00\",\"2000-04-06T00:00:00\",\"2000-04-07T00:00:00\",\"2000-04-08T00:00:00\",\"2000-04-09T00:00:00\",\"2000-04-10T00:00:00\",\"2000-04-11T00:00:00\",\"2000-04-12T00:00:00\",\"2000-04-13T00:00:00\",\"2000-04-14T00:00:00\",\"2000-04-15T00:00:00\",\"2000-04-16T00:00:00\",\"2000-04-17T00:00:00\",\"2000-04-18T00:00:00\",\"2000-04-19T00:00:00\",\"2000-04-20T00:00:00\",\"2000-04-21T00:00:00\",\"2000-04-22T00:00:00\",\"2000-04-23T00:00:00\",\"2000-04-24T00:00:00\",\"2000-04-25T00:00:00\",\"2000-04-26T00:00:00\",\"2000-04-27T00:00:00\",\"2000-04-28T00:00:00\",\"2000-04-29T00:00:00\",\"2000-04-30T00:00:00\",\"2000-05-01T00:00:00\",\"2000-05-02T00:00:00\",\"2000-05-03T00:00:00\",\"2000-05-04T00:00:00\",\"2000-05-05T00:00:00\",\"2000-05-06T00:00:00\",\"2000-05-07T00:00:00\",\"2000-05-08T00:00:00\",\"2000-05-09T00:00:00\",\"2000-05-10T00:00:00\",\"2000-05-11T00:00:00\",\"2000-05-12T00:00:00\",\"2000-05-13T00:00:00\",\"2000-05-14T00:00:00\",\"2000-05-15T00:00:00\",\"2000-05-16T00:00:00\",\"2000-05-17T00:00:00\",\"2000-05-18T00:00:00\",\"2000-05-19T00:00:00\",\"2000-05-20T00:00:00\",\"2000-05-21T00:00:00\",\"2000-05-22T00:00:00\",\"2000-05-23T00:00:00\",\"2000-05-24T00:00:00\",\"2000-05-25T00:00:00\",\"2000-05-26T00:00:00\",\"2000-05-27T00:00:00\",\"2000-05-28T00:00:00\",\"2000-05-29T00:00:00\",\"2000-05-30T00:00:00\",\"2000-05-31T00:00:00\",\"2000-06-01T00:00:00\",\"2000-06-02T00:00:00\",\"2000-06-03T00:00:00\",\"2000-06-04T00:00:00\",\"2000-06-05T00:00:00\",\"2000-06-06T00:00:00\",\"2000-06-07T00:00:00\",\"2000-06-08T00:00:00\",\"2000-06-09T00:00:00\",\"2000-06-10T00:00:00\",\"2000-06-11T00:00:00\",\"2000-06-12T00:00:00\",\"2000-06-13T00:00:00\",\"2000-06-14T00:00:00\",\"2000-06-15T00:00:00\",\"2000-06-16T00:00:00\",\"2000-06-17T00:00:00\",\"2000-06-18T00:00:00\",\"2000-06-19T00:00:00\",\"2000-06-20T00:00:00\",\"2000-06-21T00:00:00\",\"2000-06-22T00:00:00\",\"2000-06-23T00:00:00\",\"2000-06-24T00:00:00\",\"2000-06-25T00:00:00\",\"2000-06-26T00:00:00\",\"2000-06-27T00:00:00\",\"2000-06-28T00:00:00\",\"2000-06-29T00:00:00\",\"2000-06-30T00:00:00\",\"2000-07-01T00:00:00\",\"2000-07-02T00:00:00\",\"2000-07-03T00:00:00\",\"2000-07-04T00:00:00\",\"2000-07-05T00:00:00\",\"2000-07-06T00:00:00\",\"2000-07-07T00:00:00\",\"2000-07-08T00:00:00\",\"2000-07-09T00:00:00\",\"2000-07-10T00:00:00\",\"2000-07-11T00:00:00\",\"2000-07-12T00:00:00\",\"2000-07-13T00:00:00\",\"2000-07-14T00:00:00\",\"2000-07-15T00:00:00\",\"2000-07-16T00:00:00\",\"2000-07-17T00:00:00\",\"2000-07-18T00:00:00\",\"2000-07-19T00:00:00\",\"2000-07-20T00:00:00\",\"2000-07-21T00:00:00\",\"2000-07-22T00:00:00\",\"2000-07-23T00:00:00\",\"2000-07-24T00:00:00\",\"2000-07-25T00:00:00\",\"2000-07-26T00:00:00\",\"2000-07-27T00:00:00\",\"2000-07-28T00:00:00\",\"2000-07-29T00:00:00\",\"2000-07-30T00:00:00\",\"2000-07-31T00:00:00\",\"2000-08-01T00:00:00\",\"2000-08-02T00:00:00\",\"2000-08-03T00:00:00\",\"2000-08-04T00:00:00\",\"2000-08-05T00:00:00\",\"2000-08-06T00:00:00\",\"2000-08-07T00:00:00\",\"2000-08-08T00:00:00\",\"2000-08-09T00:00:00\",\"2000-08-10T00:00:00\",\"2000-08-11T00:00:00\",\"2000-08-12T00:00:00\",\"2000-08-13T00:00:00\",\"2000-08-14T00:00:00\",\"2000-08-15T00:00:00\",\"2000-08-16T00:00:00\",\"2000-08-17T00:00:00\",\"2000-08-18T00:00:00\",\"2000-08-19T00:00:00\",\"2000-08-20T00:00:00\",\"2000-08-21T00:00:00\",\"2000-08-22T00:00:00\",\"2000-08-23T00:00:00\",\"2000-08-24T00:00:00\",\"2000-08-25T00:00:00\",\"2000-08-26T00:00:00\",\"2000-08-27T00:00:00\",\"2000-08-28T00:00:00\",\"2000-08-29T00:00:00\",\"2000-08-30T00:00:00\",\"2000-08-31T00:00:00\",\"2000-09-01T00:00:00\",\"2000-09-02T00:00:00\",\"2000-09-03T00:00:00\",\"2000-09-04T00:00:00\",\"2000-09-05T00:00:00\",\"2000-09-06T00:00:00\",\"2000-09-07T00:00:00\",\"2000-09-08T00:00:00\",\"2000-09-09T00:00:00\",\"2000-09-10T00:00:00\",\"2000-09-11T00:00:00\",\"2000-09-12T00:00:00\",\"2000-09-13T00:00:00\",\"2000-09-14T00:00:00\",\"2000-09-15T00:00:00\",\"2000-09-16T00:00:00\",\"2000-09-17T00:00:00\",\"2000-09-18T00:00:00\",\"2000-09-19T00:00:00\",\"2000-09-20T00:00:00\",\"2000-09-21T00:00:00\",\"2000-09-22T00:00:00\",\"2000-09-23T00:00:00\",\"2000-09-24T00:00:00\",\"2000-09-25T00:00:00\",\"2000-09-26T00:00:00\",\"2000-09-27T00:00:00\",\"2000-09-28T00:00:00\",\"2000-09-29T00:00:00\",\"2000-09-30T00:00:00\",\"2000-10-01T00:00:00\",\"2000-10-02T00:00:00\",\"2000-10-03T00:00:00\",\"2000-10-04T00:00:00\",\"2000-10-05T00:00:00\",\"2000-10-06T00:00:00\",\"2000-10-07T00:00:00\",\"2000-10-08T00:00:00\",\"2000-10-09T00:00:00\",\"2000-10-10T00:00:00\",\"2000-10-11T00:00:00\",\"2000-10-12T00:00:00\",\"2000-10-13T00:00:00\",\"2000-10-14T00:00:00\",\"2000-10-15T00:00:00\",\"2000-10-16T00:00:00\",\"2000-10-17T00:00:00\",\"2000-10-18T00:00:00\",\"2000-10-19T00:00:00\",\"2000-10-20T00:00:00\",\"2000-10-21T00:00:00\",\"2000-10-22T00:00:00\",\"2000-10-23T00:00:00\",\"2000-10-24T00:00:00\",\"2000-10-25T00:00:00\",\"2000-10-26T00:00:00\",\"2000-10-27T00:00:00\",\"2000-10-28T00:00:00\",\"2000-10-29T00:00:00\",\"2000-10-30T00:00:00\",\"2000-10-31T00:00:00\",\"2000-11-01T00:00:00\",\"2000-11-02T00:00:00\",\"2000-11-03T00:00:00\",\"2000-11-04T00:00:00\",\"2000-11-05T00:00:00\",\"2000-11-06T00:00:00\",\"2000-11-07T00:00:00\",\"2000-11-08T00:00:00\",\"2000-11-09T00:00:00\",\"2000-11-10T00:00:00\",\"2000-11-11T00:00:00\",\"2000-11-12T00:00:00\",\"2000-11-13T00:00:00\",\"2000-11-14T00:00:00\",\"2000-11-15T00:00:00\",\"2000-11-16T00:00:00\",\"2000-11-17T00:00:00\",\"2000-11-18T00:00:00\",\"2000-11-19T00:00:00\",\"2000-11-20T00:00:00\",\"2000-11-21T00:00:00\",\"2000-11-22T00:00:00\",\"2000-11-23T00:00:00\",\"2000-11-24T00:00:00\",\"2000-11-25T00:00:00\",\"2000-11-26T00:00:00\",\"2000-11-27T00:00:00\",\"2000-11-28T00:00:00\",\"2000-11-29T00:00:00\",\"2000-11-30T00:00:00\",\"2000-12-01T00:00:00\",\"2000-12-02T00:00:00\",\"2000-12-03T00:00:00\",\"2000-12-04T00:00:00\",\"2000-12-05T00:00:00\",\"2000-12-06T00:00:00\",\"2000-12-07T00:00:00\",\"2000-12-08T00:00:00\",\"2000-12-09T00:00:00\",\"2000-12-10T00:00:00\",\"2000-12-11T00:00:00\",\"2000-12-12T00:00:00\",\"2000-12-13T00:00:00\",\"2000-12-14T00:00:00\",\"2000-12-15T00:00:00\",\"2000-12-16T00:00:00\",\"2000-12-17T00:00:00\",\"2000-12-18T00:00:00\",\"2000-12-19T00:00:00\",\"2000-12-20T00:00:00\",\"2000-12-21T00:00:00\",\"2000-12-22T00:00:00\",\"2000-12-23T00:00:00\",\"2000-12-24T00:00:00\",\"2000-12-25T00:00:00\",\"2000-12-26T00:00:00\",\"2000-12-27T00:00:00\",\"2000-12-28T00:00:00\",\"2000-12-29T00:00:00\",\"2000-12-30T00:00:00\",\"2000-12-31T00:00:00\",\"2001-01-01T00:00:00\",\"2001-01-02T00:00:00\",\"2001-01-03T00:00:00\",\"2001-01-04T00:00:00\",\"2001-01-05T00:00:00\",\"2001-01-06T00:00:00\",\"2001-01-07T00:00:00\",\"2001-01-08T00:00:00\",\"2001-01-09T00:00:00\",\"2001-01-10T00:00:00\",\"2001-01-11T00:00:00\",\"2001-01-12T00:00:00\",\"2001-01-13T00:00:00\",\"2001-01-14T00:00:00\",\"2001-01-15T00:00:00\",\"2001-01-16T00:00:00\",\"2001-01-17T00:00:00\",\"2001-01-18T00:00:00\",\"2001-01-19T00:00:00\",\"2001-01-20T00:00:00\",\"2001-01-21T00:00:00\",\"2001-01-22T00:00:00\",\"2001-01-23T00:00:00\",\"2001-01-24T00:00:00\",\"2001-01-25T00:00:00\",\"2001-01-26T00:00:00\",\"2001-01-27T00:00:00\",\"2001-01-28T00:00:00\",\"2001-01-29T00:00:00\",\"2001-01-30T00:00:00\",\"2001-01-31T00:00:00\",\"2001-02-01T00:00:00\",\"2001-02-02T00:00:00\",\"2001-02-03T00:00:00\",\"2001-02-04T00:00:00\",\"2001-02-05T00:00:00\",\"2001-02-06T00:00:00\",\"2001-02-07T00:00:00\",\"2001-02-08T00:00:00\",\"2001-02-09T00:00:00\",\"2001-02-10T00:00:00\",\"2001-02-11T00:00:00\",\"2001-02-12T00:00:00\",\"2001-02-13T00:00:00\",\"2001-02-14T00:00:00\",\"2001-02-15T00:00:00\",\"2001-02-16T00:00:00\",\"2001-02-17T00:00:00\",\"2001-02-18T00:00:00\",\"2001-02-19T00:00:00\",\"2001-02-20T00:00:00\",\"2001-02-21T00:00:00\",\"2001-02-22T00:00:00\",\"2001-02-23T00:00:00\",\"2001-02-24T00:00:00\",\"2001-02-25T00:00:00\",\"2001-02-26T00:00:00\",\"2001-02-27T00:00:00\",\"2001-02-28T00:00:00\",\"2001-03-01T00:00:00\",\"2001-03-02T00:00:00\",\"2001-03-03T00:00:00\",\"2001-03-04T00:00:00\",\"2001-03-05T00:00:00\",\"2001-03-06T00:00:00\",\"2001-03-07T00:00:00\",\"2001-03-08T00:00:00\",\"2001-03-09T00:00:00\",\"2001-03-10T00:00:00\",\"2001-03-11T00:00:00\",\"2001-03-12T00:00:00\",\"2001-03-13T00:00:00\",\"2001-03-14T00:00:00\",\"2001-03-15T00:00:00\",\"2001-03-16T00:00:00\",\"2001-03-17T00:00:00\",\"2001-03-18T00:00:00\",\"2001-03-19T00:00:00\",\"2001-03-20T00:00:00\",\"2001-03-21T00:00:00\",\"2001-03-22T00:00:00\",\"2001-03-23T00:00:00\",\"2001-03-24T00:00:00\",\"2001-03-25T00:00:00\",\"2001-03-26T00:00:00\",\"2001-03-27T00:00:00\",\"2001-03-28T00:00:00\",\"2001-03-29T00:00:00\",\"2001-03-30T00:00:00\",\"2001-03-31T00:00:00\",\"2001-04-01T00:00:00\",\"2001-04-02T00:00:00\",\"2001-04-03T00:00:00\",\"2001-04-04T00:00:00\",\"2001-04-05T00:00:00\",\"2001-04-06T00:00:00\",\"2001-04-07T00:00:00\",\"2001-04-08T00:00:00\",\"2001-04-09T00:00:00\",\"2001-04-10T00:00:00\",\"2001-04-11T00:00:00\",\"2001-04-12T00:00:00\",\"2001-04-13T00:00:00\",\"2001-04-14T00:00:00\",\"2001-04-15T00:00:00\",\"2001-04-16T00:00:00\",\"2001-04-17T00:00:00\",\"2001-04-18T00:00:00\",\"2001-04-19T00:00:00\",\"2001-04-20T00:00:00\",\"2001-04-21T00:00:00\",\"2001-04-22T00:00:00\",\"2001-04-23T00:00:00\",\"2001-04-24T00:00:00\",\"2001-04-25T00:00:00\",\"2001-04-26T00:00:00\",\"2001-04-27T00:00:00\",\"2001-04-28T00:00:00\",\"2001-04-29T00:00:00\",\"2001-04-30T00:00:00\",\"2001-05-01T00:00:00\",\"2001-05-02T00:00:00\",\"2001-05-03T00:00:00\",\"2001-05-04T00:00:00\",\"2001-05-05T00:00:00\",\"2001-05-06T00:00:00\",\"2001-05-07T00:00:00\",\"2001-05-08T00:00:00\",\"2001-05-09T00:00:00\",\"2001-05-10T00:00:00\",\"2001-05-11T00:00:00\",\"2001-05-12T00:00:00\",\"2001-05-13T00:00:00\",\"2001-05-14T00:00:00\",\"2001-05-15T00:00:00\",\"2001-05-16T00:00:00\",\"2001-05-17T00:00:00\",\"2001-05-18T00:00:00\",\"2001-05-19T00:00:00\",\"2001-05-20T00:00:00\",\"2001-05-21T00:00:00\",\"2001-05-22T00:00:00\",\"2001-05-23T00:00:00\",\"2001-05-24T00:00:00\",\"2001-05-25T00:00:00\",\"2001-05-26T00:00:00\",\"2001-05-27T00:00:00\",\"2001-05-28T00:00:00\",\"2001-05-29T00:00:00\",\"2001-05-30T00:00:00\",\"2001-05-31T00:00:00\",\"2001-06-01T00:00:00\",\"2001-06-02T00:00:00\",\"2001-06-03T00:00:00\",\"2001-06-04T00:00:00\",\"2001-06-05T00:00:00\",\"2001-06-06T00:00:00\",\"2001-06-07T00:00:00\",\"2001-06-08T00:00:00\",\"2001-06-09T00:00:00\",\"2001-06-10T00:00:00\",\"2001-06-11T00:00:00\",\"2001-06-12T00:00:00\",\"2001-06-13T00:00:00\",\"2001-06-14T00:00:00\",\"2001-06-15T00:00:00\",\"2001-06-16T00:00:00\",\"2001-06-17T00:00:00\",\"2001-06-18T00:00:00\",\"2001-06-19T00:00:00\",\"2001-06-20T00:00:00\",\"2001-06-21T00:00:00\",\"2001-06-22T00:00:00\",\"2001-06-23T00:00:00\",\"2001-06-24T00:00:00\",\"2001-06-25T00:00:00\",\"2001-06-26T00:00:00\",\"2001-06-27T00:00:00\",\"2001-06-28T00:00:00\",\"2001-06-29T00:00:00\",\"2001-06-30T00:00:00\",\"2001-07-01T00:00:00\",\"2001-07-02T00:00:00\",\"2001-07-03T00:00:00\",\"2001-07-04T00:00:00\",\"2001-07-05T00:00:00\",\"2001-07-06T00:00:00\",\"2001-07-07T00:00:00\",\"2001-07-08T00:00:00\",\"2001-07-09T00:00:00\",\"2001-07-10T00:00:00\",\"2001-07-11T00:00:00\",\"2001-07-12T00:00:00\",\"2001-07-13T00:00:00\",\"2001-07-14T00:00:00\",\"2001-07-15T00:00:00\",\"2001-07-16T00:00:00\",\"2001-07-17T00:00:00\",\"2001-07-18T00:00:00\",\"2001-07-19T00:00:00\",\"2001-07-20T00:00:00\",\"2001-07-21T00:00:00\",\"2001-07-22T00:00:00\",\"2001-07-23T00:00:00\",\"2001-07-24T00:00:00\",\"2001-07-25T00:00:00\",\"2001-07-26T00:00:00\",\"2001-07-27T00:00:00\",\"2001-07-28T00:00:00\",\"2001-07-29T00:00:00\",\"2001-07-30T00:00:00\",\"2001-07-31T00:00:00\",\"2001-08-01T00:00:00\",\"2001-08-02T00:00:00\",\"2001-08-03T00:00:00\",\"2001-08-04T00:00:00\",\"2001-08-05T00:00:00\",\"2001-08-06T00:00:00\",\"2001-08-07T00:00:00\",\"2001-08-08T00:00:00\",\"2001-08-09T00:00:00\",\"2001-08-10T00:00:00\",\"2001-08-11T00:00:00\",\"2001-08-12T00:00:00\",\"2001-08-13T00:00:00\",\"2001-08-14T00:00:00\",\"2001-08-15T00:00:00\",\"2001-08-16T00:00:00\",\"2001-08-17T00:00:00\",\"2001-08-18T00:00:00\",\"2001-08-19T00:00:00\",\"2001-08-20T00:00:00\",\"2001-08-21T00:00:00\",\"2001-08-22T00:00:00\",\"2001-08-23T00:00:00\",\"2001-08-24T00:00:00\",\"2001-08-25T00:00:00\",\"2001-08-26T00:00:00\",\"2001-08-27T00:00:00\",\"2001-08-28T00:00:00\",\"2001-08-29T00:00:00\",\"2001-08-30T00:00:00\",\"2001-08-31T00:00:00\",\"2001-09-01T00:00:00\",\"2001-09-02T00:00:00\",\"2001-09-03T00:00:00\",\"2001-09-04T00:00:00\",\"2001-09-05T00:00:00\",\"2001-09-06T00:00:00\",\"2001-09-07T00:00:00\",\"2001-09-08T00:00:00\",\"2001-09-09T00:00:00\",\"2001-09-10T00:00:00\",\"2001-09-11T00:00:00\",\"2001-09-12T00:00:00\",\"2001-09-13T00:00:00\",\"2001-09-14T00:00:00\",\"2001-09-15T00:00:00\",\"2001-09-16T00:00:00\",\"2001-09-17T00:00:00\",\"2001-09-18T00:00:00\",\"2001-09-19T00:00:00\",\"2001-09-20T00:00:00\",\"2001-09-21T00:00:00\",\"2001-09-22T00:00:00\",\"2001-09-23T00:00:00\",\"2001-09-24T00:00:00\",\"2001-09-25T00:00:00\",\"2001-09-26T00:00:00\",\"2001-09-27T00:00:00\",\"2001-09-28T00:00:00\",\"2001-09-29T00:00:00\",\"2001-09-30T00:00:00\",\"2001-10-01T00:00:00\",\"2001-10-02T00:00:00\",\"2001-10-03T00:00:00\",\"2001-10-04T00:00:00\",\"2001-10-05T00:00:00\",\"2001-10-06T00:00:00\",\"2001-10-07T00:00:00\",\"2001-10-08T00:00:00\",\"2001-10-09T00:00:00\",\"2001-10-10T00:00:00\",\"2001-10-11T00:00:00\",\"2001-10-12T00:00:00\",\"2001-10-13T00:00:00\",\"2001-10-14T00:00:00\",\"2001-10-15T00:00:00\",\"2001-10-16T00:00:00\",\"2001-10-17T00:00:00\",\"2001-10-18T00:00:00\",\"2001-10-19T00:00:00\",\"2001-10-20T00:00:00\",\"2001-10-21T00:00:00\",\"2001-10-22T00:00:00\",\"2001-10-23T00:00:00\",\"2001-10-24T00:00:00\",\"2001-10-25T00:00:00\",\"2001-10-26T00:00:00\",\"2001-10-27T00:00:00\",\"2001-10-28T00:00:00\",\"2001-10-29T00:00:00\",\"2001-10-30T00:00:00\",\"2001-10-31T00:00:00\",\"2001-11-01T00:00:00\",\"2001-11-02T00:00:00\",\"2001-11-03T00:00:00\",\"2001-11-04T00:00:00\",\"2001-11-05T00:00:00\",\"2001-11-06T00:00:00\",\"2001-11-07T00:00:00\",\"2001-11-08T00:00:00\",\"2001-11-09T00:00:00\",\"2001-11-10T00:00:00\",\"2001-11-11T00:00:00\",\"2001-11-12T00:00:00\",\"2001-11-13T00:00:00\",\"2001-11-14T00:00:00\",\"2001-11-15T00:00:00\",\"2001-11-16T00:00:00\",\"2001-11-17T00:00:00\",\"2001-11-18T00:00:00\",\"2001-11-19T00:00:00\",\"2001-11-20T00:00:00\",\"2001-11-21T00:00:00\",\"2001-11-22T00:00:00\",\"2001-11-23T00:00:00\",\"2001-11-24T00:00:00\",\"2001-11-25T00:00:00\",\"2001-11-26T00:00:00\",\"2001-11-27T00:00:00\",\"2001-11-28T00:00:00\",\"2001-11-29T00:00:00\",\"2001-11-30T00:00:00\",\"2001-12-01T00:00:00\",\"2001-12-02T00:00:00\",\"2001-12-03T00:00:00\",\"2001-12-04T00:00:00\",\"2001-12-05T00:00:00\",\"2001-12-06T00:00:00\",\"2001-12-07T00:00:00\",\"2001-12-08T00:00:00\",\"2001-12-09T00:00:00\",\"2001-12-10T00:00:00\",\"2001-12-11T00:00:00\",\"2001-12-12T00:00:00\",\"2001-12-13T00:00:00\",\"2001-12-14T00:00:00\",\"2001-12-15T00:00:00\",\"2001-12-16T00:00:00\",\"2001-12-17T00:00:00\",\"2001-12-18T00:00:00\",\"2001-12-19T00:00:00\",\"2001-12-20T00:00:00\",\"2001-12-21T00:00:00\",\"2001-12-22T00:00:00\",\"2001-12-23T00:00:00\",\"2001-12-24T00:00:00\",\"2001-12-25T00:00:00\",\"2001-12-26T00:00:00\",\"2001-12-27T00:00:00\",\"2001-12-28T00:00:00\",\"2001-12-29T00:00:00\",\"2001-12-30T00:00:00\",\"2001-12-31T00:00:00\",\"2002-01-01T00:00:00\",\"2002-01-02T00:00:00\",\"2002-01-03T00:00:00\",\"2002-01-04T00:00:00\",\"2002-01-05T00:00:00\",\"2002-01-06T00:00:00\",\"2002-01-07T00:00:00\",\"2002-01-08T00:00:00\",\"2002-01-09T00:00:00\",\"2002-01-10T00:00:00\",\"2002-01-11T00:00:00\",\"2002-01-12T00:00:00\",\"2002-01-13T00:00:00\",\"2002-01-14T00:00:00\",\"2002-01-15T00:00:00\",\"2002-01-16T00:00:00\",\"2002-01-17T00:00:00\",\"2002-01-18T00:00:00\",\"2002-01-19T00:00:00\",\"2002-01-20T00:00:00\",\"2002-01-21T00:00:00\",\"2002-01-22T00:00:00\",\"2002-01-23T00:00:00\",\"2002-01-24T00:00:00\",\"2002-01-25T00:00:00\",\"2002-01-26T00:00:00\",\"2002-01-27T00:00:00\",\"2002-01-28T00:00:00\",\"2002-01-29T00:00:00\",\"2002-01-30T00:00:00\",\"2002-01-31T00:00:00\",\"2002-02-01T00:00:00\",\"2002-02-02T00:00:00\",\"2002-02-03T00:00:00\",\"2002-02-04T00:00:00\",\"2002-02-05T00:00:00\",\"2002-02-06T00:00:00\",\"2002-02-07T00:00:00\",\"2002-02-08T00:00:00\",\"2002-02-09T00:00:00\",\"2002-02-10T00:00:00\",\"2002-02-11T00:00:00\",\"2002-02-12T00:00:00\",\"2002-02-13T00:00:00\",\"2002-02-14T00:00:00\",\"2002-02-15T00:00:00\",\"2002-02-16T00:00:00\",\"2002-02-17T00:00:00\",\"2002-02-18T00:00:00\",\"2002-02-19T00:00:00\",\"2002-02-20T00:00:00\",\"2002-02-21T00:00:00\",\"2002-02-22T00:00:00\",\"2002-02-23T00:00:00\",\"2002-02-24T00:00:00\",\"2002-02-25T00:00:00\",\"2002-02-26T00:00:00\",\"2002-02-27T00:00:00\",\"2002-02-28T00:00:00\",\"2002-03-01T00:00:00\",\"2002-03-02T00:00:00\",\"2002-03-03T00:00:00\",\"2002-03-04T00:00:00\",\"2002-03-05T00:00:00\",\"2002-03-06T00:00:00\",\"2002-03-07T00:00:00\",\"2002-03-08T00:00:00\",\"2002-03-09T00:00:00\",\"2002-03-10T00:00:00\",\"2002-03-11T00:00:00\",\"2002-03-12T00:00:00\",\"2002-03-13T00:00:00\",\"2002-03-14T00:00:00\",\"2002-03-15T00:00:00\",\"2002-03-16T00:00:00\",\"2002-03-17T00:00:00\",\"2002-03-18T00:00:00\",\"2002-03-19T00:00:00\",\"2002-03-20T00:00:00\",\"2002-03-21T00:00:00\",\"2002-03-22T00:00:00\",\"2002-03-23T00:00:00\",\"2002-03-24T00:00:00\",\"2002-03-25T00:00:00\",\"2002-03-26T00:00:00\",\"2002-03-27T00:00:00\",\"2002-03-28T00:00:00\",\"2002-03-29T00:00:00\",\"2002-03-30T00:00:00\",\"2002-03-31T00:00:00\",\"2002-04-01T00:00:00\",\"2002-04-02T00:00:00\",\"2002-04-03T00:00:00\",\"2002-04-04T00:00:00\",\"2002-04-05T00:00:00\",\"2002-04-06T00:00:00\",\"2002-04-07T00:00:00\",\"2002-04-08T00:00:00\",\"2002-04-09T00:00:00\",\"2002-04-10T00:00:00\",\"2002-04-11T00:00:00\",\"2002-04-12T00:00:00\",\"2002-04-13T00:00:00\",\"2002-04-14T00:00:00\",\"2002-04-15T00:00:00\",\"2002-04-16T00:00:00\",\"2002-04-17T00:00:00\",\"2002-04-18T00:00:00\",\"2002-04-19T00:00:00\",\"2002-04-20T00:00:00\",\"2002-04-21T00:00:00\",\"2002-04-22T00:00:00\",\"2002-04-23T00:00:00\",\"2002-04-24T00:00:00\",\"2002-04-25T00:00:00\",\"2002-04-26T00:00:00\",\"2002-04-27T00:00:00\",\"2002-04-28T00:00:00\",\"2002-04-29T00:00:00\",\"2002-04-30T00:00:00\",\"2002-05-01T00:00:00\",\"2002-05-02T00:00:00\",\"2002-05-03T00:00:00\",\"2002-05-04T00:00:00\",\"2002-05-05T00:00:00\",\"2002-05-06T00:00:00\",\"2002-05-07T00:00:00\",\"2002-05-08T00:00:00\",\"2002-05-09T00:00:00\",\"2002-05-10T00:00:00\",\"2002-05-11T00:00:00\",\"2002-05-12T00:00:00\",\"2002-05-13T00:00:00\",\"2002-05-14T00:00:00\",\"2002-05-15T00:00:00\",\"2002-05-16T00:00:00\",\"2002-05-17T00:00:00\",\"2002-05-18T00:00:00\",\"2002-05-19T00:00:00\",\"2002-05-20T00:00:00\",\"2002-05-21T00:00:00\",\"2002-05-22T00:00:00\",\"2002-05-23T00:00:00\",\"2002-05-24T00:00:00\",\"2002-05-25T00:00:00\",\"2002-05-26T00:00:00\",\"2002-05-27T00:00:00\",\"2002-05-28T00:00:00\",\"2002-05-29T00:00:00\",\"2002-05-30T00:00:00\",\"2002-05-31T00:00:00\",\"2002-06-01T00:00:00\",\"2002-06-02T00:00:00\",\"2002-06-03T00:00:00\",\"2002-06-04T00:00:00\",\"2002-06-05T00:00:00\",\"2002-06-06T00:00:00\",\"2002-06-07T00:00:00\",\"2002-06-08T00:00:00\",\"2002-06-09T00:00:00\",\"2002-06-10T00:00:00\",\"2002-06-11T00:00:00\",\"2002-06-12T00:00:00\",\"2002-06-13T00:00:00\",\"2002-06-14T00:00:00\",\"2002-06-15T00:00:00\",\"2002-06-16T00:00:00\",\"2002-06-17T00:00:00\",\"2002-06-18T00:00:00\",\"2002-06-19T00:00:00\",\"2002-06-20T00:00:00\",\"2002-06-21T00:00:00\",\"2002-06-22T00:00:00\",\"2002-06-23T00:00:00\",\"2002-06-24T00:00:00\",\"2002-06-25T00:00:00\",\"2002-06-26T00:00:00\",\"2002-06-27T00:00:00\",\"2002-06-28T00:00:00\",\"2002-06-29T00:00:00\",\"2002-06-30T00:00:00\",\"2002-07-01T00:00:00\",\"2002-07-02T00:00:00\",\"2002-07-03T00:00:00\",\"2002-07-04T00:00:00\",\"2002-07-05T00:00:00\",\"2002-07-06T00:00:00\",\"2002-07-07T00:00:00\",\"2002-07-08T00:00:00\",\"2002-07-09T00:00:00\",\"2002-07-10T00:00:00\",\"2002-07-11T00:00:00\",\"2002-07-12T00:00:00\",\"2002-07-13T00:00:00\",\"2002-07-14T00:00:00\",\"2002-07-15T00:00:00\",\"2002-07-16T00:00:00\",\"2002-07-17T00:00:00\",\"2002-07-18T00:00:00\",\"2002-07-19T00:00:00\",\"2002-07-20T00:00:00\",\"2002-07-21T00:00:00\",\"2002-07-22T00:00:00\",\"2002-07-23T00:00:00\",\"2002-07-24T00:00:00\",\"2002-07-25T00:00:00\",\"2002-07-26T00:00:00\",\"2002-07-27T00:00:00\",\"2002-07-28T00:00:00\",\"2002-07-29T00:00:00\",\"2002-07-30T00:00:00\",\"2002-07-31T00:00:00\",\"2002-08-01T00:00:00\",\"2002-08-02T00:00:00\",\"2002-08-03T00:00:00\",\"2002-08-04T00:00:00\",\"2002-08-05T00:00:00\",\"2002-08-06T00:00:00\",\"2002-08-07T00:00:00\",\"2002-08-08T00:00:00\",\"2002-08-09T00:00:00\",\"2002-08-10T00:00:00\",\"2002-08-11T00:00:00\",\"2002-08-12T00:00:00\",\"2002-08-13T00:00:00\",\"2002-08-14T00:00:00\",\"2002-08-15T00:00:00\",\"2002-08-16T00:00:00\",\"2002-08-17T00:00:00\",\"2002-08-18T00:00:00\",\"2002-08-19T00:00:00\",\"2002-08-20T00:00:00\",\"2002-08-21T00:00:00\",\"2002-08-22T00:00:00\",\"2002-08-23T00:00:00\",\"2002-08-24T00:00:00\",\"2002-08-25T00:00:00\",\"2002-08-26T00:00:00\",\"2002-08-27T00:00:00\",\"2002-08-28T00:00:00\",\"2002-08-29T00:00:00\",\"2002-08-30T00:00:00\",\"2002-08-31T00:00:00\",\"2002-09-01T00:00:00\",\"2002-09-02T00:00:00\",\"2002-09-03T00:00:00\",\"2002-09-04T00:00:00\",\"2002-09-05T00:00:00\",\"2002-09-06T00:00:00\",\"2002-09-07T00:00:00\",\"2002-09-08T00:00:00\",\"2002-09-09T00:00:00\",\"2002-09-10T00:00:00\",\"2002-09-11T00:00:00\",\"2002-09-12T00:00:00\",\"2002-09-13T00:00:00\",\"2002-09-14T00:00:00\",\"2002-09-15T00:00:00\",\"2002-09-16T00:00:00\",\"2002-09-17T00:00:00\",\"2002-09-18T00:00:00\",\"2002-09-19T00:00:00\",\"2002-09-20T00:00:00\",\"2002-09-21T00:00:00\",\"2002-09-22T00:00:00\",\"2002-09-23T00:00:00\",\"2002-09-24T00:00:00\",\"2002-09-25T00:00:00\",\"2002-09-26T00:00:00\"],\"xaxis\":\"x\",\"y\":[0.29340029939417644,0.29340029939417644,0.5253857463856025,0.5253857463856025,0.7757296945533212,0.7757296945533212,0.7757296945533212,0.7757296945533212,0.7757296945533212,0.7757296945533212,0.7757296945533212,1.387852930790807,1.640321729075144,1.640321729075144,1.640321729075144,1.640321729075144,1.640321729075144,1.640321729075144,2.7529541168504648,2.7529541168504648,2.7529541168504648,2.7529541168504648,2.7529541168504648,2.7529541168504648,2.7529541168504648,2.7529541168504648,2.7529541168504648,2.7529541168504648,2.7529541168504648,2.7529541168504648,2.7529541168504648,2.7529541168504648,2.7529541168504648,2.7529541168504648,2.7529541168504648,2.7529541168504648,2.7529541168504648,2.7529541168504648,2.7529541168504648,2.7529541168504648,2.7529541168504648,2.7529541168504648,2.7529541168504648,2.7529541168504648,2.7529541168504648,2.7529541168504648,2.7529541168504648,2.7529541168504648,2.7529541168504648,2.7529541168504648,2.7529541168504648,2.7529541168504648,2.7529541168504648,2.7529541168504648,2.7529541168504648,2.7529541168504648,2.7529541168504648,2.7529541168504648,2.7529541168504648,2.7529541168504648,2.7529541168504648,2.7529541168504648,2.7529541168504648,2.7529541168504648,2.7529541168504648,2.7529541168504648,2.7529541168504648,2.7529541168504648,2.7529541168504648,2.7529541168504648,2.7529541168504648,2.7529541168504648,2.7529541168504648,2.7529541168504648,2.7529541168504648,2.7529541168504648,2.7529541168504648,2.7529541168504648,2.7529541168504648,2.7529541168504648,2.7529541168504648,2.7529541168504648,2.7529541168504648,2.7529541168504648,2.7529541168504648,2.7529541168504648,2.7529541168504648,2.7529541168504648,2.7529541168504648,2.7529541168504648,2.7529541168504648,2.7529541168504648,2.7529541168504648,2.7529541168504648,2.7529541168504648,2.7529541168504648,2.7529541168504648,2.7529541168504648,2.7529541168504648,2.7529541168504648,2.7529541168504648,2.7529541168504648,2.7529541168504648,2.7529541168504648,2.7529541168504648,2.7529541168504648,2.7529541168504648,2.7529541168504648,2.7529541168504648,2.7529541168504648,2.7529541168504648,2.7529541168504648,2.7529541168504648,2.7529541168504648,2.7529541168504648,2.7529541168504648,2.7529541168504648,2.7529541168504648,2.7529541168504648,2.7529541168504648,2.7529541168504648,2.7529541168504648,2.7529541168504648,2.7529541168504648,2.7529541168504648,2.7529541168504648,2.7529541168504648,2.7529541168504648,2.7529541168504648,2.7529541168504648,2.7529541168504648,2.7529541168504648,2.7529541168504648,2.7529541168504648,2.7529541168504648,2.7529541168504648,2.7529541168504648,2.7529541168504648,2.7529541168504648,2.7529541168504648,2.7529541168504648,2.7529541168504648,2.7529541168504648,2.7529541168504648,2.7529541168504648,2.7529541168504648,2.7529541168504648,2.7529541168504648,2.7529541168504648,2.7529541168504648,2.7529541168504648,2.7529541168504648,2.7529541168504648,2.7529541168504648,2.7529541168504648,2.7529541168504648,2.7529541168504648,2.7529541168504648,2.7529541168504648,2.7529541168504648,2.7529541168504648,2.7529541168504648,2.7529541168504648,2.7529541168504648,2.7529541168504648,2.7529541168504648,2.7529541168504648,2.7529541168504648,2.7529541168504648,2.7529541168504648,2.7529541168504648,2.7529541168504648,2.7529541168504648,2.7529541168504648,2.7529541168504648,2.7529541168504648,2.7529541168504648,2.7529541168504648,2.7529541168504648,2.7529541168504648,2.7529541168504648,2.7529541168504648,2.7529541168504648,2.7529541168504648,2.7529541168504648,2.7529541168504648,2.7529541168504648,2.7529541168504648,2.7529541168504648,2.7529541168504648,2.7529541168504648,2.7529541168504648,2.7529541168504648,2.7529541168504648,2.7529541168504648,2.7529541168504648,2.7529541168504648,2.7529541168504648,2.7529541168504648,2.7529541168504648,2.7529541168504648,2.7529541168504648,2.7529541168504648,2.7529541168504648,2.7529541168504648,2.7529541168504648,2.7529541168504648,2.7529541168504648,2.7529541168504648,2.7529541168504648,2.7529541168504648,2.7529541168504648,2.7529541168504648,2.7529541168504648,2.7529541168504648,2.7529541168504648,2.7529541168504648,2.7529541168504648,2.7529541168504648,2.7529541168504648,2.7529541168504648,2.7529541168504648,2.7529541168504648,2.7529541168504648,2.7529541168504648,2.7529541168504648,2.7529541168504648,2.7529541168504648,2.7529541168504648,2.7529541168504648,2.7529541168504648,2.7529541168504648,2.7529541168504648,2.7529541168504648,2.7529541168504648,2.7529541168504648,2.7529541168504648,2.7529541168504648,2.7529541168504648,2.7529541168504648,2.7529541168504648,2.7529541168504648,2.7529541168504648,2.7529541168504648,2.7529541168504648,2.7529541168504648,2.7529541168504648,2.7529541168504648,2.7529541168504648,2.7529541168504648,2.7529541168504648,2.7529541168504648,2.7529541168504648,2.7529541168504648,2.7529541168504648,2.7529541168504648,2.7529541168504648,2.7529541168504648,2.7529541168504648,2.7529541168504648,2.7529541168504648,2.7529541168504648,2.7529541168504648,2.7529541168504648,2.7529541168504648,2.7529541168504648,2.7529541168504648,2.7529541168504648,2.7529541168504648,2.7529541168504648,2.7529541168504648,2.7529541168504648,2.7529541168504648,2.7529541168504648,2.7529541168504648,2.7529541168504648,2.7529541168504648,2.7529541168504648,2.7529541168504648,2.7529541168504648,2.7529541168504648,2.7529541168504648,2.7529541168504648,2.7529541168504648,2.7529541168504648,2.7529541168504648,2.7529541168504648,2.7529541168504648,2.7529541168504648,2.7529541168504648,2.7529541168504648,2.7529541168504648,2.7529541168504648,2.7529541168504648,2.7529541168504648,2.7529541168504648,2.7529541168504648,2.7529541168504648,2.7529541168504648,2.7529541168504648,2.7529541168504648,2.7529541168504648,2.7529541168504648,2.7529541168504648,2.7529541168504648,2.7529541168504648,2.7529541168504648,2.7529541168504648,2.7529541168504648,2.7529541168504648,2.7529541168504648,2.7529541168504648,2.7529541168504648,2.7529541168504648,2.7529541168504648,2.7529541168504648,2.7529541168504648,2.7529541168504648,2.7529541168504648,2.7529541168504648,2.7529541168504648,2.7529541168504648,2.7529541168504648,2.7529541168504648,2.7529541168504648,2.7529541168504648,2.7529541168504648,2.7529541168504648,2.7529541168504648,2.7529541168504648,2.7529541168504648,2.7529541168504648,2.7529541168504648,2.7529541168504648,2.7529541168504648,2.7529541168504648,2.7529541168504648,2.7529541168504648,2.7529541168504648,2.7529541168504648,2.7529541168504648,2.7529541168504648,2.7529541168504648,2.7529541168504648,2.7529541168504648,2.7529541168504648,2.7529541168504648,2.7529541168504648,2.7529541168504648,2.7529541168504648,2.7529541168504648,2.7529541168504648,2.7529541168504648,2.7529541168504648,2.7529541168504648,2.7529541168504648,2.7529541168504648,2.7529541168504648,2.7529541168504648,2.7529541168504648,2.7529541168504648,2.7529541168504648,2.7529541168504648,2.7529541168504648,2.7529541168504648,2.7529541168504648,2.7529541168504648,2.7529541168504648,2.7529541168504648,2.7529541168504648,2.7529541168504648,2.7529541168504648,2.7529541168504648,2.7529541168504648,2.7529541168504648,2.7529541168504648,2.7529541168504648,2.7529541168504648,2.7529541168504648,2.7529541168504648,2.7529541168504648,2.7529541168504648,2.7529541168504648,2.7529541168504648,2.7529541168504648,2.7529541168504648,2.7529541168504648,2.7529541168504648,2.7529541168504648,2.7529541168504648,2.7529541168504648,2.7529541168504648,2.7529541168504648,2.8331061082281606,2.8331061082281606,2.8331061082281606,2.8331061082281606,2.8331061082281606,2.8331061082281606,2.8331061082281606,2.8331061082281606,2.8331061082281606,2.8331061082281606,2.8331061082281606,2.8331061082281606,2.8331061082281606,2.8331061082281606,2.8331061082281606,2.8331061082281606,2.8331061082281606,2.8331061082281606,2.8331061082281606,2.8331061082281606,2.8331061082281606,2.8331061082281606,2.8331061082281606,2.8331061082281606,2.8331061082281606,2.8331061082281606,2.8331061082281606,2.8331061082281606,2.8331061082281606,2.8331061082281606,2.8331061082281606,2.8331061082281606,2.8331061082281606,2.8331061082281606,2.8331061082281606,2.8331061082281606,2.8331061082281606,2.8331061082281606,2.8331061082281606,2.8331061082281606,2.8331061082281606,2.8331061082281606,2.8331061082281606,2.8331061082281606,2.8331061082281606,2.8331061082281606,2.8331061082281606,2.8331061082281606,2.8331061082281606,2.8331061082281606,2.8331061082281606,2.8331061082281606,2.8331061082281606,2.8331061082281606,2.8331061082281606,2.8331061082281606,2.8331061082281606,2.8331061082281606,2.8331061082281606,2.8331061082281606,2.8331061082281606,2.8331061082281606,2.8331061082281606,2.8331061082281606,2.8331061082281606,2.8331061082281606,2.8331061082281606,2.8331061082281606,2.8331061082281606,2.8331061082281606,2.8331061082281606,2.8331061082281606,2.8331061082281606,2.8331061082281606,2.8331061082281606,2.8331061082281606,2.8331061082281606,2.8331061082281606,2.8331061082281606,2.8331061082281606,2.8331061082281606,2.8331061082281606,2.8331061082281606,2.8331061082281606,2.8331061082281606,2.8331061082281606,2.8331061082281606,2.8331061082281606,2.8331061082281606,2.8331061082281606,2.8331061082281606,2.8331061082281606,2.8331061082281606,2.8331061082281606,2.8331061082281606,2.8331061082281606,2.8331061082281606,2.8331061082281606,2.8331061082281606,2.8331061082281606,2.8331061082281606,2.8331061082281606,2.8331061082281606,2.8331061082281606,2.8331061082281606,2.8331061082281606,2.8331061082281606,2.8331061082281606,2.8331061082281606,2.8331061082281606,2.8331061082281606,2.8331061082281606,2.8331061082281606,2.8331061082281606,2.8331061082281606,2.8331061082281606,2.8331061082281606,2.8331061082281606,2.8331061082281606,2.8331061082281606,2.8331061082281606,2.8331061082281606,2.8331061082281606,2.8331061082281606,2.8331061082281606,2.8331061082281606,2.8331061082281606,2.8331061082281606,2.8331061082281606,2.8331061082281606,2.8331061082281606,2.8331061082281606,2.8331061082281606,2.8331061082281606,2.8331061082281606,2.8331061082281606,2.8331061082281606,2.8331061082281606,2.8331061082281606,2.8331061082281606,2.8331061082281606,2.8331061082281606,2.8331061082281606,2.8331061082281606,2.8331061082281606,2.8331061082281606,2.8331061082281606,2.8331061082281606,2.8331061082281606,2.8331061082281606,2.8331061082281606,2.8331061082281606,2.8331061082281606,2.8331061082281606,2.8331061082281606,2.8331061082281606,2.8331061082281606,2.8331061082281606,2.8331061082281606,2.8331061082281606,2.8331061082281606,2.8331061082281606,2.8331061082281606,2.8331061082281606,2.8331061082281606,2.8331061082281606,2.8331061082281606,2.8331061082281606,2.8331061082281606,2.8331061082281606,2.8331061082281606,2.8331061082281606,2.8331061082281606,2.8331061082281606,2.8331061082281606,2.8331061082281606,2.8331061082281606,2.8331061082281606,2.8331061082281606,2.8331061082281606,2.8331061082281606,2.8331061082281606,2.8331061082281606,2.8331061082281606,2.8331061082281606,2.8331061082281606,2.8331061082281606,2.8331061082281606,2.8331061082281606,2.8331061082281606,2.8331061082281606,2.8331061082281606,2.8331061082281606,2.8331061082281606,2.8331061082281606,2.8331061082281606,2.8331061082281606,2.8331061082281606,2.8331061082281606,2.8331061082281606,2.8331061082281606,2.8331061082281606,2.8331061082281606,2.8331061082281606,2.8331061082281606,2.8331061082281606,2.8331061082281606,2.8331061082281606,2.8331061082281606,2.8331061082281606,2.8331061082281606,2.8331061082281606,2.8331061082281606,2.8331061082281606,2.8331061082281606,2.8331061082281606,2.8331061082281606,2.8331061082281606,2.8331061082281606,2.8331061082281606,2.8331061082281606,2.8331061082281606,2.8331061082281606,2.8331061082281606,2.8331061082281606,2.8331061082281606,2.8331061082281606,2.8331061082281606,2.8331061082281606,2.8331061082281606,2.8331061082281606,2.8331061082281606,2.8331061082281606,2.8331061082281606,2.8331061082281606,2.8331061082281606,2.8331061082281606,2.8331061082281606,2.8331061082281606,2.8331061082281606,2.8331061082281606,2.8331061082281606,2.8331061082281606,2.8331061082281606,2.8331061082281606,2.8331061082281606,2.8331061082281606,2.8331061082281606,2.8331061082281606,2.8331061082281606,2.8331061082281606,2.8331061082281606,2.8331061082281606,2.8331061082281606,2.8331061082281606,2.8331061082281606,2.8331061082281606,2.8331061082281606,2.8331061082281606,2.8331061082281606,2.8331061082281606,2.8331061082281606,2.8331061082281606,2.8331061082281606,2.8331061082281606,2.8331061082281606,2.8331061082281606,2.8331061082281606,2.8331061082281606,2.8331061082281606,2.8331061082281606,2.8331061082281606,2.8331061082281606,2.8331061082281606,2.8331061082281606,2.8331061082281606,2.8331061082281606,2.8331061082281606,2.8331061082281606,2.8331061082281606,2.8331061082281606,2.8331061082281606,2.8331061082281606,2.8331061082281606,2.8331061082281606,2.8331061082281606,2.8331061082281606,2.8331061082281606,2.8331061082281606,2.8331061082281606,2.8331061082281606,2.8331061082281606,2.8331061082281606,2.8331061082281606,2.8331061082281606,2.8331061082281606,2.8331061082281606,2.8331061082281606,2.8331061082281606,2.8331061082281606,2.8331061082281606,2.8331061082281606,2.8331061082281606,2.8331061082281606,2.8331061082281606,2.8331061082281606,2.8331061082281606,2.8331061082281606,2.8331061082281606,2.8331061082281606,2.8331061082281606,2.8331061082281606,2.8331061082281606,2.8331061082281606,2.8331061082281606,2.8331061082281606,2.8331061082281606,2.8331061082281606,2.8331061082281606,2.8331061082281606,3.478071780743864,3.478071780743864,3.478071780743864,3.478071780743864,3.478071780743864,3.478071780743864,3.478071780743864,3.478071780743864,3.478071780743864,3.478071780743864,3.478071780743864,3.478071780743864,3.478071780743864,3.478071780743864,3.478071780743864,3.478071780743864,3.478071780743864,3.478071780743864,3.478071780743864,3.478071780743864,3.478071780743864,3.478071780743864,3.478071780743864,3.478071780743864,3.478071780743864,3.478071780743864,3.478071780743864,3.478071780743864,3.478071780743864,3.478071780743864,3.478071780743864,3.478071780743864,3.478071780743864,3.478071780743864,3.478071780743864,3.478071780743864,3.478071780743864,3.478071780743864,3.478071780743864,3.478071780743864,3.478071780743864,3.478071780743864,3.478071780743864,3.478071780743864,3.478071780743864,3.478071780743864,3.478071780743864,3.478071780743864,3.478071780743864,3.478071780743864,3.478071780743864,3.478071780743864,3.478071780743864,3.478071780743864,3.478071780743864,3.478071780743864,3.478071780743864,3.478071780743864,3.478071780743864,3.478071780743864,3.478071780743864,3.478071780743864,3.478071780743864,3.478071780743864,3.478071780743864,3.478071780743864,3.478071780743864,3.478071780743864,3.478071780743864,3.478071780743864,3.478071780743864,3.478071780743864,3.478071780743864,3.478071780743864,3.478071780743864,3.478071780743864,3.478071780743864,3.478071780743864,3.478071780743864,3.478071780743864,3.478071780743864,3.478071780743864,3.478071780743864,3.478071780743864,3.478071780743864,3.478071780743864,3.478071780743864,3.478071780743864,3.478071780743864,3.478071780743864,3.478071780743864,3.478071780743864,3.478071780743864,3.478071780743864,3.478071780743864,3.478071780743864,3.478071780743864,3.478071780743864,3.478071780743864,3.478071780743864,3.478071780743864,3.478071780743864,3.478071780743864,3.478071780743864,3.478071780743864,3.478071780743864,3.478071780743864,3.478071780743864,3.478071780743864,3.478071780743864,3.478071780743864,3.478071780743864,3.478071780743864,3.478071780743864,3.478071780743864,3.478071780743864,3.478071780743864,3.478071780743864,3.478071780743864,3.478071780743864,3.478071780743864,3.478071780743864,3.478071780743864,3.478071780743864,3.478071780743864,3.478071780743864,3.478071780743864,3.478071780743864,3.478071780743864,3.478071780743864,3.478071780743864,3.478071780743864,3.478071780743864,3.478071780743864,3.478071780743864,3.478071780743864,3.478071780743864,3.478071780743864,3.478071780743864,3.478071780743864,3.478071780743864,3.478071780743864,3.478071780743864,3.478071780743864,3.478071780743864,3.478071780743864,3.478071780743864,3.478071780743864,3.478071780743864,3.478071780743864,3.478071780743864,3.478071780743864,3.478071780743864,3.478071780743864,3.478071780743864,3.478071780743864,3.478071780743864,3.478071780743864,3.478071780743864,3.478071780743864,3.478071780743864,3.478071780743864,3.478071780743864,3.478071780743864,3.478071780743864,3.478071780743864,3.478071780743864,3.478071780743864,3.478071780743864,3.478071780743864,3.478071780743864,3.478071780743864,3.478071780743864,3.478071780743864,3.478071780743864,3.478071780743864,3.478071780743864,3.478071780743864,3.478071780743864,3.478071780743864,3.478071780743864,3.478071780743864,3.478071780743864,3.478071780743864,3.478071780743864,3.478071780743864,3.478071780743864,3.478071780743864,3.478071780743864,3.478071780743864,3.478071780743864,3.478071780743864,3.478071780743864,3.478071780743864,3.478071780743864,3.478071780743864,3.478071780743864,3.478071780743864,3.478071780743864,3.478071780743864,3.478071780743864,3.478071780743864,3.478071780743864,3.478071780743864,3.478071780743864,3.478071780743864,3.478071780743864,3.478071780743864,3.478071780743864,3.478071780743864,3.478071780743864,3.478071780743864,3.478071780743864,3.478071780743864,3.478071780743864,3.478071780743864,3.478071780743864,3.478071780743864,3.478071780743864,3.478071780743864,3.478071780743864,3.478071780743864,3.478071780743864,3.478071780743864,3.478071780743864,3.478071780743864,3.478071780743864,3.478071780743864,3.478071780743864,3.478071780743864,3.478071780743864,3.478071780743864,3.478071780743864,3.478071780743864,3.478071780743864,3.478071780743864,3.478071780743864,3.478071780743864,3.478071780743864,3.478071780743864,3.478071780743864,3.478071780743864,3.478071780743864,3.478071780743864,3.478071780743864,3.478071780743864,3.478071780743864,3.478071780743864,3.478071780743864,3.478071780743864,3.478071780743864,3.478071780743864,3.478071780743864,3.478071780743864,3.478071780743864,3.478071780743864,3.478071780743864,3.478071780743864,3.478071780743864,3.478071780743864,3.478071780743864,3.478071780743864,3.478071780743864,3.478071780743864,3.478071780743864,3.478071780743864,3.478071780743864,3.478071780743864,3.478071780743864,3.478071780743864,3.478071780743864,3.478071780743864,3.478071780743864,3.478071780743864,3.478071780743864,3.478071780743864,3.478071780743864,3.478071780743864,3.478071780743864,3.478071780743864,3.478071780743864,3.478071780743864,3.478071780743864,3.478071780743864,3.478071780743864,3.478071780743864,3.478071780743864],\"yaxis\":\"y\",\"type\":\"scattergl\"},{\"hovertemplate\":\"variable=D<br>index=%{x}<br>value=%{y}<extra></extra>\",\"legendgroup\":\"D\",\"line\":{\"color\":\"#ab63fa\",\"dash\":\"solid\"},\"marker\":{\"symbol\":\"circle\"},\"mode\":\"lines\",\"name\":\"D\",\"showlegend\":true,\"x\":[\"2000-01-01T00:00:00\",\"2000-01-02T00:00:00\",\"2000-01-03T00:00:00\",\"2000-01-04T00:00:00\",\"2000-01-05T00:00:00\",\"2000-01-06T00:00:00\",\"2000-01-07T00:00:00\",\"2000-01-08T00:00:00\",\"2000-01-09T00:00:00\",\"2000-01-10T00:00:00\",\"2000-01-11T00:00:00\",\"2000-01-12T00:00:00\",\"2000-01-13T00:00:00\",\"2000-01-14T00:00:00\",\"2000-01-15T00:00:00\",\"2000-01-16T00:00:00\",\"2000-01-17T00:00:00\",\"2000-01-18T00:00:00\",\"2000-01-19T00:00:00\",\"2000-01-20T00:00:00\",\"2000-01-21T00:00:00\",\"2000-01-22T00:00:00\",\"2000-01-23T00:00:00\",\"2000-01-24T00:00:00\",\"2000-01-25T00:00:00\",\"2000-01-26T00:00:00\",\"2000-01-27T00:00:00\",\"2000-01-28T00:00:00\",\"2000-01-29T00:00:00\",\"2000-01-30T00:00:00\",\"2000-01-31T00:00:00\",\"2000-02-01T00:00:00\",\"2000-02-02T00:00:00\",\"2000-02-03T00:00:00\",\"2000-02-04T00:00:00\",\"2000-02-05T00:00:00\",\"2000-02-06T00:00:00\",\"2000-02-07T00:00:00\",\"2000-02-08T00:00:00\",\"2000-02-09T00:00:00\",\"2000-02-10T00:00:00\",\"2000-02-11T00:00:00\",\"2000-02-12T00:00:00\",\"2000-02-13T00:00:00\",\"2000-02-14T00:00:00\",\"2000-02-15T00:00:00\",\"2000-02-16T00:00:00\",\"2000-02-17T00:00:00\",\"2000-02-18T00:00:00\",\"2000-02-19T00:00:00\",\"2000-02-20T00:00:00\",\"2000-02-21T00:00:00\",\"2000-02-22T00:00:00\",\"2000-02-23T00:00:00\",\"2000-02-24T00:00:00\",\"2000-02-25T00:00:00\",\"2000-02-26T00:00:00\",\"2000-02-27T00:00:00\",\"2000-02-28T00:00:00\",\"2000-02-29T00:00:00\",\"2000-03-01T00:00:00\",\"2000-03-02T00:00:00\",\"2000-03-03T00:00:00\",\"2000-03-04T00:00:00\",\"2000-03-05T00:00:00\",\"2000-03-06T00:00:00\",\"2000-03-07T00:00:00\",\"2000-03-08T00:00:00\",\"2000-03-09T00:00:00\",\"2000-03-10T00:00:00\",\"2000-03-11T00:00:00\",\"2000-03-12T00:00:00\",\"2000-03-13T00:00:00\",\"2000-03-14T00:00:00\",\"2000-03-15T00:00:00\",\"2000-03-16T00:00:00\",\"2000-03-17T00:00:00\",\"2000-03-18T00:00:00\",\"2000-03-19T00:00:00\",\"2000-03-20T00:00:00\",\"2000-03-21T00:00:00\",\"2000-03-22T00:00:00\",\"2000-03-23T00:00:00\",\"2000-03-24T00:00:00\",\"2000-03-25T00:00:00\",\"2000-03-26T00:00:00\",\"2000-03-27T00:00:00\",\"2000-03-28T00:00:00\",\"2000-03-29T00:00:00\",\"2000-03-30T00:00:00\",\"2000-03-31T00:00:00\",\"2000-04-01T00:00:00\",\"2000-04-02T00:00:00\",\"2000-04-03T00:00:00\",\"2000-04-04T00:00:00\",\"2000-04-05T00:00:00\",\"2000-04-06T00:00:00\",\"2000-04-07T00:00:00\",\"2000-04-08T00:00:00\",\"2000-04-09T00:00:00\",\"2000-04-10T00:00:00\",\"2000-04-11T00:00:00\",\"2000-04-12T00:00:00\",\"2000-04-13T00:00:00\",\"2000-04-14T00:00:00\",\"2000-04-15T00:00:00\",\"2000-04-16T00:00:00\",\"2000-04-17T00:00:00\",\"2000-04-18T00:00:00\",\"2000-04-19T00:00:00\",\"2000-04-20T00:00:00\",\"2000-04-21T00:00:00\",\"2000-04-22T00:00:00\",\"2000-04-23T00:00:00\",\"2000-04-24T00:00:00\",\"2000-04-25T00:00:00\",\"2000-04-26T00:00:00\",\"2000-04-27T00:00:00\",\"2000-04-28T00:00:00\",\"2000-04-29T00:00:00\",\"2000-04-30T00:00:00\",\"2000-05-01T00:00:00\",\"2000-05-02T00:00:00\",\"2000-05-03T00:00:00\",\"2000-05-04T00:00:00\",\"2000-05-05T00:00:00\",\"2000-05-06T00:00:00\",\"2000-05-07T00:00:00\",\"2000-05-08T00:00:00\",\"2000-05-09T00:00:00\",\"2000-05-10T00:00:00\",\"2000-05-11T00:00:00\",\"2000-05-12T00:00:00\",\"2000-05-13T00:00:00\",\"2000-05-14T00:00:00\",\"2000-05-15T00:00:00\",\"2000-05-16T00:00:00\",\"2000-05-17T00:00:00\",\"2000-05-18T00:00:00\",\"2000-05-19T00:00:00\",\"2000-05-20T00:00:00\",\"2000-05-21T00:00:00\",\"2000-05-22T00:00:00\",\"2000-05-23T00:00:00\",\"2000-05-24T00:00:00\",\"2000-05-25T00:00:00\",\"2000-05-26T00:00:00\",\"2000-05-27T00:00:00\",\"2000-05-28T00:00:00\",\"2000-05-29T00:00:00\",\"2000-05-30T00:00:00\",\"2000-05-31T00:00:00\",\"2000-06-01T00:00:00\",\"2000-06-02T00:00:00\",\"2000-06-03T00:00:00\",\"2000-06-04T00:00:00\",\"2000-06-05T00:00:00\",\"2000-06-06T00:00:00\",\"2000-06-07T00:00:00\",\"2000-06-08T00:00:00\",\"2000-06-09T00:00:00\",\"2000-06-10T00:00:00\",\"2000-06-11T00:00:00\",\"2000-06-12T00:00:00\",\"2000-06-13T00:00:00\",\"2000-06-14T00:00:00\",\"2000-06-15T00:00:00\",\"2000-06-16T00:00:00\",\"2000-06-17T00:00:00\",\"2000-06-18T00:00:00\",\"2000-06-19T00:00:00\",\"2000-06-20T00:00:00\",\"2000-06-21T00:00:00\",\"2000-06-22T00:00:00\",\"2000-06-23T00:00:00\",\"2000-06-24T00:00:00\",\"2000-06-25T00:00:00\",\"2000-06-26T00:00:00\",\"2000-06-27T00:00:00\",\"2000-06-28T00:00:00\",\"2000-06-29T00:00:00\",\"2000-06-30T00:00:00\",\"2000-07-01T00:00:00\",\"2000-07-02T00:00:00\",\"2000-07-03T00:00:00\",\"2000-07-04T00:00:00\",\"2000-07-05T00:00:00\",\"2000-07-06T00:00:00\",\"2000-07-07T00:00:00\",\"2000-07-08T00:00:00\",\"2000-07-09T00:00:00\",\"2000-07-10T00:00:00\",\"2000-07-11T00:00:00\",\"2000-07-12T00:00:00\",\"2000-07-13T00:00:00\",\"2000-07-14T00:00:00\",\"2000-07-15T00:00:00\",\"2000-07-16T00:00:00\",\"2000-07-17T00:00:00\",\"2000-07-18T00:00:00\",\"2000-07-19T00:00:00\",\"2000-07-20T00:00:00\",\"2000-07-21T00:00:00\",\"2000-07-22T00:00:00\",\"2000-07-23T00:00:00\",\"2000-07-24T00:00:00\",\"2000-07-25T00:00:00\",\"2000-07-26T00:00:00\",\"2000-07-27T00:00:00\",\"2000-07-28T00:00:00\",\"2000-07-29T00:00:00\",\"2000-07-30T00:00:00\",\"2000-07-31T00:00:00\",\"2000-08-01T00:00:00\",\"2000-08-02T00:00:00\",\"2000-08-03T00:00:00\",\"2000-08-04T00:00:00\",\"2000-08-05T00:00:00\",\"2000-08-06T00:00:00\",\"2000-08-07T00:00:00\",\"2000-08-08T00:00:00\",\"2000-08-09T00:00:00\",\"2000-08-10T00:00:00\",\"2000-08-11T00:00:00\",\"2000-08-12T00:00:00\",\"2000-08-13T00:00:00\",\"2000-08-14T00:00:00\",\"2000-08-15T00:00:00\",\"2000-08-16T00:00:00\",\"2000-08-17T00:00:00\",\"2000-08-18T00:00:00\",\"2000-08-19T00:00:00\",\"2000-08-20T00:00:00\",\"2000-08-21T00:00:00\",\"2000-08-22T00:00:00\",\"2000-08-23T00:00:00\",\"2000-08-24T00:00:00\",\"2000-08-25T00:00:00\",\"2000-08-26T00:00:00\",\"2000-08-27T00:00:00\",\"2000-08-28T00:00:00\",\"2000-08-29T00:00:00\",\"2000-08-30T00:00:00\",\"2000-08-31T00:00:00\",\"2000-09-01T00:00:00\",\"2000-09-02T00:00:00\",\"2000-09-03T00:00:00\",\"2000-09-04T00:00:00\",\"2000-09-05T00:00:00\",\"2000-09-06T00:00:00\",\"2000-09-07T00:00:00\",\"2000-09-08T00:00:00\",\"2000-09-09T00:00:00\",\"2000-09-10T00:00:00\",\"2000-09-11T00:00:00\",\"2000-09-12T00:00:00\",\"2000-09-13T00:00:00\",\"2000-09-14T00:00:00\",\"2000-09-15T00:00:00\",\"2000-09-16T00:00:00\",\"2000-09-17T00:00:00\",\"2000-09-18T00:00:00\",\"2000-09-19T00:00:00\",\"2000-09-20T00:00:00\",\"2000-09-21T00:00:00\",\"2000-09-22T00:00:00\",\"2000-09-23T00:00:00\",\"2000-09-24T00:00:00\",\"2000-09-25T00:00:00\",\"2000-09-26T00:00:00\",\"2000-09-27T00:00:00\",\"2000-09-28T00:00:00\",\"2000-09-29T00:00:00\",\"2000-09-30T00:00:00\",\"2000-10-01T00:00:00\",\"2000-10-02T00:00:00\",\"2000-10-03T00:00:00\",\"2000-10-04T00:00:00\",\"2000-10-05T00:00:00\",\"2000-10-06T00:00:00\",\"2000-10-07T00:00:00\",\"2000-10-08T00:00:00\",\"2000-10-09T00:00:00\",\"2000-10-10T00:00:00\",\"2000-10-11T00:00:00\",\"2000-10-12T00:00:00\",\"2000-10-13T00:00:00\",\"2000-10-14T00:00:00\",\"2000-10-15T00:00:00\",\"2000-10-16T00:00:00\",\"2000-10-17T00:00:00\",\"2000-10-18T00:00:00\",\"2000-10-19T00:00:00\",\"2000-10-20T00:00:00\",\"2000-10-21T00:00:00\",\"2000-10-22T00:00:00\",\"2000-10-23T00:00:00\",\"2000-10-24T00:00:00\",\"2000-10-25T00:00:00\",\"2000-10-26T00:00:00\",\"2000-10-27T00:00:00\",\"2000-10-28T00:00:00\",\"2000-10-29T00:00:00\",\"2000-10-30T00:00:00\",\"2000-10-31T00:00:00\",\"2000-11-01T00:00:00\",\"2000-11-02T00:00:00\",\"2000-11-03T00:00:00\",\"2000-11-04T00:00:00\",\"2000-11-05T00:00:00\",\"2000-11-06T00:00:00\",\"2000-11-07T00:00:00\",\"2000-11-08T00:00:00\",\"2000-11-09T00:00:00\",\"2000-11-10T00:00:00\",\"2000-11-11T00:00:00\",\"2000-11-12T00:00:00\",\"2000-11-13T00:00:00\",\"2000-11-14T00:00:00\",\"2000-11-15T00:00:00\",\"2000-11-16T00:00:00\",\"2000-11-17T00:00:00\",\"2000-11-18T00:00:00\",\"2000-11-19T00:00:00\",\"2000-11-20T00:00:00\",\"2000-11-21T00:00:00\",\"2000-11-22T00:00:00\",\"2000-11-23T00:00:00\",\"2000-11-24T00:00:00\",\"2000-11-25T00:00:00\",\"2000-11-26T00:00:00\",\"2000-11-27T00:00:00\",\"2000-11-28T00:00:00\",\"2000-11-29T00:00:00\",\"2000-11-30T00:00:00\",\"2000-12-01T00:00:00\",\"2000-12-02T00:00:00\",\"2000-12-03T00:00:00\",\"2000-12-04T00:00:00\",\"2000-12-05T00:00:00\",\"2000-12-06T00:00:00\",\"2000-12-07T00:00:00\",\"2000-12-08T00:00:00\",\"2000-12-09T00:00:00\",\"2000-12-10T00:00:00\",\"2000-12-11T00:00:00\",\"2000-12-12T00:00:00\",\"2000-12-13T00:00:00\",\"2000-12-14T00:00:00\",\"2000-12-15T00:00:00\",\"2000-12-16T00:00:00\",\"2000-12-17T00:00:00\",\"2000-12-18T00:00:00\",\"2000-12-19T00:00:00\",\"2000-12-20T00:00:00\",\"2000-12-21T00:00:00\",\"2000-12-22T00:00:00\",\"2000-12-23T00:00:00\",\"2000-12-24T00:00:00\",\"2000-12-25T00:00:00\",\"2000-12-26T00:00:00\",\"2000-12-27T00:00:00\",\"2000-12-28T00:00:00\",\"2000-12-29T00:00:00\",\"2000-12-30T00:00:00\",\"2000-12-31T00:00:00\",\"2001-01-01T00:00:00\",\"2001-01-02T00:00:00\",\"2001-01-03T00:00:00\",\"2001-01-04T00:00:00\",\"2001-01-05T00:00:00\",\"2001-01-06T00:00:00\",\"2001-01-07T00:00:00\",\"2001-01-08T00:00:00\",\"2001-01-09T00:00:00\",\"2001-01-10T00:00:00\",\"2001-01-11T00:00:00\",\"2001-01-12T00:00:00\",\"2001-01-13T00:00:00\",\"2001-01-14T00:00:00\",\"2001-01-15T00:00:00\",\"2001-01-16T00:00:00\",\"2001-01-17T00:00:00\",\"2001-01-18T00:00:00\",\"2001-01-19T00:00:00\",\"2001-01-20T00:00:00\",\"2001-01-21T00:00:00\",\"2001-01-22T00:00:00\",\"2001-01-23T00:00:00\",\"2001-01-24T00:00:00\",\"2001-01-25T00:00:00\",\"2001-01-26T00:00:00\",\"2001-01-27T00:00:00\",\"2001-01-28T00:00:00\",\"2001-01-29T00:00:00\",\"2001-01-30T00:00:00\",\"2001-01-31T00:00:00\",\"2001-02-01T00:00:00\",\"2001-02-02T00:00:00\",\"2001-02-03T00:00:00\",\"2001-02-04T00:00:00\",\"2001-02-05T00:00:00\",\"2001-02-06T00:00:00\",\"2001-02-07T00:00:00\",\"2001-02-08T00:00:00\",\"2001-02-09T00:00:00\",\"2001-02-10T00:00:00\",\"2001-02-11T00:00:00\",\"2001-02-12T00:00:00\",\"2001-02-13T00:00:00\",\"2001-02-14T00:00:00\",\"2001-02-15T00:00:00\",\"2001-02-16T00:00:00\",\"2001-02-17T00:00:00\",\"2001-02-18T00:00:00\",\"2001-02-19T00:00:00\",\"2001-02-20T00:00:00\",\"2001-02-21T00:00:00\",\"2001-02-22T00:00:00\",\"2001-02-23T00:00:00\",\"2001-02-24T00:00:00\",\"2001-02-25T00:00:00\",\"2001-02-26T00:00:00\",\"2001-02-27T00:00:00\",\"2001-02-28T00:00:00\",\"2001-03-01T00:00:00\",\"2001-03-02T00:00:00\",\"2001-03-03T00:00:00\",\"2001-03-04T00:00:00\",\"2001-03-05T00:00:00\",\"2001-03-06T00:00:00\",\"2001-03-07T00:00:00\",\"2001-03-08T00:00:00\",\"2001-03-09T00:00:00\",\"2001-03-10T00:00:00\",\"2001-03-11T00:00:00\",\"2001-03-12T00:00:00\",\"2001-03-13T00:00:00\",\"2001-03-14T00:00:00\",\"2001-03-15T00:00:00\",\"2001-03-16T00:00:00\",\"2001-03-17T00:00:00\",\"2001-03-18T00:00:00\",\"2001-03-19T00:00:00\",\"2001-03-20T00:00:00\",\"2001-03-21T00:00:00\",\"2001-03-22T00:00:00\",\"2001-03-23T00:00:00\",\"2001-03-24T00:00:00\",\"2001-03-25T00:00:00\",\"2001-03-26T00:00:00\",\"2001-03-27T00:00:00\",\"2001-03-28T00:00:00\",\"2001-03-29T00:00:00\",\"2001-03-30T00:00:00\",\"2001-03-31T00:00:00\",\"2001-04-01T00:00:00\",\"2001-04-02T00:00:00\",\"2001-04-03T00:00:00\",\"2001-04-04T00:00:00\",\"2001-04-05T00:00:00\",\"2001-04-06T00:00:00\",\"2001-04-07T00:00:00\",\"2001-04-08T00:00:00\",\"2001-04-09T00:00:00\",\"2001-04-10T00:00:00\",\"2001-04-11T00:00:00\",\"2001-04-12T00:00:00\",\"2001-04-13T00:00:00\",\"2001-04-14T00:00:00\",\"2001-04-15T00:00:00\",\"2001-04-16T00:00:00\",\"2001-04-17T00:00:00\",\"2001-04-18T00:00:00\",\"2001-04-19T00:00:00\",\"2001-04-20T00:00:00\",\"2001-04-21T00:00:00\",\"2001-04-22T00:00:00\",\"2001-04-23T00:00:00\",\"2001-04-24T00:00:00\",\"2001-04-25T00:00:00\",\"2001-04-26T00:00:00\",\"2001-04-27T00:00:00\",\"2001-04-28T00:00:00\",\"2001-04-29T00:00:00\",\"2001-04-30T00:00:00\",\"2001-05-01T00:00:00\",\"2001-05-02T00:00:00\",\"2001-05-03T00:00:00\",\"2001-05-04T00:00:00\",\"2001-05-05T00:00:00\",\"2001-05-06T00:00:00\",\"2001-05-07T00:00:00\",\"2001-05-08T00:00:00\",\"2001-05-09T00:00:00\",\"2001-05-10T00:00:00\",\"2001-05-11T00:00:00\",\"2001-05-12T00:00:00\",\"2001-05-13T00:00:00\",\"2001-05-14T00:00:00\",\"2001-05-15T00:00:00\",\"2001-05-16T00:00:00\",\"2001-05-17T00:00:00\",\"2001-05-18T00:00:00\",\"2001-05-19T00:00:00\",\"2001-05-20T00:00:00\",\"2001-05-21T00:00:00\",\"2001-05-22T00:00:00\",\"2001-05-23T00:00:00\",\"2001-05-24T00:00:00\",\"2001-05-25T00:00:00\",\"2001-05-26T00:00:00\",\"2001-05-27T00:00:00\",\"2001-05-28T00:00:00\",\"2001-05-29T00:00:00\",\"2001-05-30T00:00:00\",\"2001-05-31T00:00:00\",\"2001-06-01T00:00:00\",\"2001-06-02T00:00:00\",\"2001-06-03T00:00:00\",\"2001-06-04T00:00:00\",\"2001-06-05T00:00:00\",\"2001-06-06T00:00:00\",\"2001-06-07T00:00:00\",\"2001-06-08T00:00:00\",\"2001-06-09T00:00:00\",\"2001-06-10T00:00:00\",\"2001-06-11T00:00:00\",\"2001-06-12T00:00:00\",\"2001-06-13T00:00:00\",\"2001-06-14T00:00:00\",\"2001-06-15T00:00:00\",\"2001-06-16T00:00:00\",\"2001-06-17T00:00:00\",\"2001-06-18T00:00:00\",\"2001-06-19T00:00:00\",\"2001-06-20T00:00:00\",\"2001-06-21T00:00:00\",\"2001-06-22T00:00:00\",\"2001-06-23T00:00:00\",\"2001-06-24T00:00:00\",\"2001-06-25T00:00:00\",\"2001-06-26T00:00:00\",\"2001-06-27T00:00:00\",\"2001-06-28T00:00:00\",\"2001-06-29T00:00:00\",\"2001-06-30T00:00:00\",\"2001-07-01T00:00:00\",\"2001-07-02T00:00:00\",\"2001-07-03T00:00:00\",\"2001-07-04T00:00:00\",\"2001-07-05T00:00:00\",\"2001-07-06T00:00:00\",\"2001-07-07T00:00:00\",\"2001-07-08T00:00:00\",\"2001-07-09T00:00:00\",\"2001-07-10T00:00:00\",\"2001-07-11T00:00:00\",\"2001-07-12T00:00:00\",\"2001-07-13T00:00:00\",\"2001-07-14T00:00:00\",\"2001-07-15T00:00:00\",\"2001-07-16T00:00:00\",\"2001-07-17T00:00:00\",\"2001-07-18T00:00:00\",\"2001-07-19T00:00:00\",\"2001-07-20T00:00:00\",\"2001-07-21T00:00:00\",\"2001-07-22T00:00:00\",\"2001-07-23T00:00:00\",\"2001-07-24T00:00:00\",\"2001-07-25T00:00:00\",\"2001-07-26T00:00:00\",\"2001-07-27T00:00:00\",\"2001-07-28T00:00:00\",\"2001-07-29T00:00:00\",\"2001-07-30T00:00:00\",\"2001-07-31T00:00:00\",\"2001-08-01T00:00:00\",\"2001-08-02T00:00:00\",\"2001-08-03T00:00:00\",\"2001-08-04T00:00:00\",\"2001-08-05T00:00:00\",\"2001-08-06T00:00:00\",\"2001-08-07T00:00:00\",\"2001-08-08T00:00:00\",\"2001-08-09T00:00:00\",\"2001-08-10T00:00:00\",\"2001-08-11T00:00:00\",\"2001-08-12T00:00:00\",\"2001-08-13T00:00:00\",\"2001-08-14T00:00:00\",\"2001-08-15T00:00:00\",\"2001-08-16T00:00:00\",\"2001-08-17T00:00:00\",\"2001-08-18T00:00:00\",\"2001-08-19T00:00:00\",\"2001-08-20T00:00:00\",\"2001-08-21T00:00:00\",\"2001-08-22T00:00:00\",\"2001-08-23T00:00:00\",\"2001-08-24T00:00:00\",\"2001-08-25T00:00:00\",\"2001-08-26T00:00:00\",\"2001-08-27T00:00:00\",\"2001-08-28T00:00:00\",\"2001-08-29T00:00:00\",\"2001-08-30T00:00:00\",\"2001-08-31T00:00:00\",\"2001-09-01T00:00:00\",\"2001-09-02T00:00:00\",\"2001-09-03T00:00:00\",\"2001-09-04T00:00:00\",\"2001-09-05T00:00:00\",\"2001-09-06T00:00:00\",\"2001-09-07T00:00:00\",\"2001-09-08T00:00:00\",\"2001-09-09T00:00:00\",\"2001-09-10T00:00:00\",\"2001-09-11T00:00:00\",\"2001-09-12T00:00:00\",\"2001-09-13T00:00:00\",\"2001-09-14T00:00:00\",\"2001-09-15T00:00:00\",\"2001-09-16T00:00:00\",\"2001-09-17T00:00:00\",\"2001-09-18T00:00:00\",\"2001-09-19T00:00:00\",\"2001-09-20T00:00:00\",\"2001-09-21T00:00:00\",\"2001-09-22T00:00:00\",\"2001-09-23T00:00:00\",\"2001-09-24T00:00:00\",\"2001-09-25T00:00:00\",\"2001-09-26T00:00:00\",\"2001-09-27T00:00:00\",\"2001-09-28T00:00:00\",\"2001-09-29T00:00:00\",\"2001-09-30T00:00:00\",\"2001-10-01T00:00:00\",\"2001-10-02T00:00:00\",\"2001-10-03T00:00:00\",\"2001-10-04T00:00:00\",\"2001-10-05T00:00:00\",\"2001-10-06T00:00:00\",\"2001-10-07T00:00:00\",\"2001-10-08T00:00:00\",\"2001-10-09T00:00:00\",\"2001-10-10T00:00:00\",\"2001-10-11T00:00:00\",\"2001-10-12T00:00:00\",\"2001-10-13T00:00:00\",\"2001-10-14T00:00:00\",\"2001-10-15T00:00:00\",\"2001-10-16T00:00:00\",\"2001-10-17T00:00:00\",\"2001-10-18T00:00:00\",\"2001-10-19T00:00:00\",\"2001-10-20T00:00:00\",\"2001-10-21T00:00:00\",\"2001-10-22T00:00:00\",\"2001-10-23T00:00:00\",\"2001-10-24T00:00:00\",\"2001-10-25T00:00:00\",\"2001-10-26T00:00:00\",\"2001-10-27T00:00:00\",\"2001-10-28T00:00:00\",\"2001-10-29T00:00:00\",\"2001-10-30T00:00:00\",\"2001-10-31T00:00:00\",\"2001-11-01T00:00:00\",\"2001-11-02T00:00:00\",\"2001-11-03T00:00:00\",\"2001-11-04T00:00:00\",\"2001-11-05T00:00:00\",\"2001-11-06T00:00:00\",\"2001-11-07T00:00:00\",\"2001-11-08T00:00:00\",\"2001-11-09T00:00:00\",\"2001-11-10T00:00:00\",\"2001-11-11T00:00:00\",\"2001-11-12T00:00:00\",\"2001-11-13T00:00:00\",\"2001-11-14T00:00:00\",\"2001-11-15T00:00:00\",\"2001-11-16T00:00:00\",\"2001-11-17T00:00:00\",\"2001-11-18T00:00:00\",\"2001-11-19T00:00:00\",\"2001-11-20T00:00:00\",\"2001-11-21T00:00:00\",\"2001-11-22T00:00:00\",\"2001-11-23T00:00:00\",\"2001-11-24T00:00:00\",\"2001-11-25T00:00:00\",\"2001-11-26T00:00:00\",\"2001-11-27T00:00:00\",\"2001-11-28T00:00:00\",\"2001-11-29T00:00:00\",\"2001-11-30T00:00:00\",\"2001-12-01T00:00:00\",\"2001-12-02T00:00:00\",\"2001-12-03T00:00:00\",\"2001-12-04T00:00:00\",\"2001-12-05T00:00:00\",\"2001-12-06T00:00:00\",\"2001-12-07T00:00:00\",\"2001-12-08T00:00:00\",\"2001-12-09T00:00:00\",\"2001-12-10T00:00:00\",\"2001-12-11T00:00:00\",\"2001-12-12T00:00:00\",\"2001-12-13T00:00:00\",\"2001-12-14T00:00:00\",\"2001-12-15T00:00:00\",\"2001-12-16T00:00:00\",\"2001-12-17T00:00:00\",\"2001-12-18T00:00:00\",\"2001-12-19T00:00:00\",\"2001-12-20T00:00:00\",\"2001-12-21T00:00:00\",\"2001-12-22T00:00:00\",\"2001-12-23T00:00:00\",\"2001-12-24T00:00:00\",\"2001-12-25T00:00:00\",\"2001-12-26T00:00:00\",\"2001-12-27T00:00:00\",\"2001-12-28T00:00:00\",\"2001-12-29T00:00:00\",\"2001-12-30T00:00:00\",\"2001-12-31T00:00:00\",\"2002-01-01T00:00:00\",\"2002-01-02T00:00:00\",\"2002-01-03T00:00:00\",\"2002-01-04T00:00:00\",\"2002-01-05T00:00:00\",\"2002-01-06T00:00:00\",\"2002-01-07T00:00:00\",\"2002-01-08T00:00:00\",\"2002-01-09T00:00:00\",\"2002-01-10T00:00:00\",\"2002-01-11T00:00:00\",\"2002-01-12T00:00:00\",\"2002-01-13T00:00:00\",\"2002-01-14T00:00:00\",\"2002-01-15T00:00:00\",\"2002-01-16T00:00:00\",\"2002-01-17T00:00:00\",\"2002-01-18T00:00:00\",\"2002-01-19T00:00:00\",\"2002-01-20T00:00:00\",\"2002-01-21T00:00:00\",\"2002-01-22T00:00:00\",\"2002-01-23T00:00:00\",\"2002-01-24T00:00:00\",\"2002-01-25T00:00:00\",\"2002-01-26T00:00:00\",\"2002-01-27T00:00:00\",\"2002-01-28T00:00:00\",\"2002-01-29T00:00:00\",\"2002-01-30T00:00:00\",\"2002-01-31T00:00:00\",\"2002-02-01T00:00:00\",\"2002-02-02T00:00:00\",\"2002-02-03T00:00:00\",\"2002-02-04T00:00:00\",\"2002-02-05T00:00:00\",\"2002-02-06T00:00:00\",\"2002-02-07T00:00:00\",\"2002-02-08T00:00:00\",\"2002-02-09T00:00:00\",\"2002-02-10T00:00:00\",\"2002-02-11T00:00:00\",\"2002-02-12T00:00:00\",\"2002-02-13T00:00:00\",\"2002-02-14T00:00:00\",\"2002-02-15T00:00:00\",\"2002-02-16T00:00:00\",\"2002-02-17T00:00:00\",\"2002-02-18T00:00:00\",\"2002-02-19T00:00:00\",\"2002-02-20T00:00:00\",\"2002-02-21T00:00:00\",\"2002-02-22T00:00:00\",\"2002-02-23T00:00:00\",\"2002-02-24T00:00:00\",\"2002-02-25T00:00:00\",\"2002-02-26T00:00:00\",\"2002-02-27T00:00:00\",\"2002-02-28T00:00:00\",\"2002-03-01T00:00:00\",\"2002-03-02T00:00:00\",\"2002-03-03T00:00:00\",\"2002-03-04T00:00:00\",\"2002-03-05T00:00:00\",\"2002-03-06T00:00:00\",\"2002-03-07T00:00:00\",\"2002-03-08T00:00:00\",\"2002-03-09T00:00:00\",\"2002-03-10T00:00:00\",\"2002-03-11T00:00:00\",\"2002-03-12T00:00:00\",\"2002-03-13T00:00:00\",\"2002-03-14T00:00:00\",\"2002-03-15T00:00:00\",\"2002-03-16T00:00:00\",\"2002-03-17T00:00:00\",\"2002-03-18T00:00:00\",\"2002-03-19T00:00:00\",\"2002-03-20T00:00:00\",\"2002-03-21T00:00:00\",\"2002-03-22T00:00:00\",\"2002-03-23T00:00:00\",\"2002-03-24T00:00:00\",\"2002-03-25T00:00:00\",\"2002-03-26T00:00:00\",\"2002-03-27T00:00:00\",\"2002-03-28T00:00:00\",\"2002-03-29T00:00:00\",\"2002-03-30T00:00:00\",\"2002-03-31T00:00:00\",\"2002-04-01T00:00:00\",\"2002-04-02T00:00:00\",\"2002-04-03T00:00:00\",\"2002-04-04T00:00:00\",\"2002-04-05T00:00:00\",\"2002-04-06T00:00:00\",\"2002-04-07T00:00:00\",\"2002-04-08T00:00:00\",\"2002-04-09T00:00:00\",\"2002-04-10T00:00:00\",\"2002-04-11T00:00:00\",\"2002-04-12T00:00:00\",\"2002-04-13T00:00:00\",\"2002-04-14T00:00:00\",\"2002-04-15T00:00:00\",\"2002-04-16T00:00:00\",\"2002-04-17T00:00:00\",\"2002-04-18T00:00:00\",\"2002-04-19T00:00:00\",\"2002-04-20T00:00:00\",\"2002-04-21T00:00:00\",\"2002-04-22T00:00:00\",\"2002-04-23T00:00:00\",\"2002-04-24T00:00:00\",\"2002-04-25T00:00:00\",\"2002-04-26T00:00:00\",\"2002-04-27T00:00:00\",\"2002-04-28T00:00:00\",\"2002-04-29T00:00:00\",\"2002-04-30T00:00:00\",\"2002-05-01T00:00:00\",\"2002-05-02T00:00:00\",\"2002-05-03T00:00:00\",\"2002-05-04T00:00:00\",\"2002-05-05T00:00:00\",\"2002-05-06T00:00:00\",\"2002-05-07T00:00:00\",\"2002-05-08T00:00:00\",\"2002-05-09T00:00:00\",\"2002-05-10T00:00:00\",\"2002-05-11T00:00:00\",\"2002-05-12T00:00:00\",\"2002-05-13T00:00:00\",\"2002-05-14T00:00:00\",\"2002-05-15T00:00:00\",\"2002-05-16T00:00:00\",\"2002-05-17T00:00:00\",\"2002-05-18T00:00:00\",\"2002-05-19T00:00:00\",\"2002-05-20T00:00:00\",\"2002-05-21T00:00:00\",\"2002-05-22T00:00:00\",\"2002-05-23T00:00:00\",\"2002-05-24T00:00:00\",\"2002-05-25T00:00:00\",\"2002-05-26T00:00:00\",\"2002-05-27T00:00:00\",\"2002-05-28T00:00:00\",\"2002-05-29T00:00:00\",\"2002-05-30T00:00:00\",\"2002-05-31T00:00:00\",\"2002-06-01T00:00:00\",\"2002-06-02T00:00:00\",\"2002-06-03T00:00:00\",\"2002-06-04T00:00:00\",\"2002-06-05T00:00:00\",\"2002-06-06T00:00:00\",\"2002-06-07T00:00:00\",\"2002-06-08T00:00:00\",\"2002-06-09T00:00:00\",\"2002-06-10T00:00:00\",\"2002-06-11T00:00:00\",\"2002-06-12T00:00:00\",\"2002-06-13T00:00:00\",\"2002-06-14T00:00:00\",\"2002-06-15T00:00:00\",\"2002-06-16T00:00:00\",\"2002-06-17T00:00:00\",\"2002-06-18T00:00:00\",\"2002-06-19T00:00:00\",\"2002-06-20T00:00:00\",\"2002-06-21T00:00:00\",\"2002-06-22T00:00:00\",\"2002-06-23T00:00:00\",\"2002-06-24T00:00:00\",\"2002-06-25T00:00:00\",\"2002-06-26T00:00:00\",\"2002-06-27T00:00:00\",\"2002-06-28T00:00:00\",\"2002-06-29T00:00:00\",\"2002-06-30T00:00:00\",\"2002-07-01T00:00:00\",\"2002-07-02T00:00:00\",\"2002-07-03T00:00:00\",\"2002-07-04T00:00:00\",\"2002-07-05T00:00:00\",\"2002-07-06T00:00:00\",\"2002-07-07T00:00:00\",\"2002-07-08T00:00:00\",\"2002-07-09T00:00:00\",\"2002-07-10T00:00:00\",\"2002-07-11T00:00:00\",\"2002-07-12T00:00:00\",\"2002-07-13T00:00:00\",\"2002-07-14T00:00:00\",\"2002-07-15T00:00:00\",\"2002-07-16T00:00:00\",\"2002-07-17T00:00:00\",\"2002-07-18T00:00:00\",\"2002-07-19T00:00:00\",\"2002-07-20T00:00:00\",\"2002-07-21T00:00:00\",\"2002-07-22T00:00:00\",\"2002-07-23T00:00:00\",\"2002-07-24T00:00:00\",\"2002-07-25T00:00:00\",\"2002-07-26T00:00:00\",\"2002-07-27T00:00:00\",\"2002-07-28T00:00:00\",\"2002-07-29T00:00:00\",\"2002-07-30T00:00:00\",\"2002-07-31T00:00:00\",\"2002-08-01T00:00:00\",\"2002-08-02T00:00:00\",\"2002-08-03T00:00:00\",\"2002-08-04T00:00:00\",\"2002-08-05T00:00:00\",\"2002-08-06T00:00:00\",\"2002-08-07T00:00:00\",\"2002-08-08T00:00:00\",\"2002-08-09T00:00:00\",\"2002-08-10T00:00:00\",\"2002-08-11T00:00:00\",\"2002-08-12T00:00:00\",\"2002-08-13T00:00:00\",\"2002-08-14T00:00:00\",\"2002-08-15T00:00:00\",\"2002-08-16T00:00:00\",\"2002-08-17T00:00:00\",\"2002-08-18T00:00:00\",\"2002-08-19T00:00:00\",\"2002-08-20T00:00:00\",\"2002-08-21T00:00:00\",\"2002-08-22T00:00:00\",\"2002-08-23T00:00:00\",\"2002-08-24T00:00:00\",\"2002-08-25T00:00:00\",\"2002-08-26T00:00:00\",\"2002-08-27T00:00:00\",\"2002-08-28T00:00:00\",\"2002-08-29T00:00:00\",\"2002-08-30T00:00:00\",\"2002-08-31T00:00:00\",\"2002-09-01T00:00:00\",\"2002-09-02T00:00:00\",\"2002-09-03T00:00:00\",\"2002-09-04T00:00:00\",\"2002-09-05T00:00:00\",\"2002-09-06T00:00:00\",\"2002-09-07T00:00:00\",\"2002-09-08T00:00:00\",\"2002-09-09T00:00:00\",\"2002-09-10T00:00:00\",\"2002-09-11T00:00:00\",\"2002-09-12T00:00:00\",\"2002-09-13T00:00:00\",\"2002-09-14T00:00:00\",\"2002-09-15T00:00:00\",\"2002-09-16T00:00:00\",\"2002-09-17T00:00:00\",\"2002-09-18T00:00:00\",\"2002-09-19T00:00:00\",\"2002-09-20T00:00:00\",\"2002-09-21T00:00:00\",\"2002-09-22T00:00:00\",\"2002-09-23T00:00:00\",\"2002-09-24T00:00:00\",\"2002-09-25T00:00:00\",\"2002-09-26T00:00:00\"],\"xaxis\":\"x\",\"y\":[-0.5574951859655566,-0.5574951859655566,-0.5574951859655566,-0.5574951859655566,-0.5574951859655566,-0.4757636117105021,0.177199721286503,0.177199721286503,0.177199721286503,0.39978212194065943,0.39978212194065943,0.39978212194065943,0.39978212194065943,0.39978212194065943,0.39978212194065943,0.39978212194065943,0.9562946979372059,0.9562946979372059,0.9562946979372059,0.9562946979372059,0.9562946979372059,1.024723119387716,1.024723119387716,1.024723119387716,1.024723119387716,1.024723119387716,1.024723119387716,1.024723119387716,1.024723119387716,1.024723119387716,1.024723119387716,1.024723119387716,1.024723119387716,1.024723119387716,1.136929752043612,1.136929752043612,1.136929752043612,1.136929752043612,1.136929752043612,1.6030651526505475,1.6030651526505475,1.6030651526505475,1.6030651526505475,2.7452428122190375,2.7452428122190375,2.7452428122190375,2.7452428122190375,2.7452428122190375,2.7452428122190375,2.7452428122190375,2.7452428122190375,2.7452428122190375,2.7452428122190375,2.7452428122190375,2.7452428122190375,2.7452428122190375,2.7452428122190375,2.7452428122190375,2.7452428122190375,2.7452428122190375,2.7452428122190375,2.7452428122190375,2.7452428122190375,2.7452428122190375,2.7452428122190375,2.7452428122190375,2.7452428122190375,2.7452428122190375,2.7452428122190375,2.7452428122190375,2.7452428122190375,2.7452428122190375,2.7452428122190375,2.7452428122190375,2.7452428122190375,2.7452428122190375,2.7452428122190375,2.7452428122190375,2.7452428122190375,2.7452428122190375,2.7452428122190375,2.7452428122190375,2.7452428122190375,2.7452428122190375,2.7452428122190375,2.7452428122190375,2.7452428122190375,2.7452428122190375,2.7452428122190375,2.7452428122190375,2.7452428122190375,2.7452428122190375,2.7452428122190375,2.7452428122190375,2.7452428122190375,2.7452428122190375,2.7452428122190375,2.7452428122190375,2.7452428122190375,2.7452428122190375,2.7452428122190375,2.7452428122190375,3.3931279990630383,3.3931279990630383,3.3931279990630383,3.3931279990630383,3.3931279990630383,3.3931279990630383,3.3931279990630383,3.3931279990630383,3.3931279990630383,3.3931279990630383,3.3931279990630383,3.3931279990630383,3.3931279990630383,3.3931279990630383,3.3931279990630383,3.3931279990630383,3.3931279990630383,3.3931279990630383,3.3931279990630383,3.3931279990630383,3.3931279990630383,3.3931279990630383,3.3931279990630383,3.3931279990630383,3.3931279990630383,3.3931279990630383,3.3931279990630383,3.3931279990630383,3.3931279990630383,3.3931279990630383,3.3931279990630383,3.3931279990630383,3.3931279990630383,3.3931279990630383,3.3931279990630383,3.3931279990630383,3.3931279990630383,3.3931279990630383,3.3931279990630383,3.3931279990630383,3.3931279990630383,3.3931279990630383,3.3931279990630383,3.3931279990630383,3.3931279990630383,3.3931279990630383,3.3931279990630383,3.3931279990630383,3.3931279990630383,3.3931279990630383,3.3931279990630383,3.3931279990630383,3.3931279990630383,3.3931279990630383,3.3931279990630383,3.3931279990630383,3.3931279990630383,3.3931279990630383,3.3931279990630383,3.3931279990630383,3.3931279990630383,3.3931279990630383,3.3931279990630383,3.3931279990630383,3.3931279990630383,3.3931279990630383,3.3931279990630383,3.3931279990630383,3.3931279990630383,3.3931279990630383,3.3931279990630383,3.3931279990630383,3.3931279990630383,3.3931279990630383,3.3931279990630383,3.3931279990630383,3.3931279990630383,3.3931279990630383,3.3931279990630383,3.3931279990630383,3.3931279990630383,3.3931279990630383,3.3931279990630383,3.3931279990630383,3.3931279990630383,3.3931279990630383,3.3931279990630383,3.3931279990630383,3.3931279990630383,3.3931279990630383,3.3931279990630383,3.3931279990630383,3.3931279990630383,3.3931279990630383,3.3931279990630383,3.3931279990630383,3.3931279990630383,3.3931279990630383,3.3931279990630383,3.3931279990630383,3.3931279990630383,3.3931279990630383,3.3931279990630383,3.3931279990630383,3.3931279990630383,3.3931279990630383,3.3931279990630383,3.3931279990630383,3.3931279990630383,3.3931279990630383,3.3931279990630383,3.3931279990630383,3.3931279990630383,3.3931279990630383,3.3931279990630383,3.3931279990630383,3.3931279990630383,3.3931279990630383,3.3931279990630383,3.3931279990630383,3.3931279990630383,3.3931279990630383,3.3931279990630383,3.3931279990630383,3.3931279990630383,3.3931279990630383,3.3931279990630383,3.3931279990630383,3.3931279990630383,3.3931279990630383,3.3931279990630383,3.3931279990630383,3.3931279990630383,3.3931279990630383,3.3931279990630383,3.3931279990630383,3.3931279990630383,3.3931279990630383,3.3931279990630383,3.3931279990630383,3.3931279990630383,3.3931279990630383,3.3931279990630383,3.3931279990630383,3.3931279990630383,3.3931279990630383,3.3931279990630383,3.3931279990630383,3.3931279990630383,3.3931279990630383,3.3931279990630383,3.3931279990630383,3.3931279990630383,3.3931279990630383,3.3931279990630383,3.3931279990630383,3.3931279990630383,3.3931279990630383,3.3931279990630383,3.3931279990630383,3.3931279990630383,3.3931279990630383,3.3931279990630383,3.3931279990630383,3.3931279990630383,3.3931279990630383,3.3931279990630383,3.3931279990630383,3.3931279990630383,3.3931279990630383,3.3931279990630383,3.3931279990630383,3.3931279990630383,3.3931279990630383,3.3931279990630383,3.3931279990630383,3.3931279990630383,3.3931279990630383,3.3931279990630383,3.3931279990630383,3.3931279990630383,3.3931279990630383,3.3931279990630383,3.3931279990630383,3.3931279990630383,3.3931279990630383,3.3931279990630383,3.3931279990630383,3.3931279990630383,3.3931279990630383,3.3931279990630383,3.3931279990630383,3.3931279990630383,3.3931279990630383,3.3931279990630383,3.3931279990630383,3.3931279990630383,3.3931279990630383,3.3931279990630383,3.3931279990630383,3.3931279990630383,3.3931279990630383,3.3931279990630383,3.3931279990630383,3.3931279990630383,3.3931279990630383,3.3931279990630383,3.3931279990630383,3.3931279990630383,3.3931279990630383,3.3931279990630383,3.3931279990630383,3.3931279990630383,3.3931279990630383,3.3931279990630383,3.3931279990630383,3.3931279990630383,3.3931279990630383,3.3931279990630383,3.3931279990630383,3.3931279990630383,3.3931279990630383,3.3931279990630383,3.3931279990630383,3.3931279990630383,3.3931279990630383,3.3931279990630383,3.3931279990630383,3.3931279990630383,3.3931279990630383,3.3931279990630383,3.3931279990630383,3.3931279990630383,3.3931279990630383,3.3931279990630383,3.3931279990630383,3.3931279990630383,3.3931279990630383,3.3931279990630383,3.3931279990630383,3.3931279990630383,3.3931279990630383,3.3931279990630383,3.3931279990630383,3.3931279990630383,3.3931279990630383,3.3931279990630383,3.3931279990630383,3.3931279990630383,3.3931279990630383,3.3931279990630383,3.3931279990630383,3.3931279990630383,3.3931279990630383,3.3931279990630383,3.3931279990630383,3.3931279990630383,3.3931279990630383,3.3931279990630383,3.3931279990630383,3.3931279990630383,3.3931279990630383,3.3931279990630383,3.3931279990630383,3.3931279990630383,3.3931279990630383,3.3931279990630383,3.3931279990630383,3.3931279990630383,3.3931279990630383,3.3931279990630383,3.3931279990630383,3.3931279990630383,3.3931279990630383,3.3931279990630383,3.3931279990630383,3.3931279990630383,3.3931279990630383,3.3931279990630383,3.3931279990630383,3.3931279990630383,3.3931279990630383,3.3931279990630383,3.3931279990630383,3.3931279990630383,3.3931279990630383,3.3931279990630383,3.3931279990630383,3.3931279990630383,3.3931279990630383,3.3931279990630383,3.3931279990630383,3.3931279990630383,3.3931279990630383,3.3931279990630383,3.3931279990630383,3.3931279990630383,3.3931279990630383,3.3931279990630383,3.3931279990630383,3.3931279990630383,3.3931279990630383,3.3931279990630383,3.3931279990630383,3.3931279990630383,3.3931279990630383,3.3931279990630383,3.3931279990630383,3.3931279990630383,3.3931279990630383,3.3931279990630383,3.3931279990630383,3.3931279990630383,3.3931279990630383,3.3931279990630383,3.3931279990630383,3.3931279990630383,3.3931279990630383,3.3931279990630383,3.3931279990630383,3.3931279990630383,3.3931279990630383,3.3931279990630383,3.3931279990630383,3.3931279990630383,3.3931279990630383,3.3931279990630383,3.3931279990630383,3.3931279990630383,3.3931279990630383,3.3931279990630383,3.3931279990630383,3.3931279990630383,3.3931279990630383,3.3931279990630383,3.3931279990630383,3.3931279990630383,3.3931279990630383,3.3931279990630383,3.3931279990630383,3.3931279990630383,3.3931279990630383,3.3931279990630383,3.3931279990630383,3.3931279990630383,3.3931279990630383,3.3931279990630383,3.3931279990630383,3.3931279990630383,3.3931279990630383,3.3931279990630383,3.3931279990630383,3.3931279990630383,3.3931279990630383,3.3931279990630383,3.3931279990630383,3.3931279990630383,3.3931279990630383,3.3931279990630383,3.3931279990630383,3.3931279990630383,3.3931279990630383,3.3931279990630383,3.3931279990630383,3.3931279990630383,3.3931279990630383,3.3931279990630383,3.3931279990630383,3.3931279990630383,3.3931279990630383,3.3931279990630383,3.3931279990630383,3.3931279990630383,3.3931279990630383,3.3931279990630383,3.3931279990630383,3.3931279990630383,3.3931279990630383,3.3931279990630383,3.3931279990630383,3.3931279990630383,3.3931279990630383,3.3931279990630383,3.3931279990630383,3.3931279990630383,3.3931279990630383,3.3931279990630383,3.3931279990630383,3.3931279990630383,3.3931279990630383,3.3931279990630383,3.3931279990630383,3.3931279990630383,3.3931279990630383,3.3931279990630383,3.3931279990630383,3.3931279990630383,3.3931279990630383,3.3931279990630383,3.3931279990630383,3.3931279990630383,3.3931279990630383,3.3931279990630383,3.3931279990630383,3.3931279990630383,3.3931279990630383,3.3931279990630383,3.3931279990630383,3.3931279990630383,3.3931279990630383,3.3931279990630383,3.3931279990630383,3.3931279990630383,3.3931279990630383,3.3931279990630383,3.3931279990630383,3.3931279990630383,3.3931279990630383,3.3931279990630383,3.3931279990630383,3.3931279990630383,3.3931279990630383,3.3931279990630383,3.3931279990630383,3.3931279990630383,3.3931279990630383,3.3931279990630383,3.3931279990630383,3.3931279990630383,3.3931279990630383,3.3931279990630383,3.3931279990630383,3.3931279990630383,3.3931279990630383,3.3931279990630383,3.3931279990630383,3.3931279990630383,3.3931279990630383,3.3931279990630383,3.3931279990630383,3.3931279990630383,3.3931279990630383,3.3931279990630383,3.3931279990630383,3.3931279990630383,3.3931279990630383,3.3931279990630383,3.3931279990630383,3.3931279990630383,3.3931279990630383,3.3931279990630383,3.3931279990630383,3.3931279990630383,3.3931279990630383,3.3931279990630383,3.3931279990630383,3.3931279990630383,3.3931279990630383,3.3931279990630383,3.3931279990630383,3.3931279990630383,3.3931279990630383,3.3931279990630383,3.3931279990630383,3.3931279990630383,3.3931279990630383,3.3931279990630383,3.3931279990630383,3.3931279990630383,3.3931279990630383,3.3931279990630383,3.3931279990630383,3.3931279990630383,3.3931279990630383,3.3931279990630383,3.3931279990630383,3.3931279990630383,3.3931279990630383,3.3931279990630383,3.3931279990630383,3.3931279990630383,3.3931279990630383,3.3931279990630383,3.3931279990630383,3.3931279990630383,3.3931279990630383,3.3931279990630383,3.3931279990630383,3.3931279990630383,3.3931279990630383,3.3931279990630383,3.3931279990630383,3.3931279990630383,3.3931279990630383,3.3931279990630383,3.3931279990630383,3.3931279990630383,3.3931279990630383,3.3931279990630383,3.3931279990630383,3.3931279990630383,3.3931279990630383,3.3931279990630383,3.3931279990630383,3.3931279990630383,3.3931279990630383,3.3931279990630383,3.3931279990630383,3.3931279990630383,3.3931279990630383,3.3931279990630383,3.3931279990630383,3.3931279990630383,3.3931279990630383,3.3931279990630383,3.3931279990630383,3.3931279990630383,3.3931279990630383,3.3931279990630383,3.3931279990630383,3.3931279990630383,3.3931279990630383,3.3931279990630383,3.3931279990630383,3.3931279990630383,3.3931279990630383,3.3931279990630383,3.3931279990630383,3.3931279990630383,3.3931279990630383,3.3931279990630383,3.3931279990630383,3.3931279990630383,3.3931279990630383,3.3931279990630383,3.3931279990630383,3.3931279990630383,3.3931279990630383,3.3931279990630383,3.3931279990630383,3.3931279990630383,3.3931279990630383,3.3931279990630383,3.3931279990630383,3.3931279990630383,3.3931279990630383,3.3931279990630383,3.3931279990630383,3.3931279990630383,3.3931279990630383,3.3931279990630383,3.3931279990630383,3.3931279990630383,3.3931279990630383,3.3931279990630383,3.3931279990630383,3.3931279990630383,3.3931279990630383,3.3931279990630383,3.3931279990630383,3.3931279990630383,3.3931279990630383,3.3931279990630383,3.3931279990630383,3.3931279990630383,3.3931279990630383,3.3931279990630383,3.3931279990630383,3.3931279990630383,3.3931279990630383,3.3931279990630383,3.3931279990630383,3.3931279990630383,3.3931279990630383,3.3931279990630383,3.3931279990630383,3.3931279990630383,3.3931279990630383,3.3931279990630383,3.3931279990630383,3.3931279990630383,3.3931279990630383,3.3931279990630383,3.3931279990630383,3.3931279990630383,3.3931279990630383,3.3931279990630383,3.3931279990630383,3.3931279990630383,3.3931279990630383,3.3931279990630383,3.3931279990630383,3.3931279990630383,3.3931279990630383,3.3931279990630383,3.3931279990630383,3.3931279990630383,3.3931279990630383,3.3931279990630383,3.3931279990630383,3.3931279990630383,3.3931279990630383,3.3931279990630383,3.3931279990630383,3.3931279990630383,3.3931279990630383,3.3931279990630383,3.3931279990630383,3.3931279990630383,3.3931279990630383,3.3931279990630383,3.3931279990630383,3.3931279990630383,3.3931279990630383,3.3931279990630383,3.3931279990630383,3.3931279990630383,3.3931279990630383,3.3931279990630383,3.3931279990630383,3.3931279990630383,3.3931279990630383,3.3931279990630383,3.3931279990630383,3.3931279990630383,3.3931279990630383,3.3931279990630383,3.3931279990630383,3.3931279990630383,3.3931279990630383,3.3931279990630383,3.3931279990630383,3.3931279990630383,3.3931279990630383,3.3931279990630383,3.3931279990630383,3.3931279990630383,3.3931279990630383,3.3931279990630383,3.3931279990630383,3.3931279990630383,3.3931279990630383,3.3931279990630383,3.3931279990630383,3.3931279990630383,3.3931279990630383,3.3931279990630383,3.3931279990630383,3.3931279990630383,3.3931279990630383,3.3931279990630383,3.3931279990630383,3.3931279990630383,3.3931279990630383,3.3931279990630383,3.3931279990630383,3.3931279990630383,3.3931279990630383,3.3931279990630383,3.3931279990630383,3.3931279990630383,3.3931279990630383,3.3931279990630383,3.3931279990630383,3.3931279990630383,3.3931279990630383,3.3931279990630383,3.3931279990630383,3.3931279990630383,3.3931279990630383,3.3931279990630383,3.3931279990630383,3.3931279990630383,3.3931279990630383,3.3931279990630383,3.3931279990630383,3.3931279990630383,3.3931279990630383,3.3931279990630383,3.3931279990630383,3.3931279990630383,3.3931279990630383,3.3931279990630383,3.3931279990630383,3.3931279990630383,3.3931279990630383,3.3931279990630383,3.3931279990630383,3.3931279990630383,3.3931279990630383,3.3931279990630383,3.3931279990630383,3.3931279990630383,3.3931279990630383,3.3931279990630383,3.3931279990630383,3.3931279990630383,3.3931279990630383,3.3931279990630383,3.3931279990630383,3.3931279990630383,3.3931279990630383,3.3931279990630383,3.3931279990630383,3.3931279990630383,3.3931279990630383,3.3931279990630383,3.3931279990630383,3.3931279990630383,3.3931279990630383,3.3931279990630383,3.3931279990630383,3.3931279990630383,3.3931279990630383,3.3931279990630383,3.3931279990630383,3.3931279990630383,3.3931279990630383,3.3931279990630383,3.3931279990630383,3.3931279990630383,3.3931279990630383,3.3931279990630383,3.3931279990630383,3.3931279990630383,3.3931279990630383,3.3931279990630383,3.3931279990630383,3.3931279990630383,3.3931279990630383,3.3931279990630383,3.3931279990630383,3.3931279990630383,3.3931279990630383,3.3931279990630383,3.3931279990630383,3.3931279990630383,3.3931279990630383,3.3931279990630383,3.3931279990630383,3.3931279990630383,3.3931279990630383,3.3931279990630383,3.3931279990630383,3.3931279990630383,3.3931279990630383,3.3931279990630383,3.3931279990630383,3.3931279990630383,3.3931279990630383,3.3931279990630383,3.3931279990630383,3.3931279990630383,3.3931279990630383,3.3931279990630383,3.3931279990630383,3.3931279990630383,3.3931279990630383,3.3931279990630383,3.3931279990630383,3.3931279990630383,3.3931279990630383,3.3931279990630383,3.3931279990630383,3.3931279990630383,3.3931279990630383,3.3931279990630383,3.3931279990630383,3.3931279990630383,3.3931279990630383,3.3931279990630383,3.3931279990630383,3.3931279990630383,3.3931279990630383,3.3931279990630383,3.3931279990630383,3.3931279990630383,3.3931279990630383,3.3931279990630383,3.3931279990630383,3.3931279990630383,3.3931279990630383,3.3931279990630383,3.3931279990630383,3.3931279990630383,3.3931279990630383,3.3931279990630383,3.3931279990630383,3.3931279990630383,3.3931279990630383,3.3931279990630383,3.3931279990630383,3.3931279990630383,3.3931279990630383,3.3931279990630383,3.3931279990630383,3.3931279990630383,3.3931279990630383,3.3931279990630383,3.3931279990630383,3.3931279990630383,3.3931279990630383,3.3931279990630383,3.3931279990630383,3.3931279990630383,3.3931279990630383,3.3931279990630383,3.3931279990630383,3.3931279990630383,3.3931279990630383,3.3931279990630383,3.3931279990630383,3.3931279990630383,3.3931279990630383,3.3931279990630383,3.3931279990630383,3.3931279990630383,3.3931279990630383,3.3931279990630383,3.3931279990630383,3.3931279990630383,3.3931279990630383,3.3931279990630383,3.3931279990630383,3.3931279990630383,3.3931279990630383,3.3931279990630383,3.3931279990630383,3.3931279990630383,3.3931279990630383,3.3931279990630383,3.3931279990630383,3.3931279990630383,3.3931279990630383,3.3931279990630383,3.3931279990630383,3.3931279990630383,3.3931279990630383,3.3931279990630383,3.3931279990630383,3.3931279990630383,3.3931279990630383,3.3931279990630383,3.3931279990630383,3.3931279990630383,3.3931279990630383,3.3931279990630383,3.3931279990630383,3.3931279990630383,3.3931279990630383,3.3931279990630383,3.3931279990630383,3.3931279990630383,3.3931279990630383,3.3931279990630383,3.3931279990630383,3.3931279990630383,3.3931279990630383,3.3931279990630383,3.3931279990630383,3.3931279990630383,3.3931279990630383,3.3931279990630383,3.3931279990630383,3.3931279990630383,3.3931279990630383,3.3931279990630383,3.3931279990630383,3.3931279990630383,3.3931279990630383,3.3931279990630383,3.3931279990630383,3.3931279990630383,3.3931279990630383,3.3931279990630383,3.3931279990630383,3.3931279990630383,3.3931279990630383,3.3931279990630383,3.3931279990630383,3.3931279990630383,3.3931279990630383,3.3931279990630383,3.3931279990630383,3.3931279990630383,3.3931279990630383,3.3931279990630383,3.3931279990630383,3.3931279990630383,3.3931279990630383,3.3931279990630383,3.3931279990630383,3.3931279990630383,3.3931279990630383,3.3931279990630383,3.3931279990630383,3.3931279990630383,3.3931279990630383],\"yaxis\":\"y\",\"type\":\"scattergl\"}],                        {\"template\":{\"data\":{\"histogram2dcontour\":[{\"type\":\"histogram2dcontour\",\"colorbar\":{\"outlinewidth\":0,\"ticks\":\"\"},\"colorscale\":[[0.0,\"#0d0887\"],[0.1111111111111111,\"#46039f\"],[0.2222222222222222,\"#7201a8\"],[0.3333333333333333,\"#9c179e\"],[0.4444444444444444,\"#bd3786\"],[0.5555555555555556,\"#d8576b\"],[0.6666666666666666,\"#ed7953\"],[0.7777777777777778,\"#fb9f3a\"],[0.8888888888888888,\"#fdca26\"],[1.0,\"#f0f921\"]]}],\"choropleth\":[{\"type\":\"choropleth\",\"colorbar\":{\"outlinewidth\":0,\"ticks\":\"\"}}],\"histogram2d\":[{\"type\":\"histogram2d\",\"colorbar\":{\"outlinewidth\":0,\"ticks\":\"\"},\"colorscale\":[[0.0,\"#0d0887\"],[0.1111111111111111,\"#46039f\"],[0.2222222222222222,\"#7201a8\"],[0.3333333333333333,\"#9c179e\"],[0.4444444444444444,\"#bd3786\"],[0.5555555555555556,\"#d8576b\"],[0.6666666666666666,\"#ed7953\"],[0.7777777777777778,\"#fb9f3a\"],[0.8888888888888888,\"#fdca26\"],[1.0,\"#f0f921\"]]}],\"heatmap\":[{\"type\":\"heatmap\",\"colorbar\":{\"outlinewidth\":0,\"ticks\":\"\"},\"colorscale\":[[0.0,\"#0d0887\"],[0.1111111111111111,\"#46039f\"],[0.2222222222222222,\"#7201a8\"],[0.3333333333333333,\"#9c179e\"],[0.4444444444444444,\"#bd3786\"],[0.5555555555555556,\"#d8576b\"],[0.6666666666666666,\"#ed7953\"],[0.7777777777777778,\"#fb9f3a\"],[0.8888888888888888,\"#fdca26\"],[1.0,\"#f0f921\"]]}],\"heatmapgl\":[{\"type\":\"heatmapgl\",\"colorbar\":{\"outlinewidth\":0,\"ticks\":\"\"},\"colorscale\":[[0.0,\"#0d0887\"],[0.1111111111111111,\"#46039f\"],[0.2222222222222222,\"#7201a8\"],[0.3333333333333333,\"#9c179e\"],[0.4444444444444444,\"#bd3786\"],[0.5555555555555556,\"#d8576b\"],[0.6666666666666666,\"#ed7953\"],[0.7777777777777778,\"#fb9f3a\"],[0.8888888888888888,\"#fdca26\"],[1.0,\"#f0f921\"]]}],\"contourcarpet\":[{\"type\":\"contourcarpet\",\"colorbar\":{\"outlinewidth\":0,\"ticks\":\"\"}}],\"contour\":[{\"type\":\"contour\",\"colorbar\":{\"outlinewidth\":0,\"ticks\":\"\"},\"colorscale\":[[0.0,\"#0d0887\"],[0.1111111111111111,\"#46039f\"],[0.2222222222222222,\"#7201a8\"],[0.3333333333333333,\"#9c179e\"],[0.4444444444444444,\"#bd3786\"],[0.5555555555555556,\"#d8576b\"],[0.6666666666666666,\"#ed7953\"],[0.7777777777777778,\"#fb9f3a\"],[0.8888888888888888,\"#fdca26\"],[1.0,\"#f0f921\"]]}],\"surface\":[{\"type\":\"surface\",\"colorbar\":{\"outlinewidth\":0,\"ticks\":\"\"},\"colorscale\":[[0.0,\"#0d0887\"],[0.1111111111111111,\"#46039f\"],[0.2222222222222222,\"#7201a8\"],[0.3333333333333333,\"#9c179e\"],[0.4444444444444444,\"#bd3786\"],[0.5555555555555556,\"#d8576b\"],[0.6666666666666666,\"#ed7953\"],[0.7777777777777778,\"#fb9f3a\"],[0.8888888888888888,\"#fdca26\"],[1.0,\"#f0f921\"]]}],\"mesh3d\":[{\"type\":\"mesh3d\",\"colorbar\":{\"outlinewidth\":0,\"ticks\":\"\"}}],\"scatter\":[{\"fillpattern\":{\"fillmode\":\"overlay\",\"size\":10,\"solidity\":0.2},\"type\":\"scatter\"}],\"parcoords\":[{\"type\":\"parcoords\",\"line\":{\"colorbar\":{\"outlinewidth\":0,\"ticks\":\"\"}}}],\"scatterpolargl\":[{\"type\":\"scatterpolargl\",\"marker\":{\"colorbar\":{\"outlinewidth\":0,\"ticks\":\"\"}}}],\"bar\":[{\"error_x\":{\"color\":\"#2a3f5f\"},\"error_y\":{\"color\":\"#2a3f5f\"},\"marker\":{\"line\":{\"color\":\"#E5ECF6\",\"width\":0.5},\"pattern\":{\"fillmode\":\"overlay\",\"size\":10,\"solidity\":0.2}},\"type\":\"bar\"}],\"scattergeo\":[{\"type\":\"scattergeo\",\"marker\":{\"colorbar\":{\"outlinewidth\":0,\"ticks\":\"\"}}}],\"scatterpolar\":[{\"type\":\"scatterpolar\",\"marker\":{\"colorbar\":{\"outlinewidth\":0,\"ticks\":\"\"}}}],\"histogram\":[{\"marker\":{\"pattern\":{\"fillmode\":\"overlay\",\"size\":10,\"solidity\":0.2}},\"type\":\"histogram\"}],\"scattergl\":[{\"type\":\"scattergl\",\"marker\":{\"colorbar\":{\"outlinewidth\":0,\"ticks\":\"\"}}}],\"scatter3d\":[{\"type\":\"scatter3d\",\"line\":{\"colorbar\":{\"outlinewidth\":0,\"ticks\":\"\"}},\"marker\":{\"colorbar\":{\"outlinewidth\":0,\"ticks\":\"\"}}}],\"scattermapbox\":[{\"type\":\"scattermapbox\",\"marker\":{\"colorbar\":{\"outlinewidth\":0,\"ticks\":\"\"}}}],\"scatterternary\":[{\"type\":\"scatterternary\",\"marker\":{\"colorbar\":{\"outlinewidth\":0,\"ticks\":\"\"}}}],\"scattercarpet\":[{\"type\":\"scattercarpet\",\"marker\":{\"colorbar\":{\"outlinewidth\":0,\"ticks\":\"\"}}}],\"carpet\":[{\"aaxis\":{\"endlinecolor\":\"#2a3f5f\",\"gridcolor\":\"white\",\"linecolor\":\"white\",\"minorgridcolor\":\"white\",\"startlinecolor\":\"#2a3f5f\"},\"baxis\":{\"endlinecolor\":\"#2a3f5f\",\"gridcolor\":\"white\",\"linecolor\":\"white\",\"minorgridcolor\":\"white\",\"startlinecolor\":\"#2a3f5f\"},\"type\":\"carpet\"}],\"table\":[{\"cells\":{\"fill\":{\"color\":\"#EBF0F8\"},\"line\":{\"color\":\"white\"}},\"header\":{\"fill\":{\"color\":\"#C8D4E3\"},\"line\":{\"color\":\"white\"}},\"type\":\"table\"}],\"barpolar\":[{\"marker\":{\"line\":{\"color\":\"#E5ECF6\",\"width\":0.5},\"pattern\":{\"fillmode\":\"overlay\",\"size\":10,\"solidity\":0.2}},\"type\":\"barpolar\"}],\"pie\":[{\"automargin\":true,\"type\":\"pie\"}]},\"layout\":{\"autotypenumbers\":\"strict\",\"colorway\":[\"#636efa\",\"#EF553B\",\"#00cc96\",\"#ab63fa\",\"#FFA15A\",\"#19d3f3\",\"#FF6692\",\"#B6E880\",\"#FF97FF\",\"#FECB52\"],\"font\":{\"color\":\"#2a3f5f\"},\"hovermode\":\"closest\",\"hoverlabel\":{\"align\":\"left\"},\"paper_bgcolor\":\"white\",\"plot_bgcolor\":\"#E5ECF6\",\"polar\":{\"bgcolor\":\"#E5ECF6\",\"angularaxis\":{\"gridcolor\":\"white\",\"linecolor\":\"white\",\"ticks\":\"\"},\"radialaxis\":{\"gridcolor\":\"white\",\"linecolor\":\"white\",\"ticks\":\"\"}},\"ternary\":{\"bgcolor\":\"#E5ECF6\",\"aaxis\":{\"gridcolor\":\"white\",\"linecolor\":\"white\",\"ticks\":\"\"},\"baxis\":{\"gridcolor\":\"white\",\"linecolor\":\"white\",\"ticks\":\"\"},\"caxis\":{\"gridcolor\":\"white\",\"linecolor\":\"white\",\"ticks\":\"\"}},\"coloraxis\":{\"colorbar\":{\"outlinewidth\":0,\"ticks\":\"\"}},\"colorscale\":{\"sequential\":[[0.0,\"#0d0887\"],[0.1111111111111111,\"#46039f\"],[0.2222222222222222,\"#7201a8\"],[0.3333333333333333,\"#9c179e\"],[0.4444444444444444,\"#bd3786\"],[0.5555555555555556,\"#d8576b\"],[0.6666666666666666,\"#ed7953\"],[0.7777777777777778,\"#fb9f3a\"],[0.8888888888888888,\"#fdca26\"],[1.0,\"#f0f921\"]],\"sequentialminus\":[[0.0,\"#0d0887\"],[0.1111111111111111,\"#46039f\"],[0.2222222222222222,\"#7201a8\"],[0.3333333333333333,\"#9c179e\"],[0.4444444444444444,\"#bd3786\"],[0.5555555555555556,\"#d8576b\"],[0.6666666666666666,\"#ed7953\"],[0.7777777777777778,\"#fb9f3a\"],[0.8888888888888888,\"#fdca26\"],[1.0,\"#f0f921\"]],\"diverging\":[[0,\"#8e0152\"],[0.1,\"#c51b7d\"],[0.2,\"#de77ae\"],[0.3,\"#f1b6da\"],[0.4,\"#fde0ef\"],[0.5,\"#f7f7f7\"],[0.6,\"#e6f5d0\"],[0.7,\"#b8e186\"],[0.8,\"#7fbc41\"],[0.9,\"#4d9221\"],[1,\"#276419\"]]},\"xaxis\":{\"gridcolor\":\"white\",\"linecolor\":\"white\",\"ticks\":\"\",\"title\":{\"standoff\":15},\"zerolinecolor\":\"white\",\"automargin\":true,\"zerolinewidth\":2},\"yaxis\":{\"gridcolor\":\"white\",\"linecolor\":\"white\",\"ticks\":\"\",\"title\":{\"standoff\":15},\"zerolinecolor\":\"white\",\"automargin\":true,\"zerolinewidth\":2},\"scene\":{\"xaxis\":{\"backgroundcolor\":\"#E5ECF6\",\"gridcolor\":\"white\",\"linecolor\":\"white\",\"showbackground\":true,\"ticks\":\"\",\"zerolinecolor\":\"white\",\"gridwidth\":2},\"yaxis\":{\"backgroundcolor\":\"#E5ECF6\",\"gridcolor\":\"white\",\"linecolor\":\"white\",\"showbackground\":true,\"ticks\":\"\",\"zerolinecolor\":\"white\",\"gridwidth\":2},\"zaxis\":{\"backgroundcolor\":\"#E5ECF6\",\"gridcolor\":\"white\",\"linecolor\":\"white\",\"showbackground\":true,\"ticks\":\"\",\"zerolinecolor\":\"white\",\"gridwidth\":2}},\"shapedefaults\":{\"line\":{\"color\":\"#2a3f5f\"}},\"annotationdefaults\":{\"arrowcolor\":\"#2a3f5f\",\"arrowhead\":0,\"arrowwidth\":1},\"geo\":{\"bgcolor\":\"white\",\"landcolor\":\"#E5ECF6\",\"subunitcolor\":\"white\",\"showland\":true,\"showlakes\":true,\"lakecolor\":\"white\"},\"title\":{\"x\":0.05},\"mapbox\":{\"style\":\"light\"}}},\"xaxis\":{\"anchor\":\"y\",\"domain\":[0.0,1.0],\"title\":{\"text\":\"index\"}},\"yaxis\":{\"anchor\":\"x\",\"domain\":[0.0,1.0],\"title\":{\"text\":\"value\"}},\"legend\":{\"title\":{\"text\":\"variable\"},\"tracegroupgap\":0},\"margin\":{\"t\":60}},                        {\"responsive\": true}                    ).then(function(){\n",
              "                            \n",
              "var gd = document.getElementById('9816cb5b-de9a-48c4-9aca-99200643ffd5');\n",
              "var x = new MutationObserver(function (mutations, observer) {{\n",
              "        var display = window.getComputedStyle(gd).display;\n",
              "        if (!display || display === 'none') {{\n",
              "            console.log([gd, 'removed!']);\n",
              "            Plotly.purge(gd);\n",
              "            observer.disconnect();\n",
              "        }}\n",
              "}});\n",
              "\n",
              "// Listen for the removal of the full notebook cells\n",
              "var notebookContainer = gd.closest('#notebook-container');\n",
              "if (notebookContainer) {{\n",
              "    x.observe(notebookContainer, {childList: true});\n",
              "}}\n",
              "\n",
              "// Listen for the clearing of the current output cell\n",
              "var outputEl = gd.closest('.output');\n",
              "if (outputEl) {{\n",
              "    x.observe(outputEl, {childList: true});\n",
              "}}\n",
              "\n",
              "                        })                };                            </script>        </div>\n",
              "</body>\n",
              "</html>"
            ]
          },
          "metadata": {}
        }
      ]
    }
  ]
}
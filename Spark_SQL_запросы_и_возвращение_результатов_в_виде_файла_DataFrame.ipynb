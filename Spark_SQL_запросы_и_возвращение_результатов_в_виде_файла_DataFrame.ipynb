{
  "nbformat": 4,
  "nbformat_minor": 0,
  "metadata": {
    "colab": {
      "provenance": [],
      "authorship_tag": "ABX9TyMP0VnPyRuInfBQRhVWpstc",
      "include_colab_link": true
    },
    "kernelspec": {
      "name": "python3",
      "display_name": "Python 3"
    },
    "language_info": {
      "name": "python"
    }
  },
  "cells": [
    {
      "cell_type": "markdown",
      "metadata": {
        "id": "view-in-github",
        "colab_type": "text"
      },
      "source": [
        "<a href=\"https://colab.research.google.com/github/endophenotype/Spark/blob/main/Spark_SQL_%D0%B7%D0%B0%D0%BF%D1%80%D0%BE%D1%81%D1%8B_%D0%B8_%D0%B2%D0%BE%D0%B7%D0%B2%D1%80%D0%B0%D1%89%D0%B5%D0%BD%D0%B8%D0%B5_%D1%80%D0%B5%D0%B7%D1%83%D0%BB%D1%8C%D1%82%D0%B0%D1%82%D0%BE%D0%B2_%D0%B2_%D0%B2%D0%B8%D0%B4%D0%B5_%D1%84%D0%B0%D0%B9%D0%BB%D0%B0_DataFrame.ipynb\" target=\"_parent\"><img src=\"https://colab.research.google.com/assets/colab-badge.svg\" alt=\"Open In Colab\"/></a>"
      ]
    },
    {
      "cell_type": "code",
      "execution_count": null,
      "metadata": {
        "id": "IMXcmvz9czSG"
      },
      "outputs": [],
      "source": [
        "!apt-get install openjdk-8-jdk-headless -qq > /dev/null\n",
        "!wget -q http://archive.apache.org/dist/spark/spark-3.1.1/spark-3.1.1-bin-hadoop3.2.tgz\n",
        "!tar xf spark-3.1.1-bin-hadoop3.2.tgz\n",
        "!pip install -q findspark"
      ]
    },
    {
      "cell_type": "code",
      "source": [
        "import os\n",
        "os.environ[\"JAVA_HOME\"] = \"/usr/lib/jvm/java-8-openjdk-amd64\"\n",
        "os.environ[\"SPARK_HOME\"] = \"/content/spark-3.1.1-bin-hadoop3.2\""
      ],
      "metadata": {
        "id": "ZBakr-9ue0re"
      },
      "execution_count": null,
      "outputs": []
    },
    {
      "cell_type": "code",
      "source": [
        "!ls"
      ],
      "metadata": {
        "colab": {
          "base_uri": "https://localhost:8080/"
        },
        "id": "fofQWtDafK9C",
        "outputId": "5379f45c-2738-48f3-ca20-85c0515b0e78"
      },
      "execution_count": null,
      "outputs": [
        {
          "output_type": "stream",
          "name": "stdout",
          "text": [
            "sample_data  spark-3.1.1-bin-hadoop3.2\tspark-3.1.1-bin-hadoop3.2.tgz\n"
          ]
        }
      ]
    },
    {
      "cell_type": "code",
      "source": [
        "import findspark\n",
        "findspark.init()\n",
        "from pyspark.sql import SparkSession\n",
        "spark = SparkSession.builder.master(\"local[*]\").getOrCreate()\n",
        "spark.conf.set(\"spark.sql.repl.eagerEval.enabled\", True) # Property used to format output tables better\n",
        "spark"
      ],
      "metadata": {
        "colab": {
          "base_uri": "https://localhost:8080/",
          "height": 222
        },
        "id": "9nSxSa8sfPnA",
        "outputId": "0221f387-c877-45cd-8839-f4a16a8b2024"
      },
      "execution_count": null,
      "outputs": [
        {
          "output_type": "execute_result",
          "data": {
            "text/plain": [
              "<pyspark.sql.session.SparkSession at 0x7f20e1b3f310>"
            ],
            "text/html": [
              "\n",
              "            <div>\n",
              "                <p><b>SparkSession - in-memory</b></p>\n",
              "                \n",
              "        <div>\n",
              "            <p><b>SparkContext</b></p>\n",
              "\n",
              "            <p><a href=\"http://5ac84ce536ac:4040\">Spark UI</a></p>\n",
              "\n",
              "            <dl>\n",
              "              <dt>Version</dt>\n",
              "                <dd><code>v3.1.1</code></dd>\n",
              "              <dt>Master</dt>\n",
              "                <dd><code>local[*]</code></dd>\n",
              "              <dt>AppName</dt>\n",
              "                <dd><code>pyspark-shell</code></dd>\n",
              "            </dl>\n",
              "        </div>\n",
              "        \n",
              "            </div>\n",
              "        "
            ]
          },
          "metadata": {},
          "execution_count": 4
        }
      ]
    },
    {
      "cell_type": "markdown",
      "source": [
        "В Python можно получить доступ к столбцам DataFrame либо по атрибуту ( df.age), либо по индексу ( df['age']). Хотя первый вариант удобен для интерактивного исследования данных, пользователям настоятельно рекомендуется использовать второй вариант, который рассчитан на будущее и не нарушает имена столбцов, которые также являются атрибутами класса DataFrame."
      ],
      "metadata": {
        "id": "aEfR0yTa2kUQ"
      }
    },
    {
      "cell_type": "code",
      "source": [
        "spark = SparkSession \\\n",
        "    .builder \\\n",
        "    .appName(\"Python Spark SQL basic example\") \\\n",
        "    .config(\"spark.some.config.option\", \"some-value\") \\\n",
        "    .getOrCreate()\n",
        "\n",
        "# spark is an existing SparkSession\n",
        "df = spark.read.json(\"/content/spark-3.1.1-bin-hadoop3.2/examples/src/main/resources/people.json\")\n",
        "\n",
        "# spark, df are from the previous example\n",
        "# Print the schema in a tree format\n",
        "df.printSchema()\n",
        "\n",
        "# Select only the \"name\" column\n",
        "df.select(\"name\").show()\n",
        "\n",
        "# Select everybody, but increment the age by 1\n",
        "df.select(df['name'], df['age'] + 1).show()\n",
        "\n",
        "# Select people older than 21\n",
        "df.filter(df['age'] > 21).show()\n",
        "\n",
        "# Count people by age\n",
        "df.groupBy(\"age\").count().show()\n"
      ],
      "metadata": {
        "colab": {
          "base_uri": "https://localhost:8080/"
        },
        "id": "B0RqNdoI2aGk",
        "outputId": "6f9a01c5-f0d7-4387-d843-bff9deee2523"
      },
      "execution_count": null,
      "outputs": [
        {
          "output_type": "stream",
          "name": "stdout",
          "text": [
            "root\n",
            " |-- age: long (nullable = true)\n",
            " |-- name: string (nullable = true)\n",
            "\n",
            "+-------+\n",
            "|   name|\n",
            "+-------+\n",
            "|Michael|\n",
            "|   Andy|\n",
            "| Justin|\n",
            "+-------+\n",
            "\n",
            "+-------+---------+\n",
            "|   name|(age + 1)|\n",
            "+-------+---------+\n",
            "|Michael|     null|\n",
            "|   Andy|       31|\n",
            "| Justin|       20|\n",
            "+-------+---------+\n",
            "\n",
            "+---+----+\n",
            "|age|name|\n",
            "+---+----+\n",
            "| 30|Andy|\n",
            "+---+----+\n",
            "\n",
            "+----+-----+\n",
            "| age|count|\n",
            "+----+-----+\n",
            "|  19|    1|\n",
            "|null|    1|\n",
            "|  30|    1|\n",
            "+----+-----+\n",
            "\n"
          ]
        }
      ]
    },
    {
      "cell_type": "markdown",
      "source": [
        "Функция позволяет sql приложениям SparkSession программно выполнять\n",
        "SQL-запросы и возвращает результат в виде файла DataFrame."
      ],
      "metadata": {
        "id": "zwm33Fmwy3iH"
      }
    },
    {
      "cell_type": "code",
      "source": [
        "from pyspark.sql import SparkSession\n",
        "spark = SparkSession \\\n",
        " .builder \\\n",
        " .appName(\"Python Spark SQL basic example\") \\\n",
        " .config(\"spark.some.config.option\", \"some-value\") \\\n",
        " .getOrCreate()\n",
        "# spark is an existing SparkSession\n",
        "df = spark.read.json(\"/content/spark-3.1.1-bin-hadoop3.2/examples/src/main/resources/people.json\")\n",
        "# Register the DataFrame as a SQL temporary view\n",
        "df.createOrReplaceTempView(\"people\")\n",
        "sqlDF = spark.sql(\"SELECT * FROM people\")\n",
        "sqlDF.show()"
      ],
      "metadata": {
        "colab": {
          "base_uri": "https://localhost:8080/"
        },
        "id": "dVQ-CQRfwsEB",
        "outputId": "52403291-7d82-4170-d84f-c5e200f40270"
      },
      "execution_count": null,
      "outputs": [
        {
          "output_type": "stream",
          "name": "stdout",
          "text": [
            "+----+-------+\n",
            "| age|   name|\n",
            "+----+-------+\n",
            "|null|Michael|\n",
            "|  30|   Andy|\n",
            "|  19| Justin|\n",
            "+----+-------+\n",
            "\n"
          ]
        }
      ]
    },
    {
      "cell_type": "markdown",
      "source": [
        "Глобальное временное представление привязано к сохраненной системой базе\n",
        "данных global_temp, и мы должны использовать полное имя для ссылки на\n",
        "него, например SELECT * FROM global_temp.view1."
      ],
      "metadata": {
        "id": "SS0YhAl3y2sK"
      }
    },
    {
      "cell_type": "code",
      "source": [
        "from pyspark.sql import SparkSession\n",
        "spark = SparkSession \\\n",
        " .builder \\\n",
        " .appName(\"Python Spark SQL basic example\") \\\n",
        " .config(\"spark.some.config.option\", \"some-value\") \\\n",
        " .getOrCreate()\n",
        "# spark is an existing SparkSession\n",
        "df = spark.read.json(\"/content/spark-3.1.1-bin-hadoop3.2/examples/src/main/resources/people.json\")\n",
        "# Register the DataFrame as a global temporary view\n",
        "df.createGlobalTempView(\"people\")\n",
        "# Global temporary view is tied to a system preserved database `global_temp`\n",
        "spark.sql(\"SELECT * FROM global_temp.people\").show()\n",
        "# Global temporary view is cross-session\n",
        "spark.newSession().sql(\"SELECT * FROM global_temp.people\").show()"
      ],
      "metadata": {
        "colab": {
          "base_uri": "https://localhost:8080/"
        },
        "id": "4DRK0XTOyqYt",
        "outputId": "4629d52a-48ab-4f54-8ce2-bf041ce85654"
      },
      "execution_count": null,
      "outputs": [
        {
          "output_type": "stream",
          "name": "stdout",
          "text": [
            "+----+-------+\n",
            "| age|   name|\n",
            "+----+-------+\n",
            "|null|Michael|\n",
            "|  30|   Andy|\n",
            "|  19| Justin|\n",
            "+----+-------+\n",
            "\n",
            "+----+-------+\n",
            "| age|   name|\n",
            "+----+-------+\n",
            "|null|Michael|\n",
            "|  30|   Andy|\n",
            "|  19| Justin|\n",
            "+----+-------+\n",
            "\n"
          ]
        }
      ]
    },
    {
      "cell_type": "markdown",
      "source": [
        "Spark SQL может преобразовывать RDD объектов Row в DataFrame, определяя\n",
        "типы данных. Строки создаются путем передачи списка пар ключ/значение в\n",
        "виде kwargs классу Row. Ключи этого списка определяют имена столбцов\n",
        "таблицы, а типы выводятся путем выборки всего набора данных, аналогично\n",
        "выводу, который выполняется для файлов JSON."
      ],
      "metadata": {
        "id": "9n4UbEh92rz9"
      }
    },
    {
      "cell_type": "code",
      "source": [
        "spark = SparkSession \\\n",
        " .builder \\\n",
        " .appName(\"Python Spark SQL basic example\") \\\n",
        " .config(\"spark.some.config.option\", \"some-value\") \\\n",
        " .getOrCreate()\n",
        "from pyspark.sql import Row\n",
        "sc = spark.sparkContext\n",
        "# Load a text file and convert each line to a Row.\n",
        "lines = sc.textFile(\"/content/spark-3.1.1-bin-hadoop3.2/examples/src/main/resources/people.txt\")\n",
        "parts = lines.map(lambda l: l.split(\",\"))\n",
        "people = parts.map(lambda p: Row(name=p[0], age=int(p[1])))\n",
        "# Infer the schema, and register the DataFrame as a table.\n",
        "schemaPeople = spark.createDataFrame(people)\n",
        "schemaPeople.createOrReplaceTempView(\"people\")\n",
        "# SQL can be run over DataFrames that have been registered as a table.\n",
        "teenagers = spark.sql(\"SELECT name FROM people WHERE age >= 13 AND age <= 19\")\n",
        "# The results of SQL queries are Dataframe objects.\n",
        "# rdd returns the content as an :class:`pyspark.RDD` of :class:`Row`.\n",
        "teenNames = teenagers.rdd.map(lambda p: \"Name: \" + p.name).collect()\n",
        "for name in teenNames:\n",
        " print(name)"
      ],
      "metadata": {
        "colab": {
          "base_uri": "https://localhost:8080/"
        },
        "id": "M1pp0PBWzJtd",
        "outputId": "5664be86-0fc0-4954-c796-7d9bdfda35e1"
      },
      "execution_count": null,
      "outputs": [
        {
          "output_type": "stream",
          "name": "stdout",
          "text": [
            "Name: Justin\n"
          ]
        }
      ]
    },
    {
      "cell_type": "markdown",
      "source": [
        "Схема, представленная StructType соответствующей структурой\n",
        "кортежей или списков в RDD"
      ],
      "metadata": {
        "id": "Tg4-qsKY0vb7"
      }
    },
    {
      "cell_type": "code",
      "source": [
        "from pyspark.sql import SparkSession\n",
        "spark = SparkSession \\\n",
        " .builder \\\n",
        " .appName(\"Python Spark SQL basic example\") \\\n",
        " .config(\"spark.some.config.option\", \"some-value\") \\\n",
        " .getOrCreate()\n",
        "# Import data types\n",
        "from pyspark.sql.types import StringType, StructType, StructField\n",
        "sc = spark.sparkContext\n",
        "# Load a text file and convert each line to a Row.\n",
        "lines = sc.textFile(\"/content/spark-3.1.1-bin-hadoop3.2/examples/src/main/resources/people.txt\")\n",
        "parts = lines.map(lambda l: l.split(\",\"))\n",
        "# Each line is converted to a tuple.\n",
        "people = parts.map(lambda p: (p[0], p[1].strip()))\n",
        "# The schema is encoded in a string.\n",
        "schemaString = \"name age\"\n",
        "fields = [StructField(field_name, StringType(), True) for field_name in schemaString.split()]\n",
        "schema = StructType(fields)\n",
        "# Apply the schema to the RDD.\n",
        "schemaPeople = spark.createDataFrame(people, schema)\n",
        "# Creates a temporary view using the DataFrame\n",
        "schemaPeople.createOrReplaceTempView(\"people\")\n",
        "# SQL can be run over DataFrames that have been registered as a table.\n",
        "results = spark.sql(\"SELECT name FROM people\")\n",
        "results.show()"
      ],
      "metadata": {
        "colab": {
          "base_uri": "https://localhost:8080/"
        },
        "id": "cqBXfYTs00TJ",
        "outputId": "0f22614d-37a4-4ae0-f00a-29a16e11b492"
      },
      "execution_count": null,
      "outputs": [
        {
          "output_type": "stream",
          "name": "stdout",
          "text": [
            "+-------+\n",
            "|   name|\n",
            "+-------+\n",
            "|Michael|\n",
            "|   Andy|\n",
            "| Justin|\n",
            "+-------+\n",
            "\n"
          ]
        }
      ]
    },
    {
      "cell_type": "code",
      "source": [
        "df.createGlobalTempView(\"daily\")"
      ],
      "metadata": {
        "id": "HylySjRA9AOl"
      },
      "execution_count": null,
      "outputs": []
    },
    {
      "cell_type": "code",
      "source": [
        "from pyspark.sql import SparkSession\n",
        "spark = SparkSession \\\n",
        " .builder \\\n",
        " .appName(\"Python Spark SQL basic example\") \\\n",
        " .config(\"spark.some.config.option\", \"some-value\") \\\n",
        " .getOrCreate()\n",
        "# spark is an existing SparkSession\n",
        "df = spark.read.option(\"multiline\",\"true\").json(\"/content/daily_json.js\")\n",
        "df.show()"
      ],
      "metadata": {
        "colab": {
          "base_uri": "https://localhost:8080/"
        },
        "id": "PSPw1dl28OvK",
        "outputId": "fe8b56d0-40e5-4985-b977-c04ea8ff5889"
      },
      "execution_count": null,
      "outputs": [
        {
          "output_type": "stream",
          "name": "stdout",
          "text": [
            "+--------------------+--------------------+--------------------+--------------------+--------------------+\n",
            "|                Date|        PreviousDate|         PreviousURL|           Timestamp|              Valute|\n",
            "+--------------------+--------------------+--------------------+--------------------+--------------------+\n",
            "|2023-05-12T11:30:...|2023-05-11T11:30:...|//www.cbr-xml-dai...|2023-05-11T20:00:...|{{AED, R01230, Ди...|\n",
            "+--------------------+--------------------+--------------------+--------------------+--------------------+\n",
            "\n"
          ]
        }
      ]
    },
    {
      "cell_type": "code",
      "source": [
        "df.select(\"Valute\").show"
      ],
      "metadata": {
        "colab": {
          "base_uri": "https://localhost:8080/"
        },
        "id": "RNr8Ji0E-t2p",
        "outputId": "44391334-523e-4ecd-f6ce-30c674f8be26"
      },
      "execution_count": null,
      "outputs": [
        {
          "output_type": "execute_result",
          "data": {
            "text/plain": [
              "<bound method DataFrame.show of +--------------------+\n",
              "|              Valute|\n",
              "+--------------------+\n",
              "|{{AED, R01230, Ди...|\n",
              "+--------------------+\n",
              ">"
            ]
          },
          "metadata": {},
          "execution_count": 18
        }
      ]
    },
    {
      "cell_type": "code",
      "source": [
        "from pyspark.sql import SparkSession, functions as F\n",
        "from urllib.request import urlopen\n",
        "\n",
        "spark = SparkSession.builder.getOrCreate()\n",
        "\n",
        "url = 'https://www.cbr-xml-daily.ru/daily_json.js'\n",
        "jsonData = urlopen(url).read().decode('utf-8')\n",
        "rdd = spark.sparkContext.parallelize([jsonData])\n",
        "dfurl = spark.read.json(rdd)\n",
        "dfurl.show()"
      ],
      "metadata": {
        "colab": {
          "base_uri": "https://localhost:8080/"
        },
        "id": "X5im9Nps_WXP",
        "outputId": "f7aa8927-af77-4da8-b66d-10a80bf7f99a"
      },
      "execution_count": null,
      "outputs": [
        {
          "output_type": "stream",
          "name": "stdout",
          "text": [
            "+--------------------+--------------------+--------------------+--------------------+--------------------+\n",
            "|                Date|        PreviousDate|         PreviousURL|           Timestamp|              Valute|\n",
            "+--------------------+--------------------+--------------------+--------------------+--------------------+\n",
            "|2023-05-12T11:30:...|2023-05-11T11:30:...|//www.cbr-xml-dai...|2023-05-11T20:00:...|{{AED, R01230, Ди...|\n",
            "+--------------------+--------------------+--------------------+--------------------+--------------------+\n",
            "\n"
          ]
        }
      ]
    },
    {
      "cell_type": "code",
      "source": [
        "from pyspark.sql import SparkSession, functions as F\n",
        "from urllib.request import urlopen\n",
        "spark = SparkSession.builder.getOrCreate()\n",
        "url = 'https://www.cbr-xml-daily.ru/daily_json.js'\n",
        "jsonData = urlopen(url).read().decode('utf-8')\n",
        "rdd = spark.sparkContext.parallelize([jsonData])\n",
        "#df = spark.read.json(rdd)\n",
        "df = spark.read.option(\"inferSchema\", \"true\").option(\"multiline\", \"true\").json(rdd)\n",
        "df.printSchema()\n",
        "df.select(\"Valute.*\").show(1,truncate=90,vertical=True)\n",
        "df.select(\"Valute.XDR.*\").show(1,truncate=90,vertical=True)\n",
        "df.select(\"Valute.XDR.*\").show(1,truncate=90,vertical=False)"
      ],
      "metadata": {
        "colab": {
          "base_uri": "https://localhost:8080/"
        },
        "id": "kclZrsdyFiww",
        "outputId": "c01ac931-9fa3-4943-9327-0fc0e196bdff"
      },
      "execution_count": null,
      "outputs": [
        {
          "output_type": "stream",
          "name": "stdout",
          "text": [
            "root\n",
            " |-- Date: string (nullable = true)\n",
            " |-- PreviousDate: string (nullable = true)\n",
            " |-- PreviousURL: string (nullable = true)\n",
            " |-- Timestamp: string (nullable = true)\n",
            " |-- Valute: struct (nullable = true)\n",
            " |    |-- AED: struct (nullable = true)\n",
            " |    |    |-- CharCode: string (nullable = true)\n",
            " |    |    |-- ID: string (nullable = true)\n",
            " |    |    |-- Name: string (nullable = true)\n",
            " |    |    |-- Nominal: long (nullable = true)\n",
            " |    |    |-- NumCode: string (nullable = true)\n",
            " |    |    |-- Previous: double (nullable = true)\n",
            " |    |    |-- Value: double (nullable = true)\n",
            " |    |-- AMD: struct (nullable = true)\n",
            " |    |    |-- CharCode: string (nullable = true)\n",
            " |    |    |-- ID: string (nullable = true)\n",
            " |    |    |-- Name: string (nullable = true)\n",
            " |    |    |-- Nominal: long (nullable = true)\n",
            " |    |    |-- NumCode: string (nullable = true)\n",
            " |    |    |-- Previous: double (nullable = true)\n",
            " |    |    |-- Value: double (nullable = true)\n",
            " |    |-- AUD: struct (nullable = true)\n",
            " |    |    |-- CharCode: string (nullable = true)\n",
            " |    |    |-- ID: string (nullable = true)\n",
            " |    |    |-- Name: string (nullable = true)\n",
            " |    |    |-- Nominal: long (nullable = true)\n",
            " |    |    |-- NumCode: string (nullable = true)\n",
            " |    |    |-- Previous: double (nullable = true)\n",
            " |    |    |-- Value: double (nullable = true)\n",
            " |    |-- AZN: struct (nullable = true)\n",
            " |    |    |-- CharCode: string (nullable = true)\n",
            " |    |    |-- ID: string (nullable = true)\n",
            " |    |    |-- Name: string (nullable = true)\n",
            " |    |    |-- Nominal: long (nullable = true)\n",
            " |    |    |-- NumCode: string (nullable = true)\n",
            " |    |    |-- Previous: double (nullable = true)\n",
            " |    |    |-- Value: double (nullable = true)\n",
            " |    |-- BGN: struct (nullable = true)\n",
            " |    |    |-- CharCode: string (nullable = true)\n",
            " |    |    |-- ID: string (nullable = true)\n",
            " |    |    |-- Name: string (nullable = true)\n",
            " |    |    |-- Nominal: long (nullable = true)\n",
            " |    |    |-- NumCode: string (nullable = true)\n",
            " |    |    |-- Previous: double (nullable = true)\n",
            " |    |    |-- Value: double (nullable = true)\n",
            " |    |-- BRL: struct (nullable = true)\n",
            " |    |    |-- CharCode: string (nullable = true)\n",
            " |    |    |-- ID: string (nullable = true)\n",
            " |    |    |-- Name: string (nullable = true)\n",
            " |    |    |-- Nominal: long (nullable = true)\n",
            " |    |    |-- NumCode: string (nullable = true)\n",
            " |    |    |-- Previous: double (nullable = true)\n",
            " |    |    |-- Value: double (nullable = true)\n",
            " |    |-- BYN: struct (nullable = true)\n",
            " |    |    |-- CharCode: string (nullable = true)\n",
            " |    |    |-- ID: string (nullable = true)\n",
            " |    |    |-- Name: string (nullable = true)\n",
            " |    |    |-- Nominal: long (nullable = true)\n",
            " |    |    |-- NumCode: string (nullable = true)\n",
            " |    |    |-- Previous: double (nullable = true)\n",
            " |    |    |-- Value: double (nullable = true)\n",
            " |    |-- CAD: struct (nullable = true)\n",
            " |    |    |-- CharCode: string (nullable = true)\n",
            " |    |    |-- ID: string (nullable = true)\n",
            " |    |    |-- Name: string (nullable = true)\n",
            " |    |    |-- Nominal: long (nullable = true)\n",
            " |    |    |-- NumCode: string (nullable = true)\n",
            " |    |    |-- Previous: double (nullable = true)\n",
            " |    |    |-- Value: double (nullable = true)\n",
            " |    |-- CHF: struct (nullable = true)\n",
            " |    |    |-- CharCode: string (nullable = true)\n",
            " |    |    |-- ID: string (nullable = true)\n",
            " |    |    |-- Name: string (nullable = true)\n",
            " |    |    |-- Nominal: long (nullable = true)\n",
            " |    |    |-- NumCode: string (nullable = true)\n",
            " |    |    |-- Previous: double (nullable = true)\n",
            " |    |    |-- Value: double (nullable = true)\n",
            " |    |-- CNY: struct (nullable = true)\n",
            " |    |    |-- CharCode: string (nullable = true)\n",
            " |    |    |-- ID: string (nullable = true)\n",
            " |    |    |-- Name: string (nullable = true)\n",
            " |    |    |-- Nominal: long (nullable = true)\n",
            " |    |    |-- NumCode: string (nullable = true)\n",
            " |    |    |-- Previous: double (nullable = true)\n",
            " |    |    |-- Value: double (nullable = true)\n",
            " |    |-- CZK: struct (nullable = true)\n",
            " |    |    |-- CharCode: string (nullable = true)\n",
            " |    |    |-- ID: string (nullable = true)\n",
            " |    |    |-- Name: string (nullable = true)\n",
            " |    |    |-- Nominal: long (nullable = true)\n",
            " |    |    |-- NumCode: string (nullable = true)\n",
            " |    |    |-- Previous: double (nullable = true)\n",
            " |    |    |-- Value: double (nullable = true)\n",
            " |    |-- DKK: struct (nullable = true)\n",
            " |    |    |-- CharCode: string (nullable = true)\n",
            " |    |    |-- ID: string (nullable = true)\n",
            " |    |    |-- Name: string (nullable = true)\n",
            " |    |    |-- Nominal: long (nullable = true)\n",
            " |    |    |-- NumCode: string (nullable = true)\n",
            " |    |    |-- Previous: double (nullable = true)\n",
            " |    |    |-- Value: double (nullable = true)\n",
            " |    |-- EGP: struct (nullable = true)\n",
            " |    |    |-- CharCode: string (nullable = true)\n",
            " |    |    |-- ID: string (nullable = true)\n",
            " |    |    |-- Name: string (nullable = true)\n",
            " |    |    |-- Nominal: long (nullable = true)\n",
            " |    |    |-- NumCode: string (nullable = true)\n",
            " |    |    |-- Previous: double (nullable = true)\n",
            " |    |    |-- Value: double (nullable = true)\n",
            " |    |-- EUR: struct (nullable = true)\n",
            " |    |    |-- CharCode: string (nullable = true)\n",
            " |    |    |-- ID: string (nullable = true)\n",
            " |    |    |-- Name: string (nullable = true)\n",
            " |    |    |-- Nominal: long (nullable = true)\n",
            " |    |    |-- NumCode: string (nullable = true)\n",
            " |    |    |-- Previous: double (nullable = true)\n",
            " |    |    |-- Value: double (nullable = true)\n",
            " |    |-- GBP: struct (nullable = true)\n",
            " |    |    |-- CharCode: string (nullable = true)\n",
            " |    |    |-- ID: string (nullable = true)\n",
            " |    |    |-- Name: string (nullable = true)\n",
            " |    |    |-- Nominal: long (nullable = true)\n",
            " |    |    |-- NumCode: string (nullable = true)\n",
            " |    |    |-- Previous: double (nullable = true)\n",
            " |    |    |-- Value: double (nullable = true)\n",
            " |    |-- GEL: struct (nullable = true)\n",
            " |    |    |-- CharCode: string (nullable = true)\n",
            " |    |    |-- ID: string (nullable = true)\n",
            " |    |    |-- Name: string (nullable = true)\n",
            " |    |    |-- Nominal: long (nullable = true)\n",
            " |    |    |-- NumCode: string (nullable = true)\n",
            " |    |    |-- Previous: double (nullable = true)\n",
            " |    |    |-- Value: double (nullable = true)\n",
            " |    |-- HKD: struct (nullable = true)\n",
            " |    |    |-- CharCode: string (nullable = true)\n",
            " |    |    |-- ID: string (nullable = true)\n",
            " |    |    |-- Name: string (nullable = true)\n",
            " |    |    |-- Nominal: long (nullable = true)\n",
            " |    |    |-- NumCode: string (nullable = true)\n",
            " |    |    |-- Previous: double (nullable = true)\n",
            " |    |    |-- Value: double (nullable = true)\n",
            " |    |-- HUF: struct (nullable = true)\n",
            " |    |    |-- CharCode: string (nullable = true)\n",
            " |    |    |-- ID: string (nullable = true)\n",
            " |    |    |-- Name: string (nullable = true)\n",
            " |    |    |-- Nominal: long (nullable = true)\n",
            " |    |    |-- NumCode: string (nullable = true)\n",
            " |    |    |-- Previous: double (nullable = true)\n",
            " |    |    |-- Value: double (nullable = true)\n",
            " |    |-- IDR: struct (nullable = true)\n",
            " |    |    |-- CharCode: string (nullable = true)\n",
            " |    |    |-- ID: string (nullable = true)\n",
            " |    |    |-- Name: string (nullable = true)\n",
            " |    |    |-- Nominal: long (nullable = true)\n",
            " |    |    |-- NumCode: string (nullable = true)\n",
            " |    |    |-- Previous: double (nullable = true)\n",
            " |    |    |-- Value: double (nullable = true)\n",
            " |    |-- INR: struct (nullable = true)\n",
            " |    |    |-- CharCode: string (nullable = true)\n",
            " |    |    |-- ID: string (nullable = true)\n",
            " |    |    |-- Name: string (nullable = true)\n",
            " |    |    |-- Nominal: long (nullable = true)\n",
            " |    |    |-- NumCode: string (nullable = true)\n",
            " |    |    |-- Previous: double (nullable = true)\n",
            " |    |    |-- Value: double (nullable = true)\n",
            " |    |-- JPY: struct (nullable = true)\n",
            " |    |    |-- CharCode: string (nullable = true)\n",
            " |    |    |-- ID: string (nullable = true)\n",
            " |    |    |-- Name: string (nullable = true)\n",
            " |    |    |-- Nominal: long (nullable = true)\n",
            " |    |    |-- NumCode: string (nullable = true)\n",
            " |    |    |-- Previous: double (nullable = true)\n",
            " |    |    |-- Value: double (nullable = true)\n",
            " |    |-- KGS: struct (nullable = true)\n",
            " |    |    |-- CharCode: string (nullable = true)\n",
            " |    |    |-- ID: string (nullable = true)\n",
            " |    |    |-- Name: string (nullable = true)\n",
            " |    |    |-- Nominal: long (nullable = true)\n",
            " |    |    |-- NumCode: string (nullable = true)\n",
            " |    |    |-- Previous: double (nullable = true)\n",
            " |    |    |-- Value: double (nullable = true)\n",
            " |    |-- KRW: struct (nullable = true)\n",
            " |    |    |-- CharCode: string (nullable = true)\n",
            " |    |    |-- ID: string (nullable = true)\n",
            " |    |    |-- Name: string (nullable = true)\n",
            " |    |    |-- Nominal: long (nullable = true)\n",
            " |    |    |-- NumCode: string (nullable = true)\n",
            " |    |    |-- Previous: double (nullable = true)\n",
            " |    |    |-- Value: double (nullable = true)\n",
            " |    |-- KZT: struct (nullable = true)\n",
            " |    |    |-- CharCode: string (nullable = true)\n",
            " |    |    |-- ID: string (nullable = true)\n",
            " |    |    |-- Name: string (nullable = true)\n",
            " |    |    |-- Nominal: long (nullable = true)\n",
            " |    |    |-- NumCode: string (nullable = true)\n",
            " |    |    |-- Previous: double (nullable = true)\n",
            " |    |    |-- Value: double (nullable = true)\n",
            " |    |-- MDL: struct (nullable = true)\n",
            " |    |    |-- CharCode: string (nullable = true)\n",
            " |    |    |-- ID: string (nullable = true)\n",
            " |    |    |-- Name: string (nullable = true)\n",
            " |    |    |-- Nominal: long (nullable = true)\n",
            " |    |    |-- NumCode: string (nullable = true)\n",
            " |    |    |-- Previous: double (nullable = true)\n",
            " |    |    |-- Value: double (nullable = true)\n",
            " |    |-- NOK: struct (nullable = true)\n",
            " |    |    |-- CharCode: string (nullable = true)\n",
            " |    |    |-- ID: string (nullable = true)\n",
            " |    |    |-- Name: string (nullable = true)\n",
            " |    |    |-- Nominal: long (nullable = true)\n",
            " |    |    |-- NumCode: string (nullable = true)\n",
            " |    |    |-- Previous: double (nullable = true)\n",
            " |    |    |-- Value: double (nullable = true)\n",
            " |    |-- NZD: struct (nullable = true)\n",
            " |    |    |-- CharCode: string (nullable = true)\n",
            " |    |    |-- ID: string (nullable = true)\n",
            " |    |    |-- Name: string (nullable = true)\n",
            " |    |    |-- Nominal: long (nullable = true)\n",
            " |    |    |-- NumCode: string (nullable = true)\n",
            " |    |    |-- Previous: double (nullable = true)\n",
            " |    |    |-- Value: double (nullable = true)\n",
            " |    |-- PLN: struct (nullable = true)\n",
            " |    |    |-- CharCode: string (nullable = true)\n",
            " |    |    |-- ID: string (nullable = true)\n",
            " |    |    |-- Name: string (nullable = true)\n",
            " |    |    |-- Nominal: long (nullable = true)\n",
            " |    |    |-- NumCode: string (nullable = true)\n",
            " |    |    |-- Previous: double (nullable = true)\n",
            " |    |    |-- Value: double (nullable = true)\n",
            " |    |-- QAR: struct (nullable = true)\n",
            " |    |    |-- CharCode: string (nullable = true)\n",
            " |    |    |-- ID: string (nullable = true)\n",
            " |    |    |-- Name: string (nullable = true)\n",
            " |    |    |-- Nominal: long (nullable = true)\n",
            " |    |    |-- NumCode: string (nullable = true)\n",
            " |    |    |-- Previous: double (nullable = true)\n",
            " |    |    |-- Value: double (nullable = true)\n",
            " |    |-- RON: struct (nullable = true)\n",
            " |    |    |-- CharCode: string (nullable = true)\n",
            " |    |    |-- ID: string (nullable = true)\n",
            " |    |    |-- Name: string (nullable = true)\n",
            " |    |    |-- Nominal: long (nullable = true)\n",
            " |    |    |-- NumCode: string (nullable = true)\n",
            " |    |    |-- Previous: double (nullable = true)\n",
            " |    |    |-- Value: double (nullable = true)\n",
            " |    |-- RSD: struct (nullable = true)\n",
            " |    |    |-- CharCode: string (nullable = true)\n",
            " |    |    |-- ID: string (nullable = true)\n",
            " |    |    |-- Name: string (nullable = true)\n",
            " |    |    |-- Nominal: long (nullable = true)\n",
            " |    |    |-- NumCode: string (nullable = true)\n",
            " |    |    |-- Previous: double (nullable = true)\n",
            " |    |    |-- Value: double (nullable = true)\n",
            " |    |-- SEK: struct (nullable = true)\n",
            " |    |    |-- CharCode: string (nullable = true)\n",
            " |    |    |-- ID: string (nullable = true)\n",
            " |    |    |-- Name: string (nullable = true)\n",
            " |    |    |-- Nominal: long (nullable = true)\n",
            " |    |    |-- NumCode: string (nullable = true)\n",
            " |    |    |-- Previous: double (nullable = true)\n",
            " |    |    |-- Value: double (nullable = true)\n",
            " |    |-- SGD: struct (nullable = true)\n",
            " |    |    |-- CharCode: string (nullable = true)\n",
            " |    |    |-- ID: string (nullable = true)\n",
            " |    |    |-- Name: string (nullable = true)\n",
            " |    |    |-- Nominal: long (nullable = true)\n",
            " |    |    |-- NumCode: string (nullable = true)\n",
            " |    |    |-- Previous: double (nullable = true)\n",
            " |    |    |-- Value: double (nullable = true)\n",
            " |    |-- THB: struct (nullable = true)\n",
            " |    |    |-- CharCode: string (nullable = true)\n",
            " |    |    |-- ID: string (nullable = true)\n",
            " |    |    |-- Name: string (nullable = true)\n",
            " |    |    |-- Nominal: long (nullable = true)\n",
            " |    |    |-- NumCode: string (nullable = true)\n",
            " |    |    |-- Previous: double (nullable = true)\n",
            " |    |    |-- Value: double (nullable = true)\n",
            " |    |-- TJS: struct (nullable = true)\n",
            " |    |    |-- CharCode: string (nullable = true)\n",
            " |    |    |-- ID: string (nullable = true)\n",
            " |    |    |-- Name: string (nullable = true)\n",
            " |    |    |-- Nominal: long (nullable = true)\n",
            " |    |    |-- NumCode: string (nullable = true)\n",
            " |    |    |-- Previous: double (nullable = true)\n",
            " |    |    |-- Value: double (nullable = true)\n",
            " |    |-- TMT: struct (nullable = true)\n",
            " |    |    |-- CharCode: string (nullable = true)\n",
            " |    |    |-- ID: string (nullable = true)\n",
            " |    |    |-- Name: string (nullable = true)\n",
            " |    |    |-- Nominal: long (nullable = true)\n",
            " |    |    |-- NumCode: string (nullable = true)\n",
            " |    |    |-- Previous: double (nullable = true)\n",
            " |    |    |-- Value: double (nullable = true)\n",
            " |    |-- TRY: struct (nullable = true)\n",
            " |    |    |-- CharCode: string (nullable = true)\n",
            " |    |    |-- ID: string (nullable = true)\n",
            " |    |    |-- Name: string (nullable = true)\n",
            " |    |    |-- Nominal: long (nullable = true)\n",
            " |    |    |-- NumCode: string (nullable = true)\n",
            " |    |    |-- Previous: double (nullable = true)\n",
            " |    |    |-- Value: double (nullable = true)\n",
            " |    |-- UAH: struct (nullable = true)\n",
            " |    |    |-- CharCode: string (nullable = true)\n",
            " |    |    |-- ID: string (nullable = true)\n",
            " |    |    |-- Name: string (nullable = true)\n",
            " |    |    |-- Nominal: long (nullable = true)\n",
            " |    |    |-- NumCode: string (nullable = true)\n",
            " |    |    |-- Previous: double (nullable = true)\n",
            " |    |    |-- Value: double (nullable = true)\n",
            " |    |-- USD: struct (nullable = true)\n",
            " |    |    |-- CharCode: string (nullable = true)\n",
            " |    |    |-- ID: string (nullable = true)\n",
            " |    |    |-- Name: string (nullable = true)\n",
            " |    |    |-- Nominal: long (nullable = true)\n",
            " |    |    |-- NumCode: string (nullable = true)\n",
            " |    |    |-- Previous: double (nullable = true)\n",
            " |    |    |-- Value: double (nullable = true)\n",
            " |    |-- UZS: struct (nullable = true)\n",
            " |    |    |-- CharCode: string (nullable = true)\n",
            " |    |    |-- ID: string (nullable = true)\n",
            " |    |    |-- Name: string (nullable = true)\n",
            " |    |    |-- Nominal: long (nullable = true)\n",
            " |    |    |-- NumCode: string (nullable = true)\n",
            " |    |    |-- Previous: double (nullable = true)\n",
            " |    |    |-- Value: double (nullable = true)\n",
            " |    |-- VND: struct (nullable = true)\n",
            " |    |    |-- CharCode: string (nullable = true)\n",
            " |    |    |-- ID: string (nullable = true)\n",
            " |    |    |-- Name: string (nullable = true)\n",
            " |    |    |-- Nominal: long (nullable = true)\n",
            " |    |    |-- NumCode: string (nullable = true)\n",
            " |    |    |-- Previous: double (nullable = true)\n",
            " |    |    |-- Value: double (nullable = true)\n",
            " |    |-- XDR: struct (nullable = true)\n",
            " |    |    |-- CharCode: string (nullable = true)\n",
            " |    |    |-- ID: string (nullable = true)\n",
            " |    |    |-- Name: string (nullable = true)\n",
            " |    |    |-- Nominal: long (nullable = true)\n",
            " |    |    |-- NumCode: string (nullable = true)\n",
            " |    |    |-- Previous: double (nullable = true)\n",
            " |    |    |-- Value: double (nullable = true)\n",
            " |    |-- ZAR: struct (nullable = true)\n",
            " |    |    |-- CharCode: string (nullable = true)\n",
            " |    |    |-- ID: string (nullable = true)\n",
            " |    |    |-- Name: string (nullable = true)\n",
            " |    |    |-- Nominal: long (nullable = true)\n",
            " |    |    |-- NumCode: string (nullable = true)\n",
            " |    |    |-- Previous: double (nullable = true)\n",
            " |    |    |-- Value: double (nullable = true)\n",
            "\n",
            "-RECORD 0--------------------------------------------------------------------------------\n",
            " AED | {AED, R01230, Дирхам ОАЭ, 1, 784, 20.8853, 20.6646}                               \n",
            " AMD | {AMD, R01060, Армянских драмов, 100, 051, 19.8481, 19.6424}                       \n",
            " AUD | {AUD, R01010, Австралийский доллар, 1, 036, 51.8751, 51.4118}                     \n",
            " AZN | {AZN, R01020A, Азербайджанский манат, 1, 944, 45.1135, 44.638}                    \n",
            " BGN | {BGN, R01100, Болгарский лев, 1, 975, 42.9724, 42.4838}                           \n",
            " BRL | {BRL, R01115, Бразильский реал, 1, 986, 15.3374, 15.3166}                         \n",
            " BYN | {BYN, R01090B, Белорусский рубль, 1, 933, 27.0484, 27.1045}                       \n",
            " CAD | {CAD, R01350, Канадский доллар, 1, 124, 57.2763, 56.7361}                         \n",
            " CHF | {CHF, R01775, Швейцарский франк, 1, 756, 86.1041, 84.8062}                        \n",
            " CNY | {CNY, R01375, Китайский юань, 1, 156, 11.039, 10.9119}                            \n",
            " CZK | {CZK, R01760, Чешских крон, 10, 203, 35.8646, 35.4866}                            \n",
            " DKK | {DKK, R01215, Датская крона, 1, 208, 11.2888, 11.1569}                            \n",
            " EGP | {EGP, R01240, Египетских фунтов, 10, 818, 24.8224, 24.5585}                       \n",
            " EUR | {EUR, R01239, Евро, 1, 978, 84.1498, 82.8877}                                     \n",
            " GBP | {GBP, R01035, Фунт стерлингов Соединенного королевства, 1, 826, 96.7251, 95.7512} \n",
            " GEL | {GEL, R01210, Грузинский лари, 1, 981, 30.3206, 30.001}                           \n",
            " HKD | {HKD, R01200, Гонконгских долларов, 10, 344, 98.1355, 96.9895}                    \n",
            " HUF | {HUF, R01135, Венгерских форинтов, 100, 348, 22.6326, 22.3624}                    \n",
            " IDR | {IDR, R01280, Индонезийских рупий, 10000, 360, 51.9705, 51.4611}                  \n",
            " INR | {INR, R01270, Индийских рупий, 100, 356, 93.6934, 92.8419}                        \n",
            " JPY | {JPY, R01820, Японских иен, 100, 392, 56.7465, 56.5881}                           \n",
            " KGS | {KGS, R01370, Киргизских сомов, 100, 417, 87.8498, 86.9198}                       \n",
            " KRW | {KRW, R01815, Вон Республики Корея, 1000, 410, 57.8902, 57.2153}                  \n",
            " KZT | {KZT, R01335, Казахстанских тенге, 100, 398, 17.2235, 17.085}                     \n",
            " MDL | {MDL, R01500, Молдавских леев, 10, 498, 43.0286, 42.5751}                         \n",
            " NOK | {NOK, R01535, Норвежских крон, 10, 578, 72.725, 71.9865}                          \n",
            " NZD | {NZD, R01530, Новозеландский доллар, 1, 554, 48.608, 48.3688}                     \n",
            " PLN | {PLN, R01565, Польский злотый, 1, 985, 18.5688, 18.3371}                          \n",
            " QAR | {QAR, R01355, Катарский риал, 1, 634, 21.0695, 20.8474}                           \n",
            " RON | {RON, R01585F, Румынский лей, 1, 946, 17.0725, 16.8221}                           \n",
            " RSD | {RSD, R01805F, Сербских динаров, 100, 941, 71.7745, 71.0387}                      \n",
            " SEK | {SEK, R01770, Шведских крон, 10, 752, 75.2895, 73.9148}                           \n",
            " SGD | {SGD, R01625, Сингапурский доллар, 1, 702, 57.816, 57.2412}                       \n",
            " THB | {THB, R01675, Таиландских батов, 10, 764, 22.7936, 22.5401}                       \n",
            " TJS | {TJS, R01670, Таджикских сомони, 10, 972, 70.2734, 69.5315}                       \n",
            " TMT | {TMT, R01710A, Новый туркменский манат, 1, 934, 21.9123, 21.6813}                 \n",
            " TRY | {TRY, R01700J, Турецких лир, 10, 949, 39.3126, 38.8534}                           \n",
            " UAH | {UAH, R01720, Украинских гривен, 10, 980, 20.7575, 20.5459}                       \n",
            " USD | {USD, R01235, Доллар США, 1, 840, 76.6929, 75.8846}                               \n",
            " UZS | {UZS, R01717, Узбекских сумов, 10000, 860, 67.08, 66.257}                         \n",
            " VND | {VND, R01150, Вьетнамских донгов, 10000, 704, 32.4557, 32.111}                    \n",
            " XDR | {XDR, R01589, СДР (специальные права заимствования), 1, 960, 103.4779, 102.2742}  \n",
            " ZAR | {ZAR, R01810, Южноафриканских рэндов, 10, 710, 40.8676, 40.0736}                  \n",
            "\n",
            "-RECORD 0-----------------------------------------\n",
            " CharCode | XDR                                   \n",
            " ID       | R01589                                \n",
            " Name     | СДР (специальные права заимствования) \n",
            " Nominal  | 1                                     \n",
            " NumCode  | 960                                   \n",
            " Previous | 103.4779                              \n",
            " Value    | 102.2742                              \n",
            "\n",
            "+--------+------+-------------------------------------+-------+-------+--------+--------+\n",
            "|CharCode|    ID|                                 Name|Nominal|NumCode|Previous|   Value|\n",
            "+--------+------+-------------------------------------+-------+-------+--------+--------+\n",
            "|     XDR|R01589|СДР (специальные права заимствования)|      1|    960|103.4779|102.2742|\n",
            "+--------+------+-------------------------------------+-------+-------+--------+--------+\n",
            "\n"
          ]
        }
      ]
    },
    {
      "cell_type": "code",
      "source": [
        "from pyspark import SparkContext, SparkConf\n",
        "appName = 'appName'\n",
        "master = 'local[*]'\n",
        "sc.stop()\n",
        "conf = SparkConf().setAppName(appName).setMaster(master)\n",
        "sc = SparkContext(conf=conf)\n",
        "a = [('g1', 2), ('g2', 4), ('g3', 3), ('g4', 8)]\n",
        "rdd = sc.parallelize(a);\n",
        "print(rdd.collect())\n",
        "sorted = rdd.sortByKey()\n",
        "print(sorted.collect())\n",
        "rdd2 = rdd.flatMap(lambda s: [(s[1], s[0])])\n",
        "print(rdd2.collect())\n",
        "sorted = rdd2.sortByKey()\n",
        "print(sorted.collect())\n",
        "sorted = rdd2.sortByKey(False)\n",
        "print(sorted.collect())\n",
        "sorted = rdd2.sortByKey()\n",
        "print(sorted.collect())\n",
        "indices = sorted.zipWithIndex()\n",
        "print(indices.collect())"
      ],
      "metadata": {
        "colab": {
          "base_uri": "https://localhost:8080/"
        },
        "id": "33QaqHmZLKDI",
        "outputId": "f2ce042c-d7cc-4ee0-e783-193385a890ca"
      },
      "execution_count": null,
      "outputs": [
        {
          "output_type": "stream",
          "name": "stdout",
          "text": [
            "[('g1', 2), ('g2', 4), ('g3', 3), ('g4', 8)]\n",
            "[('g1', 2), ('g2', 4), ('g3', 3), ('g4', 8)]\n",
            "[(2, 'g1'), (4, 'g2'), (3, 'g3'), (8, 'g4')]\n",
            "[(2, 'g1'), (3, 'g3'), (4, 'g2'), (8, 'g4')]\n",
            "[(8, 'g4'), (4, 'g2'), (3, 'g3'), (2, 'g1')]\n",
            "[(2, 'g1'), (3, 'g3'), (4, 'g2'), (8, 'g4')]\n",
            "[((2, 'g1'), 0), ((3, 'g3'), 1), ((4, 'g2'), 2), ((8, 'g4'), 3)]\n"
          ]
        }
      ]
    }
  ]
}
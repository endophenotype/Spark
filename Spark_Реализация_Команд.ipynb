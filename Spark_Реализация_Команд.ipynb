{
  "nbformat": 4,
  "nbformat_minor": 0,
  "metadata": {
    "colab": {
      "provenance": [],
      "authorship_tag": "ABX9TyPZivPARuyQ5FclsJ/ozD+s",
      "include_colab_link": true
    },
    "kernelspec": {
      "name": "python3",
      "display_name": "Python 3"
    },
    "language_info": {
      "name": "python"
    }
  },
  "cells": [
    {
      "cell_type": "markdown",
      "metadata": {
        "id": "view-in-github",
        "colab_type": "text"
      },
      "source": [
        "<a href=\"https://colab.research.google.com/github/endophenotype/Spark/blob/main/Spark_%D0%A0%D0%B5%D0%B0%D0%BB%D0%B8%D0%B7%D0%B0%D1%86%D0%B8%D1%8F_%D0%9A%D0%BE%D0%BC%D0%B0%D0%BD%D0%B4.ipynb\" target=\"_parent\"><img src=\"https://colab.research.google.com/assets/colab-badge.svg\" alt=\"Open In Colab\"/></a>"
      ]
    },
    {
      "cell_type": "code",
      "execution_count": null,
      "metadata": {
        "id": "AHZftUpcTFYB"
      },
      "outputs": [],
      "source": [
        "!apt-get install openjdk-8-jdk-headless -qq > /dev/null\n",
        "!wget -q http://archive.apache.org/dist/spark/spark-3.4.0/spark-3.4.0-bin-hadoop3.tgz\n",
        "!tar xf spark-3.4.0-bin-hadoop3.tgz\n",
        "!pip install -q findspark"
      ]
    },
    {
      "cell_type": "code",
      "source": [
        "import os\n",
        "os.environ[\"JAVA_HOME\"] = \"/usr/lib/jvm/java-8-openjdk-amd64\"\n",
        "os.environ[\"SPARK_HOME\"] = \"/content/spark-3.4.0-bin-hadoop3\"\n",
        "os.environ[\"PYARROW_IGNORE_TIMEZONE\"] = \"1\""
      ],
      "metadata": {
        "id": "4sJTCzVQTOtS"
      },
      "execution_count": null,
      "outputs": []
    },
    {
      "cell_type": "code",
      "source": [
        "import findspark\n",
        "findspark.init()"
      ],
      "metadata": {
        "id": "iBW0kK3NTRe4"
      },
      "execution_count": null,
      "outputs": []
    },
    {
      "cell_type": "code",
      "source": [
        "import pandas as pd\n",
        "import numpy as np\n",
        "from pyspark.sql import SparkSession\n",
        "import pyspark.pandas as ps\n",
        "spark = SparkSession.builder.master(\"local[*]\").getOrCreate()\n",
        "spark.conf.set(\"spark.sql.repl.eagerEval.enabled\", True)\n",
        "spark"
      ],
      "metadata": {
        "colab": {
          "base_uri": "https://localhost:8080/",
          "height": 219
        },
        "id": "rAH7Y4FeTTMr",
        "outputId": "e3cd7330-1486-4104-8ad5-eb79ced534c7"
      },
      "execution_count": null,
      "outputs": [
        {
          "output_type": "execute_result",
          "data": {
            "text/plain": [
              "<pyspark.sql.session.SparkSession at 0x7fc0fd3fa560>"
            ],
            "text/html": [
              "\n",
              "            <div>\n",
              "                <p><b>SparkSession - in-memory</b></p>\n",
              "                \n",
              "        <div>\n",
              "            <p><b>SparkContext</b></p>\n",
              "\n",
              "            <p><a href=\"http://d36790977b73:4040\">Spark UI</a></p>\n",
              "\n",
              "            <dl>\n",
              "              <dt>Version</dt>\n",
              "                <dd><code>v3.4.0</code></dd>\n",
              "              <dt>Master</dt>\n",
              "                <dd><code>local[*]</code></dd>\n",
              "              <dt>AppName</dt>\n",
              "                <dd><code>pyspark-shell</code></dd>\n",
              "            </dl>\n",
              "        </div>\n",
              "        \n",
              "            </div>\n",
              "        "
            ]
          },
          "metadata": {},
          "execution_count": 4
        }
      ]
    },
    {
      "cell_type": "markdown",
      "source": [
        "**1.Объединение двух RDD**"
      ],
      "metadata": {
        "id": "Y7g8UgmvUggd"
      }
    },
    {
      "cell_type": "code",
      "source": [
        "from pyspark import SparkContext, SparkConf\n",
        "appName = 'appName'\n",
        "master = 'local[*]'\n",
        "conf = SparkConf().setAppName(appName).setMaster(master)\n",
        "sc = spark.sparkContext\n",
        "R = sc.textFile(\"/content/R.txt\");\n",
        "print(R.collect())\n",
        "S = sc.textFile(\"/content/S.txt\");\n",
        "print(S.collect())\n",
        "print(type(R))\n",
        "print(type(S))\n",
        "r1 = R.map(lambda s: s.split(\",\"))\n",
        "print(r1.collect())\n",
        "r2 = r1.flatMap(lambda s: [(s[0], s[1])])\n",
        "print(r2.collect())\n",
        "s1 = S.map(lambda s: s.split(\",\"))\n",
        "print(s1.collect())\n",
        "s2 = s1.flatMap(lambda s: [(s[0], s[1])])\n",
        "print(s2.collect())\n",
        "RjoinedS = r2.join(s2)\n",
        "RjoinedS.collect()"
      ],
      "metadata": {
        "colab": {
          "base_uri": "https://localhost:8080/"
        },
        "id": "wUu90EuPUE6Q",
        "outputId": "d05961ed-5c1c-4448-ad42-c4281553b98d"
      },
      "execution_count": null,
      "outputs": [
        {
          "output_type": "stream",
          "name": "stdout",
          "text": [
            "['k1,v1', 'k1,v2', 'k2,v3', 'k2,v4', 'k3,v7', 'k3,v8', 'k3,v9']\n",
            "['k1,v11', 'k1,v22', 'k1,v33', 'k2,v55', 'k4,v77', 'k5,v88']\n",
            "<class 'pyspark.rdd.RDD'>\n",
            "<class 'pyspark.rdd.RDD'>\n",
            "[['k1', 'v1'], ['k1', 'v2'], ['k2', 'v3'], ['k2', 'v4'], ['k3', 'v7'], ['k3', 'v8'], ['k3', 'v9']]\n",
            "[('k1', 'v1'), ('k1', 'v2'), ('k2', 'v3'), ('k2', 'v4'), ('k3', 'v7'), ('k3', 'v8'), ('k3', 'v9')]\n",
            "[['k1', 'v11'], ['k1', 'v22'], ['k1', 'v33'], ['k2', 'v55'], ['k4', 'v77'], ['k5', 'v88']]\n",
            "[('k1', 'v11'), ('k1', 'v22'), ('k1', 'v33'), ('k2', 'v55'), ('k4', 'v77'), ('k5', 'v88')]\n"
          ]
        },
        {
          "output_type": "execute_result",
          "data": {
            "text/plain": [
              "[('k1', ('v1', 'v11')),\n",
              " ('k1', ('v1', 'v22')),\n",
              " ('k1', ('v1', 'v33')),\n",
              " ('k1', ('v2', 'v11')),\n",
              " ('k1', ('v2', 'v22')),\n",
              " ('k1', ('v2', 'v33')),\n",
              " ('k2', ('v3', 'v55')),\n",
              " ('k2', ('v4', 'v55'))]"
            ]
          },
          "metadata": {},
          "execution_count": 5
        }
      ]
    },
    {
      "cell_type": "markdown",
      "source": [
        "**2. Использование map() в RDD**\n",
        "Работа с эллементами массивов, сначала отображаем набор чисел, затем прибавляем к каждому значению 2, в конце показываем квадраты чисел в набор данных"
      ],
      "metadata": {
        "id": "aVls8n6hXs_D"
      }
    },
    {
      "cell_type": "code",
      "source": [
        "sc.stop()\n",
        "conf = SparkConf().setAppName(appName).setMaster(master)\n",
        "sc = SparkContext(conf=conf)\n",
        "nums = sc.parallelize([1, 2, 3, 4, 5])\n",
        "print(nums.collect())\n",
        "bytwo = nums.map(lambda x: x + 2)\n",
        "print(bytwo.collect())\n",
        "squared = nums.map(lambda x: x * x)\n",
        "print(squared.collect())"
      ],
      "metadata": {
        "colab": {
          "base_uri": "https://localhost:8080/"
        },
        "id": "kvUlXIXuUa8S",
        "outputId": "0122afbd-a926-46d6-de15-474c06ddac3d"
      },
      "execution_count": null,
      "outputs": [
        {
          "output_type": "stream",
          "name": "stdout",
          "text": [
            "[1, 2, 3, 4, 5]\n",
            "[3, 4, 5, 6, 7]\n",
            "[1, 4, 9, 16, 25]\n"
          ]
        }
      ]
    },
    {
      "cell_type": "markdown",
      "source": [
        "**3. Использование filter() в RDD**\n",
        "Отображает массив, затем все нечетные и в конце все чётные числа в массиве"
      ],
      "metadata": {
        "id": "iHs_pSdXXbBU"
      }
    },
    {
      "cell_type": "code",
      "source": [
        "sc.stop()\n",
        "conf = SparkConf().setAppName(appName).setMaster(master)\n",
        "sc = SparkContext(conf=conf)\n",
        "nums = sc.parallelize([1, 2, 3, 4, 5, 6, 7])\n",
        "print(nums.collect())\n",
        "filtered1 = nums.filter(lambda x : x % 2 == 1)\n",
        "print(filtered1.collect())\n",
        "filtered2 = nums.filter(lambda x : x % 2 == 0)\n",
        "print(filtered2.collect())"
      ],
      "metadata": {
        "colab": {
          "base_uri": "https://localhost:8080/"
        },
        "id": "7tLsEemIXK3J",
        "outputId": "85a3f1fb-0bd1-4b32-b6d3-bee276737f05"
      },
      "execution_count": null,
      "outputs": [
        {
          "output_type": "stream",
          "name": "stdout",
          "text": [
            "[1, 2, 3, 4, 5, 6, 7]\n",
            "[1, 3, 5, 7]\n",
            "[2, 4, 6]\n"
          ]
        }
      ]
    },
    {
      "cell_type": "markdown",
      "source": [
        "**4. Среднее значение в RDD**"
      ],
      "metadata": {
        "id": "zSCpWdckYcIk"
      }
    },
    {
      "cell_type": "code",
      "source": [
        "sc.stop()\n",
        "conf = SparkConf().setAppName(appName).setMaster(master)\n",
        "sc = SparkContext(conf=conf)\n",
        "nums = sc.parallelize([1, 2, 3, 4, 5, 6, 7, 8, 20])\n",
        "nums.collect()\n",
        "sumAndCount = nums.map(lambda x: (x, 1)).fold((0, 0), (lambda x, y: (x[0] + y[0], x[1] + y[1])))\n",
        "print(sumAndCount)\n",
        "avg = float(sumAndCount[0]) / float(sumAndCount[1])\n",
        "print(avg)"
      ],
      "metadata": {
        "colab": {
          "base_uri": "https://localhost:8080/"
        },
        "id": "3PQSDglDYJTn",
        "outputId": "8049977f-2efa-4edf-9378-3a677c14048e"
      },
      "execution_count": null,
      "outputs": [
        {
          "output_type": "stream",
          "name": "stdout",
          "text": [
            "(56, 9)\n",
            "6.222222222222222\n"
          ]
        }
      ]
    },
    {
      "cell_type": "markdown",
      "source": [
        "**5. Сортировки в RDD и добавление индекса**"
      ],
      "metadata": {
        "id": "4FQJm5xmYri2"
      }
    },
    {
      "cell_type": "code",
      "source": [
        "sc.stop()\n",
        "conf = SparkConf().setAppName(appName).setMaster(master)\n",
        "sc = SparkContext(conf=conf)\n",
        "a = [('g1', 2), ('g2', 4), ('g3', 3), ('g4', 8)]\n",
        "rdd = sc.parallelize(a);\n",
        "print(rdd.collect())\n",
        "sorted = rdd.sortByKey()\n",
        "print(sorted.collect())\n",
        "rdd2 = rdd.flatMap(lambda s: [(s[1], s[0])])\n",
        "print(rdd2.collect())\n",
        "sorted = rdd2.sortByKey()\n",
        "print(sorted.collect())\n",
        "sorted = rdd2.sortByKey(False)\n",
        "print(sorted.collect())\n",
        "sorted = rdd2.sortByKey()\n",
        "print(sorted.collect())\n",
        "indices = sorted.zipWithIndex()\n",
        "print(indices.collect())"
      ],
      "metadata": {
        "colab": {
          "base_uri": "https://localhost:8080/"
        },
        "id": "WrWPSwAGYefP",
        "outputId": "9f2f2bfb-5cde-4665-edb5-d2420ee509f1"
      },
      "execution_count": null,
      "outputs": [
        {
          "output_type": "stream",
          "name": "stdout",
          "text": [
            "[('g1', 2), ('g2', 4), ('g3', 3), ('g4', 8)]\n",
            "[('g1', 2), ('g2', 4), ('g3', 3), ('g4', 8)]\n",
            "[(2, 'g1'), (4, 'g2'), (3, 'g3'), (8, 'g4')]\n",
            "[(2, 'g1'), (3, 'g3'), (4, 'g2'), (8, 'g4')]\n",
            "[(8, 'g4'), (4, 'g2'), (3, 'g3'), (2, 'g1')]\n",
            "[(2, 'g1'), (3, 'g3'), (4, 'g2'), (8, 'g4')]\n",
            "[((2, 'g1'), 0), ((3, 'g3'), 1), ((4, 'g2'), 2), ((8, 'g4'), 3)]\n"
          ]
        }
      ]
    },
    {
      "cell_type": "markdown",
      "source": [
        "**6. Произведение ряда в RDD**"
      ],
      "metadata": {
        "id": "seDrcglBYweV"
      }
    },
    {
      "cell_type": "code",
      "source": [
        "sc.stop()\n",
        "conf = SparkConf().setAppName(appName).setMaster(master)\n",
        "sc = SparkContext(conf=conf)\n",
        "numbers = sc.parallelize([1, 2, 3, 4])\n",
        "mult = numbers.fold(1, (lambda x, y: x * y))\n",
        "print(mult)"
      ],
      "metadata": {
        "colab": {
          "base_uri": "https://localhost:8080/"
        },
        "id": "U7Nirz_pYxX3",
        "outputId": "32f5e77e-be60-4d28-c422-aba86878f4e6"
      },
      "execution_count": null,
      "outputs": [
        {
          "output_type": "stream",
          "name": "stdout",
          "text": [
            "24\n"
          ]
        }
      ]
    },
    {
      "cell_type": "markdown",
      "source": [
        "**7. Сортировки в RDD**"
      ],
      "metadata": {
        "id": "_X4q1IaFZZoS"
      }
    },
    {
      "cell_type": "code",
      "source": [
        "sc.stop()\n",
        "conf = SparkConf().setAppName(appName).setMaster(master)\n",
        "sc = SparkContext(conf=conf)\n",
        "lines = sc.textFile('/content/data.txt', 1);\n",
        "print(lines.collect())\n",
        "frequencies = lines.flatMap(lambda x: x.split(' ')).map(lambda x: (x, 1)).reduceByKey(lambda x, y: x + y)\n",
        "print(frequencies.collect())\n",
        "print(frequencies.count())\n",
        "sorted = frequencies.sortByKey()\n",
        "print(sorted.collect())\n",
        "sortedDescending = frequencies.sortByKey(False)\n",
        "print(sortedDescending.collect())"
      ],
      "metadata": {
        "colab": {
          "base_uri": "https://localhost:8080/"
        },
        "id": "R1Lfh4obZB3l",
        "outputId": "bc84877e-d83f-4f11-d48e-0f4645fd470c"
      },
      "execution_count": null,
      "outputs": [
        {
          "output_type": "stream",
          "name": "stdout",
          "text": [
            "['crazy crazy fox jumped', 'crazy fox jumped', 'fox is fast', 'fox is smart', 'dog is smart']\n",
            "[('crazy', 3), ('fox', 4), ('jumped', 2), ('is', 3), ('fast', 1), ('smart', 2), ('dog', 1)]\n",
            "7\n",
            "[('crazy', 3), ('dog', 1), ('fast', 1), ('fox', 4), ('is', 3), ('jumped', 2), ('smart', 2)]\n",
            "[('smart', 2), ('jumped', 2), ('is', 3), ('fox', 4), ('fast', 1), ('dog', 1), ('crazy', 3)]\n"
          ]
        }
      ]
    },
    {
      "cell_type": "markdown",
      "source": [
        "**8. Суммирование ряда в RDD**"
      ],
      "metadata": {
        "id": "gkwJV6tEZ0yf"
      }
    },
    {
      "cell_type": "code",
      "source": [
        "sc.stop()\n",
        "conf = SparkConf().setAppName(appName).setMaster(master)\n",
        "sc = SparkContext(conf=conf)\n",
        "numbers = sc.parallelize([1, 2, 3, 4])\n",
        "sumRDD = numbers.fold(0, (lambda x, y: x + y))\n",
        "print(sumRDD)"
      ],
      "metadata": {
        "colab": {
          "base_uri": "https://localhost:8080/"
        },
        "id": "xNkLei1fZWZ3",
        "outputId": "b1cb9295-b896-4f9d-dfbc-7eb1637093f8"
      },
      "execution_count": null,
      "outputs": [
        {
          "output_type": "stream",
          "name": "stdout",
          "text": [
            "10\n"
          ]
        }
      ]
    },
    {
      "cell_type": "markdown",
      "source": [
        "**9. Объединение в RDD**"
      ],
      "metadata": {
        "id": "MrprYbSrZ8_o"
      }
    },
    {
      "cell_type": "code",
      "source": [
        "sc.stop()\n",
        "conf = SparkConf().setAppName(appName).setMaster(master)\n",
        "sc = SparkContext(conf=conf)\n",
        "d1= [('k1', 1), ('k2', 2), ('k3', 5)]\n",
        "d2= [('k1', 3), ('k2',4), ('k4', 8)]\n",
        "rdd1 = sc.parallelize(d1)\n",
        "print(rdd1.collect())\n",
        "rdd2 = sc.parallelize(d2)\n",
        "print(rdd2.collect())\n",
        "rdd3 = rdd1.union(rdd2)\n",
        "print(rdd3.collect())\n",
        "rdd4 = rdd3.reduceByKey(lambda x,y: x+y)\n",
        "print(rdd4.collect())"
      ],
      "metadata": {
        "colab": {
          "base_uri": "https://localhost:8080/"
        },
        "id": "_QN-PiasaBn3",
        "outputId": "a45aa2b2-137d-4677-e6e2-34f1cd5f68d8"
      },
      "execution_count": null,
      "outputs": [
        {
          "output_type": "stream",
          "name": "stdout",
          "text": [
            "[('k1', 1), ('k2', 2), ('k3', 5)]\n",
            "[('k1', 3), ('k2', 4), ('k4', 8)]\n",
            "[('k1', 1), ('k2', 2), ('k3', 5), ('k1', 3), ('k2', 4), ('k4', 8)]\n",
            "[('k1', 4), ('k2', 6), ('k4', 8), ('k3', 5)]\n"
          ]
        }
      ]
    },
    {
      "cell_type": "markdown",
      "source": [
        "**10. Подсчет совпадений в RDD**"
      ],
      "metadata": {
        "id": "p0ma1jdTaAQV"
      }
    },
    {
      "cell_type": "code",
      "source": [
        "sc.stop()\n",
        "conf = SparkConf().setAppName(appName).setMaster(master)\n",
        "sc = SparkContext(conf=conf)\n",
        "lines = sc.textFile(\"/content/data.txt\")\n",
        "print(lines.collect())\n",
        "bigrams = lines.map(lambda s : s.split(\" \")).flatMap(lambda s: [((s[i],s[i+1]),1) for i in range (0, len(s)-1)])\n",
        "print(bigrams.collect())\n",
        "counts = bigrams.reduceByKey(lambda x, y : x+y)\n",
        "print(counts.collect())"
      ],
      "metadata": {
        "colab": {
          "base_uri": "https://localhost:8080/"
        },
        "id": "L8861SelaQTZ",
        "outputId": "d943adcb-e4b4-45a2-f981-6d1ced12fdea"
      },
      "execution_count": null,
      "outputs": [
        {
          "output_type": "stream",
          "name": "stdout",
          "text": [
            "['crazy crazy fox jumped', 'crazy fox jumped', 'fox is fast', 'fox is smart', 'dog is smart']\n",
            "[(('crazy', 'crazy'), 1), (('crazy', 'fox'), 1), (('fox', 'jumped'), 1), (('crazy', 'fox'), 1), (('fox', 'jumped'), 1), (('fox', 'is'), 1), (('is', 'fast'), 1), (('fox', 'is'), 1), (('is', 'smart'), 1), (('dog', 'is'), 1), (('is', 'smart'), 1)]\n",
            "[(('crazy', 'crazy'), 1), (('fox', 'jumped'), 2), (('is', 'smart'), 2), (('crazy', 'fox'), 2), (('fox', 'is'), 2), (('is', 'fast'), 1), (('dog', 'is'), 1)]\n"
          ]
        }
      ]
    },
    {
      "cell_type": "markdown",
      "source": [
        "**11. Декартовые координаты (перебор значений) этого RDD**\n"
      ],
      "metadata": {
        "id": "cbEHDwCnaQAY"
      }
    },
    {
      "cell_type": "code",
      "source": [
        "sc.stop()\n",
        "conf = SparkConf().setAppName(appName).setMaster(master)\n",
        "sc = SparkContext(conf=conf)\n",
        "a = [('k1','v1'), ('k2', 'v2')]\n",
        "b = [('k3','v3'), ('k4', 'v4'), ('k5', 'v5') ]\n",
        "rdd1= sc.parallelize(a)\n",
        "print(rdd1.collect())\n",
        "rdd2= sc.parallelize(b)\n",
        "print(rdd2.collect())\n",
        "rdd3 = rdd1.cartesian(rdd2)\n",
        "print(rdd3.collect())"
      ],
      "metadata": {
        "colab": {
          "base_uri": "https://localhost:8080/"
        },
        "id": "kWuWtLkdamJr",
        "outputId": "85b8ad05-151a-414c-8a79-e06f76c6f4e1"
      },
      "execution_count": null,
      "outputs": [
        {
          "output_type": "stream",
          "name": "stdout",
          "text": [
            "[('k1', 'v1'), ('k2', 'v2')]\n",
            "[('k3', 'v3'), ('k4', 'v4'), ('k5', 'v5')]\n",
            "[(('k1', 'v1'), ('k3', 'v3')), (('k1', 'v1'), ('k4', 'v4')), (('k1', 'v1'), ('k5', 'v5')), (('k2', 'v2'), ('k3', 'v3')), (('k2', 'v2'), ('k4', 'v4')), (('k2', 'v2'), ('k5', 'v5'))]\n"
          ]
        }
      ]
    },
    {
      "cell_type": "markdown",
      "source": [
        "**12. Комбинировать по ключу RDD**"
      ],
      "metadata": {
        "id": "kME4YJ_BavXz"
      }
    },
    {
      "cell_type": "code",
      "source": [
        "sc.stop()\n",
        "conf = SparkConf().setAppName(appName).setMaster(master)\n",
        "sc = SparkContext(conf=conf)\n",
        "input = [(\"k1\", 1), (\"k1\", 2), (\"k1\", 3), (\"k1\", 4), (\"k1\", 5), (\"k2\", 6), (\"k2\", 7), (\"k2\", 8), (\"k3\", 10), (\"k3\", 12)]\n",
        "rdd = sc.parallelize(input)\n",
        "sumCount = rdd.combineByKey((lambda x: (x, 1)), (lambda x, y: (x[0] + y, x[1] + 1)), (lambda x, y: (x[0] + y[0], x[1] + y[1])))\n",
        "print(sumCount.collect())\n",
        "avg = sumCount.mapValues( lambda v : v[0] / v[1])\n",
        "print(avg.collect())"
      ],
      "metadata": {
        "colab": {
          "base_uri": "https://localhost:8080/"
        },
        "id": "7oj_nAjraySQ",
        "outputId": "b613b425-262b-47d8-ee29-07e6e0b36e28"
      },
      "execution_count": null,
      "outputs": [
        {
          "output_type": "stream",
          "name": "stdout",
          "text": [
            "[('k2', (21, 3)), ('k1', (15, 5)), ('k3', (22, 2))]\n",
            "[('k2', 7.0), ('k1', 3.0), ('k3', 11.0)]\n"
          ]
        }
      ]
    },
    {
      "cell_type": "markdown",
      "source": [
        "**13. Сумма каждого раздела RDD**"
      ],
      "metadata": {
        "id": "itgc264tbPsa"
      }
    },
    {
      "cell_type": "code",
      "source": [
        "def adder(iterator):\n",
        "  yield sum(iterator)\n",
        "def f(iterator):\n",
        "  for x in iterator:\n",
        "    print(x)\n",
        "  print(\"===\")\n",
        "sc.stop()\n",
        "conf = SparkConf().setAppName(appName).setMaster(master)\n",
        "sc = SparkContext(conf=conf)\n",
        "numbers = [1, 2, 3, 4, 5, 6, 7, 8, 9, 10]\n",
        "rdd = sc.parallelize(numbers, 3)\n",
        "print(rdd.collect())\n",
        "print(rdd.getNumPartitions())\n",
        "rdd.foreachPartition(f)\n",
        "print(rdd.mapPartitions(adder).collect())"
      ],
      "metadata": {
        "colab": {
          "base_uri": "https://localhost:8080/"
        },
        "id": "TELbdszOa8j7",
        "outputId": "20fa22c2-a470-49f3-ba55-50a1599986eb"
      },
      "execution_count": null,
      "outputs": [
        {
          "output_type": "stream",
          "name": "stdout",
          "text": [
            "[1, 2, 3, 4, 5, 6, 7, 8, 9, 10]\n",
            "3\n",
            "[6, 15, 34]\n"
          ]
        }
      ]
    },
    {
      "cell_type": "markdown",
      "source": [
        "**14. Нахождение минимума и максимума в RDD**"
      ],
      "metadata": {
        "id": "luBQCGP1ea0t"
      }
    },
    {
      "cell_type": "code",
      "source": [
        "def minmax(iterator):\n",
        "  firsttime = 0\n",
        "  #min = 0;\n",
        "  #max = 0;\n",
        "  for x in iterator:\n",
        "    if (firsttime == 0):\n",
        "      min = x;\n",
        "      max = x;\n",
        "      firsttime = 1\n",
        "    else:\n",
        "      if x > max:\n",
        "        max = x\n",
        "      if x < min:\n",
        "        min = x\n",
        "  return [(min, max)]\n",
        "data = [10, 20, 3, 4, 5, 2, 2, 20, 20, 10]\n",
        "print (minmax(data))"
      ],
      "metadata": {
        "colab": {
          "base_uri": "https://localhost:8080/"
        },
        "id": "D3o6KkNmegS7",
        "outputId": "02cb07e1-2522-406e-e0c6-6b752d1ea495"
      },
      "execution_count": null,
      "outputs": [
        {
          "output_type": "stream",
          "name": "stdout",
          "text": [
            "[(2, 20)]\n"
          ]
        }
      ]
    },
    {
      "cell_type": "code",
      "source": [
        "def minmax(iterator):\n",
        "  firsttime = 0\n",
        "  for x in iterator:\n",
        "    if (firsttime == 0):\n",
        "      min = x;\n",
        "      max = x;\n",
        "      firsttime = 1\n",
        "    else:\n",
        "      if x > max:\n",
        "        max = x\n",
        "      if x < min:\n",
        "        min = x\n",
        "  return [(min, max)]\n",
        "def f(iterator):\n",
        "  for x in iterator:\n",
        "    print(x)\n",
        "  print(\"===\")\n",
        "from pyspark import SparkContext, SparkConf\n",
        "appName = 'appName'\n",
        "master = 'local[*]'\n",
        "sc.stop()\n",
        "conf = SparkConf().setAppName(appName).setMaster(master)\n",
        "sc = SparkContext(conf=conf)\n",
        "data = [10, 20, 3, 4, 5, 2, 2, 20, 20, 10]\n",
        "rdd = sc.parallelize(data, 3)\n",
        "print(rdd.getNumPartitions())\n",
        "print(rdd.collect())\n",
        "rdd.foreachPartition(f)\n",
        "minmaxlist = rdd.mapPartitions(minmax).collect()\n",
        "print(minmaxlist)\n",
        "print(min(minmaxlist))\n",
        "print(max(minmaxlist))"
      ],
      "metadata": {
        "colab": {
          "base_uri": "https://localhost:8080/"
        },
        "id": "2V_BRtngf6kA",
        "outputId": "88d9a1a6-7550-4db8-99c4-d9e4f7aa5828"
      },
      "execution_count": null,
      "outputs": [
        {
          "output_type": "stream",
          "name": "stdout",
          "text": [
            "3\n",
            "[10, 20, 3, 4, 5, 2, 2, 20, 20, 10]\n",
            "[(3, 20), (2, 5), (2, 20)]\n",
            "(2, 5)\n",
            "(3, 20)\n"
          ]
        }
      ]
    },
    {
      "cell_type": "markdown",
      "source": [
        "**15. pyspark UDF (User Defined Functions)**"
      ],
      "metadata": {
        "id": "27ZNeyuSgk0T"
      }
    },
    {
      "cell_type": "code",
      "source": [
        "from pyspark.sql import Row"
      ],
      "metadata": {
        "id": "bbwimGQWjlLg"
      },
      "execution_count": null,
      "outputs": []
    },
    {
      "cell_type": "code",
      "source": [
        "spark = SparkSession.builder.appName(\"Example\").getOrCreate()\n",
        "data = spark.createDataFrame(\n",
        "  [Row(zip_code='94087', city='Sunnyvale'),\n",
        "  Row(zip_code='94088', city='Cupertino'),\n",
        "  Row(zip_code='95055', city='Santa Clara'),\n",
        "  Row(zip_code='95054', city='Palo Alto')])\n",
        "data.show()"
      ],
      "metadata": {
        "colab": {
          "base_uri": "https://localhost:8080/"
        },
        "id": "d9hj5EQ_gnrV",
        "outputId": "1e58b6ed-4680-42c6-cc91-fafdabbb1562"
      },
      "execution_count": null,
      "outputs": [
        {
          "output_type": "stream",
          "name": "stdout",
          "text": [
            "+--------+-----------+\n",
            "|zip_code|       city|\n",
            "+--------+-----------+\n",
            "|   94087|  Sunnyvale|\n",
            "|   94088|  Cupertino|\n",
            "|   95055|Santa Clara|\n",
            "|   95054|  Palo Alto|\n",
            "+--------+-----------+\n",
            "\n"
          ]
        }
      ]
    },
    {
      "cell_type": "code",
      "source": [
        "from pyspark.sql.functions import udf\n",
        "from pyspark.sql import types as T\n",
        "@udf(T.MapType(T.StringType(), T.StringType()))\n",
        "def create_structure(zip_code, city):\n",
        "  return {zip_code: city}\n",
        "data.withColumn('structure', create_structure(data.zip_code, data.city)).toJSON().collect()\n",
        "[\n",
        "'{\"zip_code\":\"94087\",\"city\":\"Sunnyvale\",\"structure\":{\"94087\":\"Sunnyvale\"}}',\n",
        "'{\"zip_code\":\"94088\",\"city\":\"Cupertino\",\"structure\":{\"94088\":\"Cupertino\"}}',\n",
        "'{\"zip_code\":\"95055\",\"city\":\"Santa Clara\",\"structure\":{\"95055\":\"Santa Clara\"}}',\n",
        "'{\"zip_code\":\"95054\",\"city\":\"Palo Alto\",\"structure\":{\"95054\":\"Palo Alto\"}}'\n",
        "]\n",
        "data.withColumn('structure', create_structure(data.zip_code, data.city)).show(truncate=False)"
      ],
      "metadata": {
        "colab": {
          "base_uri": "https://localhost:8080/"
        },
        "id": "OScrKaaLkHpe",
        "outputId": "7e9e8566-e5d7-459e-e990-69399ae697aa"
      },
      "execution_count": null,
      "outputs": [
        {
          "output_type": "stream",
          "name": "stdout",
          "text": [
            "+--------+-----------+----------------------+\n",
            "|zip_code|city       |structure             |\n",
            "+--------+-----------+----------------------+\n",
            "|94087   |Sunnyvale  |{94087 -> Sunnyvale}  |\n",
            "|94088   |Cupertino  |{94088 -> Cupertino}  |\n",
            "|95055   |Santa Clara|{95055 -> Santa Clara}|\n",
            "|95054   |Palo Alto  |{95054 -> Palo Alto}  |\n",
            "+--------+-----------+----------------------+\n",
            "\n"
          ]
        }
      ]
    },
    {
      "cell_type": "markdown",
      "source": [
        "**16. Использование Split функции**"
      ],
      "metadata": {
        "id": "rhqr4dYmk7kD"
      }
    },
    {
      "cell_type": "code",
      "source": [
        "#Example-1: Split RDD<String> into Tokens\n",
        "data = [\"abc,de\", \"abc,de,ze\", \"abc,de,ze,pe\"]\n",
        "rdd = sc.parallelize(data)\n",
        "print(rdd.collect())\n",
        "print(rdd.count())\n",
        "rdd2 = rdd.flatMap(lambda x : x.split(\",\"))\n",
        "print(rdd2.collect())\n",
        "print(rdd2.count())\n",
        "print('////////////////////////////////////////////////////////////////////////')\n",
        "#Example-2: Create Key-Value Pairs\n",
        "data2 = [\"abc,de\", \"xyz,deeee,ze\", \"abc,de,ze,pe\", \"xyz,bababa\"]\n",
        "rdd3 = sc.parallelize(data2)\n",
        "print(rdd3.collect())\n",
        "rdd4 = rdd3.map(lambda x : (x.split(\",\")[0], x.split(\",\")[1]))\n",
        "print(rdd4.collect())"
      ],
      "metadata": {
        "colab": {
          "base_uri": "https://localhost:8080/"
        },
        "id": "PnYevgYnlAA5",
        "outputId": "c3701b46-8530-447e-e72b-53b035a9849b"
      },
      "execution_count": null,
      "outputs": [
        {
          "output_type": "stream",
          "name": "stdout",
          "text": [
            "['abc,de', 'abc,de,ze', 'abc,de,ze,pe']\n",
            "3\n",
            "['abc', 'de', 'abc', 'de', 'ze', 'abc', 'de', 'ze', 'pe']\n",
            "9\n",
            "////////////////////////////////////////////////////////////////////////\n",
            "['abc,de', 'xyz,deeee,ze', 'abc,de,ze,pe', 'xyz,bababa']\n",
            "[('abc', 'de'), ('xyz', 'deeee'), ('abc', 'de'), ('xyz', 'bababa')]\n"
          ]
        }
      ]
    },
    {
      "cell_type": "markdown",
      "source": [
        "**17. top-N**"
      ],
      "metadata": {
        "id": "AecQ4v5glHJV"
      }
    },
    {
      "cell_type": "code",
      "source": [
        "sc.stop()\n",
        "conf = SparkConf().setAppName(appName).setMaster(master)\n",
        "sc = SparkContext(conf=conf)\n",
        "nums = [10, 1, 2, 9, 3, 4, 5, 6, 7]\n",
        "print(sc.parallelize(nums).takeOrdered(3))\n",
        "print(sc.parallelize(nums).takeOrdered(3, key=lambda x: -x))\n",
        "kv = [(10,\"z1\"), (1,\"z2\"), (2,\"z3\"), (9,\"z4\"), (3,\"z5\"), (4,\"z6\"), (5,\"z7\"), (6,\"z8\"), (7,\"z9\")]\n",
        "print(sc.parallelize(kv).takeOrdered(3))\n",
        "print(sc.parallelize(kv).takeOrdered(3, key=lambda x: -x[0]))"
      ],
      "metadata": {
        "colab": {
          "base_uri": "https://localhost:8080/"
        },
        "id": "p-QAgYCVlqRq",
        "outputId": "ac303188-6c0d-4eeb-e454-e3f1598e6704"
      },
      "execution_count": null,
      "outputs": [
        {
          "output_type": "stream",
          "name": "stdout",
          "text": [
            "[1, 2, 3]\n",
            "[10, 9, 7]\n",
            "[(1, 'z2'), (2, 'z3'), (3, 'z5')]\n",
            "[(10, 'z1'), (9, 'z4'), (7, 'z9')]\n"
          ]
        }
      ]
    },
    {
      "cell_type": "markdown",
      "source": [
        "**18. Подсчет слов**"
      ],
      "metadata": {
        "id": "Eio8Oc-blp6K"
      }
    },
    {
      "cell_type": "code",
      "source": [
        "from pyspark import SparkContext, SparkConf\n",
        "sc.stop()\n",
        "conf = SparkConf().setAppName(appName).setMaster(master)\n",
        "sc = SparkContext(conf=conf)\n",
        "lines = sc.textFile(\"data.txt\", 1)\n",
        "debuglines = lines.collect();\n",
        "print(debuglines)\n",
        "\n",
        "words = lines.flatMap(lambda x: x.split(' '))\n",
        "ones = words.map(lambda x: (x, 1))\n",
        "debugwords = words.collect();\n",
        "print(debugwords)\n",
        "counts = ones.reduceByKey(lambda x, y: x + y)\n",
        "debugcounts = counts.collect();\n",
        "print(debugcounts)\n",
        "counts.saveAsTextFile(\"outputWords \")"
      ],
      "metadata": {
        "colab": {
          "base_uri": "https://localhost:8080/"
        },
        "id": "AJZI5D52mA8u",
        "outputId": "aed6c458-dca7-45cc-e17c-3d9ca2842c8f"
      },
      "execution_count": null,
      "outputs": [
        {
          "output_type": "stream",
          "name": "stdout",
          "text": [
            "['crazy crazy fox jumped', 'crazy fox jumped', 'fox is fast', 'fox is smart', 'dog is smart']\n",
            "['crazy', 'crazy', 'fox', 'jumped', 'crazy', 'fox', 'jumped', 'fox', 'is', 'fast', 'fox', 'is', 'smart', 'dog', 'is', 'smart']\n",
            "[('crazy', 3), ('fox', 4), ('jumped', 2), ('is', 3), ('fast', 1), ('smart', 2), ('dog', 1)]\n"
          ]
        }
      ]
    },
    {
      "cell_type": "markdown",
      "source": [
        "**19. Чтение данных из URL**"
      ],
      "metadata": {
        "id": "UnFdVkQ2n7tY"
      }
    },
    {
      "cell_type": "code",
      "source": [
        "from pyspark.sql import SparkSession, functions as F\n",
        "from urllib.request import urlopen\n",
        "spark = SparkSession.builder.getOrCreate()\n",
        "url = 'https://www.cbr-xml-daily.ru/daily_json.js'\n",
        "jsonData = urlopen(url).read().decode('utf-8')\n",
        "rdd = spark.sparkContext.parallelize([jsonData])\n",
        "#df = spark.read.json(rdd)\n",
        "df = spark.read.option(\"inferSchema\", \"true\").option(\"multiline\", \"true\").json(rdd)\n",
        "df.printSchema()\n",
        "df.select(\"Valute.*\").show(1,truncate=90,vertical=True)\n",
        "df.select(\"Valute.XDR.*\").show(1,truncate=90,vertical=True)\n",
        "df.select(\"Valute.XDR.*\").show(1,truncate=90,vertical=False)"
      ],
      "metadata": {
        "colab": {
          "base_uri": "https://localhost:8080/"
        },
        "id": "1QsVHemgoBcH",
        "outputId": "9d7c0295-6b54-4238-9bc7-e54084a44e06"
      },
      "execution_count": null,
      "outputs": [
        {
          "output_type": "stream",
          "name": "stdout",
          "text": [
            "root\n",
            " |-- Date: string (nullable = true)\n",
            " |-- PreviousDate: string (nullable = true)\n",
            " |-- PreviousURL: string (nullable = true)\n",
            " |-- Timestamp: string (nullable = true)\n",
            " |-- Valute: struct (nullable = true)\n",
            " |    |-- AED: struct (nullable = true)\n",
            " |    |    |-- CharCode: string (nullable = true)\n",
            " |    |    |-- ID: string (nullable = true)\n",
            " |    |    |-- Name: string (nullable = true)\n",
            " |    |    |-- Nominal: long (nullable = true)\n",
            " |    |    |-- NumCode: string (nullable = true)\n",
            " |    |    |-- Previous: double (nullable = true)\n",
            " |    |    |-- Value: double (nullable = true)\n",
            " |    |-- AMD: struct (nullable = true)\n",
            " |    |    |-- CharCode: string (nullable = true)\n",
            " |    |    |-- ID: string (nullable = true)\n",
            " |    |    |-- Name: string (nullable = true)\n",
            " |    |    |-- Nominal: long (nullable = true)\n",
            " |    |    |-- NumCode: string (nullable = true)\n",
            " |    |    |-- Previous: double (nullable = true)\n",
            " |    |    |-- Value: double (nullable = true)\n",
            " |    |-- AUD: struct (nullable = true)\n",
            " |    |    |-- CharCode: string (nullable = true)\n",
            " |    |    |-- ID: string (nullable = true)\n",
            " |    |    |-- Name: string (nullable = true)\n",
            " |    |    |-- Nominal: long (nullable = true)\n",
            " |    |    |-- NumCode: string (nullable = true)\n",
            " |    |    |-- Previous: double (nullable = true)\n",
            " |    |    |-- Value: double (nullable = true)\n",
            " |    |-- AZN: struct (nullable = true)\n",
            " |    |    |-- CharCode: string (nullable = true)\n",
            " |    |    |-- ID: string (nullable = true)\n",
            " |    |    |-- Name: string (nullable = true)\n",
            " |    |    |-- Nominal: long (nullable = true)\n",
            " |    |    |-- NumCode: string (nullable = true)\n",
            " |    |    |-- Previous: double (nullable = true)\n",
            " |    |    |-- Value: double (nullable = true)\n",
            " |    |-- BGN: struct (nullable = true)\n",
            " |    |    |-- CharCode: string (nullable = true)\n",
            " |    |    |-- ID: string (nullable = true)\n",
            " |    |    |-- Name: string (nullable = true)\n",
            " |    |    |-- Nominal: long (nullable = true)\n",
            " |    |    |-- NumCode: string (nullable = true)\n",
            " |    |    |-- Previous: double (nullable = true)\n",
            " |    |    |-- Value: double (nullable = true)\n",
            " |    |-- BRL: struct (nullable = true)\n",
            " |    |    |-- CharCode: string (nullable = true)\n",
            " |    |    |-- ID: string (nullable = true)\n",
            " |    |    |-- Name: string (nullable = true)\n",
            " |    |    |-- Nominal: long (nullable = true)\n",
            " |    |    |-- NumCode: string (nullable = true)\n",
            " |    |    |-- Previous: double (nullable = true)\n",
            " |    |    |-- Value: double (nullable = true)\n",
            " |    |-- BYN: struct (nullable = true)\n",
            " |    |    |-- CharCode: string (nullable = true)\n",
            " |    |    |-- ID: string (nullable = true)\n",
            " |    |    |-- Name: string (nullable = true)\n",
            " |    |    |-- Nominal: long (nullable = true)\n",
            " |    |    |-- NumCode: string (nullable = true)\n",
            " |    |    |-- Previous: double (nullable = true)\n",
            " |    |    |-- Value: double (nullable = true)\n",
            " |    |-- CAD: struct (nullable = true)\n",
            " |    |    |-- CharCode: string (nullable = true)\n",
            " |    |    |-- ID: string (nullable = true)\n",
            " |    |    |-- Name: string (nullable = true)\n",
            " |    |    |-- Nominal: long (nullable = true)\n",
            " |    |    |-- NumCode: string (nullable = true)\n",
            " |    |    |-- Previous: double (nullable = true)\n",
            " |    |    |-- Value: double (nullable = true)\n",
            " |    |-- CHF: struct (nullable = true)\n",
            " |    |    |-- CharCode: string (nullable = true)\n",
            " |    |    |-- ID: string (nullable = true)\n",
            " |    |    |-- Name: string (nullable = true)\n",
            " |    |    |-- Nominal: long (nullable = true)\n",
            " |    |    |-- NumCode: string (nullable = true)\n",
            " |    |    |-- Previous: double (nullable = true)\n",
            " |    |    |-- Value: double (nullable = true)\n",
            " |    |-- CNY: struct (nullable = true)\n",
            " |    |    |-- CharCode: string (nullable = true)\n",
            " |    |    |-- ID: string (nullable = true)\n",
            " |    |    |-- Name: string (nullable = true)\n",
            " |    |    |-- Nominal: long (nullable = true)\n",
            " |    |    |-- NumCode: string (nullable = true)\n",
            " |    |    |-- Previous: double (nullable = true)\n",
            " |    |    |-- Value: double (nullable = true)\n",
            " |    |-- CZK: struct (nullable = true)\n",
            " |    |    |-- CharCode: string (nullable = true)\n",
            " |    |    |-- ID: string (nullable = true)\n",
            " |    |    |-- Name: string (nullable = true)\n",
            " |    |    |-- Nominal: long (nullable = true)\n",
            " |    |    |-- NumCode: string (nullable = true)\n",
            " |    |    |-- Previous: double (nullable = true)\n",
            " |    |    |-- Value: double (nullable = true)\n",
            " |    |-- DKK: struct (nullable = true)\n",
            " |    |    |-- CharCode: string (nullable = true)\n",
            " |    |    |-- ID: string (nullable = true)\n",
            " |    |    |-- Name: string (nullable = true)\n",
            " |    |    |-- Nominal: long (nullable = true)\n",
            " |    |    |-- NumCode: string (nullable = true)\n",
            " |    |    |-- Previous: double (nullable = true)\n",
            " |    |    |-- Value: double (nullable = true)\n",
            " |    |-- EGP: struct (nullable = true)\n",
            " |    |    |-- CharCode: string (nullable = true)\n",
            " |    |    |-- ID: string (nullable = true)\n",
            " |    |    |-- Name: string (nullable = true)\n",
            " |    |    |-- Nominal: long (nullable = true)\n",
            " |    |    |-- NumCode: string (nullable = true)\n",
            " |    |    |-- Previous: double (nullable = true)\n",
            " |    |    |-- Value: double (nullable = true)\n",
            " |    |-- EUR: struct (nullable = true)\n",
            " |    |    |-- CharCode: string (nullable = true)\n",
            " |    |    |-- ID: string (nullable = true)\n",
            " |    |    |-- Name: string (nullable = true)\n",
            " |    |    |-- Nominal: long (nullable = true)\n",
            " |    |    |-- NumCode: string (nullable = true)\n",
            " |    |    |-- Previous: double (nullable = true)\n",
            " |    |    |-- Value: double (nullable = true)\n",
            " |    |-- GBP: struct (nullable = true)\n",
            " |    |    |-- CharCode: string (nullable = true)\n",
            " |    |    |-- ID: string (nullable = true)\n",
            " |    |    |-- Name: string (nullable = true)\n",
            " |    |    |-- Nominal: long (nullable = true)\n",
            " |    |    |-- NumCode: string (nullable = true)\n",
            " |    |    |-- Previous: double (nullable = true)\n",
            " |    |    |-- Value: double (nullable = true)\n",
            " |    |-- GEL: struct (nullable = true)\n",
            " |    |    |-- CharCode: string (nullable = true)\n",
            " |    |    |-- ID: string (nullable = true)\n",
            " |    |    |-- Name: string (nullable = true)\n",
            " |    |    |-- Nominal: long (nullable = true)\n",
            " |    |    |-- NumCode: string (nullable = true)\n",
            " |    |    |-- Previous: double (nullable = true)\n",
            " |    |    |-- Value: double (nullable = true)\n",
            " |    |-- HKD: struct (nullable = true)\n",
            " |    |    |-- CharCode: string (nullable = true)\n",
            " |    |    |-- ID: string (nullable = true)\n",
            " |    |    |-- Name: string (nullable = true)\n",
            " |    |    |-- Nominal: long (nullable = true)\n",
            " |    |    |-- NumCode: string (nullable = true)\n",
            " |    |    |-- Previous: double (nullable = true)\n",
            " |    |    |-- Value: double (nullable = true)\n",
            " |    |-- HUF: struct (nullable = true)\n",
            " |    |    |-- CharCode: string (nullable = true)\n",
            " |    |    |-- ID: string (nullable = true)\n",
            " |    |    |-- Name: string (nullable = true)\n",
            " |    |    |-- Nominal: long (nullable = true)\n",
            " |    |    |-- NumCode: string (nullable = true)\n",
            " |    |    |-- Previous: double (nullable = true)\n",
            " |    |    |-- Value: double (nullable = true)\n",
            " |    |-- IDR: struct (nullable = true)\n",
            " |    |    |-- CharCode: string (nullable = true)\n",
            " |    |    |-- ID: string (nullable = true)\n",
            " |    |    |-- Name: string (nullable = true)\n",
            " |    |    |-- Nominal: long (nullable = true)\n",
            " |    |    |-- NumCode: string (nullable = true)\n",
            " |    |    |-- Previous: double (nullable = true)\n",
            " |    |    |-- Value: double (nullable = true)\n",
            " |    |-- INR: struct (nullable = true)\n",
            " |    |    |-- CharCode: string (nullable = true)\n",
            " |    |    |-- ID: string (nullable = true)\n",
            " |    |    |-- Name: string (nullable = true)\n",
            " |    |    |-- Nominal: long (nullable = true)\n",
            " |    |    |-- NumCode: string (nullable = true)\n",
            " |    |    |-- Previous: double (nullable = true)\n",
            " |    |    |-- Value: double (nullable = true)\n",
            " |    |-- JPY: struct (nullable = true)\n",
            " |    |    |-- CharCode: string (nullable = true)\n",
            " |    |    |-- ID: string (nullable = true)\n",
            " |    |    |-- Name: string (nullable = true)\n",
            " |    |    |-- Nominal: long (nullable = true)\n",
            " |    |    |-- NumCode: string (nullable = true)\n",
            " |    |    |-- Previous: double (nullable = true)\n",
            " |    |    |-- Value: double (nullable = true)\n",
            " |    |-- KGS: struct (nullable = true)\n",
            " |    |    |-- CharCode: string (nullable = true)\n",
            " |    |    |-- ID: string (nullable = true)\n",
            " |    |    |-- Name: string (nullable = true)\n",
            " |    |    |-- Nominal: long (nullable = true)\n",
            " |    |    |-- NumCode: string (nullable = true)\n",
            " |    |    |-- Previous: double (nullable = true)\n",
            " |    |    |-- Value: double (nullable = true)\n",
            " |    |-- KRW: struct (nullable = true)\n",
            " |    |    |-- CharCode: string (nullable = true)\n",
            " |    |    |-- ID: string (nullable = true)\n",
            " |    |    |-- Name: string (nullable = true)\n",
            " |    |    |-- Nominal: long (nullable = true)\n",
            " |    |    |-- NumCode: string (nullable = true)\n",
            " |    |    |-- Previous: double (nullable = true)\n",
            " |    |    |-- Value: double (nullable = true)\n",
            " |    |-- KZT: struct (nullable = true)\n",
            " |    |    |-- CharCode: string (nullable = true)\n",
            " |    |    |-- ID: string (nullable = true)\n",
            " |    |    |-- Name: string (nullable = true)\n",
            " |    |    |-- Nominal: long (nullable = true)\n",
            " |    |    |-- NumCode: string (nullable = true)\n",
            " |    |    |-- Previous: double (nullable = true)\n",
            " |    |    |-- Value: double (nullable = true)\n",
            " |    |-- MDL: struct (nullable = true)\n",
            " |    |    |-- CharCode: string (nullable = true)\n",
            " |    |    |-- ID: string (nullable = true)\n",
            " |    |    |-- Name: string (nullable = true)\n",
            " |    |    |-- Nominal: long (nullable = true)\n",
            " |    |    |-- NumCode: string (nullable = true)\n",
            " |    |    |-- Previous: double (nullable = true)\n",
            " |    |    |-- Value: double (nullable = true)\n",
            " |    |-- NOK: struct (nullable = true)\n",
            " |    |    |-- CharCode: string (nullable = true)\n",
            " |    |    |-- ID: string (nullable = true)\n",
            " |    |    |-- Name: string (nullable = true)\n",
            " |    |    |-- Nominal: long (nullable = true)\n",
            " |    |    |-- NumCode: string (nullable = true)\n",
            " |    |    |-- Previous: double (nullable = true)\n",
            " |    |    |-- Value: double (nullable = true)\n",
            " |    |-- NZD: struct (nullable = true)\n",
            " |    |    |-- CharCode: string (nullable = true)\n",
            " |    |    |-- ID: string (nullable = true)\n",
            " |    |    |-- Name: string (nullable = true)\n",
            " |    |    |-- Nominal: long (nullable = true)\n",
            " |    |    |-- NumCode: string (nullable = true)\n",
            " |    |    |-- Previous: double (nullable = true)\n",
            " |    |    |-- Value: double (nullable = true)\n",
            " |    |-- PLN: struct (nullable = true)\n",
            " |    |    |-- CharCode: string (nullable = true)\n",
            " |    |    |-- ID: string (nullable = true)\n",
            " |    |    |-- Name: string (nullable = true)\n",
            " |    |    |-- Nominal: long (nullable = true)\n",
            " |    |    |-- NumCode: string (nullable = true)\n",
            " |    |    |-- Previous: double (nullable = true)\n",
            " |    |    |-- Value: double (nullable = true)\n",
            " |    |-- QAR: struct (nullable = true)\n",
            " |    |    |-- CharCode: string (nullable = true)\n",
            " |    |    |-- ID: string (nullable = true)\n",
            " |    |    |-- Name: string (nullable = true)\n",
            " |    |    |-- Nominal: long (nullable = true)\n",
            " |    |    |-- NumCode: string (nullable = true)\n",
            " |    |    |-- Previous: double (nullable = true)\n",
            " |    |    |-- Value: double (nullable = true)\n",
            " |    |-- RON: struct (nullable = true)\n",
            " |    |    |-- CharCode: string (nullable = true)\n",
            " |    |    |-- ID: string (nullable = true)\n",
            " |    |    |-- Name: string (nullable = true)\n",
            " |    |    |-- Nominal: long (nullable = true)\n",
            " |    |    |-- NumCode: string (nullable = true)\n",
            " |    |    |-- Previous: double (nullable = true)\n",
            " |    |    |-- Value: double (nullable = true)\n",
            " |    |-- RSD: struct (nullable = true)\n",
            " |    |    |-- CharCode: string (nullable = true)\n",
            " |    |    |-- ID: string (nullable = true)\n",
            " |    |    |-- Name: string (nullable = true)\n",
            " |    |    |-- Nominal: long (nullable = true)\n",
            " |    |    |-- NumCode: string (nullable = true)\n",
            " |    |    |-- Previous: double (nullable = true)\n",
            " |    |    |-- Value: double (nullable = true)\n",
            " |    |-- SEK: struct (nullable = true)\n",
            " |    |    |-- CharCode: string (nullable = true)\n",
            " |    |    |-- ID: string (nullable = true)\n",
            " |    |    |-- Name: string (nullable = true)\n",
            " |    |    |-- Nominal: long (nullable = true)\n",
            " |    |    |-- NumCode: string (nullable = true)\n",
            " |    |    |-- Previous: double (nullable = true)\n",
            " |    |    |-- Value: double (nullable = true)\n",
            " |    |-- SGD: struct (nullable = true)\n",
            " |    |    |-- CharCode: string (nullable = true)\n",
            " |    |    |-- ID: string (nullable = true)\n",
            " |    |    |-- Name: string (nullable = true)\n",
            " |    |    |-- Nominal: long (nullable = true)\n",
            " |    |    |-- NumCode: string (nullable = true)\n",
            " |    |    |-- Previous: double (nullable = true)\n",
            " |    |    |-- Value: double (nullable = true)\n",
            " |    |-- THB: struct (nullable = true)\n",
            " |    |    |-- CharCode: string (nullable = true)\n",
            " |    |    |-- ID: string (nullable = true)\n",
            " |    |    |-- Name: string (nullable = true)\n",
            " |    |    |-- Nominal: long (nullable = true)\n",
            " |    |    |-- NumCode: string (nullable = true)\n",
            " |    |    |-- Previous: double (nullable = true)\n",
            " |    |    |-- Value: double (nullable = true)\n",
            " |    |-- TJS: struct (nullable = true)\n",
            " |    |    |-- CharCode: string (nullable = true)\n",
            " |    |    |-- ID: string (nullable = true)\n",
            " |    |    |-- Name: string (nullable = true)\n",
            " |    |    |-- Nominal: long (nullable = true)\n",
            " |    |    |-- NumCode: string (nullable = true)\n",
            " |    |    |-- Previous: double (nullable = true)\n",
            " |    |    |-- Value: double (nullable = true)\n",
            " |    |-- TMT: struct (nullable = true)\n",
            " |    |    |-- CharCode: string (nullable = true)\n",
            " |    |    |-- ID: string (nullable = true)\n",
            " |    |    |-- Name: string (nullable = true)\n",
            " |    |    |-- Nominal: long (nullable = true)\n",
            " |    |    |-- NumCode: string (nullable = true)\n",
            " |    |    |-- Previous: double (nullable = true)\n",
            " |    |    |-- Value: double (nullable = true)\n",
            " |    |-- TRY: struct (nullable = true)\n",
            " |    |    |-- CharCode: string (nullable = true)\n",
            " |    |    |-- ID: string (nullable = true)\n",
            " |    |    |-- Name: string (nullable = true)\n",
            " |    |    |-- Nominal: long (nullable = true)\n",
            " |    |    |-- NumCode: string (nullable = true)\n",
            " |    |    |-- Previous: double (nullable = true)\n",
            " |    |    |-- Value: double (nullable = true)\n",
            " |    |-- UAH: struct (nullable = true)\n",
            " |    |    |-- CharCode: string (nullable = true)\n",
            " |    |    |-- ID: string (nullable = true)\n",
            " |    |    |-- Name: string (nullable = true)\n",
            " |    |    |-- Nominal: long (nullable = true)\n",
            " |    |    |-- NumCode: string (nullable = true)\n",
            " |    |    |-- Previous: double (nullable = true)\n",
            " |    |    |-- Value: double (nullable = true)\n",
            " |    |-- USD: struct (nullable = true)\n",
            " |    |    |-- CharCode: string (nullable = true)\n",
            " |    |    |-- ID: string (nullable = true)\n",
            " |    |    |-- Name: string (nullable = true)\n",
            " |    |    |-- Nominal: long (nullable = true)\n",
            " |    |    |-- NumCode: string (nullable = true)\n",
            " |    |    |-- Previous: double (nullable = true)\n",
            " |    |    |-- Value: double (nullable = true)\n",
            " |    |-- UZS: struct (nullable = true)\n",
            " |    |    |-- CharCode: string (nullable = true)\n",
            " |    |    |-- ID: string (nullable = true)\n",
            " |    |    |-- Name: string (nullable = true)\n",
            " |    |    |-- Nominal: long (nullable = true)\n",
            " |    |    |-- NumCode: string (nullable = true)\n",
            " |    |    |-- Previous: double (nullable = true)\n",
            " |    |    |-- Value: double (nullable = true)\n",
            " |    |-- VND: struct (nullable = true)\n",
            " |    |    |-- CharCode: string (nullable = true)\n",
            " |    |    |-- ID: string (nullable = true)\n",
            " |    |    |-- Name: string (nullable = true)\n",
            " |    |    |-- Nominal: long (nullable = true)\n",
            " |    |    |-- NumCode: string (nullable = true)\n",
            " |    |    |-- Previous: double (nullable = true)\n",
            " |    |    |-- Value: double (nullable = true)\n",
            " |    |-- XDR: struct (nullable = true)\n",
            " |    |    |-- CharCode: string (nullable = true)\n",
            " |    |    |-- ID: string (nullable = true)\n",
            " |    |    |-- Name: string (nullable = true)\n",
            " |    |    |-- Nominal: long (nullable = true)\n",
            " |    |    |-- NumCode: string (nullable = true)\n",
            " |    |    |-- Previous: double (nullable = true)\n",
            " |    |    |-- Value: double (nullable = true)\n",
            " |    |-- ZAR: struct (nullable = true)\n",
            " |    |    |-- CharCode: string (nullable = true)\n",
            " |    |    |-- ID: string (nullable = true)\n",
            " |    |    |-- Name: string (nullable = true)\n",
            " |    |    |-- Nominal: long (nullable = true)\n",
            " |    |    |-- NumCode: string (nullable = true)\n",
            " |    |    |-- Previous: double (nullable = true)\n",
            " |    |    |-- Value: double (nullable = true)\n",
            "\n",
            "-RECORD 0----------------------------------------------------------------------------------\n",
            " AED | {AED, R01230, Дирхам ОАЭ, 1, 784, 22.1425, 22.1215}                                 \n",
            " AMD | {AMD, R01060, Армянских драмов, 100, 051, 21.0002, 20.9927}                         \n",
            " AUD | {AUD, R01010, Австралийский доллар, 1, 036, 53.7343, 54.1208}                       \n",
            " AZN | {AZN, R01020A, Азербайджанский манат, 1, 944, 47.8408, 47.7942}                     \n",
            " BGN | {BGN, R01100, Болгарский лев, 1, 975, 44.7553, 44.4087}                             \n",
            " BRL | {BRL, R01115, Бразильский реал, 1, 986, 16.4119, 16.5032}                           \n",
            " BYN | {BYN, R01090B, Белорусский рубль, 1, 933, 27.7518, 27.8007}                         \n",
            " CAD | {CAD, R01350, Канадский доллар, 1, 124, 60.5355, 60.481}                            \n",
            " CHF | {CHF, R01775, Швейцарский франк, 1, 756, 89.2945, 89.6504}                          \n",
            " CNY | {CNY, R01375, Китайский юань, 1, 156, 11.415, 11.3892}                              \n",
            " CZK | {CZK, R01760, Чешских крон, 10, 203, 36.9982, 36.8498}                              \n",
            " DKK | {DKK, R01215, Датская крона, 1, 208, 11.7516, 11.7402}                              \n",
            " EGP | {EGP, R01240, Египетских фунтов, 10, 818, 26.3213, 26.296}                          \n",
            " EUR | {EUR, R01239, Евро, 1, 978, 87.0318, 86.9519}                                       \n",
            " GBP | {GBP, R01035, Фунт стерлингов Соединенного королевства, 1, 826, 101.5398, 100.8315} \n",
            " GEL | {GEL, R01210, Грузинский лари, 1, 981, 30.8826, 31.0009}                            \n",
            " HKD | {HKD, R01200, Гонконгский доллар, 1, 344, 10.3949, 10.3794}                         \n",
            " HUF | {HUF, R01135, Венгерских форинтов, 100, 348, 23.5478, 23.5515}                      \n",
            " IDR | {IDR, R01280, Индонезийских рупий, 10000, 360, 54.2088, 54.5743}                    \n",
            " INR | {INR, R01270, Индийских рупий, 100, 356, 98.5217, 98.2075}                          \n",
            " JPY | {JPY, R01820, Японских иен, 100, 392, 58.0344, 58.2272}                             \n",
            " KGS | {KGS, R01370, Киргизских сомов, 100, 417, 92.9713, 92.9621}                         \n",
            " KRW | {KRW, R01815, Вон Республики Корея, 1000, 410, 62.1737, 62.1131}                    \n",
            " KZT | {KZT, R01335, Казахстанских тенге, 100, 398, 18.1579, 18.1075}                      \n",
            " MDL | {MDL, R01500, Молдавских леев, 10, 498, 45.6784, 45.5724}                           \n",
            " NOK | {NOK, R01535, Норвежских крон, 10, 578, 73.4849, 73.0306}                           \n",
            " NZD | {NZD, R01530, Новозеландский доллар, 1, 554, 49.3995, 49.3595}                      \n",
            " PLN | {PLN, R01565, Польский злотый, 1, 985, 19.4387, 19.3416}                            \n",
            " QAR | {QAR, R01355, Катарский риал, 1, 634, 22.3432, 22.3215}                             \n",
            " RON | {RON, R01585F, Румынский лей, 1, 946, 17.6423, 17.5135}                             \n",
            " RSD | {RSD, R01805F, Сербских динаров, 100, 941, 74.2017, 74.335}                         \n",
            " SEK | {SEK, R01770, Шведских крон, 10, 752, 74.8628, 74.7899}                             \n",
            " SGD | {SGD, R01625, Сингапурский доллар, 1, 702, 60.2217, 60.2166}                        \n",
            " THB | {THB, R01675, Таиландских батов, 10, 764, 23.5216, 23.3873}                         \n",
            " TJS | {TJS, R01670, Таджикских сомони, 10, 972, 74.5252, 74.452}                          \n",
            " TMT | {TMT, R01710A, Новый туркменский манат, 1, 934, 23.237, 23.2143}                    \n",
            " TRY | {TRY, R01700J, Турецких лир, 10, 949, 38.9817, 38.3879}                             \n",
            " UAH | {UAH, R01720, Украинских гривен, 10, 980, 22.0269, 22.0061}                         \n",
            " USD | {USD, R01235, Доллар США, 1, 840, 81.3294, 81.2502}                                 \n",
            " UZS | {UZS, R01717, Узбекских сумов, 10000, 860, 71.1729, 70.9662}                        \n",
            " VND | {VND, R01150, Вьетнамских донгов, 10000, 704, 34.3263, 34.2539}                     \n",
            " XDR | {XDR, R01589, СДР (специальные права заимствования), 1, 960, 108.5056, 107.9125}    \n",
            " ZAR | {ZAR, R01810, Южноафриканских рэндов, 10, 710, 41.638, 42.2744}                     \n",
            "\n",
            "-RECORD 0-----------------------------------------\n",
            " CharCode | XDR                                   \n",
            " ID       | R01589                                \n",
            " Name     | СДР (специальные права заимствования) \n",
            " Nominal  | 1                                     \n",
            " NumCode  | 960                                   \n",
            " Previous | 108.5056                              \n",
            " Value    | 107.9125                              \n",
            "\n",
            "+--------+------+-------------------------------------+-------+-------+--------+--------+\n",
            "|CharCode|    ID|                                 Name|Nominal|NumCode|Previous|   Value|\n",
            "+--------+------+-------------------------------------+-------+-------+--------+--------+\n",
            "|     XDR|R01589|СДР (специальные права заимствования)|      1|    960|108.5056|107.9125|\n",
            "+--------+------+-------------------------------------+-------+-------+--------+--------+\n",
            "\n"
          ]
        }
      ]
    },
    {
      "cell_type": "markdown",
      "source": [
        "20. Построение графиков всех столбцов"
      ],
      "metadata": {
        "id": "CgcXt0qroHRu"
      }
    },
    {
      "cell_type": "code",
      "source": [
        "import pandas as pd\n",
        "import numpy as np\n",
        "import pyspark.pandas as ps\n",
        "from pyspark.sql import SparkSession\n",
        "import os\n",
        "os.environ[\"PYARROW_IGNORE_TIMEZONE\"] = \"1\"\n",
        "pser = pd.Series(np.random.randn(1000),\n",
        " index=pd.date_range('1/1/2000', periods=1000))\n",
        "pdf = pd.DataFrame(np.random.randn(1000, 4), index=pser.index,\n",
        "  columns=['A', 'B', 'C', 'D'])\n",
        "psdf = ps.from_pandas(pdf)\n",
        "psdf = psdf.cummax()\n",
        "psdf.plot()"
      ],
      "metadata": {
        "colab": {
          "base_uri": "https://localhost:8080/",
          "height": 597
        },
        "id": "O0Ny-87XoNQg",
        "outputId": "7e4c526b-e273-45eb-d2d8-83666f5985d7"
      },
      "execution_count": null,
      "outputs": [
        {
          "output_type": "stream",
          "name": "stderr",
          "text": [
            "/content/spark-3.4.0-bin-hadoop3/python/pyspark/sql/pandas/conversion.py:251: FutureWarning: Passing unit-less datetime64 dtype to .astype is deprecated and will raise in a future version. Pass 'datetime64[ns]' instead\n",
            "  series = series.astype(t, copy=False)\n"
          ]
        },
        {
          "output_type": "display_data",
          "data": {
            "text/html": [
              "<html>\n",
              "<head><meta charset=\"utf-8\" /></head>\n",
              "<body>\n",
              "    <div>            <script src=\"https://cdnjs.cloudflare.com/ajax/libs/mathjax/2.7.5/MathJax.js?config=TeX-AMS-MML_SVG\"></script><script type=\"text/javascript\">if (window.MathJax && window.MathJax.Hub && window.MathJax.Hub.Config) {window.MathJax.Hub.Config({SVG: {font: \"STIX-Web\"}});}</script>                <script type=\"text/javascript\">window.PlotlyConfig = {MathJaxConfig: 'local'};</script>\n",
              "        <script src=\"https://cdn.plot.ly/plotly-2.18.2.min.js\"></script>                <div id=\"8ada174a-c129-401b-86ae-75b541e654c4\" class=\"plotly-graph-div\" style=\"height:525px; width:100%;\"></div>            <script type=\"text/javascript\">                                    window.PLOTLYENV=window.PLOTLYENV || {};                                    if (document.getElementById(\"8ada174a-c129-401b-86ae-75b541e654c4\")) {                    Plotly.newPlot(                        \"8ada174a-c129-401b-86ae-75b541e654c4\",                        [{\"hovertemplate\":\"variable=A<br>index=%{x}<br>value=%{y}<extra></extra>\",\"legendgroup\":\"A\",\"line\":{\"color\":\"#636efa\",\"dash\":\"solid\"},\"marker\":{\"symbol\":\"circle\"},\"mode\":\"lines\",\"name\":\"A\",\"showlegend\":true,\"x\":[\"2000-01-01T00:00:00\",\"2000-01-02T00:00:00\",\"2000-01-03T00:00:00\",\"2000-01-04T00:00:00\",\"2000-01-05T00:00:00\",\"2000-01-06T00:00:00\",\"2000-01-07T00:00:00\",\"2000-01-08T00:00:00\",\"2000-01-09T00:00:00\",\"2000-01-10T00:00:00\",\"2000-01-11T00:00:00\",\"2000-01-12T00:00:00\",\"2000-01-13T00:00:00\",\"2000-01-14T00:00:00\",\"2000-01-15T00:00:00\",\"2000-01-16T00:00:00\",\"2000-01-17T00:00:00\",\"2000-01-18T00:00:00\",\"2000-01-19T00:00:00\",\"2000-01-20T00:00:00\",\"2000-01-21T00:00:00\",\"2000-01-22T00:00:00\",\"2000-01-23T00:00:00\",\"2000-01-24T00:00:00\",\"2000-01-25T00:00:00\",\"2000-01-26T00:00:00\",\"2000-01-27T00:00:00\",\"2000-01-28T00:00:00\",\"2000-01-29T00:00:00\",\"2000-01-30T00:00:00\",\"2000-01-31T00:00:00\",\"2000-02-01T00:00:00\",\"2000-02-02T00:00:00\",\"2000-02-03T00:00:00\",\"2000-02-04T00:00:00\",\"2000-02-05T00:00:00\",\"2000-02-06T00:00:00\",\"2000-02-07T00:00:00\",\"2000-02-08T00:00:00\",\"2000-02-09T00:00:00\",\"2000-02-10T00:00:00\",\"2000-02-11T00:00:00\",\"2000-02-12T00:00:00\",\"2000-02-13T00:00:00\",\"2000-02-14T00:00:00\",\"2000-02-15T00:00:00\",\"2000-02-16T00:00:00\",\"2000-02-17T00:00:00\",\"2000-02-18T00:00:00\",\"2000-02-19T00:00:00\",\"2000-02-20T00:00:00\",\"2000-02-21T00:00:00\",\"2000-02-22T00:00:00\",\"2000-02-23T00:00:00\",\"2000-02-24T00:00:00\",\"2000-02-25T00:00:00\",\"2000-02-26T00:00:00\",\"2000-02-27T00:00:00\",\"2000-02-28T00:00:00\",\"2000-02-29T00:00:00\",\"2000-03-01T00:00:00\",\"2000-03-02T00:00:00\",\"2000-03-03T00:00:00\",\"2000-03-04T00:00:00\",\"2000-03-05T00:00:00\",\"2000-03-06T00:00:00\",\"2000-03-07T00:00:00\",\"2000-03-08T00:00:00\",\"2000-03-09T00:00:00\",\"2000-03-10T00:00:00\",\"2000-03-11T00:00:00\",\"2000-03-12T00:00:00\",\"2000-03-13T00:00:00\",\"2000-03-14T00:00:00\",\"2000-03-15T00:00:00\",\"2000-03-16T00:00:00\",\"2000-03-17T00:00:00\",\"2000-03-18T00:00:00\",\"2000-03-19T00:00:00\",\"2000-03-20T00:00:00\",\"2000-03-21T00:00:00\",\"2000-03-22T00:00:00\",\"2000-03-23T00:00:00\",\"2000-03-24T00:00:00\",\"2000-03-25T00:00:00\",\"2000-03-26T00:00:00\",\"2000-03-27T00:00:00\",\"2000-03-28T00:00:00\",\"2000-03-29T00:00:00\",\"2000-03-30T00:00:00\",\"2000-03-31T00:00:00\",\"2000-04-01T00:00:00\",\"2000-04-02T00:00:00\",\"2000-04-03T00:00:00\",\"2000-04-04T00:00:00\",\"2000-04-05T00:00:00\",\"2000-04-06T00:00:00\",\"2000-04-07T00:00:00\",\"2000-04-08T00:00:00\",\"2000-04-09T00:00:00\",\"2000-04-10T00:00:00\",\"2000-04-11T00:00:00\",\"2000-04-12T00:00:00\",\"2000-04-13T00:00:00\",\"2000-04-14T00:00:00\",\"2000-04-15T00:00:00\",\"2000-04-16T00:00:00\",\"2000-04-17T00:00:00\",\"2000-04-18T00:00:00\",\"2000-04-19T00:00:00\",\"2000-04-20T00:00:00\",\"2000-04-21T00:00:00\",\"2000-04-22T00:00:00\",\"2000-04-23T00:00:00\",\"2000-04-24T00:00:00\",\"2000-04-25T00:00:00\",\"2000-04-26T00:00:00\",\"2000-04-27T00:00:00\",\"2000-04-28T00:00:00\",\"2000-04-29T00:00:00\",\"2000-04-30T00:00:00\",\"2000-05-01T00:00:00\",\"2000-05-02T00:00:00\",\"2000-05-03T00:00:00\",\"2000-05-04T00:00:00\",\"2000-05-05T00:00:00\",\"2000-05-06T00:00:00\",\"2000-05-07T00:00:00\",\"2000-05-08T00:00:00\",\"2000-05-09T00:00:00\",\"2000-05-10T00:00:00\",\"2000-05-11T00:00:00\",\"2000-05-12T00:00:00\",\"2000-05-13T00:00:00\",\"2000-05-14T00:00:00\",\"2000-05-15T00:00:00\",\"2000-05-16T00:00:00\",\"2000-05-17T00:00:00\",\"2000-05-18T00:00:00\",\"2000-05-19T00:00:00\",\"2000-05-20T00:00:00\",\"2000-05-21T00:00:00\",\"2000-05-22T00:00:00\",\"2000-05-23T00:00:00\",\"2000-05-24T00:00:00\",\"2000-05-25T00:00:00\",\"2000-05-26T00:00:00\",\"2000-05-27T00:00:00\",\"2000-05-28T00:00:00\",\"2000-05-29T00:00:00\",\"2000-05-30T00:00:00\",\"2000-05-31T00:00:00\",\"2000-06-01T00:00:00\",\"2000-06-02T00:00:00\",\"2000-06-03T00:00:00\",\"2000-06-04T00:00:00\",\"2000-06-05T00:00:00\",\"2000-06-06T00:00:00\",\"2000-06-07T00:00:00\",\"2000-06-08T00:00:00\",\"2000-06-09T00:00:00\",\"2000-06-10T00:00:00\",\"2000-06-11T00:00:00\",\"2000-06-12T00:00:00\",\"2000-06-13T00:00:00\",\"2000-06-14T00:00:00\",\"2000-06-15T00:00:00\",\"2000-06-16T00:00:00\",\"2000-06-17T00:00:00\",\"2000-06-18T00:00:00\",\"2000-06-19T00:00:00\",\"2000-06-20T00:00:00\",\"2000-06-21T00:00:00\",\"2000-06-22T00:00:00\",\"2000-06-23T00:00:00\",\"2000-06-24T00:00:00\",\"2000-06-25T00:00:00\",\"2000-06-26T00:00:00\",\"2000-06-27T00:00:00\",\"2000-06-28T00:00:00\",\"2000-06-29T00:00:00\",\"2000-06-30T00:00:00\",\"2000-07-01T00:00:00\",\"2000-07-02T00:00:00\",\"2000-07-03T00:00:00\",\"2000-07-04T00:00:00\",\"2000-07-05T00:00:00\",\"2000-07-06T00:00:00\",\"2000-07-07T00:00:00\",\"2000-07-08T00:00:00\",\"2000-07-09T00:00:00\",\"2000-07-10T00:00:00\",\"2000-07-11T00:00:00\",\"2000-07-12T00:00:00\",\"2000-07-13T00:00:00\",\"2000-07-14T00:00:00\",\"2000-07-15T00:00:00\",\"2000-07-16T00:00:00\",\"2000-07-17T00:00:00\",\"2000-07-18T00:00:00\",\"2000-07-19T00:00:00\",\"2000-07-20T00:00:00\",\"2000-07-21T00:00:00\",\"2000-07-22T00:00:00\",\"2000-07-23T00:00:00\",\"2000-07-24T00:00:00\",\"2000-07-25T00:00:00\",\"2000-07-26T00:00:00\",\"2000-07-27T00:00:00\",\"2000-07-28T00:00:00\",\"2000-07-29T00:00:00\",\"2000-07-30T00:00:00\",\"2000-07-31T00:00:00\",\"2000-08-01T00:00:00\",\"2000-08-02T00:00:00\",\"2000-08-03T00:00:00\",\"2000-08-04T00:00:00\",\"2000-08-05T00:00:00\",\"2000-08-06T00:00:00\",\"2000-08-07T00:00:00\",\"2000-08-08T00:00:00\",\"2000-08-09T00:00:00\",\"2000-08-10T00:00:00\",\"2000-08-11T00:00:00\",\"2000-08-12T00:00:00\",\"2000-08-13T00:00:00\",\"2000-08-14T00:00:00\",\"2000-08-15T00:00:00\",\"2000-08-16T00:00:00\",\"2000-08-17T00:00:00\",\"2000-08-18T00:00:00\",\"2000-08-19T00:00:00\",\"2000-08-20T00:00:00\",\"2000-08-21T00:00:00\",\"2000-08-22T00:00:00\",\"2000-08-23T00:00:00\",\"2000-08-24T00:00:00\",\"2000-08-25T00:00:00\",\"2000-08-26T00:00:00\",\"2000-08-27T00:00:00\",\"2000-08-28T00:00:00\",\"2000-08-29T00:00:00\",\"2000-08-30T00:00:00\",\"2000-08-31T00:00:00\",\"2000-09-01T00:00:00\",\"2000-09-02T00:00:00\",\"2000-09-03T00:00:00\",\"2000-09-04T00:00:00\",\"2000-09-05T00:00:00\",\"2000-09-06T00:00:00\",\"2000-09-07T00:00:00\",\"2000-09-08T00:00:00\",\"2000-09-09T00:00:00\",\"2000-09-10T00:00:00\",\"2000-09-11T00:00:00\",\"2000-09-12T00:00:00\",\"2000-09-13T00:00:00\",\"2000-09-14T00:00:00\",\"2000-09-15T00:00:00\",\"2000-09-16T00:00:00\",\"2000-09-17T00:00:00\",\"2000-09-18T00:00:00\",\"2000-09-19T00:00:00\",\"2000-09-20T00:00:00\",\"2000-09-21T00:00:00\",\"2000-09-22T00:00:00\",\"2000-09-23T00:00:00\",\"2000-09-24T00:00:00\",\"2000-09-25T00:00:00\",\"2000-09-26T00:00:00\",\"2000-09-27T00:00:00\",\"2000-09-28T00:00:00\",\"2000-09-29T00:00:00\",\"2000-09-30T00:00:00\",\"2000-10-01T00:00:00\",\"2000-10-02T00:00:00\",\"2000-10-03T00:00:00\",\"2000-10-04T00:00:00\",\"2000-10-05T00:00:00\",\"2000-10-06T00:00:00\",\"2000-10-07T00:00:00\",\"2000-10-08T00:00:00\",\"2000-10-09T00:00:00\",\"2000-10-10T00:00:00\",\"2000-10-11T00:00:00\",\"2000-10-12T00:00:00\",\"2000-10-13T00:00:00\",\"2000-10-14T00:00:00\",\"2000-10-15T00:00:00\",\"2000-10-16T00:00:00\",\"2000-10-17T00:00:00\",\"2000-10-18T00:00:00\",\"2000-10-19T00:00:00\",\"2000-10-20T00:00:00\",\"2000-10-21T00:00:00\",\"2000-10-22T00:00:00\",\"2000-10-23T00:00:00\",\"2000-10-24T00:00:00\",\"2000-10-25T00:00:00\",\"2000-10-26T00:00:00\",\"2000-10-27T00:00:00\",\"2000-10-28T00:00:00\",\"2000-10-29T00:00:00\",\"2000-10-30T00:00:00\",\"2000-10-31T00:00:00\",\"2000-11-01T00:00:00\",\"2000-11-02T00:00:00\",\"2000-11-03T00:00:00\",\"2000-11-04T00:00:00\",\"2000-11-05T00:00:00\",\"2000-11-06T00:00:00\",\"2000-11-07T00:00:00\",\"2000-11-08T00:00:00\",\"2000-11-09T00:00:00\",\"2000-11-10T00:00:00\",\"2000-11-11T00:00:00\",\"2000-11-12T00:00:00\",\"2000-11-13T00:00:00\",\"2000-11-14T00:00:00\",\"2000-11-15T00:00:00\",\"2000-11-16T00:00:00\",\"2000-11-17T00:00:00\",\"2000-11-18T00:00:00\",\"2000-11-19T00:00:00\",\"2000-11-20T00:00:00\",\"2000-11-21T00:00:00\",\"2000-11-22T00:00:00\",\"2000-11-23T00:00:00\",\"2000-11-24T00:00:00\",\"2000-11-25T00:00:00\",\"2000-11-26T00:00:00\",\"2000-11-27T00:00:00\",\"2000-11-28T00:00:00\",\"2000-11-29T00:00:00\",\"2000-11-30T00:00:00\",\"2000-12-01T00:00:00\",\"2000-12-02T00:00:00\",\"2000-12-03T00:00:00\",\"2000-12-04T00:00:00\",\"2000-12-05T00:00:00\",\"2000-12-06T00:00:00\",\"2000-12-07T00:00:00\",\"2000-12-08T00:00:00\",\"2000-12-09T00:00:00\",\"2000-12-10T00:00:00\",\"2000-12-11T00:00:00\",\"2000-12-12T00:00:00\",\"2000-12-13T00:00:00\",\"2000-12-14T00:00:00\",\"2000-12-15T00:00:00\",\"2000-12-16T00:00:00\",\"2000-12-17T00:00:00\",\"2000-12-18T00:00:00\",\"2000-12-19T00:00:00\",\"2000-12-20T00:00:00\",\"2000-12-21T00:00:00\",\"2000-12-22T00:00:00\",\"2000-12-23T00:00:00\",\"2000-12-24T00:00:00\",\"2000-12-25T00:00:00\",\"2000-12-26T00:00:00\",\"2000-12-27T00:00:00\",\"2000-12-28T00:00:00\",\"2000-12-29T00:00:00\",\"2000-12-30T00:00:00\",\"2000-12-31T00:00:00\",\"2001-01-01T00:00:00\",\"2001-01-02T00:00:00\",\"2001-01-03T00:00:00\",\"2001-01-04T00:00:00\",\"2001-01-05T00:00:00\",\"2001-01-06T00:00:00\",\"2001-01-07T00:00:00\",\"2001-01-08T00:00:00\",\"2001-01-09T00:00:00\",\"2001-01-10T00:00:00\",\"2001-01-11T00:00:00\",\"2001-01-12T00:00:00\",\"2001-01-13T00:00:00\",\"2001-01-14T00:00:00\",\"2001-01-15T00:00:00\",\"2001-01-16T00:00:00\",\"2001-01-17T00:00:00\",\"2001-01-18T00:00:00\",\"2001-01-19T00:00:00\",\"2001-01-20T00:00:00\",\"2001-01-21T00:00:00\",\"2001-01-22T00:00:00\",\"2001-01-23T00:00:00\",\"2001-01-24T00:00:00\",\"2001-01-25T00:00:00\",\"2001-01-26T00:00:00\",\"2001-01-27T00:00:00\",\"2001-01-28T00:00:00\",\"2001-01-29T00:00:00\",\"2001-01-30T00:00:00\",\"2001-01-31T00:00:00\",\"2001-02-01T00:00:00\",\"2001-02-02T00:00:00\",\"2001-02-03T00:00:00\",\"2001-02-04T00:00:00\",\"2001-02-05T00:00:00\",\"2001-02-06T00:00:00\",\"2001-02-07T00:00:00\",\"2001-02-08T00:00:00\",\"2001-02-09T00:00:00\",\"2001-02-10T00:00:00\",\"2001-02-11T00:00:00\",\"2001-02-12T00:00:00\",\"2001-02-13T00:00:00\",\"2001-02-14T00:00:00\",\"2001-02-15T00:00:00\",\"2001-02-16T00:00:00\",\"2001-02-17T00:00:00\",\"2001-02-18T00:00:00\",\"2001-02-19T00:00:00\",\"2001-02-20T00:00:00\",\"2001-02-21T00:00:00\",\"2001-02-22T00:00:00\",\"2001-02-23T00:00:00\",\"2001-02-24T00:00:00\",\"2001-02-25T00:00:00\",\"2001-02-26T00:00:00\",\"2001-02-27T00:00:00\",\"2001-02-28T00:00:00\",\"2001-03-01T00:00:00\",\"2001-03-02T00:00:00\",\"2001-03-03T00:00:00\",\"2001-03-04T00:00:00\",\"2001-03-05T00:00:00\",\"2001-03-06T00:00:00\",\"2001-03-07T00:00:00\",\"2001-03-08T00:00:00\",\"2001-03-09T00:00:00\",\"2001-03-10T00:00:00\",\"2001-03-11T00:00:00\",\"2001-03-12T00:00:00\",\"2001-03-13T00:00:00\",\"2001-03-14T00:00:00\",\"2001-03-15T00:00:00\",\"2001-03-16T00:00:00\",\"2001-03-17T00:00:00\",\"2001-03-18T00:00:00\",\"2001-03-19T00:00:00\",\"2001-03-20T00:00:00\",\"2001-03-21T00:00:00\",\"2001-03-22T00:00:00\",\"2001-03-23T00:00:00\",\"2001-03-24T00:00:00\",\"2001-03-25T00:00:00\",\"2001-03-26T00:00:00\",\"2001-03-27T00:00:00\",\"2001-03-28T00:00:00\",\"2001-03-29T00:00:00\",\"2001-03-30T00:00:00\",\"2001-03-31T00:00:00\",\"2001-04-01T00:00:00\",\"2001-04-02T00:00:00\",\"2001-04-03T00:00:00\",\"2001-04-04T00:00:00\",\"2001-04-05T00:00:00\",\"2001-04-06T00:00:00\",\"2001-04-07T00:00:00\",\"2001-04-08T00:00:00\",\"2001-04-09T00:00:00\",\"2001-04-10T00:00:00\",\"2001-04-11T00:00:00\",\"2001-04-12T00:00:00\",\"2001-04-13T00:00:00\",\"2001-04-14T00:00:00\",\"2001-04-15T00:00:00\",\"2001-04-16T00:00:00\",\"2001-04-17T00:00:00\",\"2001-04-18T00:00:00\",\"2001-04-19T00:00:00\",\"2001-04-20T00:00:00\",\"2001-04-21T00:00:00\",\"2001-04-22T00:00:00\",\"2001-04-23T00:00:00\",\"2001-04-24T00:00:00\",\"2001-04-25T00:00:00\",\"2001-04-26T00:00:00\",\"2001-04-27T00:00:00\",\"2001-04-28T00:00:00\",\"2001-04-29T00:00:00\",\"2001-04-30T00:00:00\",\"2001-05-01T00:00:00\",\"2001-05-02T00:00:00\",\"2001-05-03T00:00:00\",\"2001-05-04T00:00:00\",\"2001-05-05T00:00:00\",\"2001-05-06T00:00:00\",\"2001-05-07T00:00:00\",\"2001-05-08T00:00:00\",\"2001-05-09T00:00:00\",\"2001-05-10T00:00:00\",\"2001-05-11T00:00:00\",\"2001-05-12T00:00:00\",\"2001-05-13T00:00:00\",\"2001-05-14T00:00:00\",\"2001-05-15T00:00:00\",\"2001-05-16T00:00:00\",\"2001-05-17T00:00:00\",\"2001-05-18T00:00:00\",\"2001-05-19T00:00:00\",\"2001-05-20T00:00:00\",\"2001-05-21T00:00:00\",\"2001-05-22T00:00:00\",\"2001-05-23T00:00:00\",\"2001-05-24T00:00:00\",\"2001-05-25T00:00:00\",\"2001-05-26T00:00:00\",\"2001-05-27T00:00:00\",\"2001-05-28T00:00:00\",\"2001-05-29T00:00:00\",\"2001-05-30T00:00:00\",\"2001-05-31T00:00:00\",\"2001-06-01T00:00:00\",\"2001-06-02T00:00:00\",\"2001-06-03T00:00:00\",\"2001-06-04T00:00:00\",\"2001-06-05T00:00:00\",\"2001-06-06T00:00:00\",\"2001-06-07T00:00:00\",\"2001-06-08T00:00:00\",\"2001-06-09T00:00:00\",\"2001-06-10T00:00:00\",\"2001-06-11T00:00:00\",\"2001-06-12T00:00:00\",\"2001-06-13T00:00:00\",\"2001-06-14T00:00:00\",\"2001-06-15T00:00:00\",\"2001-06-16T00:00:00\",\"2001-06-17T00:00:00\",\"2001-06-18T00:00:00\",\"2001-06-19T00:00:00\",\"2001-06-20T00:00:00\",\"2001-06-21T00:00:00\",\"2001-06-22T00:00:00\",\"2001-06-23T00:00:00\",\"2001-06-24T00:00:00\",\"2001-06-25T00:00:00\",\"2001-06-26T00:00:00\",\"2001-06-27T00:00:00\",\"2001-06-28T00:00:00\",\"2001-06-29T00:00:00\",\"2001-06-30T00:00:00\",\"2001-07-01T00:00:00\",\"2001-07-02T00:00:00\",\"2001-07-03T00:00:00\",\"2001-07-04T00:00:00\",\"2001-07-05T00:00:00\",\"2001-07-06T00:00:00\",\"2001-07-07T00:00:00\",\"2001-07-08T00:00:00\",\"2001-07-09T00:00:00\",\"2001-07-10T00:00:00\",\"2001-07-11T00:00:00\",\"2001-07-12T00:00:00\",\"2001-07-13T00:00:00\",\"2001-07-14T00:00:00\",\"2001-07-15T00:00:00\",\"2001-07-16T00:00:00\",\"2001-07-17T00:00:00\",\"2001-07-18T00:00:00\",\"2001-07-19T00:00:00\",\"2001-07-20T00:00:00\",\"2001-07-21T00:00:00\",\"2001-07-22T00:00:00\",\"2001-07-23T00:00:00\",\"2001-07-24T00:00:00\",\"2001-07-25T00:00:00\",\"2001-07-26T00:00:00\",\"2001-07-27T00:00:00\",\"2001-07-28T00:00:00\",\"2001-07-29T00:00:00\",\"2001-07-30T00:00:00\",\"2001-07-31T00:00:00\",\"2001-08-01T00:00:00\",\"2001-08-02T00:00:00\",\"2001-08-03T00:00:00\",\"2001-08-04T00:00:00\",\"2001-08-05T00:00:00\",\"2001-08-06T00:00:00\",\"2001-08-07T00:00:00\",\"2001-08-08T00:00:00\",\"2001-08-09T00:00:00\",\"2001-08-10T00:00:00\",\"2001-08-11T00:00:00\",\"2001-08-12T00:00:00\",\"2001-08-13T00:00:00\",\"2001-08-14T00:00:00\",\"2001-08-15T00:00:00\",\"2001-08-16T00:00:00\",\"2001-08-17T00:00:00\",\"2001-08-18T00:00:00\",\"2001-08-19T00:00:00\",\"2001-08-20T00:00:00\",\"2001-08-21T00:00:00\",\"2001-08-22T00:00:00\",\"2001-08-23T00:00:00\",\"2001-08-24T00:00:00\",\"2001-08-25T00:00:00\",\"2001-08-26T00:00:00\",\"2001-08-27T00:00:00\",\"2001-08-28T00:00:00\",\"2001-08-29T00:00:00\",\"2001-08-30T00:00:00\",\"2001-08-31T00:00:00\",\"2001-09-01T00:00:00\",\"2001-09-02T00:00:00\",\"2001-09-03T00:00:00\",\"2001-09-04T00:00:00\",\"2001-09-05T00:00:00\",\"2001-09-06T00:00:00\",\"2001-09-07T00:00:00\",\"2001-09-08T00:00:00\",\"2001-09-09T00:00:00\",\"2001-09-10T00:00:00\",\"2001-09-11T00:00:00\",\"2001-09-12T00:00:00\",\"2001-09-13T00:00:00\",\"2001-09-14T00:00:00\",\"2001-09-15T00:00:00\",\"2001-09-16T00:00:00\",\"2001-09-17T00:00:00\",\"2001-09-18T00:00:00\",\"2001-09-19T00:00:00\",\"2001-09-20T00:00:00\",\"2001-09-21T00:00:00\",\"2001-09-22T00:00:00\",\"2001-09-23T00:00:00\",\"2001-09-24T00:00:00\",\"2001-09-25T00:00:00\",\"2001-09-26T00:00:00\",\"2001-09-27T00:00:00\",\"2001-09-28T00:00:00\",\"2001-09-29T00:00:00\",\"2001-09-30T00:00:00\",\"2001-10-01T00:00:00\",\"2001-10-02T00:00:00\",\"2001-10-03T00:00:00\",\"2001-10-04T00:00:00\",\"2001-10-05T00:00:00\",\"2001-10-06T00:00:00\",\"2001-10-07T00:00:00\",\"2001-10-08T00:00:00\",\"2001-10-09T00:00:00\",\"2001-10-10T00:00:00\",\"2001-10-11T00:00:00\",\"2001-10-12T00:00:00\",\"2001-10-13T00:00:00\",\"2001-10-14T00:00:00\",\"2001-10-15T00:00:00\",\"2001-10-16T00:00:00\",\"2001-10-17T00:00:00\",\"2001-10-18T00:00:00\",\"2001-10-19T00:00:00\",\"2001-10-20T00:00:00\",\"2001-10-21T00:00:00\",\"2001-10-22T00:00:00\",\"2001-10-23T00:00:00\",\"2001-10-24T00:00:00\",\"2001-10-25T00:00:00\",\"2001-10-26T00:00:00\",\"2001-10-27T00:00:00\",\"2001-10-28T00:00:00\",\"2001-10-29T00:00:00\",\"2001-10-30T00:00:00\",\"2001-10-31T00:00:00\",\"2001-11-01T00:00:00\",\"2001-11-02T00:00:00\",\"2001-11-03T00:00:00\",\"2001-11-04T00:00:00\",\"2001-11-05T00:00:00\",\"2001-11-06T00:00:00\",\"2001-11-07T00:00:00\",\"2001-11-08T00:00:00\",\"2001-11-09T00:00:00\",\"2001-11-10T00:00:00\",\"2001-11-11T00:00:00\",\"2001-11-12T00:00:00\",\"2001-11-13T00:00:00\",\"2001-11-14T00:00:00\",\"2001-11-15T00:00:00\",\"2001-11-16T00:00:00\",\"2001-11-17T00:00:00\",\"2001-11-18T00:00:00\",\"2001-11-19T00:00:00\",\"2001-11-20T00:00:00\",\"2001-11-21T00:00:00\",\"2001-11-22T00:00:00\",\"2001-11-23T00:00:00\",\"2001-11-24T00:00:00\",\"2001-11-25T00:00:00\",\"2001-11-26T00:00:00\",\"2001-11-27T00:00:00\",\"2001-11-28T00:00:00\",\"2001-11-29T00:00:00\",\"2001-11-30T00:00:00\",\"2001-12-01T00:00:00\",\"2001-12-02T00:00:00\",\"2001-12-03T00:00:00\",\"2001-12-04T00:00:00\",\"2001-12-05T00:00:00\",\"2001-12-06T00:00:00\",\"2001-12-07T00:00:00\",\"2001-12-08T00:00:00\",\"2001-12-09T00:00:00\",\"2001-12-10T00:00:00\",\"2001-12-11T00:00:00\",\"2001-12-12T00:00:00\",\"2001-12-13T00:00:00\",\"2001-12-14T00:00:00\",\"2001-12-15T00:00:00\",\"2001-12-16T00:00:00\",\"2001-12-17T00:00:00\",\"2001-12-18T00:00:00\",\"2001-12-19T00:00:00\",\"2001-12-20T00:00:00\",\"2001-12-21T00:00:00\",\"2001-12-22T00:00:00\",\"2001-12-23T00:00:00\",\"2001-12-24T00:00:00\",\"2001-12-25T00:00:00\",\"2001-12-26T00:00:00\",\"2001-12-27T00:00:00\",\"2001-12-28T00:00:00\",\"2001-12-29T00:00:00\",\"2001-12-30T00:00:00\",\"2001-12-31T00:00:00\",\"2002-01-01T00:00:00\",\"2002-01-02T00:00:00\",\"2002-01-03T00:00:00\",\"2002-01-04T00:00:00\",\"2002-01-05T00:00:00\",\"2002-01-06T00:00:00\",\"2002-01-07T00:00:00\",\"2002-01-08T00:00:00\",\"2002-01-09T00:00:00\",\"2002-01-10T00:00:00\",\"2002-01-11T00:00:00\",\"2002-01-12T00:00:00\",\"2002-01-13T00:00:00\",\"2002-01-14T00:00:00\",\"2002-01-15T00:00:00\",\"2002-01-16T00:00:00\",\"2002-01-17T00:00:00\",\"2002-01-18T00:00:00\",\"2002-01-19T00:00:00\",\"2002-01-20T00:00:00\",\"2002-01-21T00:00:00\",\"2002-01-22T00:00:00\",\"2002-01-23T00:00:00\",\"2002-01-24T00:00:00\",\"2002-01-25T00:00:00\",\"2002-01-26T00:00:00\",\"2002-01-27T00:00:00\",\"2002-01-28T00:00:00\",\"2002-01-29T00:00:00\",\"2002-01-30T00:00:00\",\"2002-01-31T00:00:00\",\"2002-02-01T00:00:00\",\"2002-02-02T00:00:00\",\"2002-02-03T00:00:00\",\"2002-02-04T00:00:00\",\"2002-02-05T00:00:00\",\"2002-02-06T00:00:00\",\"2002-02-07T00:00:00\",\"2002-02-08T00:00:00\",\"2002-02-09T00:00:00\",\"2002-02-10T00:00:00\",\"2002-02-11T00:00:00\",\"2002-02-12T00:00:00\",\"2002-02-13T00:00:00\",\"2002-02-14T00:00:00\",\"2002-02-15T00:00:00\",\"2002-02-16T00:00:00\",\"2002-02-17T00:00:00\",\"2002-02-18T00:00:00\",\"2002-02-19T00:00:00\",\"2002-02-20T00:00:00\",\"2002-02-21T00:00:00\",\"2002-02-22T00:00:00\",\"2002-02-23T00:00:00\",\"2002-02-24T00:00:00\",\"2002-02-25T00:00:00\",\"2002-02-26T00:00:00\",\"2002-02-27T00:00:00\",\"2002-02-28T00:00:00\",\"2002-03-01T00:00:00\",\"2002-03-02T00:00:00\",\"2002-03-03T00:00:00\",\"2002-03-04T00:00:00\",\"2002-03-05T00:00:00\",\"2002-03-06T00:00:00\",\"2002-03-07T00:00:00\",\"2002-03-08T00:00:00\",\"2002-03-09T00:00:00\",\"2002-03-10T00:00:00\",\"2002-03-11T00:00:00\",\"2002-03-12T00:00:00\",\"2002-03-13T00:00:00\",\"2002-03-14T00:00:00\",\"2002-03-15T00:00:00\",\"2002-03-16T00:00:00\",\"2002-03-17T00:00:00\",\"2002-03-18T00:00:00\",\"2002-03-19T00:00:00\",\"2002-03-20T00:00:00\",\"2002-03-21T00:00:00\",\"2002-03-22T00:00:00\",\"2002-03-23T00:00:00\",\"2002-03-24T00:00:00\",\"2002-03-25T00:00:00\",\"2002-03-26T00:00:00\",\"2002-03-27T00:00:00\",\"2002-03-28T00:00:00\",\"2002-03-29T00:00:00\",\"2002-03-30T00:00:00\",\"2002-03-31T00:00:00\",\"2002-04-01T00:00:00\",\"2002-04-02T00:00:00\",\"2002-04-03T00:00:00\",\"2002-04-04T00:00:00\",\"2002-04-05T00:00:00\",\"2002-04-06T00:00:00\",\"2002-04-07T00:00:00\",\"2002-04-08T00:00:00\",\"2002-04-09T00:00:00\",\"2002-04-10T00:00:00\",\"2002-04-11T00:00:00\",\"2002-04-12T00:00:00\",\"2002-04-13T00:00:00\",\"2002-04-14T00:00:00\",\"2002-04-15T00:00:00\",\"2002-04-16T00:00:00\",\"2002-04-17T00:00:00\",\"2002-04-18T00:00:00\",\"2002-04-19T00:00:00\",\"2002-04-20T00:00:00\",\"2002-04-21T00:00:00\",\"2002-04-22T00:00:00\",\"2002-04-23T00:00:00\",\"2002-04-24T00:00:00\",\"2002-04-25T00:00:00\",\"2002-04-26T00:00:00\",\"2002-04-27T00:00:00\",\"2002-04-28T00:00:00\",\"2002-04-29T00:00:00\",\"2002-04-30T00:00:00\",\"2002-05-01T00:00:00\",\"2002-05-02T00:00:00\",\"2002-05-03T00:00:00\",\"2002-05-04T00:00:00\",\"2002-05-05T00:00:00\",\"2002-05-06T00:00:00\",\"2002-05-07T00:00:00\",\"2002-05-08T00:00:00\",\"2002-05-09T00:00:00\",\"2002-05-10T00:00:00\",\"2002-05-11T00:00:00\",\"2002-05-12T00:00:00\",\"2002-05-13T00:00:00\",\"2002-05-14T00:00:00\",\"2002-05-15T00:00:00\",\"2002-05-16T00:00:00\",\"2002-05-17T00:00:00\",\"2002-05-18T00:00:00\",\"2002-05-19T00:00:00\",\"2002-05-20T00:00:00\",\"2002-05-21T00:00:00\",\"2002-05-22T00:00:00\",\"2002-05-23T00:00:00\",\"2002-05-24T00:00:00\",\"2002-05-25T00:00:00\",\"2002-05-26T00:00:00\",\"2002-05-27T00:00:00\",\"2002-05-28T00:00:00\",\"2002-05-29T00:00:00\",\"2002-05-30T00:00:00\",\"2002-05-31T00:00:00\",\"2002-06-01T00:00:00\",\"2002-06-02T00:00:00\",\"2002-06-03T00:00:00\",\"2002-06-04T00:00:00\",\"2002-06-05T00:00:00\",\"2002-06-06T00:00:00\",\"2002-06-07T00:00:00\",\"2002-06-08T00:00:00\",\"2002-06-09T00:00:00\",\"2002-06-10T00:00:00\",\"2002-06-11T00:00:00\",\"2002-06-12T00:00:00\",\"2002-06-13T00:00:00\",\"2002-06-14T00:00:00\",\"2002-06-15T00:00:00\",\"2002-06-16T00:00:00\",\"2002-06-17T00:00:00\",\"2002-06-18T00:00:00\",\"2002-06-19T00:00:00\",\"2002-06-20T00:00:00\",\"2002-06-21T00:00:00\",\"2002-06-22T00:00:00\",\"2002-06-23T00:00:00\",\"2002-06-24T00:00:00\",\"2002-06-25T00:00:00\",\"2002-06-26T00:00:00\",\"2002-06-27T00:00:00\",\"2002-06-28T00:00:00\",\"2002-06-29T00:00:00\",\"2002-06-30T00:00:00\",\"2002-07-01T00:00:00\",\"2002-07-02T00:00:00\",\"2002-07-03T00:00:00\",\"2002-07-04T00:00:00\",\"2002-07-05T00:00:00\",\"2002-07-06T00:00:00\",\"2002-07-07T00:00:00\",\"2002-07-08T00:00:00\",\"2002-07-09T00:00:00\",\"2002-07-10T00:00:00\",\"2002-07-11T00:00:00\",\"2002-07-12T00:00:00\",\"2002-07-13T00:00:00\",\"2002-07-14T00:00:00\",\"2002-07-15T00:00:00\",\"2002-07-16T00:00:00\",\"2002-07-17T00:00:00\",\"2002-07-18T00:00:00\",\"2002-07-19T00:00:00\",\"2002-07-20T00:00:00\",\"2002-07-21T00:00:00\",\"2002-07-22T00:00:00\",\"2002-07-23T00:00:00\",\"2002-07-24T00:00:00\",\"2002-07-25T00:00:00\",\"2002-07-26T00:00:00\",\"2002-07-27T00:00:00\",\"2002-07-28T00:00:00\",\"2002-07-29T00:00:00\",\"2002-07-30T00:00:00\",\"2002-07-31T00:00:00\",\"2002-08-01T00:00:00\",\"2002-08-02T00:00:00\",\"2002-08-03T00:00:00\",\"2002-08-04T00:00:00\",\"2002-08-05T00:00:00\",\"2002-08-06T00:00:00\",\"2002-08-07T00:00:00\",\"2002-08-08T00:00:00\",\"2002-08-09T00:00:00\",\"2002-08-10T00:00:00\",\"2002-08-11T00:00:00\",\"2002-08-12T00:00:00\",\"2002-08-13T00:00:00\",\"2002-08-14T00:00:00\",\"2002-08-15T00:00:00\",\"2002-08-16T00:00:00\",\"2002-08-17T00:00:00\",\"2002-08-18T00:00:00\",\"2002-08-19T00:00:00\",\"2002-08-20T00:00:00\",\"2002-08-21T00:00:00\",\"2002-08-22T00:00:00\",\"2002-08-23T00:00:00\",\"2002-08-24T00:00:00\",\"2002-08-25T00:00:00\",\"2002-08-26T00:00:00\",\"2002-08-27T00:00:00\",\"2002-08-28T00:00:00\",\"2002-08-29T00:00:00\",\"2002-08-30T00:00:00\",\"2002-08-31T00:00:00\",\"2002-09-01T00:00:00\",\"2002-09-02T00:00:00\",\"2002-09-03T00:00:00\",\"2002-09-04T00:00:00\",\"2002-09-05T00:00:00\",\"2002-09-06T00:00:00\",\"2002-09-07T00:00:00\",\"2002-09-08T00:00:00\",\"2002-09-09T00:00:00\",\"2002-09-10T00:00:00\",\"2002-09-11T00:00:00\",\"2002-09-12T00:00:00\",\"2002-09-13T00:00:00\",\"2002-09-14T00:00:00\",\"2002-09-15T00:00:00\",\"2002-09-16T00:00:00\",\"2002-09-17T00:00:00\",\"2002-09-18T00:00:00\",\"2002-09-19T00:00:00\",\"2002-09-20T00:00:00\",\"2002-09-21T00:00:00\",\"2002-09-22T00:00:00\",\"2002-09-23T00:00:00\",\"2002-09-24T00:00:00\",\"2002-09-25T00:00:00\",\"2002-09-26T00:00:00\"],\"xaxis\":\"x\",\"y\":[-0.04403602125476212,-0.04403602125476212,-0.04403602125476212,0.7251877170671601,0.7251877170671601,1.532571943393195,1.532571943393195,1.532571943393195,1.532571943393195,1.532571943393195,1.532571943393195,1.532571943393195,1.532571943393195,1.532571943393195,1.532571943393195,1.532571943393195,1.6184773421836938,1.6184773421836938,1.7451590221933748,2.0135882745760827,2.0135882745760827,2.0135882745760827,2.0135882745760827,2.0135882745760827,2.0135882745760827,2.0135882745760827,2.0135882745760827,2.0135882745760827,2.0135882745760827,2.0135882745760827,2.0135882745760827,2.0135882745760827,2.0135882745760827,2.0135882745760827,2.0135882745760827,2.0135882745760827,2.0135882745760827,2.0135882745760827,2.0135882745760827,2.0135882745760827,2.0135882745760827,2.0135882745760827,2.0135882745760827,2.0135882745760827,2.0135882745760827,2.0135882745760827,2.0135882745760827,2.0135882745760827,2.0135882745760827,2.0135882745760827,2.0135882745760827,2.0135882745760827,2.0135882745760827,2.0135882745760827,2.0135882745760827,2.0135882745760827,2.0135882745760827,2.0135882745760827,2.0135882745760827,2.0135882745760827,2.0135882745760827,2.0135882745760827,2.0135882745760827,2.0135882745760827,2.0135882745760827,2.0135882745760827,2.0135882745760827,2.0135882745760827,2.0135882745760827,2.0135882745760827,2.0135882745760827,2.048590115424654,2.048590115424654,2.048590115424654,2.048590115424654,2.048590115424654,2.048590115424654,2.048590115424654,2.048590115424654,2.048590115424654,2.048590115424654,2.048590115424654,2.048590115424654,2.048590115424654,2.048590115424654,2.048590115424654,2.048590115424654,2.048590115424654,2.048590115424654,2.048590115424654,2.048590115424654,2.048590115424654,2.048590115424654,2.048590115424654,2.3612785572306687,2.3612785572306687,2.3612785572306687,2.3612785572306687,2.3612785572306687,2.3612785572306687,2.3612785572306687,2.3612785572306687,2.3612785572306687,2.3612785572306687,2.3612785572306687,2.3612785572306687,2.3612785572306687,2.3612785572306687,2.3612785572306687,2.3612785572306687,2.3612785572306687,2.3612785572306687,2.3612785572306687,2.3612785572306687,2.3612785572306687,2.3612785572306687,2.3612785572306687,2.3612785572306687,2.3612785572306687,2.3612785572306687,2.3612785572306687,2.3612785572306687,2.3612785572306687,2.3612785572306687,2.3612785572306687,2.3612785572306687,2.3612785572306687,2.3612785572306687,2.3612785572306687,2.3612785572306687,2.3612785572306687,2.3612785572306687,2.3612785572306687,2.3612785572306687,2.3612785572306687,2.3612785572306687,2.3612785572306687,2.3612785572306687,2.3612785572306687,2.3612785572306687,2.3612785572306687,2.3612785572306687,2.3612785572306687,2.3612785572306687,2.3612785572306687,2.3612785572306687,2.3612785572306687,2.3612785572306687,2.3612785572306687,2.3612785572306687,2.3612785572306687,2.3612785572306687,2.3612785572306687,2.3612785572306687,2.3612785572306687,2.3612785572306687,2.3612785572306687,2.3612785572306687,2.3612785572306687,2.3612785572306687,2.3612785572306687,2.3612785572306687,2.3612785572306687,2.3612785572306687,2.3612785572306687,2.3612785572306687,2.3612785572306687,2.3612785572306687,2.3612785572306687,2.3612785572306687,2.3612785572306687,2.3612785572306687,2.3612785572306687,2.3612785572306687,2.3612785572306687,2.3612785572306687,2.3612785572306687,2.3612785572306687,2.3612785572306687,2.3612785572306687,2.3612785572306687,2.3612785572306687,2.3612785572306687,2.3612785572306687,2.3612785572306687,2.3612785572306687,2.3612785572306687,2.3612785572306687,2.3612785572306687,2.3612785572306687,2.3612785572306687,2.3612785572306687,2.3612785572306687,2.3612785572306687,2.3612785572306687,2.3612785572306687,2.3612785572306687,2.3612785572306687,2.3612785572306687,2.3612785572306687,2.3612785572306687,2.533771116633176,2.533771116633176,2.533771116633176,2.533771116633176,2.533771116633176,2.533771116633176,2.533771116633176,2.533771116633176,2.533771116633176,2.533771116633176,2.533771116633176,2.533771116633176,2.533771116633176,2.533771116633176,2.533771116633176,2.533771116633176,2.533771116633176,2.533771116633176,2.533771116633176,2.533771116633176,2.533771116633176,2.533771116633176,2.533771116633176,2.533771116633176,2.533771116633176,2.533771116633176,2.533771116633176,2.533771116633176,2.533771116633176,2.533771116633176,2.533771116633176,2.533771116633176,2.533771116633176,2.533771116633176,2.533771116633176,2.533771116633176,2.533771116633176,2.533771116633176,2.533771116633176,2.533771116633176,2.533771116633176,2.533771116633176,2.533771116633176,2.533771116633176,2.533771116633176,2.533771116633176,2.533771116633176,2.533771116633176,2.533771116633176,2.533771116633176,2.533771116633176,2.533771116633176,2.533771116633176,2.533771116633176,2.533771116633176,2.533771116633176,2.533771116633176,2.533771116633176,2.533771116633176,2.533771116633176,2.533771116633176,2.7574151048686906,2.7574151048686906,2.7574151048686906,2.7574151048686906,2.7574151048686906,2.7574151048686906,2.7574151048686906,2.7574151048686906,2.7574151048686906,2.7574151048686906,2.7574151048686906,2.7574151048686906,2.7574151048686906,2.7574151048686906,2.7574151048686906,2.7574151048686906,2.7574151048686906,2.7574151048686906,2.7574151048686906,2.7574151048686906,2.7574151048686906,2.7574151048686906,2.7574151048686906,2.7574151048686906,2.7574151048686906,2.7574151048686906,2.7574151048686906,2.7574151048686906,2.7574151048686906,2.7574151048686906,2.7856130128273002,2.7856130128273002,2.7856130128273002,2.7856130128273002,2.7856130128273002,2.7856130128273002,2.7856130128273002,2.7856130128273002,2.7856130128273002,2.7856130128273002,2.7856130128273002,2.7856130128273002,2.7856130128273002,2.7856130128273002,2.7856130128273002,2.7856130128273002,2.7856130128273002,2.7856130128273002,2.7856130128273002,2.7856130128273002,2.7856130128273002,2.7856130128273002,2.7856130128273002,2.7856130128273002,2.7856130128273002,2.7856130128273002,2.7856130128273002,2.7856130128273002,2.7856130128273002,2.7856130128273002,2.7856130128273002,2.7856130128273002,2.7856130128273002,2.7856130128273002,2.7856130128273002,2.7856130128273002,2.7856130128273002,2.7856130128273002,2.7856130128273002,2.7856130128273002,2.7856130128273002,2.7856130128273002,2.7856130128273002,2.7856130128273002,2.7856130128273002,2.7856130128273002,2.7856130128273002,2.7856130128273002,2.7856130128273002,2.7856130128273002,2.7856130128273002,2.7856130128273002,2.7856130128273002,2.7856130128273002,2.7856130128273002,2.7856130128273002,2.7856130128273002,2.7856130128273002,2.7856130128273002,2.7856130128273002,2.7856130128273002,2.7856130128273002,2.7856130128273002,2.7856130128273002,2.7856130128273002,2.7856130128273002,2.7856130128273002,2.7856130128273002,2.7856130128273002,2.7856130128273002,2.7856130128273002,2.7856130128273002,2.7856130128273002,2.7856130128273002,2.7856130128273002,2.7856130128273002,2.7856130128273002,2.7856130128273002,2.7856130128273002,2.7856130128273002,2.7856130128273002,2.7856130128273002,2.7856130128273002,2.7856130128273002,2.7856130128273002,2.7856130128273002,2.7856130128273002,2.7856130128273002,2.7856130128273002,2.7856130128273002,2.7856130128273002,2.7856130128273002,2.7856130128273002,2.7856130128273002,2.7856130128273002,2.7856130128273002,2.7856130128273002,2.7856130128273002,2.7856130128273002,2.7856130128273002,2.7856130128273002,2.7856130128273002,2.7856130128273002,2.7856130128273002,2.7856130128273002,2.7856130128273002,2.7856130128273002,2.7856130128273002,2.7856130128273002,2.7856130128273002,2.7856130128273002,3.185025150796501,3.185025150796501,3.185025150796501,3.185025150796501,3.185025150796501,3.185025150796501,3.185025150796501,3.185025150796501,3.185025150796501,3.185025150796501,3.185025150796501,3.185025150796501,3.185025150796501,3.185025150796501,3.185025150796501,3.185025150796501,3.185025150796501,3.185025150796501,3.185025150796501,3.185025150796501,3.185025150796501,3.185025150796501,3.185025150796501,3.185025150796501,3.185025150796501,3.185025150796501,3.185025150796501,3.185025150796501,3.185025150796501,3.185025150796501,3.185025150796501,3.185025150796501,3.185025150796501,3.185025150796501,3.185025150796501,3.185025150796501,3.185025150796501,3.185025150796501,3.185025150796501,3.185025150796501,3.185025150796501,3.185025150796501,3.185025150796501,3.185025150796501,3.185025150796501,3.185025150796501,3.185025150796501,3.185025150796501,3.185025150796501,3.185025150796501,3.185025150796501,3.185025150796501,3.185025150796501,3.185025150796501,3.185025150796501,3.185025150796501,3.185025150796501,3.185025150796501,3.185025150796501,3.185025150796501,3.185025150796501,3.185025150796501,3.185025150796501,3.185025150796501,3.185025150796501,3.185025150796501,3.185025150796501,3.185025150796501,3.185025150796501,3.185025150796501,3.185025150796501,3.185025150796501,3.185025150796501,3.185025150796501,3.185025150796501,3.185025150796501,3.185025150796501,3.185025150796501,3.185025150796501,3.185025150796501,3.185025150796501,3.185025150796501,3.185025150796501,3.185025150796501,3.185025150796501,3.185025150796501,3.185025150796501,3.185025150796501,3.185025150796501,3.185025150796501,3.185025150796501,3.185025150796501,3.185025150796501,3.185025150796501,3.185025150796501,3.185025150796501,3.185025150796501,3.185025150796501,3.185025150796501,3.185025150796501,3.185025150796501,3.185025150796501,3.185025150796501,3.185025150796501,3.185025150796501,3.185025150796501,3.185025150796501,3.185025150796501,3.185025150796501,3.185025150796501,3.185025150796501,3.185025150796501,3.185025150796501,3.185025150796501,3.185025150796501,3.185025150796501,3.185025150796501,3.185025150796501,3.185025150796501,3.185025150796501,3.185025150796501,3.185025150796501,3.185025150796501,3.185025150796501,3.185025150796501,3.185025150796501,3.185025150796501,3.185025150796501,3.185025150796501,3.185025150796501,3.185025150796501,3.185025150796501,3.185025150796501,3.185025150796501,3.185025150796501,3.185025150796501,3.185025150796501,3.185025150796501,3.185025150796501,3.185025150796501,3.185025150796501,3.185025150796501,3.185025150796501,3.185025150796501,3.185025150796501,3.185025150796501,3.185025150796501,3.185025150796501,3.185025150796501,3.185025150796501,3.185025150796501,3.185025150796501,3.185025150796501,3.185025150796501,3.185025150796501,3.185025150796501,3.185025150796501,3.185025150796501,3.185025150796501,3.185025150796501,3.185025150796501,3.185025150796501,3.185025150796501,3.185025150796501,3.185025150796501,3.185025150796501,3.185025150796501,3.185025150796501,3.185025150796501,3.185025150796501,3.185025150796501,3.185025150796501,3.185025150796501,3.185025150796501,3.185025150796501,3.185025150796501,3.185025150796501,3.185025150796501,3.185025150796501,3.185025150796501,3.185025150796501,3.185025150796501,3.185025150796501,3.185025150796501,3.185025150796501,3.185025150796501,3.185025150796501,3.185025150796501,3.185025150796501,3.185025150796501,3.185025150796501,3.185025150796501,3.185025150796501,3.185025150796501,3.185025150796501,3.185025150796501,3.185025150796501,3.185025150796501,3.185025150796501,3.185025150796501,3.185025150796501,3.185025150796501,3.185025150796501,3.185025150796501,3.185025150796501,3.185025150796501,3.185025150796501,3.185025150796501,3.185025150796501,3.185025150796501,3.185025150796501,3.185025150796501,3.185025150796501,3.185025150796501,3.185025150796501,3.185025150796501,3.185025150796501,3.185025150796501,3.185025150796501,3.185025150796501,3.185025150796501,3.185025150796501,3.185025150796501,3.185025150796501,3.185025150796501,3.185025150796501,3.185025150796501,3.185025150796501,3.185025150796501,3.185025150796501,3.185025150796501,3.185025150796501,3.185025150796501,3.185025150796501,3.185025150796501,3.185025150796501,3.185025150796501,3.185025150796501,3.185025150796501,3.185025150796501,3.185025150796501,3.185025150796501,3.185025150796501,3.185025150796501,3.185025150796501,3.185025150796501,3.185025150796501,3.185025150796501,3.185025150796501,3.185025150796501,3.185025150796501,3.185025150796501,3.185025150796501,3.185025150796501,3.185025150796501,3.185025150796501,3.185025150796501,3.185025150796501,3.185025150796501,3.185025150796501,3.185025150796501,3.185025150796501,3.185025150796501,3.185025150796501,3.185025150796501,3.185025150796501,3.185025150796501,3.185025150796501,3.185025150796501,3.185025150796501,3.185025150796501,3.185025150796501,3.185025150796501,3.185025150796501,3.185025150796501,3.185025150796501,3.185025150796501,3.185025150796501,3.185025150796501,3.185025150796501,3.185025150796501,3.185025150796501,3.185025150796501,3.185025150796501,3.185025150796501,3.185025150796501,3.185025150796501,3.185025150796501,3.185025150796501,3.185025150796501,3.185025150796501,3.185025150796501,3.185025150796501,3.185025150796501,3.185025150796501,3.185025150796501,3.185025150796501,3.185025150796501,3.185025150796501,3.185025150796501,3.185025150796501,3.185025150796501,3.185025150796501,3.185025150796501,3.185025150796501,3.185025150796501,3.185025150796501,3.185025150796501,3.185025150796501,3.185025150796501,3.185025150796501,3.185025150796501,3.185025150796501,3.185025150796501,3.185025150796501,3.185025150796501,3.185025150796501,3.185025150796501,3.185025150796501,3.185025150796501,3.185025150796501,3.185025150796501,3.185025150796501,3.185025150796501,3.185025150796501,3.185025150796501,3.185025150796501,3.185025150796501,3.185025150796501,3.185025150796501,3.185025150796501,3.185025150796501,3.185025150796501,3.185025150796501,3.185025150796501,3.185025150796501,3.185025150796501,3.185025150796501,3.185025150796501,3.185025150796501,3.185025150796501,3.185025150796501,3.185025150796501,3.185025150796501,3.185025150796501,3.185025150796501,3.185025150796501,3.185025150796501,3.185025150796501,3.185025150796501,3.185025150796501,3.185025150796501,3.185025150796501,3.185025150796501,3.185025150796501,3.185025150796501,3.185025150796501,3.185025150796501,3.185025150796501,3.185025150796501,3.185025150796501,3.185025150796501,3.185025150796501,3.185025150796501,3.185025150796501,3.185025150796501,3.185025150796501,3.185025150796501,3.185025150796501,3.185025150796501,3.185025150796501,3.185025150796501,3.185025150796501,3.185025150796501,3.185025150796501,3.185025150796501,3.185025150796501,3.185025150796501,3.185025150796501,3.185025150796501,3.185025150796501,3.185025150796501,3.185025150796501,3.185025150796501,3.185025150796501,3.185025150796501,3.185025150796501,3.185025150796501,3.185025150796501,3.185025150796501,3.185025150796501,3.185025150796501,3.185025150796501,3.185025150796501,3.185025150796501,3.185025150796501,3.185025150796501,3.185025150796501,3.185025150796501,3.185025150796501,3.185025150796501,3.185025150796501,3.185025150796501,3.185025150796501,3.185025150796501,3.185025150796501,3.185025150796501,3.185025150796501,3.185025150796501,3.185025150796501,3.185025150796501,3.185025150796501,3.185025150796501,3.185025150796501,3.185025150796501,3.185025150796501,3.185025150796501,3.185025150796501,3.185025150796501,3.185025150796501,3.185025150796501,3.185025150796501,3.185025150796501,3.185025150796501,3.185025150796501,3.185025150796501,3.185025150796501,3.185025150796501,3.185025150796501,3.185025150796501,3.185025150796501,3.185025150796501,3.185025150796501,3.185025150796501,3.185025150796501,3.185025150796501,3.185025150796501,3.185025150796501,3.185025150796501,3.185025150796501,3.185025150796501,3.185025150796501,3.185025150796501,3.185025150796501,3.185025150796501,3.185025150796501,3.185025150796501,3.185025150796501,3.185025150796501,3.185025150796501,3.185025150796501,3.185025150796501,3.185025150796501,3.185025150796501,3.185025150796501,3.185025150796501,3.185025150796501,3.185025150796501,3.185025150796501,3.185025150796501,3.185025150796501,3.185025150796501,3.185025150796501,3.185025150796501,3.185025150796501,3.185025150796501,3.185025150796501,3.185025150796501,3.185025150796501,3.185025150796501,3.185025150796501,3.185025150796501,3.185025150796501,3.185025150796501,3.185025150796501,3.185025150796501,3.185025150796501,3.185025150796501,3.185025150796501,3.185025150796501,3.185025150796501,3.185025150796501,3.185025150796501,3.185025150796501,3.185025150796501,3.185025150796501,3.185025150796501,3.185025150796501,3.185025150796501,3.185025150796501,3.185025150796501,3.185025150796501,3.185025150796501,3.185025150796501,3.185025150796501,3.185025150796501,3.185025150796501,3.185025150796501,3.185025150796501,3.185025150796501,3.185025150796501,3.185025150796501,3.185025150796501,3.185025150796501,3.185025150796501,3.185025150796501,3.185025150796501,3.185025150796501,3.185025150796501,3.185025150796501,3.185025150796501,3.185025150796501,3.185025150796501,3.185025150796501,3.185025150796501,3.185025150796501,3.185025150796501,3.185025150796501,3.185025150796501,3.185025150796501,3.185025150796501,3.185025150796501,3.185025150796501,3.185025150796501,3.185025150796501,3.185025150796501,3.185025150796501,3.185025150796501,3.185025150796501,3.185025150796501,3.185025150796501,3.185025150796501,3.185025150796501,3.185025150796501,3.185025150796501,3.185025150796501,3.185025150796501,3.185025150796501,3.185025150796501,3.185025150796501,3.185025150796501,3.185025150796501,3.185025150796501,3.185025150796501,3.185025150796501,3.185025150796501,3.185025150796501,3.185025150796501,3.185025150796501,3.185025150796501,3.185025150796501,3.185025150796501,3.185025150796501,3.185025150796501,3.185025150796501,3.185025150796501,3.185025150796501,3.185025150796501,3.185025150796501,3.185025150796501,3.185025150796501,3.185025150796501,3.185025150796501,3.185025150796501,3.185025150796501,3.185025150796501,3.185025150796501,3.185025150796501,3.185025150796501,3.185025150796501,3.185025150796501,3.185025150796501,3.185025150796501,3.185025150796501,3.185025150796501,3.185025150796501,3.185025150796501,3.185025150796501,3.185025150796501,3.185025150796501,3.185025150796501,3.185025150796501,3.185025150796501,3.185025150796501,3.185025150796501,3.185025150796501,3.185025150796501,3.185025150796501,3.185025150796501,3.185025150796501,3.185025150796501,3.185025150796501,3.185025150796501,3.185025150796501,3.185025150796501,3.185025150796501,3.185025150796501],\"yaxis\":\"y\",\"type\":\"scattergl\"},{\"hovertemplate\":\"variable=B<br>index=%{x}<br>value=%{y}<extra></extra>\",\"legendgroup\":\"B\",\"line\":{\"color\":\"#EF553B\",\"dash\":\"solid\"},\"marker\":{\"symbol\":\"circle\"},\"mode\":\"lines\",\"name\":\"B\",\"showlegend\":true,\"x\":[\"2000-01-01T00:00:00\",\"2000-01-02T00:00:00\",\"2000-01-03T00:00:00\",\"2000-01-04T00:00:00\",\"2000-01-05T00:00:00\",\"2000-01-06T00:00:00\",\"2000-01-07T00:00:00\",\"2000-01-08T00:00:00\",\"2000-01-09T00:00:00\",\"2000-01-10T00:00:00\",\"2000-01-11T00:00:00\",\"2000-01-12T00:00:00\",\"2000-01-13T00:00:00\",\"2000-01-14T00:00:00\",\"2000-01-15T00:00:00\",\"2000-01-16T00:00:00\",\"2000-01-17T00:00:00\",\"2000-01-18T00:00:00\",\"2000-01-19T00:00:00\",\"2000-01-20T00:00:00\",\"2000-01-21T00:00:00\",\"2000-01-22T00:00:00\",\"2000-01-23T00:00:00\",\"2000-01-24T00:00:00\",\"2000-01-25T00:00:00\",\"2000-01-26T00:00:00\",\"2000-01-27T00:00:00\",\"2000-01-28T00:00:00\",\"2000-01-29T00:00:00\",\"2000-01-30T00:00:00\",\"2000-01-31T00:00:00\",\"2000-02-01T00:00:00\",\"2000-02-02T00:00:00\",\"2000-02-03T00:00:00\",\"2000-02-04T00:00:00\",\"2000-02-05T00:00:00\",\"2000-02-06T00:00:00\",\"2000-02-07T00:00:00\",\"2000-02-08T00:00:00\",\"2000-02-09T00:00:00\",\"2000-02-10T00:00:00\",\"2000-02-11T00:00:00\",\"2000-02-12T00:00:00\",\"2000-02-13T00:00:00\",\"2000-02-14T00:00:00\",\"2000-02-15T00:00:00\",\"2000-02-16T00:00:00\",\"2000-02-17T00:00:00\",\"2000-02-18T00:00:00\",\"2000-02-19T00:00:00\",\"2000-02-20T00:00:00\",\"2000-02-21T00:00:00\",\"2000-02-22T00:00:00\",\"2000-02-23T00:00:00\",\"2000-02-24T00:00:00\",\"2000-02-25T00:00:00\",\"2000-02-26T00:00:00\",\"2000-02-27T00:00:00\",\"2000-02-28T00:00:00\",\"2000-02-29T00:00:00\",\"2000-03-01T00:00:00\",\"2000-03-02T00:00:00\",\"2000-03-03T00:00:00\",\"2000-03-04T00:00:00\",\"2000-03-05T00:00:00\",\"2000-03-06T00:00:00\",\"2000-03-07T00:00:00\",\"2000-03-08T00:00:00\",\"2000-03-09T00:00:00\",\"2000-03-10T00:00:00\",\"2000-03-11T00:00:00\",\"2000-03-12T00:00:00\",\"2000-03-13T00:00:00\",\"2000-03-14T00:00:00\",\"2000-03-15T00:00:00\",\"2000-03-16T00:00:00\",\"2000-03-17T00:00:00\",\"2000-03-18T00:00:00\",\"2000-03-19T00:00:00\",\"2000-03-20T00:00:00\",\"2000-03-21T00:00:00\",\"2000-03-22T00:00:00\",\"2000-03-23T00:00:00\",\"2000-03-24T00:00:00\",\"2000-03-25T00:00:00\",\"2000-03-26T00:00:00\",\"2000-03-27T00:00:00\",\"2000-03-28T00:00:00\",\"2000-03-29T00:00:00\",\"2000-03-30T00:00:00\",\"2000-03-31T00:00:00\",\"2000-04-01T00:00:00\",\"2000-04-02T00:00:00\",\"2000-04-03T00:00:00\",\"2000-04-04T00:00:00\",\"2000-04-05T00:00:00\",\"2000-04-06T00:00:00\",\"2000-04-07T00:00:00\",\"2000-04-08T00:00:00\",\"2000-04-09T00:00:00\",\"2000-04-10T00:00:00\",\"2000-04-11T00:00:00\",\"2000-04-12T00:00:00\",\"2000-04-13T00:00:00\",\"2000-04-14T00:00:00\",\"2000-04-15T00:00:00\",\"2000-04-16T00:00:00\",\"2000-04-17T00:00:00\",\"2000-04-18T00:00:00\",\"2000-04-19T00:00:00\",\"2000-04-20T00:00:00\",\"2000-04-21T00:00:00\",\"2000-04-22T00:00:00\",\"2000-04-23T00:00:00\",\"2000-04-24T00:00:00\",\"2000-04-25T00:00:00\",\"2000-04-26T00:00:00\",\"2000-04-27T00:00:00\",\"2000-04-28T00:00:00\",\"2000-04-29T00:00:00\",\"2000-04-30T00:00:00\",\"2000-05-01T00:00:00\",\"2000-05-02T00:00:00\",\"2000-05-03T00:00:00\",\"2000-05-04T00:00:00\",\"2000-05-05T00:00:00\",\"2000-05-06T00:00:00\",\"2000-05-07T00:00:00\",\"2000-05-08T00:00:00\",\"2000-05-09T00:00:00\",\"2000-05-10T00:00:00\",\"2000-05-11T00:00:00\",\"2000-05-12T00:00:00\",\"2000-05-13T00:00:00\",\"2000-05-14T00:00:00\",\"2000-05-15T00:00:00\",\"2000-05-16T00:00:00\",\"2000-05-17T00:00:00\",\"2000-05-18T00:00:00\",\"2000-05-19T00:00:00\",\"2000-05-20T00:00:00\",\"2000-05-21T00:00:00\",\"2000-05-22T00:00:00\",\"2000-05-23T00:00:00\",\"2000-05-24T00:00:00\",\"2000-05-25T00:00:00\",\"2000-05-26T00:00:00\",\"2000-05-27T00:00:00\",\"2000-05-28T00:00:00\",\"2000-05-29T00:00:00\",\"2000-05-30T00:00:00\",\"2000-05-31T00:00:00\",\"2000-06-01T00:00:00\",\"2000-06-02T00:00:00\",\"2000-06-03T00:00:00\",\"2000-06-04T00:00:00\",\"2000-06-05T00:00:00\",\"2000-06-06T00:00:00\",\"2000-06-07T00:00:00\",\"2000-06-08T00:00:00\",\"2000-06-09T00:00:00\",\"2000-06-10T00:00:00\",\"2000-06-11T00:00:00\",\"2000-06-12T00:00:00\",\"2000-06-13T00:00:00\",\"2000-06-14T00:00:00\",\"2000-06-15T00:00:00\",\"2000-06-16T00:00:00\",\"2000-06-17T00:00:00\",\"2000-06-18T00:00:00\",\"2000-06-19T00:00:00\",\"2000-06-20T00:00:00\",\"2000-06-21T00:00:00\",\"2000-06-22T00:00:00\",\"2000-06-23T00:00:00\",\"2000-06-24T00:00:00\",\"2000-06-25T00:00:00\",\"2000-06-26T00:00:00\",\"2000-06-27T00:00:00\",\"2000-06-28T00:00:00\",\"2000-06-29T00:00:00\",\"2000-06-30T00:00:00\",\"2000-07-01T00:00:00\",\"2000-07-02T00:00:00\",\"2000-07-03T00:00:00\",\"2000-07-04T00:00:00\",\"2000-07-05T00:00:00\",\"2000-07-06T00:00:00\",\"2000-07-07T00:00:00\",\"2000-07-08T00:00:00\",\"2000-07-09T00:00:00\",\"2000-07-10T00:00:00\",\"2000-07-11T00:00:00\",\"2000-07-12T00:00:00\",\"2000-07-13T00:00:00\",\"2000-07-14T00:00:00\",\"2000-07-15T00:00:00\",\"2000-07-16T00:00:00\",\"2000-07-17T00:00:00\",\"2000-07-18T00:00:00\",\"2000-07-19T00:00:00\",\"2000-07-20T00:00:00\",\"2000-07-21T00:00:00\",\"2000-07-22T00:00:00\",\"2000-07-23T00:00:00\",\"2000-07-24T00:00:00\",\"2000-07-25T00:00:00\",\"2000-07-26T00:00:00\",\"2000-07-27T00:00:00\",\"2000-07-28T00:00:00\",\"2000-07-29T00:00:00\",\"2000-07-30T00:00:00\",\"2000-07-31T00:00:00\",\"2000-08-01T00:00:00\",\"2000-08-02T00:00:00\",\"2000-08-03T00:00:00\",\"2000-08-04T00:00:00\",\"2000-08-05T00:00:00\",\"2000-08-06T00:00:00\",\"2000-08-07T00:00:00\",\"2000-08-08T00:00:00\",\"2000-08-09T00:00:00\",\"2000-08-10T00:00:00\",\"2000-08-11T00:00:00\",\"2000-08-12T00:00:00\",\"2000-08-13T00:00:00\",\"2000-08-14T00:00:00\",\"2000-08-15T00:00:00\",\"2000-08-16T00:00:00\",\"2000-08-17T00:00:00\",\"2000-08-18T00:00:00\",\"2000-08-19T00:00:00\",\"2000-08-20T00:00:00\",\"2000-08-21T00:00:00\",\"2000-08-22T00:00:00\",\"2000-08-23T00:00:00\",\"2000-08-24T00:00:00\",\"2000-08-25T00:00:00\",\"2000-08-26T00:00:00\",\"2000-08-27T00:00:00\",\"2000-08-28T00:00:00\",\"2000-08-29T00:00:00\",\"2000-08-30T00:00:00\",\"2000-08-31T00:00:00\",\"2000-09-01T00:00:00\",\"2000-09-02T00:00:00\",\"2000-09-03T00:00:00\",\"2000-09-04T00:00:00\",\"2000-09-05T00:00:00\",\"2000-09-06T00:00:00\",\"2000-09-07T00:00:00\",\"2000-09-08T00:00:00\",\"2000-09-09T00:00:00\",\"2000-09-10T00:00:00\",\"2000-09-11T00:00:00\",\"2000-09-12T00:00:00\",\"2000-09-13T00:00:00\",\"2000-09-14T00:00:00\",\"2000-09-15T00:00:00\",\"2000-09-16T00:00:00\",\"2000-09-17T00:00:00\",\"2000-09-18T00:00:00\",\"2000-09-19T00:00:00\",\"2000-09-20T00:00:00\",\"2000-09-21T00:00:00\",\"2000-09-22T00:00:00\",\"2000-09-23T00:00:00\",\"2000-09-24T00:00:00\",\"2000-09-25T00:00:00\",\"2000-09-26T00:00:00\",\"2000-09-27T00:00:00\",\"2000-09-28T00:00:00\",\"2000-09-29T00:00:00\",\"2000-09-30T00:00:00\",\"2000-10-01T00:00:00\",\"2000-10-02T00:00:00\",\"2000-10-03T00:00:00\",\"2000-10-04T00:00:00\",\"2000-10-05T00:00:00\",\"2000-10-06T00:00:00\",\"2000-10-07T00:00:00\",\"2000-10-08T00:00:00\",\"2000-10-09T00:00:00\",\"2000-10-10T00:00:00\",\"2000-10-11T00:00:00\",\"2000-10-12T00:00:00\",\"2000-10-13T00:00:00\",\"2000-10-14T00:00:00\",\"2000-10-15T00:00:00\",\"2000-10-16T00:00:00\",\"2000-10-17T00:00:00\",\"2000-10-18T00:00:00\",\"2000-10-19T00:00:00\",\"2000-10-20T00:00:00\",\"2000-10-21T00:00:00\",\"2000-10-22T00:00:00\",\"2000-10-23T00:00:00\",\"2000-10-24T00:00:00\",\"2000-10-25T00:00:00\",\"2000-10-26T00:00:00\",\"2000-10-27T00:00:00\",\"2000-10-28T00:00:00\",\"2000-10-29T00:00:00\",\"2000-10-30T00:00:00\",\"2000-10-31T00:00:00\",\"2000-11-01T00:00:00\",\"2000-11-02T00:00:00\",\"2000-11-03T00:00:00\",\"2000-11-04T00:00:00\",\"2000-11-05T00:00:00\",\"2000-11-06T00:00:00\",\"2000-11-07T00:00:00\",\"2000-11-08T00:00:00\",\"2000-11-09T00:00:00\",\"2000-11-10T00:00:00\",\"2000-11-11T00:00:00\",\"2000-11-12T00:00:00\",\"2000-11-13T00:00:00\",\"2000-11-14T00:00:00\",\"2000-11-15T00:00:00\",\"2000-11-16T00:00:00\",\"2000-11-17T00:00:00\",\"2000-11-18T00:00:00\",\"2000-11-19T00:00:00\",\"2000-11-20T00:00:00\",\"2000-11-21T00:00:00\",\"2000-11-22T00:00:00\",\"2000-11-23T00:00:00\",\"2000-11-24T00:00:00\",\"2000-11-25T00:00:00\",\"2000-11-26T00:00:00\",\"2000-11-27T00:00:00\",\"2000-11-28T00:00:00\",\"2000-11-29T00:00:00\",\"2000-11-30T00:00:00\",\"2000-12-01T00:00:00\",\"2000-12-02T00:00:00\",\"2000-12-03T00:00:00\",\"2000-12-04T00:00:00\",\"2000-12-05T00:00:00\",\"2000-12-06T00:00:00\",\"2000-12-07T00:00:00\",\"2000-12-08T00:00:00\",\"2000-12-09T00:00:00\",\"2000-12-10T00:00:00\",\"2000-12-11T00:00:00\",\"2000-12-12T00:00:00\",\"2000-12-13T00:00:00\",\"2000-12-14T00:00:00\",\"2000-12-15T00:00:00\",\"2000-12-16T00:00:00\",\"2000-12-17T00:00:00\",\"2000-12-18T00:00:00\",\"2000-12-19T00:00:00\",\"2000-12-20T00:00:00\",\"2000-12-21T00:00:00\",\"2000-12-22T00:00:00\",\"2000-12-23T00:00:00\",\"2000-12-24T00:00:00\",\"2000-12-25T00:00:00\",\"2000-12-26T00:00:00\",\"2000-12-27T00:00:00\",\"2000-12-28T00:00:00\",\"2000-12-29T00:00:00\",\"2000-12-30T00:00:00\",\"2000-12-31T00:00:00\",\"2001-01-01T00:00:00\",\"2001-01-02T00:00:00\",\"2001-01-03T00:00:00\",\"2001-01-04T00:00:00\",\"2001-01-05T00:00:00\",\"2001-01-06T00:00:00\",\"2001-01-07T00:00:00\",\"2001-01-08T00:00:00\",\"2001-01-09T00:00:00\",\"2001-01-10T00:00:00\",\"2001-01-11T00:00:00\",\"2001-01-12T00:00:00\",\"2001-01-13T00:00:00\",\"2001-01-14T00:00:00\",\"2001-01-15T00:00:00\",\"2001-01-16T00:00:00\",\"2001-01-17T00:00:00\",\"2001-01-18T00:00:00\",\"2001-01-19T00:00:00\",\"2001-01-20T00:00:00\",\"2001-01-21T00:00:00\",\"2001-01-22T00:00:00\",\"2001-01-23T00:00:00\",\"2001-01-24T00:00:00\",\"2001-01-25T00:00:00\",\"2001-01-26T00:00:00\",\"2001-01-27T00:00:00\",\"2001-01-28T00:00:00\",\"2001-01-29T00:00:00\",\"2001-01-30T00:00:00\",\"2001-01-31T00:00:00\",\"2001-02-01T00:00:00\",\"2001-02-02T00:00:00\",\"2001-02-03T00:00:00\",\"2001-02-04T00:00:00\",\"2001-02-05T00:00:00\",\"2001-02-06T00:00:00\",\"2001-02-07T00:00:00\",\"2001-02-08T00:00:00\",\"2001-02-09T00:00:00\",\"2001-02-10T00:00:00\",\"2001-02-11T00:00:00\",\"2001-02-12T00:00:00\",\"2001-02-13T00:00:00\",\"2001-02-14T00:00:00\",\"2001-02-15T00:00:00\",\"2001-02-16T00:00:00\",\"2001-02-17T00:00:00\",\"2001-02-18T00:00:00\",\"2001-02-19T00:00:00\",\"2001-02-20T00:00:00\",\"2001-02-21T00:00:00\",\"2001-02-22T00:00:00\",\"2001-02-23T00:00:00\",\"2001-02-24T00:00:00\",\"2001-02-25T00:00:00\",\"2001-02-26T00:00:00\",\"2001-02-27T00:00:00\",\"2001-02-28T00:00:00\",\"2001-03-01T00:00:00\",\"2001-03-02T00:00:00\",\"2001-03-03T00:00:00\",\"2001-03-04T00:00:00\",\"2001-03-05T00:00:00\",\"2001-03-06T00:00:00\",\"2001-03-07T00:00:00\",\"2001-03-08T00:00:00\",\"2001-03-09T00:00:00\",\"2001-03-10T00:00:00\",\"2001-03-11T00:00:00\",\"2001-03-12T00:00:00\",\"2001-03-13T00:00:00\",\"2001-03-14T00:00:00\",\"2001-03-15T00:00:00\",\"2001-03-16T00:00:00\",\"2001-03-17T00:00:00\",\"2001-03-18T00:00:00\",\"2001-03-19T00:00:00\",\"2001-03-20T00:00:00\",\"2001-03-21T00:00:00\",\"2001-03-22T00:00:00\",\"2001-03-23T00:00:00\",\"2001-03-24T00:00:00\",\"2001-03-25T00:00:00\",\"2001-03-26T00:00:00\",\"2001-03-27T00:00:00\",\"2001-03-28T00:00:00\",\"2001-03-29T00:00:00\",\"2001-03-30T00:00:00\",\"2001-03-31T00:00:00\",\"2001-04-01T00:00:00\",\"2001-04-02T00:00:00\",\"2001-04-03T00:00:00\",\"2001-04-04T00:00:00\",\"2001-04-05T00:00:00\",\"2001-04-06T00:00:00\",\"2001-04-07T00:00:00\",\"2001-04-08T00:00:00\",\"2001-04-09T00:00:00\",\"2001-04-10T00:00:00\",\"2001-04-11T00:00:00\",\"2001-04-12T00:00:00\",\"2001-04-13T00:00:00\",\"2001-04-14T00:00:00\",\"2001-04-15T00:00:00\",\"2001-04-16T00:00:00\",\"2001-04-17T00:00:00\",\"2001-04-18T00:00:00\",\"2001-04-19T00:00:00\",\"2001-04-20T00:00:00\",\"2001-04-21T00:00:00\",\"2001-04-22T00:00:00\",\"2001-04-23T00:00:00\",\"2001-04-24T00:00:00\",\"2001-04-25T00:00:00\",\"2001-04-26T00:00:00\",\"2001-04-27T00:00:00\",\"2001-04-28T00:00:00\",\"2001-04-29T00:00:00\",\"2001-04-30T00:00:00\",\"2001-05-01T00:00:00\",\"2001-05-02T00:00:00\",\"2001-05-03T00:00:00\",\"2001-05-04T00:00:00\",\"2001-05-05T00:00:00\",\"2001-05-06T00:00:00\",\"2001-05-07T00:00:00\",\"2001-05-08T00:00:00\",\"2001-05-09T00:00:00\",\"2001-05-10T00:00:00\",\"2001-05-11T00:00:00\",\"2001-05-12T00:00:00\",\"2001-05-13T00:00:00\",\"2001-05-14T00:00:00\",\"2001-05-15T00:00:00\",\"2001-05-16T00:00:00\",\"2001-05-17T00:00:00\",\"2001-05-18T00:00:00\",\"2001-05-19T00:00:00\",\"2001-05-20T00:00:00\",\"2001-05-21T00:00:00\",\"2001-05-22T00:00:00\",\"2001-05-23T00:00:00\",\"2001-05-24T00:00:00\",\"2001-05-25T00:00:00\",\"2001-05-26T00:00:00\",\"2001-05-27T00:00:00\",\"2001-05-28T00:00:00\",\"2001-05-29T00:00:00\",\"2001-05-30T00:00:00\",\"2001-05-31T00:00:00\",\"2001-06-01T00:00:00\",\"2001-06-02T00:00:00\",\"2001-06-03T00:00:00\",\"2001-06-04T00:00:00\",\"2001-06-05T00:00:00\",\"2001-06-06T00:00:00\",\"2001-06-07T00:00:00\",\"2001-06-08T00:00:00\",\"2001-06-09T00:00:00\",\"2001-06-10T00:00:00\",\"2001-06-11T00:00:00\",\"2001-06-12T00:00:00\",\"2001-06-13T00:00:00\",\"2001-06-14T00:00:00\",\"2001-06-15T00:00:00\",\"2001-06-16T00:00:00\",\"2001-06-17T00:00:00\",\"2001-06-18T00:00:00\",\"2001-06-19T00:00:00\",\"2001-06-20T00:00:00\",\"2001-06-21T00:00:00\",\"2001-06-22T00:00:00\",\"2001-06-23T00:00:00\",\"2001-06-24T00:00:00\",\"2001-06-25T00:00:00\",\"2001-06-26T00:00:00\",\"2001-06-27T00:00:00\",\"2001-06-28T00:00:00\",\"2001-06-29T00:00:00\",\"2001-06-30T00:00:00\",\"2001-07-01T00:00:00\",\"2001-07-02T00:00:00\",\"2001-07-03T00:00:00\",\"2001-07-04T00:00:00\",\"2001-07-05T00:00:00\",\"2001-07-06T00:00:00\",\"2001-07-07T00:00:00\",\"2001-07-08T00:00:00\",\"2001-07-09T00:00:00\",\"2001-07-10T00:00:00\",\"2001-07-11T00:00:00\",\"2001-07-12T00:00:00\",\"2001-07-13T00:00:00\",\"2001-07-14T00:00:00\",\"2001-07-15T00:00:00\",\"2001-07-16T00:00:00\",\"2001-07-17T00:00:00\",\"2001-07-18T00:00:00\",\"2001-07-19T00:00:00\",\"2001-07-20T00:00:00\",\"2001-07-21T00:00:00\",\"2001-07-22T00:00:00\",\"2001-07-23T00:00:00\",\"2001-07-24T00:00:00\",\"2001-07-25T00:00:00\",\"2001-07-26T00:00:00\",\"2001-07-27T00:00:00\",\"2001-07-28T00:00:00\",\"2001-07-29T00:00:00\",\"2001-07-30T00:00:00\",\"2001-07-31T00:00:00\",\"2001-08-01T00:00:00\",\"2001-08-02T00:00:00\",\"2001-08-03T00:00:00\",\"2001-08-04T00:00:00\",\"2001-08-05T00:00:00\",\"2001-08-06T00:00:00\",\"2001-08-07T00:00:00\",\"2001-08-08T00:00:00\",\"2001-08-09T00:00:00\",\"2001-08-10T00:00:00\",\"2001-08-11T00:00:00\",\"2001-08-12T00:00:00\",\"2001-08-13T00:00:00\",\"2001-08-14T00:00:00\",\"2001-08-15T00:00:00\",\"2001-08-16T00:00:00\",\"2001-08-17T00:00:00\",\"2001-08-18T00:00:00\",\"2001-08-19T00:00:00\",\"2001-08-20T00:00:00\",\"2001-08-21T00:00:00\",\"2001-08-22T00:00:00\",\"2001-08-23T00:00:00\",\"2001-08-24T00:00:00\",\"2001-08-25T00:00:00\",\"2001-08-26T00:00:00\",\"2001-08-27T00:00:00\",\"2001-08-28T00:00:00\",\"2001-08-29T00:00:00\",\"2001-08-30T00:00:00\",\"2001-08-31T00:00:00\",\"2001-09-01T00:00:00\",\"2001-09-02T00:00:00\",\"2001-09-03T00:00:00\",\"2001-09-04T00:00:00\",\"2001-09-05T00:00:00\",\"2001-09-06T00:00:00\",\"2001-09-07T00:00:00\",\"2001-09-08T00:00:00\",\"2001-09-09T00:00:00\",\"2001-09-10T00:00:00\",\"2001-09-11T00:00:00\",\"2001-09-12T00:00:00\",\"2001-09-13T00:00:00\",\"2001-09-14T00:00:00\",\"2001-09-15T00:00:00\",\"2001-09-16T00:00:00\",\"2001-09-17T00:00:00\",\"2001-09-18T00:00:00\",\"2001-09-19T00:00:00\",\"2001-09-20T00:00:00\",\"2001-09-21T00:00:00\",\"2001-09-22T00:00:00\",\"2001-09-23T00:00:00\",\"2001-09-24T00:00:00\",\"2001-09-25T00:00:00\",\"2001-09-26T00:00:00\",\"2001-09-27T00:00:00\",\"2001-09-28T00:00:00\",\"2001-09-29T00:00:00\",\"2001-09-30T00:00:00\",\"2001-10-01T00:00:00\",\"2001-10-02T00:00:00\",\"2001-10-03T00:00:00\",\"2001-10-04T00:00:00\",\"2001-10-05T00:00:00\",\"2001-10-06T00:00:00\",\"2001-10-07T00:00:00\",\"2001-10-08T00:00:00\",\"2001-10-09T00:00:00\",\"2001-10-10T00:00:00\",\"2001-10-11T00:00:00\",\"2001-10-12T00:00:00\",\"2001-10-13T00:00:00\",\"2001-10-14T00:00:00\",\"2001-10-15T00:00:00\",\"2001-10-16T00:00:00\",\"2001-10-17T00:00:00\",\"2001-10-18T00:00:00\",\"2001-10-19T00:00:00\",\"2001-10-20T00:00:00\",\"2001-10-21T00:00:00\",\"2001-10-22T00:00:00\",\"2001-10-23T00:00:00\",\"2001-10-24T00:00:00\",\"2001-10-25T00:00:00\",\"2001-10-26T00:00:00\",\"2001-10-27T00:00:00\",\"2001-10-28T00:00:00\",\"2001-10-29T00:00:00\",\"2001-10-30T00:00:00\",\"2001-10-31T00:00:00\",\"2001-11-01T00:00:00\",\"2001-11-02T00:00:00\",\"2001-11-03T00:00:00\",\"2001-11-04T00:00:00\",\"2001-11-05T00:00:00\",\"2001-11-06T00:00:00\",\"2001-11-07T00:00:00\",\"2001-11-08T00:00:00\",\"2001-11-09T00:00:00\",\"2001-11-10T00:00:00\",\"2001-11-11T00:00:00\",\"2001-11-12T00:00:00\",\"2001-11-13T00:00:00\",\"2001-11-14T00:00:00\",\"2001-11-15T00:00:00\",\"2001-11-16T00:00:00\",\"2001-11-17T00:00:00\",\"2001-11-18T00:00:00\",\"2001-11-19T00:00:00\",\"2001-11-20T00:00:00\",\"2001-11-21T00:00:00\",\"2001-11-22T00:00:00\",\"2001-11-23T00:00:00\",\"2001-11-24T00:00:00\",\"2001-11-25T00:00:00\",\"2001-11-26T00:00:00\",\"2001-11-27T00:00:00\",\"2001-11-28T00:00:00\",\"2001-11-29T00:00:00\",\"2001-11-30T00:00:00\",\"2001-12-01T00:00:00\",\"2001-12-02T00:00:00\",\"2001-12-03T00:00:00\",\"2001-12-04T00:00:00\",\"2001-12-05T00:00:00\",\"2001-12-06T00:00:00\",\"2001-12-07T00:00:00\",\"2001-12-08T00:00:00\",\"2001-12-09T00:00:00\",\"2001-12-10T00:00:00\",\"2001-12-11T00:00:00\",\"2001-12-12T00:00:00\",\"2001-12-13T00:00:00\",\"2001-12-14T00:00:00\",\"2001-12-15T00:00:00\",\"2001-12-16T00:00:00\",\"2001-12-17T00:00:00\",\"2001-12-18T00:00:00\",\"2001-12-19T00:00:00\",\"2001-12-20T00:00:00\",\"2001-12-21T00:00:00\",\"2001-12-22T00:00:00\",\"2001-12-23T00:00:00\",\"2001-12-24T00:00:00\",\"2001-12-25T00:00:00\",\"2001-12-26T00:00:00\",\"2001-12-27T00:00:00\",\"2001-12-28T00:00:00\",\"2001-12-29T00:00:00\",\"2001-12-30T00:00:00\",\"2001-12-31T00:00:00\",\"2002-01-01T00:00:00\",\"2002-01-02T00:00:00\",\"2002-01-03T00:00:00\",\"2002-01-04T00:00:00\",\"2002-01-05T00:00:00\",\"2002-01-06T00:00:00\",\"2002-01-07T00:00:00\",\"2002-01-08T00:00:00\",\"2002-01-09T00:00:00\",\"2002-01-10T00:00:00\",\"2002-01-11T00:00:00\",\"2002-01-12T00:00:00\",\"2002-01-13T00:00:00\",\"2002-01-14T00:00:00\",\"2002-01-15T00:00:00\",\"2002-01-16T00:00:00\",\"2002-01-17T00:00:00\",\"2002-01-18T00:00:00\",\"2002-01-19T00:00:00\",\"2002-01-20T00:00:00\",\"2002-01-21T00:00:00\",\"2002-01-22T00:00:00\",\"2002-01-23T00:00:00\",\"2002-01-24T00:00:00\",\"2002-01-25T00:00:00\",\"2002-01-26T00:00:00\",\"2002-01-27T00:00:00\",\"2002-01-28T00:00:00\",\"2002-01-29T00:00:00\",\"2002-01-30T00:00:00\",\"2002-01-31T00:00:00\",\"2002-02-01T00:00:00\",\"2002-02-02T00:00:00\",\"2002-02-03T00:00:00\",\"2002-02-04T00:00:00\",\"2002-02-05T00:00:00\",\"2002-02-06T00:00:00\",\"2002-02-07T00:00:00\",\"2002-02-08T00:00:00\",\"2002-02-09T00:00:00\",\"2002-02-10T00:00:00\",\"2002-02-11T00:00:00\",\"2002-02-12T00:00:00\",\"2002-02-13T00:00:00\",\"2002-02-14T00:00:00\",\"2002-02-15T00:00:00\",\"2002-02-16T00:00:00\",\"2002-02-17T00:00:00\",\"2002-02-18T00:00:00\",\"2002-02-19T00:00:00\",\"2002-02-20T00:00:00\",\"2002-02-21T00:00:00\",\"2002-02-22T00:00:00\",\"2002-02-23T00:00:00\",\"2002-02-24T00:00:00\",\"2002-02-25T00:00:00\",\"2002-02-26T00:00:00\",\"2002-02-27T00:00:00\",\"2002-02-28T00:00:00\",\"2002-03-01T00:00:00\",\"2002-03-02T00:00:00\",\"2002-03-03T00:00:00\",\"2002-03-04T00:00:00\",\"2002-03-05T00:00:00\",\"2002-03-06T00:00:00\",\"2002-03-07T00:00:00\",\"2002-03-08T00:00:00\",\"2002-03-09T00:00:00\",\"2002-03-10T00:00:00\",\"2002-03-11T00:00:00\",\"2002-03-12T00:00:00\",\"2002-03-13T00:00:00\",\"2002-03-14T00:00:00\",\"2002-03-15T00:00:00\",\"2002-03-16T00:00:00\",\"2002-03-17T00:00:00\",\"2002-03-18T00:00:00\",\"2002-03-19T00:00:00\",\"2002-03-20T00:00:00\",\"2002-03-21T00:00:00\",\"2002-03-22T00:00:00\",\"2002-03-23T00:00:00\",\"2002-03-24T00:00:00\",\"2002-03-25T00:00:00\",\"2002-03-26T00:00:00\",\"2002-03-27T00:00:00\",\"2002-03-28T00:00:00\",\"2002-03-29T00:00:00\",\"2002-03-30T00:00:00\",\"2002-03-31T00:00:00\",\"2002-04-01T00:00:00\",\"2002-04-02T00:00:00\",\"2002-04-03T00:00:00\",\"2002-04-04T00:00:00\",\"2002-04-05T00:00:00\",\"2002-04-06T00:00:00\",\"2002-04-07T00:00:00\",\"2002-04-08T00:00:00\",\"2002-04-09T00:00:00\",\"2002-04-10T00:00:00\",\"2002-04-11T00:00:00\",\"2002-04-12T00:00:00\",\"2002-04-13T00:00:00\",\"2002-04-14T00:00:00\",\"2002-04-15T00:00:00\",\"2002-04-16T00:00:00\",\"2002-04-17T00:00:00\",\"2002-04-18T00:00:00\",\"2002-04-19T00:00:00\",\"2002-04-20T00:00:00\",\"2002-04-21T00:00:00\",\"2002-04-22T00:00:00\",\"2002-04-23T00:00:00\",\"2002-04-24T00:00:00\",\"2002-04-25T00:00:00\",\"2002-04-26T00:00:00\",\"2002-04-27T00:00:00\",\"2002-04-28T00:00:00\",\"2002-04-29T00:00:00\",\"2002-04-30T00:00:00\",\"2002-05-01T00:00:00\",\"2002-05-02T00:00:00\",\"2002-05-03T00:00:00\",\"2002-05-04T00:00:00\",\"2002-05-05T00:00:00\",\"2002-05-06T00:00:00\",\"2002-05-07T00:00:00\",\"2002-05-08T00:00:00\",\"2002-05-09T00:00:00\",\"2002-05-10T00:00:00\",\"2002-05-11T00:00:00\",\"2002-05-12T00:00:00\",\"2002-05-13T00:00:00\",\"2002-05-14T00:00:00\",\"2002-05-15T00:00:00\",\"2002-05-16T00:00:00\",\"2002-05-17T00:00:00\",\"2002-05-18T00:00:00\",\"2002-05-19T00:00:00\",\"2002-05-20T00:00:00\",\"2002-05-21T00:00:00\",\"2002-05-22T00:00:00\",\"2002-05-23T00:00:00\",\"2002-05-24T00:00:00\",\"2002-05-25T00:00:00\",\"2002-05-26T00:00:00\",\"2002-05-27T00:00:00\",\"2002-05-28T00:00:00\",\"2002-05-29T00:00:00\",\"2002-05-30T00:00:00\",\"2002-05-31T00:00:00\",\"2002-06-01T00:00:00\",\"2002-06-02T00:00:00\",\"2002-06-03T00:00:00\",\"2002-06-04T00:00:00\",\"2002-06-05T00:00:00\",\"2002-06-06T00:00:00\",\"2002-06-07T00:00:00\",\"2002-06-08T00:00:00\",\"2002-06-09T00:00:00\",\"2002-06-10T00:00:00\",\"2002-06-11T00:00:00\",\"2002-06-12T00:00:00\",\"2002-06-13T00:00:00\",\"2002-06-14T00:00:00\",\"2002-06-15T00:00:00\",\"2002-06-16T00:00:00\",\"2002-06-17T00:00:00\",\"2002-06-18T00:00:00\",\"2002-06-19T00:00:00\",\"2002-06-20T00:00:00\",\"2002-06-21T00:00:00\",\"2002-06-22T00:00:00\",\"2002-06-23T00:00:00\",\"2002-06-24T00:00:00\",\"2002-06-25T00:00:00\",\"2002-06-26T00:00:00\",\"2002-06-27T00:00:00\",\"2002-06-28T00:00:00\",\"2002-06-29T00:00:00\",\"2002-06-30T00:00:00\",\"2002-07-01T00:00:00\",\"2002-07-02T00:00:00\",\"2002-07-03T00:00:00\",\"2002-07-04T00:00:00\",\"2002-07-05T00:00:00\",\"2002-07-06T00:00:00\",\"2002-07-07T00:00:00\",\"2002-07-08T00:00:00\",\"2002-07-09T00:00:00\",\"2002-07-10T00:00:00\",\"2002-07-11T00:00:00\",\"2002-07-12T00:00:00\",\"2002-07-13T00:00:00\",\"2002-07-14T00:00:00\",\"2002-07-15T00:00:00\",\"2002-07-16T00:00:00\",\"2002-07-17T00:00:00\",\"2002-07-18T00:00:00\",\"2002-07-19T00:00:00\",\"2002-07-20T00:00:00\",\"2002-07-21T00:00:00\",\"2002-07-22T00:00:00\",\"2002-07-23T00:00:00\",\"2002-07-24T00:00:00\",\"2002-07-25T00:00:00\",\"2002-07-26T00:00:00\",\"2002-07-27T00:00:00\",\"2002-07-28T00:00:00\",\"2002-07-29T00:00:00\",\"2002-07-30T00:00:00\",\"2002-07-31T00:00:00\",\"2002-08-01T00:00:00\",\"2002-08-02T00:00:00\",\"2002-08-03T00:00:00\",\"2002-08-04T00:00:00\",\"2002-08-05T00:00:00\",\"2002-08-06T00:00:00\",\"2002-08-07T00:00:00\",\"2002-08-08T00:00:00\",\"2002-08-09T00:00:00\",\"2002-08-10T00:00:00\",\"2002-08-11T00:00:00\",\"2002-08-12T00:00:00\",\"2002-08-13T00:00:00\",\"2002-08-14T00:00:00\",\"2002-08-15T00:00:00\",\"2002-08-16T00:00:00\",\"2002-08-17T00:00:00\",\"2002-08-18T00:00:00\",\"2002-08-19T00:00:00\",\"2002-08-20T00:00:00\",\"2002-08-21T00:00:00\",\"2002-08-22T00:00:00\",\"2002-08-23T00:00:00\",\"2002-08-24T00:00:00\",\"2002-08-25T00:00:00\",\"2002-08-26T00:00:00\",\"2002-08-27T00:00:00\",\"2002-08-28T00:00:00\",\"2002-08-29T00:00:00\",\"2002-08-30T00:00:00\",\"2002-08-31T00:00:00\",\"2002-09-01T00:00:00\",\"2002-09-02T00:00:00\",\"2002-09-03T00:00:00\",\"2002-09-04T00:00:00\",\"2002-09-05T00:00:00\",\"2002-09-06T00:00:00\",\"2002-09-07T00:00:00\",\"2002-09-08T00:00:00\",\"2002-09-09T00:00:00\",\"2002-09-10T00:00:00\",\"2002-09-11T00:00:00\",\"2002-09-12T00:00:00\",\"2002-09-13T00:00:00\",\"2002-09-14T00:00:00\",\"2002-09-15T00:00:00\",\"2002-09-16T00:00:00\",\"2002-09-17T00:00:00\",\"2002-09-18T00:00:00\",\"2002-09-19T00:00:00\",\"2002-09-20T00:00:00\",\"2002-09-21T00:00:00\",\"2002-09-22T00:00:00\",\"2002-09-23T00:00:00\",\"2002-09-24T00:00:00\",\"2002-09-25T00:00:00\",\"2002-09-26T00:00:00\"],\"xaxis\":\"x\",\"y\":[0.5228124414070207,2.0329829560449753,2.0329829560449753,2.0329829560449753,2.0329829560449753,2.0329829560449753,2.0329829560449753,2.0329829560449753,2.0329829560449753,2.0329829560449753,2.0329829560449753,2.0329829560449753,2.0329829560449753,2.0329829560449753,2.0329829560449753,2.0329829560449753,2.0329829560449753,2.0329829560449753,2.0329829560449753,2.0329829560449753,2.0329829560449753,2.0329829560449753,2.0329829560449753,2.0329829560449753,2.0329829560449753,2.0329829560449753,2.0329829560449753,2.0329829560449753,2.0329829560449753,2.0329829560449753,2.0329829560449753,2.0329829560449753,2.0329829560449753,2.0329829560449753,2.0329829560449753,2.0329829560449753,2.0329829560449753,2.0329829560449753,2.0329829560449753,2.2423226110602434,2.2423226110602434,2.5400969655404637,2.5400969655404637,2.5400969655404637,2.5400969655404637,2.5400969655404637,2.5400969655404637,2.5400969655404637,2.5400969655404637,2.5400969655404637,2.5400969655404637,2.5400969655404637,2.5400969655404637,2.5400969655404637,2.5400969655404637,2.5400969655404637,2.5400969655404637,2.5400969655404637,2.5400969655404637,2.5400969655404637,2.5400969655404637,2.5400969655404637,2.5400969655404637,2.5400969655404637,2.5400969655404637,2.5400969655404637,2.5400969655404637,2.5400969655404637,2.5400969655404637,2.5400969655404637,2.5400969655404637,2.5400969655404637,2.5400969655404637,2.5400969655404637,2.5400969655404637,2.5400969655404637,2.5400969655404637,2.5400969655404637,2.5400969655404637,2.5400969655404637,2.5400969655404637,2.5400969655404637,2.5400969655404637,2.5400969655404637,2.5400969655404637,2.5400969655404637,2.5400969655404637,2.5400969655404637,2.5400969655404637,2.5400969655404637,2.5400969655404637,2.5400969655404637,2.5400969655404637,2.5400969655404637,2.5400969655404637,2.5400969655404637,2.5400969655404637,2.5400969655404637,2.5400969655404637,2.5400969655404637,2.5400969655404637,2.5400969655404637,2.5400969655404637,2.5400969655404637,2.5400969655404637,2.5400969655404637,2.5400969655404637,2.5400969655404637,2.5400969655404637,2.6891318294415494,2.6891318294415494,2.6891318294415494,2.6891318294415494,2.6891318294415494,2.6891318294415494,2.6891318294415494,2.6891318294415494,2.6891318294415494,2.6891318294415494,2.6891318294415494,2.6891318294415494,2.6891318294415494,2.6891318294415494,2.6891318294415494,2.6891318294415494,2.6891318294415494,2.6891318294415494,2.6891318294415494,2.6891318294415494,2.6891318294415494,2.6891318294415494,2.6891318294415494,2.6891318294415494,2.6891318294415494,2.6891318294415494,2.6891318294415494,2.6891318294415494,2.6891318294415494,2.6891318294415494,2.6891318294415494,2.6891318294415494,2.6891318294415494,2.6891318294415494,2.6891318294415494,2.6891318294415494,2.6891318294415494,2.6891318294415494,2.6891318294415494,2.6891318294415494,2.6891318294415494,2.6891318294415494,2.6891318294415494,2.6891318294415494,2.6891318294415494,2.6891318294415494,2.6891318294415494,2.6891318294415494,2.6891318294415494,2.6891318294415494,2.6891318294415494,2.6891318294415494,2.6891318294415494,2.6891318294415494,2.6891318294415494,2.6891318294415494,2.6891318294415494,2.6891318294415494,2.6891318294415494,2.6891318294415494,2.6891318294415494,2.6891318294415494,2.6891318294415494,2.6891318294415494,2.6891318294415494,2.6891318294415494,2.6891318294415494,2.6891318294415494,2.6891318294415494,2.6891318294415494,2.6891318294415494,2.6891318294415494,2.6891318294415494,2.6891318294415494,2.6891318294415494,2.6891318294415494,2.6891318294415494,2.6891318294415494,2.6891318294415494,2.6891318294415494,2.6891318294415494,2.6891318294415494,2.6891318294415494,2.6891318294415494,2.6891318294415494,2.6891318294415494,2.6891318294415494,2.6891318294415494,2.6891318294415494,2.6891318294415494,2.6891318294415494,2.6891318294415494,2.6891318294415494,2.6891318294415494,2.6891318294415494,2.6891318294415494,2.6891318294415494,2.6891318294415494,2.6891318294415494,2.6891318294415494,2.6891318294415494,2.6891318294415494,2.6891318294415494,2.6891318294415494,2.6891318294415494,2.6891318294415494,2.6891318294415494,2.6891318294415494,2.6891318294415494,2.6891318294415494,2.6891318294415494,2.6891318294415494,2.6891318294415494,2.6891318294415494,2.6891318294415494,2.6891318294415494,2.6891318294415494,2.6891318294415494,2.6891318294415494,2.6891318294415494,2.6891318294415494,2.6891318294415494,2.6891318294415494,2.6891318294415494,2.6891318294415494,2.6891318294415494,2.6891318294415494,2.6891318294415494,2.6891318294415494,2.6891318294415494,2.6891318294415494,2.6891318294415494,2.6891318294415494,2.6891318294415494,2.6891318294415494,2.6891318294415494,2.6891318294415494,2.6891318294415494,2.6891318294415494,2.6891318294415494,2.6891318294415494,2.6891318294415494,2.6891318294415494,2.6891318294415494,2.6891318294415494,2.6891318294415494,2.6891318294415494,2.6891318294415494,2.6891318294415494,2.6891318294415494,2.6891318294415494,2.6891318294415494,2.6891318294415494,2.6891318294415494,2.6891318294415494,2.6891318294415494,2.6891318294415494,2.6891318294415494,2.6891318294415494,2.6891318294415494,2.6891318294415494,2.6891318294415494,2.6891318294415494,2.6891318294415494,2.6891318294415494,2.6891318294415494,2.6891318294415494,2.6891318294415494,2.6891318294415494,2.6891318294415494,2.6891318294415494,2.6891318294415494,2.6891318294415494,2.6891318294415494,2.6891318294415494,2.79049507274466,2.79049507274466,2.79049507274466,2.79049507274466,2.79049507274466,2.79049507274466,2.79049507274466,2.79049507274466,2.79049507274466,2.79049507274466,2.79049507274466,2.79049507274466,2.79049507274466,2.79049507274466,2.79049507274466,2.79049507274466,2.79049507274466,2.79049507274466,2.79049507274466,2.79049507274466,2.79049507274466,2.79049507274466,2.79049507274466,2.79049507274466,2.79049507274466,2.79049507274466,2.79049507274466,2.79049507274466,2.79049507274466,2.79049507274466,2.79049507274466,2.79049507274466,2.79049507274466,2.79049507274466,2.79049507274466,2.79049507274466,2.79049507274466,2.79049507274466,2.79049507274466,2.79049507274466,2.79049507274466,2.79049507274466,2.79049507274466,2.79049507274466,2.79049507274466,2.79049507274466,2.79049507274466,2.79049507274466,2.79049507274466,2.79049507274466,2.79049507274466,2.79049507274466,2.79049507274466,2.79049507274466,2.79049507274466,2.79049507274466,2.79049507274466,2.79049507274466,2.79049507274466,2.79049507274466,2.79049507274466,2.79049507274466,2.79049507274466,2.79049507274466,2.79049507274466,2.79049507274466,2.79049507274466,2.79049507274466,2.79049507274466,2.79049507274466,2.79049507274466,2.79049507274466,2.79049507274466,2.79049507274466,2.79049507274466,2.79049507274466,2.79049507274466,2.79049507274466,2.79049507274466,2.79049507274466,2.79049507274466,2.79049507274466,2.79049507274466,2.79049507274466,2.79049507274466,2.79049507274466,2.79049507274466,2.79049507274466,2.79049507274466,2.79049507274466,2.79049507274466,2.79049507274466,2.79049507274466,2.79049507274466,2.79049507274466,2.79049507274466,2.79049507274466,2.79049507274466,2.79049507274466,2.79049507274466,2.79049507274466,2.79049507274466,2.79049507274466,2.79049507274466,2.79049507274466,2.79049507274466,2.79049507274466,2.79049507274466,2.79049507274466,2.79049507274466,2.79049507274466,2.79049507274466,2.79049507274466,2.79049507274466,2.79049507274466,2.79049507274466,2.79049507274466,2.79049507274466,2.79049507274466,2.79049507274466,2.79049507274466,2.79049507274466,2.79049507274466,2.79049507274466,2.79049507274466,2.79049507274466,2.79049507274466,2.79049507274466,2.79049507274466,2.79049507274466,2.79049507274466,2.79049507274466,2.79049507274466,2.79049507274466,2.79049507274466,2.79049507274466,2.79049507274466,2.79049507274466,2.79049507274466,2.79049507274466,2.79049507274466,2.79049507274466,2.79049507274466,2.79049507274466,2.79049507274466,2.79049507274466,2.79049507274466,2.79049507274466,2.79049507274466,2.79049507274466,2.79049507274466,2.79049507274466,2.79049507274466,2.79049507274466,2.79049507274466,2.79049507274466,2.79049507274466,2.79049507274466,2.79049507274466,2.79049507274466,2.79049507274466,2.79049507274466,2.79049507274466,2.79049507274466,2.79049507274466,2.79049507274466,2.79049507274466,2.79049507274466,2.79049507274466,2.79049507274466,2.79049507274466,2.79049507274466,2.79049507274466,2.79049507274466,2.79049507274466,2.79049507274466,2.79049507274466,2.79049507274466,2.79049507274466,2.79049507274466,2.79049507274466,2.79049507274466,2.79049507274466,2.79049507274466,2.79049507274466,2.79049507274466,2.79049507274466,2.79049507274466,2.79049507274466,2.79049507274466,2.79049507274466,2.79049507274466,2.79049507274466,2.79049507274466,2.79049507274466,2.79049507274466,2.79049507274466,2.79049507274466,2.79049507274466,2.79049507274466,2.79049507274466,2.79049507274466,2.79049507274466,2.79049507274466,2.79049507274466,2.79049507274466,2.79049507274466,2.79049507274466,2.79049507274466,2.79049507274466,2.79049507274466,2.79049507274466,2.79049507274466,2.79049507274466,2.79049507274466,2.79049507274466,2.79049507274466,2.79049507274466,2.79049507274466,2.79049507274466,2.79049507274466,2.79049507274466,2.79049507274466,2.79049507274466,2.79049507274466,2.79049507274466,2.79049507274466,2.79049507274466,2.79049507274466,2.79049507274466,2.79049507274466,2.79049507274466,2.79049507274466,2.79049507274466,2.79049507274466,2.79049507274466,2.79049507274466,2.79049507274466,2.79049507274466,2.79049507274466,2.79049507274466,2.79049507274466,2.79049507274466,2.79049507274466,2.79049507274466,2.79049507274466,2.79049507274466,2.79049507274466,2.79049507274466,2.79049507274466,2.79049507274466,2.79049507274466,2.79049507274466,2.79049507274466,2.79049507274466,2.79049507274466,2.79049507274466,2.79049507274466,2.79049507274466,2.79049507274466,2.79049507274466,2.79049507274466,2.79049507274466,2.79049507274466,2.79049507274466,2.79049507274466,2.79049507274466,2.79049507274466,2.79049507274466,2.79049507274466,2.79049507274466,2.79049507274466,2.79049507274466,2.79049507274466,2.79049507274466,2.79049507274466,2.79049507274466,2.79049507274466,2.79049507274466,2.79049507274466,2.79049507274466,2.79049507274466,2.79049507274466,2.79049507274466,2.79049507274466,2.79049507274466,2.79049507274466,2.79049507274466,2.79049507274466,2.79049507274466,2.79049507274466,2.79049507274466,2.79049507274466,2.79049507274466,2.79049507274466,2.79049507274466,2.79049507274466,2.79049507274466,2.79049507274466,2.79049507274466,3.064843893068798,3.064843893068798,3.064843893068798,3.064843893068798,3.064843893068798,3.064843893068798,3.064843893068798,3.064843893068798,3.064843893068798,3.064843893068798,3.064843893068798,3.064843893068798,3.064843893068798,3.064843893068798,3.064843893068798,3.064843893068798,3.064843893068798,3.064843893068798,3.064843893068798,3.064843893068798,3.064843893068798,3.064843893068798,3.064843893068798,3.064843893068798,3.064843893068798,3.064843893068798,3.064843893068798,3.064843893068798,3.064843893068798,3.064843893068798,3.064843893068798,3.064843893068798,3.064843893068798,3.064843893068798,3.064843893068798,3.064843893068798,3.064843893068798,3.064843893068798,3.064843893068798,3.064843893068798,3.064843893068798,3.064843893068798,3.064843893068798,3.064843893068798,3.064843893068798,3.064843893068798,3.064843893068798,3.064843893068798,3.064843893068798,3.064843893068798,3.064843893068798,3.064843893068798,3.064843893068798,3.064843893068798,3.064843893068798,3.064843893068798,3.064843893068798,3.064843893068798,3.064843893068798,3.064843893068798,3.064843893068798,3.064843893068798,3.064843893068798,3.064843893068798,3.064843893068798,3.064843893068798,3.064843893068798,3.064843893068798,3.064843893068798,3.064843893068798,3.064843893068798,3.064843893068798,3.064843893068798,3.064843893068798,3.064843893068798,3.064843893068798,3.064843893068798,3.064843893068798,3.064843893068798,3.064843893068798,3.064843893068798,3.064843893068798,3.064843893068798,3.064843893068798,3.064843893068798,3.064843893068798,3.064843893068798,3.064843893068798,3.064843893068798,3.064843893068798,3.064843893068798,3.064843893068798,3.064843893068798,3.064843893068798,3.064843893068798,3.064843893068798,3.064843893068798,3.064843893068798,3.064843893068798,3.064843893068798,3.064843893068798,3.064843893068798,3.064843893068798,3.064843893068798,3.064843893068798,3.064843893068798,3.064843893068798,3.064843893068798,3.064843893068798,3.064843893068798,3.064843893068798,3.064843893068798,3.064843893068798,3.064843893068798,3.064843893068798,3.064843893068798,3.064843893068798,3.064843893068798,3.064843893068798,3.064843893068798,3.064843893068798,3.064843893068798,3.064843893068798,3.064843893068798,3.064843893068798,3.064843893068798,3.064843893068798,3.064843893068798,3.064843893068798,3.064843893068798,3.064843893068798,3.064843893068798,3.064843893068798,3.064843893068798,3.064843893068798,3.064843893068798,3.064843893068798,3.064843893068798,3.064843893068798,3.064843893068798,3.064843893068798,3.064843893068798,3.064843893068798,3.064843893068798,3.064843893068798,3.064843893068798,3.064843893068798,3.064843893068798,3.064843893068798,3.064843893068798,3.064843893068798,3.064843893068798,3.064843893068798,3.064843893068798,3.064843893068798,3.064843893068798,3.064843893068798,3.064843893068798,3.064843893068798,3.064843893068798,3.064843893068798,3.064843893068798,3.064843893068798,3.064843893068798,3.064843893068798,3.064843893068798,3.064843893068798,3.064843893068798,3.064843893068798,3.064843893068798,3.064843893068798,3.064843893068798,3.064843893068798,3.064843893068798,3.064843893068798,3.064843893068798,3.064843893068798,3.064843893068798,3.064843893068798,3.064843893068798,3.064843893068798,3.064843893068798,3.064843893068798,3.064843893068798,3.064843893068798,3.064843893068798,3.064843893068798,3.064843893068798,3.064843893068798,3.064843893068798,3.064843893068798,3.064843893068798,3.064843893068798,3.064843893068798,3.064843893068798,3.064843893068798,3.064843893068798,3.064843893068798,3.064843893068798,3.064843893068798,3.064843893068798,3.064843893068798,3.064843893068798,3.064843893068798,3.064843893068798,3.064843893068798,3.064843893068798,3.064843893068798,3.064843893068798,3.064843893068798,3.064843893068798,3.064843893068798,3.064843893068798,3.064843893068798,3.064843893068798,3.064843893068798,3.064843893068798,3.064843893068798,3.064843893068798,3.064843893068798,3.064843893068798,3.064843893068798,3.064843893068798,3.064843893068798,3.064843893068798,3.064843893068798,3.064843893068798,3.064843893068798,3.064843893068798,3.064843893068798,3.064843893068798,3.064843893068798,3.064843893068798,3.064843893068798,3.064843893068798,3.1378815272172806,3.1378815272172806,3.1378815272172806,3.1378815272172806,3.1378815272172806,3.1378815272172806,3.1378815272172806,3.1378815272172806,3.1378815272172806,3.1378815272172806,3.1378815272172806,3.1378815272172806,3.1378815272172806,3.1378815272172806,3.1378815272172806,3.1378815272172806,3.1378815272172806,3.1378815272172806,3.1378815272172806,3.1378815272172806,3.1378815272172806,3.1378815272172806,3.1378815272172806,3.1378815272172806,3.1378815272172806,3.1378815272172806,3.1378815272172806,3.1378815272172806,3.1378815272172806,3.1378815272172806,3.1378815272172806,3.1378815272172806,3.1378815272172806,3.1378815272172806,3.1378815272172806,3.1378815272172806,3.1378815272172806,3.1378815272172806,3.1378815272172806,3.1378815272172806,3.1378815272172806,3.1378815272172806,3.1378815272172806,3.1378815272172806,3.1378815272172806,3.1378815272172806,3.1378815272172806,3.1378815272172806,3.1378815272172806,3.1378815272172806,3.1378815272172806,3.1378815272172806,3.1378815272172806,3.1378815272172806,3.1378815272172806,3.1378815272172806,3.1378815272172806,3.1378815272172806,3.1378815272172806,3.1378815272172806,3.1378815272172806,3.1378815272172806,3.1378815272172806,3.1378815272172806,3.1378815272172806,3.1378815272172806,3.1378815272172806,3.1378815272172806,3.1378815272172806,3.1378815272172806,3.1378815272172806,3.1378815272172806,3.1378815272172806,3.1378815272172806,3.1378815272172806,3.1378815272172806,3.1378815272172806,3.1378815272172806,3.1378815272172806,3.1378815272172806,3.1378815272172806,3.1378815272172806,3.1378815272172806,3.1378815272172806,3.1378815272172806,3.1378815272172806,3.1378815272172806,3.1378815272172806,3.1378815272172806,3.1378815272172806,3.1378815272172806,3.1378815272172806,3.1378815272172806,3.1378815272172806,3.1378815272172806,3.1378815272172806,3.1378815272172806,3.1378815272172806,3.1378815272172806,3.1378815272172806,3.1378815272172806,3.1378815272172806,3.1378815272172806,3.1378815272172806,3.1378815272172806,3.1378815272172806,3.1378815272172806,3.1378815272172806,3.1378815272172806,3.1378815272172806,3.1378815272172806,3.1378815272172806,3.1378815272172806,3.1378815272172806,3.1378815272172806,3.1378815272172806,3.1378815272172806,3.1378815272172806,3.1378815272172806,3.1378815272172806,3.1378815272172806,3.1378815272172806,3.1378815272172806,3.1378815272172806,3.1378815272172806,3.1378815272172806,3.1378815272172806,3.1378815272172806,3.1378815272172806,3.1378815272172806,3.1378815272172806,3.1378815272172806,3.1378815272172806,3.1378815272172806,3.1378815272172806,3.1378815272172806,3.1378815272172806,3.1378815272172806,3.1378815272172806,3.1378815272172806,3.1378815272172806,3.1378815272172806,3.1378815272172806,3.1378815272172806,3.1378815272172806,3.1378815272172806,3.1378815272172806,3.1378815272172806,3.1378815272172806,3.1378815272172806,3.1378815272172806,3.1378815272172806,3.1378815272172806,3.1378815272172806,3.1378815272172806,3.1378815272172806,3.1378815272172806,3.1378815272172806,3.1378815272172806,3.1378815272172806,3.1378815272172806,3.1378815272172806,3.1378815272172806,3.1378815272172806,3.1378815272172806,3.1378815272172806,3.1378815272172806,3.1378815272172806,3.1378815272172806,3.1378815272172806,3.1817176128016964,3.1817176128016964,3.1817176128016964,3.1817176128016964,3.1817176128016964,3.1817176128016964,3.1817176128016964,3.1817176128016964,3.1817176128016964,3.1817176128016964,3.1817176128016964],\"yaxis\":\"y\",\"type\":\"scattergl\"},{\"hovertemplate\":\"variable=C<br>index=%{x}<br>value=%{y}<extra></extra>\",\"legendgroup\":\"C\",\"line\":{\"color\":\"#00cc96\",\"dash\":\"solid\"},\"marker\":{\"symbol\":\"circle\"},\"mode\":\"lines\",\"name\":\"C\",\"showlegend\":true,\"x\":[\"2000-01-01T00:00:00\",\"2000-01-02T00:00:00\",\"2000-01-03T00:00:00\",\"2000-01-04T00:00:00\",\"2000-01-05T00:00:00\",\"2000-01-06T00:00:00\",\"2000-01-07T00:00:00\",\"2000-01-08T00:00:00\",\"2000-01-09T00:00:00\",\"2000-01-10T00:00:00\",\"2000-01-11T00:00:00\",\"2000-01-12T00:00:00\",\"2000-01-13T00:00:00\",\"2000-01-14T00:00:00\",\"2000-01-15T00:00:00\",\"2000-01-16T00:00:00\",\"2000-01-17T00:00:00\",\"2000-01-18T00:00:00\",\"2000-01-19T00:00:00\",\"2000-01-20T00:00:00\",\"2000-01-21T00:00:00\",\"2000-01-22T00:00:00\",\"2000-01-23T00:00:00\",\"2000-01-24T00:00:00\",\"2000-01-25T00:00:00\",\"2000-01-26T00:00:00\",\"2000-01-27T00:00:00\",\"2000-01-28T00:00:00\",\"2000-01-29T00:00:00\",\"2000-01-30T00:00:00\",\"2000-01-31T00:00:00\",\"2000-02-01T00:00:00\",\"2000-02-02T00:00:00\",\"2000-02-03T00:00:00\",\"2000-02-04T00:00:00\",\"2000-02-05T00:00:00\",\"2000-02-06T00:00:00\",\"2000-02-07T00:00:00\",\"2000-02-08T00:00:00\",\"2000-02-09T00:00:00\",\"2000-02-10T00:00:00\",\"2000-02-11T00:00:00\",\"2000-02-12T00:00:00\",\"2000-02-13T00:00:00\",\"2000-02-14T00:00:00\",\"2000-02-15T00:00:00\",\"2000-02-16T00:00:00\",\"2000-02-17T00:00:00\",\"2000-02-18T00:00:00\",\"2000-02-19T00:00:00\",\"2000-02-20T00:00:00\",\"2000-02-21T00:00:00\",\"2000-02-22T00:00:00\",\"2000-02-23T00:00:00\",\"2000-02-24T00:00:00\",\"2000-02-25T00:00:00\",\"2000-02-26T00:00:00\",\"2000-02-27T00:00:00\",\"2000-02-28T00:00:00\",\"2000-02-29T00:00:00\",\"2000-03-01T00:00:00\",\"2000-03-02T00:00:00\",\"2000-03-03T00:00:00\",\"2000-03-04T00:00:00\",\"2000-03-05T00:00:00\",\"2000-03-06T00:00:00\",\"2000-03-07T00:00:00\",\"2000-03-08T00:00:00\",\"2000-03-09T00:00:00\",\"2000-03-10T00:00:00\",\"2000-03-11T00:00:00\",\"2000-03-12T00:00:00\",\"2000-03-13T00:00:00\",\"2000-03-14T00:00:00\",\"2000-03-15T00:00:00\",\"2000-03-16T00:00:00\",\"2000-03-17T00:00:00\",\"2000-03-18T00:00:00\",\"2000-03-19T00:00:00\",\"2000-03-20T00:00:00\",\"2000-03-21T00:00:00\",\"2000-03-22T00:00:00\",\"2000-03-23T00:00:00\",\"2000-03-24T00:00:00\",\"2000-03-25T00:00:00\",\"2000-03-26T00:00:00\",\"2000-03-27T00:00:00\",\"2000-03-28T00:00:00\",\"2000-03-29T00:00:00\",\"2000-03-30T00:00:00\",\"2000-03-31T00:00:00\",\"2000-04-01T00:00:00\",\"2000-04-02T00:00:00\",\"2000-04-03T00:00:00\",\"2000-04-04T00:00:00\",\"2000-04-05T00:00:00\",\"2000-04-06T00:00:00\",\"2000-04-07T00:00:00\",\"2000-04-08T00:00:00\",\"2000-04-09T00:00:00\",\"2000-04-10T00:00:00\",\"2000-04-11T00:00:00\",\"2000-04-12T00:00:00\",\"2000-04-13T00:00:00\",\"2000-04-14T00:00:00\",\"2000-04-15T00:00:00\",\"2000-04-16T00:00:00\",\"2000-04-17T00:00:00\",\"2000-04-18T00:00:00\",\"2000-04-19T00:00:00\",\"2000-04-20T00:00:00\",\"2000-04-21T00:00:00\",\"2000-04-22T00:00:00\",\"2000-04-23T00:00:00\",\"2000-04-24T00:00:00\",\"2000-04-25T00:00:00\",\"2000-04-26T00:00:00\",\"2000-04-27T00:00:00\",\"2000-04-28T00:00:00\",\"2000-04-29T00:00:00\",\"2000-04-30T00:00:00\",\"2000-05-01T00:00:00\",\"2000-05-02T00:00:00\",\"2000-05-03T00:00:00\",\"2000-05-04T00:00:00\",\"2000-05-05T00:00:00\",\"2000-05-06T00:00:00\",\"2000-05-07T00:00:00\",\"2000-05-08T00:00:00\",\"2000-05-09T00:00:00\",\"2000-05-10T00:00:00\",\"2000-05-11T00:00:00\",\"2000-05-12T00:00:00\",\"2000-05-13T00:00:00\",\"2000-05-14T00:00:00\",\"2000-05-15T00:00:00\",\"2000-05-16T00:00:00\",\"2000-05-17T00:00:00\",\"2000-05-18T00:00:00\",\"2000-05-19T00:00:00\",\"2000-05-20T00:00:00\",\"2000-05-21T00:00:00\",\"2000-05-22T00:00:00\",\"2000-05-23T00:00:00\",\"2000-05-24T00:00:00\",\"2000-05-25T00:00:00\",\"2000-05-26T00:00:00\",\"2000-05-27T00:00:00\",\"2000-05-28T00:00:00\",\"2000-05-29T00:00:00\",\"2000-05-30T00:00:00\",\"2000-05-31T00:00:00\",\"2000-06-01T00:00:00\",\"2000-06-02T00:00:00\",\"2000-06-03T00:00:00\",\"2000-06-04T00:00:00\",\"2000-06-05T00:00:00\",\"2000-06-06T00:00:00\",\"2000-06-07T00:00:00\",\"2000-06-08T00:00:00\",\"2000-06-09T00:00:00\",\"2000-06-10T00:00:00\",\"2000-06-11T00:00:00\",\"2000-06-12T00:00:00\",\"2000-06-13T00:00:00\",\"2000-06-14T00:00:00\",\"2000-06-15T00:00:00\",\"2000-06-16T00:00:00\",\"2000-06-17T00:00:00\",\"2000-06-18T00:00:00\",\"2000-06-19T00:00:00\",\"2000-06-20T00:00:00\",\"2000-06-21T00:00:00\",\"2000-06-22T00:00:00\",\"2000-06-23T00:00:00\",\"2000-06-24T00:00:00\",\"2000-06-25T00:00:00\",\"2000-06-26T00:00:00\",\"2000-06-27T00:00:00\",\"2000-06-28T00:00:00\",\"2000-06-29T00:00:00\",\"2000-06-30T00:00:00\",\"2000-07-01T00:00:00\",\"2000-07-02T00:00:00\",\"2000-07-03T00:00:00\",\"2000-07-04T00:00:00\",\"2000-07-05T00:00:00\",\"2000-07-06T00:00:00\",\"2000-07-07T00:00:00\",\"2000-07-08T00:00:00\",\"2000-07-09T00:00:00\",\"2000-07-10T00:00:00\",\"2000-07-11T00:00:00\",\"2000-07-12T00:00:00\",\"2000-07-13T00:00:00\",\"2000-07-14T00:00:00\",\"2000-07-15T00:00:00\",\"2000-07-16T00:00:00\",\"2000-07-17T00:00:00\",\"2000-07-18T00:00:00\",\"2000-07-19T00:00:00\",\"2000-07-20T00:00:00\",\"2000-07-21T00:00:00\",\"2000-07-22T00:00:00\",\"2000-07-23T00:00:00\",\"2000-07-24T00:00:00\",\"2000-07-25T00:00:00\",\"2000-07-26T00:00:00\",\"2000-07-27T00:00:00\",\"2000-07-28T00:00:00\",\"2000-07-29T00:00:00\",\"2000-07-30T00:00:00\",\"2000-07-31T00:00:00\",\"2000-08-01T00:00:00\",\"2000-08-02T00:00:00\",\"2000-08-03T00:00:00\",\"2000-08-04T00:00:00\",\"2000-08-05T00:00:00\",\"2000-08-06T00:00:00\",\"2000-08-07T00:00:00\",\"2000-08-08T00:00:00\",\"2000-08-09T00:00:00\",\"2000-08-10T00:00:00\",\"2000-08-11T00:00:00\",\"2000-08-12T00:00:00\",\"2000-08-13T00:00:00\",\"2000-08-14T00:00:00\",\"2000-08-15T00:00:00\",\"2000-08-16T00:00:00\",\"2000-08-17T00:00:00\",\"2000-08-18T00:00:00\",\"2000-08-19T00:00:00\",\"2000-08-20T00:00:00\",\"2000-08-21T00:00:00\",\"2000-08-22T00:00:00\",\"2000-08-23T00:00:00\",\"2000-08-24T00:00:00\",\"2000-08-25T00:00:00\",\"2000-08-26T00:00:00\",\"2000-08-27T00:00:00\",\"2000-08-28T00:00:00\",\"2000-08-29T00:00:00\",\"2000-08-30T00:00:00\",\"2000-08-31T00:00:00\",\"2000-09-01T00:00:00\",\"2000-09-02T00:00:00\",\"2000-09-03T00:00:00\",\"2000-09-04T00:00:00\",\"2000-09-05T00:00:00\",\"2000-09-06T00:00:00\",\"2000-09-07T00:00:00\",\"2000-09-08T00:00:00\",\"2000-09-09T00:00:00\",\"2000-09-10T00:00:00\",\"2000-09-11T00:00:00\",\"2000-09-12T00:00:00\",\"2000-09-13T00:00:00\",\"2000-09-14T00:00:00\",\"2000-09-15T00:00:00\",\"2000-09-16T00:00:00\",\"2000-09-17T00:00:00\",\"2000-09-18T00:00:00\",\"2000-09-19T00:00:00\",\"2000-09-20T00:00:00\",\"2000-09-21T00:00:00\",\"2000-09-22T00:00:00\",\"2000-09-23T00:00:00\",\"2000-09-24T00:00:00\",\"2000-09-25T00:00:00\",\"2000-09-26T00:00:00\",\"2000-09-27T00:00:00\",\"2000-09-28T00:00:00\",\"2000-09-29T00:00:00\",\"2000-09-30T00:00:00\",\"2000-10-01T00:00:00\",\"2000-10-02T00:00:00\",\"2000-10-03T00:00:00\",\"2000-10-04T00:00:00\",\"2000-10-05T00:00:00\",\"2000-10-06T00:00:00\",\"2000-10-07T00:00:00\",\"2000-10-08T00:00:00\",\"2000-10-09T00:00:00\",\"2000-10-10T00:00:00\",\"2000-10-11T00:00:00\",\"2000-10-12T00:00:00\",\"2000-10-13T00:00:00\",\"2000-10-14T00:00:00\",\"2000-10-15T00:00:00\",\"2000-10-16T00:00:00\",\"2000-10-17T00:00:00\",\"2000-10-18T00:00:00\",\"2000-10-19T00:00:00\",\"2000-10-20T00:00:00\",\"2000-10-21T00:00:00\",\"2000-10-22T00:00:00\",\"2000-10-23T00:00:00\",\"2000-10-24T00:00:00\",\"2000-10-25T00:00:00\",\"2000-10-26T00:00:00\",\"2000-10-27T00:00:00\",\"2000-10-28T00:00:00\",\"2000-10-29T00:00:00\",\"2000-10-30T00:00:00\",\"2000-10-31T00:00:00\",\"2000-11-01T00:00:00\",\"2000-11-02T00:00:00\",\"2000-11-03T00:00:00\",\"2000-11-04T00:00:00\",\"2000-11-05T00:00:00\",\"2000-11-06T00:00:00\",\"2000-11-07T00:00:00\",\"2000-11-08T00:00:00\",\"2000-11-09T00:00:00\",\"2000-11-10T00:00:00\",\"2000-11-11T00:00:00\",\"2000-11-12T00:00:00\",\"2000-11-13T00:00:00\",\"2000-11-14T00:00:00\",\"2000-11-15T00:00:00\",\"2000-11-16T00:00:00\",\"2000-11-17T00:00:00\",\"2000-11-18T00:00:00\",\"2000-11-19T00:00:00\",\"2000-11-20T00:00:00\",\"2000-11-21T00:00:00\",\"2000-11-22T00:00:00\",\"2000-11-23T00:00:00\",\"2000-11-24T00:00:00\",\"2000-11-25T00:00:00\",\"2000-11-26T00:00:00\",\"2000-11-27T00:00:00\",\"2000-11-28T00:00:00\",\"2000-11-29T00:00:00\",\"2000-11-30T00:00:00\",\"2000-12-01T00:00:00\",\"2000-12-02T00:00:00\",\"2000-12-03T00:00:00\",\"2000-12-04T00:00:00\",\"2000-12-05T00:00:00\",\"2000-12-06T00:00:00\",\"2000-12-07T00:00:00\",\"2000-12-08T00:00:00\",\"2000-12-09T00:00:00\",\"2000-12-10T00:00:00\",\"2000-12-11T00:00:00\",\"2000-12-12T00:00:00\",\"2000-12-13T00:00:00\",\"2000-12-14T00:00:00\",\"2000-12-15T00:00:00\",\"2000-12-16T00:00:00\",\"2000-12-17T00:00:00\",\"2000-12-18T00:00:00\",\"2000-12-19T00:00:00\",\"2000-12-20T00:00:00\",\"2000-12-21T00:00:00\",\"2000-12-22T00:00:00\",\"2000-12-23T00:00:00\",\"2000-12-24T00:00:00\",\"2000-12-25T00:00:00\",\"2000-12-26T00:00:00\",\"2000-12-27T00:00:00\",\"2000-12-28T00:00:00\",\"2000-12-29T00:00:00\",\"2000-12-30T00:00:00\",\"2000-12-31T00:00:00\",\"2001-01-01T00:00:00\",\"2001-01-02T00:00:00\",\"2001-01-03T00:00:00\",\"2001-01-04T00:00:00\",\"2001-01-05T00:00:00\",\"2001-01-06T00:00:00\",\"2001-01-07T00:00:00\",\"2001-01-08T00:00:00\",\"2001-01-09T00:00:00\",\"2001-01-10T00:00:00\",\"2001-01-11T00:00:00\",\"2001-01-12T00:00:00\",\"2001-01-13T00:00:00\",\"2001-01-14T00:00:00\",\"2001-01-15T00:00:00\",\"2001-01-16T00:00:00\",\"2001-01-17T00:00:00\",\"2001-01-18T00:00:00\",\"2001-01-19T00:00:00\",\"2001-01-20T00:00:00\",\"2001-01-21T00:00:00\",\"2001-01-22T00:00:00\",\"2001-01-23T00:00:00\",\"2001-01-24T00:00:00\",\"2001-01-25T00:00:00\",\"2001-01-26T00:00:00\",\"2001-01-27T00:00:00\",\"2001-01-28T00:00:00\",\"2001-01-29T00:00:00\",\"2001-01-30T00:00:00\",\"2001-01-31T00:00:00\",\"2001-02-01T00:00:00\",\"2001-02-02T00:00:00\",\"2001-02-03T00:00:00\",\"2001-02-04T00:00:00\",\"2001-02-05T00:00:00\",\"2001-02-06T00:00:00\",\"2001-02-07T00:00:00\",\"2001-02-08T00:00:00\",\"2001-02-09T00:00:00\",\"2001-02-10T00:00:00\",\"2001-02-11T00:00:00\",\"2001-02-12T00:00:00\",\"2001-02-13T00:00:00\",\"2001-02-14T00:00:00\",\"2001-02-15T00:00:00\",\"2001-02-16T00:00:00\",\"2001-02-17T00:00:00\",\"2001-02-18T00:00:00\",\"2001-02-19T00:00:00\",\"2001-02-20T00:00:00\",\"2001-02-21T00:00:00\",\"2001-02-22T00:00:00\",\"2001-02-23T00:00:00\",\"2001-02-24T00:00:00\",\"2001-02-25T00:00:00\",\"2001-02-26T00:00:00\",\"2001-02-27T00:00:00\",\"2001-02-28T00:00:00\",\"2001-03-01T00:00:00\",\"2001-03-02T00:00:00\",\"2001-03-03T00:00:00\",\"2001-03-04T00:00:00\",\"2001-03-05T00:00:00\",\"2001-03-06T00:00:00\",\"2001-03-07T00:00:00\",\"2001-03-08T00:00:00\",\"2001-03-09T00:00:00\",\"2001-03-10T00:00:00\",\"2001-03-11T00:00:00\",\"2001-03-12T00:00:00\",\"2001-03-13T00:00:00\",\"2001-03-14T00:00:00\",\"2001-03-15T00:00:00\",\"2001-03-16T00:00:00\",\"2001-03-17T00:00:00\",\"2001-03-18T00:00:00\",\"2001-03-19T00:00:00\",\"2001-03-20T00:00:00\",\"2001-03-21T00:00:00\",\"2001-03-22T00:00:00\",\"2001-03-23T00:00:00\",\"2001-03-24T00:00:00\",\"2001-03-25T00:00:00\",\"2001-03-26T00:00:00\",\"2001-03-27T00:00:00\",\"2001-03-28T00:00:00\",\"2001-03-29T00:00:00\",\"2001-03-30T00:00:00\",\"2001-03-31T00:00:00\",\"2001-04-01T00:00:00\",\"2001-04-02T00:00:00\",\"2001-04-03T00:00:00\",\"2001-04-04T00:00:00\",\"2001-04-05T00:00:00\",\"2001-04-06T00:00:00\",\"2001-04-07T00:00:00\",\"2001-04-08T00:00:00\",\"2001-04-09T00:00:00\",\"2001-04-10T00:00:00\",\"2001-04-11T00:00:00\",\"2001-04-12T00:00:00\",\"2001-04-13T00:00:00\",\"2001-04-14T00:00:00\",\"2001-04-15T00:00:00\",\"2001-04-16T00:00:00\",\"2001-04-17T00:00:00\",\"2001-04-18T00:00:00\",\"2001-04-19T00:00:00\",\"2001-04-20T00:00:00\",\"2001-04-21T00:00:00\",\"2001-04-22T00:00:00\",\"2001-04-23T00:00:00\",\"2001-04-24T00:00:00\",\"2001-04-25T00:00:00\",\"2001-04-26T00:00:00\",\"2001-04-27T00:00:00\",\"2001-04-28T00:00:00\",\"2001-04-29T00:00:00\",\"2001-04-30T00:00:00\",\"2001-05-01T00:00:00\",\"2001-05-02T00:00:00\",\"2001-05-03T00:00:00\",\"2001-05-04T00:00:00\",\"2001-05-05T00:00:00\",\"2001-05-06T00:00:00\",\"2001-05-07T00:00:00\",\"2001-05-08T00:00:00\",\"2001-05-09T00:00:00\",\"2001-05-10T00:00:00\",\"2001-05-11T00:00:00\",\"2001-05-12T00:00:00\",\"2001-05-13T00:00:00\",\"2001-05-14T00:00:00\",\"2001-05-15T00:00:00\",\"2001-05-16T00:00:00\",\"2001-05-17T00:00:00\",\"2001-05-18T00:00:00\",\"2001-05-19T00:00:00\",\"2001-05-20T00:00:00\",\"2001-05-21T00:00:00\",\"2001-05-22T00:00:00\",\"2001-05-23T00:00:00\",\"2001-05-24T00:00:00\",\"2001-05-25T00:00:00\",\"2001-05-26T00:00:00\",\"2001-05-27T00:00:00\",\"2001-05-28T00:00:00\",\"2001-05-29T00:00:00\",\"2001-05-30T00:00:00\",\"2001-05-31T00:00:00\",\"2001-06-01T00:00:00\",\"2001-06-02T00:00:00\",\"2001-06-03T00:00:00\",\"2001-06-04T00:00:00\",\"2001-06-05T00:00:00\",\"2001-06-06T00:00:00\",\"2001-06-07T00:00:00\",\"2001-06-08T00:00:00\",\"2001-06-09T00:00:00\",\"2001-06-10T00:00:00\",\"2001-06-11T00:00:00\",\"2001-06-12T00:00:00\",\"2001-06-13T00:00:00\",\"2001-06-14T00:00:00\",\"2001-06-15T00:00:00\",\"2001-06-16T00:00:00\",\"2001-06-17T00:00:00\",\"2001-06-18T00:00:00\",\"2001-06-19T00:00:00\",\"2001-06-20T00:00:00\",\"2001-06-21T00:00:00\",\"2001-06-22T00:00:00\",\"2001-06-23T00:00:00\",\"2001-06-24T00:00:00\",\"2001-06-25T00:00:00\",\"2001-06-26T00:00:00\",\"2001-06-27T00:00:00\",\"2001-06-28T00:00:00\",\"2001-06-29T00:00:00\",\"2001-06-30T00:00:00\",\"2001-07-01T00:00:00\",\"2001-07-02T00:00:00\",\"2001-07-03T00:00:00\",\"2001-07-04T00:00:00\",\"2001-07-05T00:00:00\",\"2001-07-06T00:00:00\",\"2001-07-07T00:00:00\",\"2001-07-08T00:00:00\",\"2001-07-09T00:00:00\",\"2001-07-10T00:00:00\",\"2001-07-11T00:00:00\",\"2001-07-12T00:00:00\",\"2001-07-13T00:00:00\",\"2001-07-14T00:00:00\",\"2001-07-15T00:00:00\",\"2001-07-16T00:00:00\",\"2001-07-17T00:00:00\",\"2001-07-18T00:00:00\",\"2001-07-19T00:00:00\",\"2001-07-20T00:00:00\",\"2001-07-21T00:00:00\",\"2001-07-22T00:00:00\",\"2001-07-23T00:00:00\",\"2001-07-24T00:00:00\",\"2001-07-25T00:00:00\",\"2001-07-26T00:00:00\",\"2001-07-27T00:00:00\",\"2001-07-28T00:00:00\",\"2001-07-29T00:00:00\",\"2001-07-30T00:00:00\",\"2001-07-31T00:00:00\",\"2001-08-01T00:00:00\",\"2001-08-02T00:00:00\",\"2001-08-03T00:00:00\",\"2001-08-04T00:00:00\",\"2001-08-05T00:00:00\",\"2001-08-06T00:00:00\",\"2001-08-07T00:00:00\",\"2001-08-08T00:00:00\",\"2001-08-09T00:00:00\",\"2001-08-10T00:00:00\",\"2001-08-11T00:00:00\",\"2001-08-12T00:00:00\",\"2001-08-13T00:00:00\",\"2001-08-14T00:00:00\",\"2001-08-15T00:00:00\",\"2001-08-16T00:00:00\",\"2001-08-17T00:00:00\",\"2001-08-18T00:00:00\",\"2001-08-19T00:00:00\",\"2001-08-20T00:00:00\",\"2001-08-21T00:00:00\",\"2001-08-22T00:00:00\",\"2001-08-23T00:00:00\",\"2001-08-24T00:00:00\",\"2001-08-25T00:00:00\",\"2001-08-26T00:00:00\",\"2001-08-27T00:00:00\",\"2001-08-28T00:00:00\",\"2001-08-29T00:00:00\",\"2001-08-30T00:00:00\",\"2001-08-31T00:00:00\",\"2001-09-01T00:00:00\",\"2001-09-02T00:00:00\",\"2001-09-03T00:00:00\",\"2001-09-04T00:00:00\",\"2001-09-05T00:00:00\",\"2001-09-06T00:00:00\",\"2001-09-07T00:00:00\",\"2001-09-08T00:00:00\",\"2001-09-09T00:00:00\",\"2001-09-10T00:00:00\",\"2001-09-11T00:00:00\",\"2001-09-12T00:00:00\",\"2001-09-13T00:00:00\",\"2001-09-14T00:00:00\",\"2001-09-15T00:00:00\",\"2001-09-16T00:00:00\",\"2001-09-17T00:00:00\",\"2001-09-18T00:00:00\",\"2001-09-19T00:00:00\",\"2001-09-20T00:00:00\",\"2001-09-21T00:00:00\",\"2001-09-22T00:00:00\",\"2001-09-23T00:00:00\",\"2001-09-24T00:00:00\",\"2001-09-25T00:00:00\",\"2001-09-26T00:00:00\",\"2001-09-27T00:00:00\",\"2001-09-28T00:00:00\",\"2001-09-29T00:00:00\",\"2001-09-30T00:00:00\",\"2001-10-01T00:00:00\",\"2001-10-02T00:00:00\",\"2001-10-03T00:00:00\",\"2001-10-04T00:00:00\",\"2001-10-05T00:00:00\",\"2001-10-06T00:00:00\",\"2001-10-07T00:00:00\",\"2001-10-08T00:00:00\",\"2001-10-09T00:00:00\",\"2001-10-10T00:00:00\",\"2001-10-11T00:00:00\",\"2001-10-12T00:00:00\",\"2001-10-13T00:00:00\",\"2001-10-14T00:00:00\",\"2001-10-15T00:00:00\",\"2001-10-16T00:00:00\",\"2001-10-17T00:00:00\",\"2001-10-18T00:00:00\",\"2001-10-19T00:00:00\",\"2001-10-20T00:00:00\",\"2001-10-21T00:00:00\",\"2001-10-22T00:00:00\",\"2001-10-23T00:00:00\",\"2001-10-24T00:00:00\",\"2001-10-25T00:00:00\",\"2001-10-26T00:00:00\",\"2001-10-27T00:00:00\",\"2001-10-28T00:00:00\",\"2001-10-29T00:00:00\",\"2001-10-30T00:00:00\",\"2001-10-31T00:00:00\",\"2001-11-01T00:00:00\",\"2001-11-02T00:00:00\",\"2001-11-03T00:00:00\",\"2001-11-04T00:00:00\",\"2001-11-05T00:00:00\",\"2001-11-06T00:00:00\",\"2001-11-07T00:00:00\",\"2001-11-08T00:00:00\",\"2001-11-09T00:00:00\",\"2001-11-10T00:00:00\",\"2001-11-11T00:00:00\",\"2001-11-12T00:00:00\",\"2001-11-13T00:00:00\",\"2001-11-14T00:00:00\",\"2001-11-15T00:00:00\",\"2001-11-16T00:00:00\",\"2001-11-17T00:00:00\",\"2001-11-18T00:00:00\",\"2001-11-19T00:00:00\",\"2001-11-20T00:00:00\",\"2001-11-21T00:00:00\",\"2001-11-22T00:00:00\",\"2001-11-23T00:00:00\",\"2001-11-24T00:00:00\",\"2001-11-25T00:00:00\",\"2001-11-26T00:00:00\",\"2001-11-27T00:00:00\",\"2001-11-28T00:00:00\",\"2001-11-29T00:00:00\",\"2001-11-30T00:00:00\",\"2001-12-01T00:00:00\",\"2001-12-02T00:00:00\",\"2001-12-03T00:00:00\",\"2001-12-04T00:00:00\",\"2001-12-05T00:00:00\",\"2001-12-06T00:00:00\",\"2001-12-07T00:00:00\",\"2001-12-08T00:00:00\",\"2001-12-09T00:00:00\",\"2001-12-10T00:00:00\",\"2001-12-11T00:00:00\",\"2001-12-12T00:00:00\",\"2001-12-13T00:00:00\",\"2001-12-14T00:00:00\",\"2001-12-15T00:00:00\",\"2001-12-16T00:00:00\",\"2001-12-17T00:00:00\",\"2001-12-18T00:00:00\",\"2001-12-19T00:00:00\",\"2001-12-20T00:00:00\",\"2001-12-21T00:00:00\",\"2001-12-22T00:00:00\",\"2001-12-23T00:00:00\",\"2001-12-24T00:00:00\",\"2001-12-25T00:00:00\",\"2001-12-26T00:00:00\",\"2001-12-27T00:00:00\",\"2001-12-28T00:00:00\",\"2001-12-29T00:00:00\",\"2001-12-30T00:00:00\",\"2001-12-31T00:00:00\",\"2002-01-01T00:00:00\",\"2002-01-02T00:00:00\",\"2002-01-03T00:00:00\",\"2002-01-04T00:00:00\",\"2002-01-05T00:00:00\",\"2002-01-06T00:00:00\",\"2002-01-07T00:00:00\",\"2002-01-08T00:00:00\",\"2002-01-09T00:00:00\",\"2002-01-10T00:00:00\",\"2002-01-11T00:00:00\",\"2002-01-12T00:00:00\",\"2002-01-13T00:00:00\",\"2002-01-14T00:00:00\",\"2002-01-15T00:00:00\",\"2002-01-16T00:00:00\",\"2002-01-17T00:00:00\",\"2002-01-18T00:00:00\",\"2002-01-19T00:00:00\",\"2002-01-20T00:00:00\",\"2002-01-21T00:00:00\",\"2002-01-22T00:00:00\",\"2002-01-23T00:00:00\",\"2002-01-24T00:00:00\",\"2002-01-25T00:00:00\",\"2002-01-26T00:00:00\",\"2002-01-27T00:00:00\",\"2002-01-28T00:00:00\",\"2002-01-29T00:00:00\",\"2002-01-30T00:00:00\",\"2002-01-31T00:00:00\",\"2002-02-01T00:00:00\",\"2002-02-02T00:00:00\",\"2002-02-03T00:00:00\",\"2002-02-04T00:00:00\",\"2002-02-05T00:00:00\",\"2002-02-06T00:00:00\",\"2002-02-07T00:00:00\",\"2002-02-08T00:00:00\",\"2002-02-09T00:00:00\",\"2002-02-10T00:00:00\",\"2002-02-11T00:00:00\",\"2002-02-12T00:00:00\",\"2002-02-13T00:00:00\",\"2002-02-14T00:00:00\",\"2002-02-15T00:00:00\",\"2002-02-16T00:00:00\",\"2002-02-17T00:00:00\",\"2002-02-18T00:00:00\",\"2002-02-19T00:00:00\",\"2002-02-20T00:00:00\",\"2002-02-21T00:00:00\",\"2002-02-22T00:00:00\",\"2002-02-23T00:00:00\",\"2002-02-24T00:00:00\",\"2002-02-25T00:00:00\",\"2002-02-26T00:00:00\",\"2002-02-27T00:00:00\",\"2002-02-28T00:00:00\",\"2002-03-01T00:00:00\",\"2002-03-02T00:00:00\",\"2002-03-03T00:00:00\",\"2002-03-04T00:00:00\",\"2002-03-05T00:00:00\",\"2002-03-06T00:00:00\",\"2002-03-07T00:00:00\",\"2002-03-08T00:00:00\",\"2002-03-09T00:00:00\",\"2002-03-10T00:00:00\",\"2002-03-11T00:00:00\",\"2002-03-12T00:00:00\",\"2002-03-13T00:00:00\",\"2002-03-14T00:00:00\",\"2002-03-15T00:00:00\",\"2002-03-16T00:00:00\",\"2002-03-17T00:00:00\",\"2002-03-18T00:00:00\",\"2002-03-19T00:00:00\",\"2002-03-20T00:00:00\",\"2002-03-21T00:00:00\",\"2002-03-22T00:00:00\",\"2002-03-23T00:00:00\",\"2002-03-24T00:00:00\",\"2002-03-25T00:00:00\",\"2002-03-26T00:00:00\",\"2002-03-27T00:00:00\",\"2002-03-28T00:00:00\",\"2002-03-29T00:00:00\",\"2002-03-30T00:00:00\",\"2002-03-31T00:00:00\",\"2002-04-01T00:00:00\",\"2002-04-02T00:00:00\",\"2002-04-03T00:00:00\",\"2002-04-04T00:00:00\",\"2002-04-05T00:00:00\",\"2002-04-06T00:00:00\",\"2002-04-07T00:00:00\",\"2002-04-08T00:00:00\",\"2002-04-09T00:00:00\",\"2002-04-10T00:00:00\",\"2002-04-11T00:00:00\",\"2002-04-12T00:00:00\",\"2002-04-13T00:00:00\",\"2002-04-14T00:00:00\",\"2002-04-15T00:00:00\",\"2002-04-16T00:00:00\",\"2002-04-17T00:00:00\",\"2002-04-18T00:00:00\",\"2002-04-19T00:00:00\",\"2002-04-20T00:00:00\",\"2002-04-21T00:00:00\",\"2002-04-22T00:00:00\",\"2002-04-23T00:00:00\",\"2002-04-24T00:00:00\",\"2002-04-25T00:00:00\",\"2002-04-26T00:00:00\",\"2002-04-27T00:00:00\",\"2002-04-28T00:00:00\",\"2002-04-29T00:00:00\",\"2002-04-30T00:00:00\",\"2002-05-01T00:00:00\",\"2002-05-02T00:00:00\",\"2002-05-03T00:00:00\",\"2002-05-04T00:00:00\",\"2002-05-05T00:00:00\",\"2002-05-06T00:00:00\",\"2002-05-07T00:00:00\",\"2002-05-08T00:00:00\",\"2002-05-09T00:00:00\",\"2002-05-10T00:00:00\",\"2002-05-11T00:00:00\",\"2002-05-12T00:00:00\",\"2002-05-13T00:00:00\",\"2002-05-14T00:00:00\",\"2002-05-15T00:00:00\",\"2002-05-16T00:00:00\",\"2002-05-17T00:00:00\",\"2002-05-18T00:00:00\",\"2002-05-19T00:00:00\",\"2002-05-20T00:00:00\",\"2002-05-21T00:00:00\",\"2002-05-22T00:00:00\",\"2002-05-23T00:00:00\",\"2002-05-24T00:00:00\",\"2002-05-25T00:00:00\",\"2002-05-26T00:00:00\",\"2002-05-27T00:00:00\",\"2002-05-28T00:00:00\",\"2002-05-29T00:00:00\",\"2002-05-30T00:00:00\",\"2002-05-31T00:00:00\",\"2002-06-01T00:00:00\",\"2002-06-02T00:00:00\",\"2002-06-03T00:00:00\",\"2002-06-04T00:00:00\",\"2002-06-05T00:00:00\",\"2002-06-06T00:00:00\",\"2002-06-07T00:00:00\",\"2002-06-08T00:00:00\",\"2002-06-09T00:00:00\",\"2002-06-10T00:00:00\",\"2002-06-11T00:00:00\",\"2002-06-12T00:00:00\",\"2002-06-13T00:00:00\",\"2002-06-14T00:00:00\",\"2002-06-15T00:00:00\",\"2002-06-16T00:00:00\",\"2002-06-17T00:00:00\",\"2002-06-18T00:00:00\",\"2002-06-19T00:00:00\",\"2002-06-20T00:00:00\",\"2002-06-21T00:00:00\",\"2002-06-22T00:00:00\",\"2002-06-23T00:00:00\",\"2002-06-24T00:00:00\",\"2002-06-25T00:00:00\",\"2002-06-26T00:00:00\",\"2002-06-27T00:00:00\",\"2002-06-28T00:00:00\",\"2002-06-29T00:00:00\",\"2002-06-30T00:00:00\",\"2002-07-01T00:00:00\",\"2002-07-02T00:00:00\",\"2002-07-03T00:00:00\",\"2002-07-04T00:00:00\",\"2002-07-05T00:00:00\",\"2002-07-06T00:00:00\",\"2002-07-07T00:00:00\",\"2002-07-08T00:00:00\",\"2002-07-09T00:00:00\",\"2002-07-10T00:00:00\",\"2002-07-11T00:00:00\",\"2002-07-12T00:00:00\",\"2002-07-13T00:00:00\",\"2002-07-14T00:00:00\",\"2002-07-15T00:00:00\",\"2002-07-16T00:00:00\",\"2002-07-17T00:00:00\",\"2002-07-18T00:00:00\",\"2002-07-19T00:00:00\",\"2002-07-20T00:00:00\",\"2002-07-21T00:00:00\",\"2002-07-22T00:00:00\",\"2002-07-23T00:00:00\",\"2002-07-24T00:00:00\",\"2002-07-25T00:00:00\",\"2002-07-26T00:00:00\",\"2002-07-27T00:00:00\",\"2002-07-28T00:00:00\",\"2002-07-29T00:00:00\",\"2002-07-30T00:00:00\",\"2002-07-31T00:00:00\",\"2002-08-01T00:00:00\",\"2002-08-02T00:00:00\",\"2002-08-03T00:00:00\",\"2002-08-04T00:00:00\",\"2002-08-05T00:00:00\",\"2002-08-06T00:00:00\",\"2002-08-07T00:00:00\",\"2002-08-08T00:00:00\",\"2002-08-09T00:00:00\",\"2002-08-10T00:00:00\",\"2002-08-11T00:00:00\",\"2002-08-12T00:00:00\",\"2002-08-13T00:00:00\",\"2002-08-14T00:00:00\",\"2002-08-15T00:00:00\",\"2002-08-16T00:00:00\",\"2002-08-17T00:00:00\",\"2002-08-18T00:00:00\",\"2002-08-19T00:00:00\",\"2002-08-20T00:00:00\",\"2002-08-21T00:00:00\",\"2002-08-22T00:00:00\",\"2002-08-23T00:00:00\",\"2002-08-24T00:00:00\",\"2002-08-25T00:00:00\",\"2002-08-26T00:00:00\",\"2002-08-27T00:00:00\",\"2002-08-28T00:00:00\",\"2002-08-29T00:00:00\",\"2002-08-30T00:00:00\",\"2002-08-31T00:00:00\",\"2002-09-01T00:00:00\",\"2002-09-02T00:00:00\",\"2002-09-03T00:00:00\",\"2002-09-04T00:00:00\",\"2002-09-05T00:00:00\",\"2002-09-06T00:00:00\",\"2002-09-07T00:00:00\",\"2002-09-08T00:00:00\",\"2002-09-09T00:00:00\",\"2002-09-10T00:00:00\",\"2002-09-11T00:00:00\",\"2002-09-12T00:00:00\",\"2002-09-13T00:00:00\",\"2002-09-14T00:00:00\",\"2002-09-15T00:00:00\",\"2002-09-16T00:00:00\",\"2002-09-17T00:00:00\",\"2002-09-18T00:00:00\",\"2002-09-19T00:00:00\",\"2002-09-20T00:00:00\",\"2002-09-21T00:00:00\",\"2002-09-22T00:00:00\",\"2002-09-23T00:00:00\",\"2002-09-24T00:00:00\",\"2002-09-25T00:00:00\",\"2002-09-26T00:00:00\"],\"xaxis\":\"x\",\"y\":[-1.1443162995283351,-0.47022774310940896,-0.47022774310940896,0.9366218675080326,0.9366218675080326,0.9366218675080326,1.7147074313672777,1.7147074313672777,1.7147074313672777,1.7147074313672777,1.7147074313672777,1.7147074313672777,1.7147074313672777,1.7147074313672777,1.7147074313672777,1.7147074313672777,1.7147074313672777,1.7147074313672777,1.7147074313672777,1.7147074313672777,1.7147074313672777,1.7147074313672777,1.7147074313672777,1.7147074313672777,1.7147074313672777,1.7147074313672777,1.7147074313672777,1.7147074313672777,1.7147074313672777,1.7147074313672777,1.7147074313672777,1.7147074313672777,1.7147074313672777,1.7147074313672777,1.7147074313672777,1.7147074313672777,1.7147074313672777,1.7147074313672777,1.7147074313672777,1.7147074313672777,1.7147074313672777,1.7147074313672777,1.7147074313672777,1.7147074313672777,1.7147074313672777,1.7147074313672777,1.7147074313672777,1.7147074313672777,1.7147074313672777,1.7147074313672777,1.7147074313672777,1.7147074313672777,1.7147074313672777,1.7147074313672777,1.7147074313672777,1.7147074313672777,1.7147074313672777,1.7147074313672777,1.7147074313672777,2.2695868501751724,2.2695868501751724,2.2695868501751724,2.2695868501751724,2.2695868501751724,2.2695868501751724,2.2695868501751724,2.2695868501751724,2.2695868501751724,2.2695868501751724,2.2695868501751724,2.2695868501751724,2.2695868501751724,2.2695868501751724,2.2695868501751724,2.2695868501751724,2.2695868501751724,2.2695868501751724,2.2695868501751724,2.2695868501751724,2.2695868501751724,2.2695868501751724,2.2695868501751724,2.2695868501751724,2.2695868501751724,2.2695868501751724,2.2695868501751724,2.2695868501751724,2.2695868501751724,2.2695868501751724,2.2695868501751724,2.2695868501751724,2.2695868501751724,2.2695868501751724,2.2695868501751724,2.2695868501751724,2.2695868501751724,2.2695868501751724,2.2695868501751724,2.2695868501751724,2.2695868501751724,2.2695868501751724,2.2695868501751724,2.2695868501751724,2.2695868501751724,2.2695868501751724,2.2695868501751724,2.2695868501751724,2.2695868501751724,2.2695868501751724,2.2695868501751724,2.2695868501751724,2.2695868501751724,2.2695868501751724,2.2695868501751724,2.2695868501751724,2.2695868501751724,2.2695868501751724,2.2695868501751724,2.2695868501751724,2.2695868501751724,2.2695868501751724,2.2695868501751724,2.2695868501751724,2.2695868501751724,2.2695868501751724,2.2695868501751724,2.2695868501751724,2.2695868501751724,2.2695868501751724,2.2695868501751724,2.2695868501751724,2.2695868501751724,2.2695868501751724,2.2695868501751724,2.2695868501751724,2.2695868501751724,2.2695868501751724,2.2695868501751724,2.2695868501751724,2.2695868501751724,2.2695868501751724,2.2695868501751724,2.2695868501751724,2.2695868501751724,2.2695868501751724,2.2695868501751724,2.2695868501751724,2.2695868501751724,2.2695868501751724,2.2695868501751724,2.2695868501751724,2.2695868501751724,2.2695868501751724,2.2695868501751724,2.2695868501751724,2.2695868501751724,2.2695868501751724,2.2695868501751724,2.2695868501751724,2.2695868501751724,2.2695868501751724,2.2695868501751724,2.2695868501751724,2.2695868501751724,2.2695868501751724,2.2695868501751724,2.2695868501751724,2.2695868501751724,2.2695868501751724,2.2695868501751724,2.2695868501751724,2.2695868501751724,2.2695868501751724,2.2695868501751724,2.2695868501751724,2.2695868501751724,2.2695868501751724,2.2695868501751724,2.2695868501751724,2.2695868501751724,2.2695868501751724,2.2695868501751724,2.2695868501751724,2.2695868501751724,2.2695868501751724,2.3268756199458713,2.3268756199458713,2.3268756199458713,2.3268756199458713,2.3268756199458713,2.3268756199458713,2.3268756199458713,2.3268756199458713,2.3268756199458713,2.3268756199458713,2.3268756199458713,2.3268756199458713,2.3268756199458713,2.3268756199458713,2.3268756199458713,2.3268756199458713,2.3268756199458713,2.3268756199458713,2.4750082990497186,2.4750082990497186,2.4750082990497186,2.4750082990497186,2.4750082990497186,2.4750082990497186,2.4750082990497186,2.4750082990497186,2.4750082990497186,2.4750082990497186,2.4750082990497186,2.4750082990497186,2.4750082990497186,2.4750082990497186,2.4750082990497186,2.4750082990497186,2.4750082990497186,2.4750082990497186,2.4750082990497186,2.4750082990497186,2.4750082990497186,2.4750082990497186,2.4750082990497186,2.4750082990497186,2.4750082990497186,2.4750082990497186,2.4750082990497186,2.4750082990497186,2.4750082990497186,2.4750082990497186,2.4750082990497186,2.4750082990497186,2.4750082990497186,2.4750082990497186,2.4750082990497186,2.4750082990497186,2.4750082990497186,2.4750082990497186,2.4750082990497186,2.4750082990497186,2.4750082990497186,2.4750082990497186,2.4750082990497186,2.4750082990497186,2.4750082990497186,2.4750082990497186,2.4750082990497186,2.4750082990497186,2.4750082990497186,2.4750082990497186,2.4750082990497186,2.4750082990497186,2.4750082990497186,2.4750082990497186,2.4750082990497186,2.4750082990497186,2.4750082990497186,2.4750082990497186,2.4750082990497186,2.4750082990497186,2.4750082990497186,2.4750082990497186,2.4750082990497186,2.4750082990497186,2.7932403828830283,2.7932403828830283,2.7932403828830283,2.7932403828830283,2.7932403828830283,2.7932403828830283,2.7932403828830283,2.7932403828830283,2.7932403828830283,2.7932403828830283,2.7932403828830283,2.7932403828830283,2.7932403828830283,2.7932403828830283,2.7932403828830283,2.7932403828830283,2.7932403828830283,2.7932403828830283,2.7932403828830283,2.7932403828830283,2.7932403828830283,2.7932403828830283,2.7932403828830283,2.7932403828830283,2.7932403828830283,2.7932403828830283,2.7932403828830283,2.7932403828830283,2.7932403828830283,2.7932403828830283,2.7932403828830283,2.7932403828830283,2.7932403828830283,2.7932403828830283,2.7932403828830283,2.7932403828830283,2.7932403828830283,2.7932403828830283,2.7932403828830283,2.7932403828830283,2.7932403828830283,2.7932403828830283,2.7932403828830283,2.7932403828830283,2.7932403828830283,2.7932403828830283,2.7932403828830283,2.7932403828830283,2.7932403828830283,2.7932403828830283,2.7932403828830283,2.7932403828830283,2.7932403828830283,2.7932403828830283,2.7932403828830283,2.7932403828830283,2.7932403828830283,2.7932403828830283,2.7932403828830283,2.7932403828830283,2.7932403828830283,2.7932403828830283,2.7932403828830283,2.7932403828830283,2.7932403828830283,2.7932403828830283,2.7932403828830283,2.7932403828830283,2.7932403828830283,2.7932403828830283,2.7932403828830283,2.7932403828830283,2.7932403828830283,2.7932403828830283,2.7932403828830283,2.7932403828830283,2.7932403828830283,2.7932403828830283,2.7932403828830283,2.7932403828830283,2.7932403828830283,2.7932403828830283,2.7932403828830283,2.7932403828830283,2.7932403828830283,2.7932403828830283,2.7932403828830283,2.7932403828830283,2.7932403828830283,2.7932403828830283,2.7932403828830283,2.7932403828830283,2.7932403828830283,2.7932403828830283,2.7932403828830283,2.7932403828830283,2.7932403828830283,2.7932403828830283,2.7932403828830283,2.7932403828830283,2.7932403828830283,2.7932403828830283,2.7932403828830283,2.7932403828830283,2.7932403828830283,2.7932403828830283,2.7932403828830283,2.7932403828830283,2.7932403828830283,2.7932403828830283,2.7932403828830283,2.7932403828830283,2.7932403828830283,2.7932403828830283,2.7932403828830283,2.7932403828830283,2.7932403828830283,2.7932403828830283,2.7932403828830283,2.7932403828830283,2.7932403828830283,2.7932403828830283,2.7932403828830283,2.7932403828830283,2.7932403828830283,2.7932403828830283,2.7932403828830283,2.7932403828830283,2.7932403828830283,2.7932403828830283,2.7932403828830283,2.7932403828830283,2.7932403828830283,2.7932403828830283,2.7932403828830283,2.7932403828830283,2.7932403828830283,2.7932403828830283,2.7932403828830283,2.7932403828830283,2.7932403828830283,2.7932403828830283,2.7932403828830283,2.7932403828830283,2.7932403828830283,2.7932403828830283,2.7932403828830283,2.7932403828830283,2.7932403828830283,2.7932403828830283,2.7932403828830283,2.7932403828830283,2.7932403828830283,2.7932403828830283,2.7932403828830283,2.7932403828830283,2.7932403828830283,2.7932403828830283,2.7932403828830283,2.7932403828830283,2.7932403828830283,2.7932403828830283,2.7932403828830283,2.7932403828830283,2.7932403828830283,2.7932403828830283,2.7932403828830283,2.7932403828830283,2.7932403828830283,2.7932403828830283,2.7932403828830283,2.7932403828830283,2.7932403828830283,2.7932403828830283,2.7932403828830283,2.7932403828830283,2.7932403828830283,2.7932403828830283,2.7932403828830283,2.7932403828830283,2.7932403828830283,2.7932403828830283,2.7932403828830283,2.7932403828830283,2.7932403828830283,2.7932403828830283,2.7932403828830283,2.7932403828830283,2.7932403828830283,2.7932403828830283,2.7932403828830283,2.7932403828830283,2.7932403828830283,2.7932403828830283,2.7932403828830283,2.7932403828830283,2.7932403828830283,2.7932403828830283,2.7932403828830283,2.7932403828830283,2.7932403828830283,2.7932403828830283,2.7932403828830283,2.7932403828830283,2.7932403828830283,2.7932403828830283,2.7932403828830283,2.7932403828830283,2.7932403828830283,2.7932403828830283,2.7932403828830283,2.7932403828830283,2.7932403828830283,2.7932403828830283,2.7932403828830283,2.7932403828830283,2.7932403828830283,2.7932403828830283,2.7932403828830283,2.7932403828830283,2.7932403828830283,2.7932403828830283,2.7932403828830283,2.7932403828830283,2.7932403828830283,2.7932403828830283,2.7932403828830283,2.7932403828830283,2.7932403828830283,2.7932403828830283,2.7932403828830283,2.7932403828830283,2.7932403828830283,2.7932403828830283,2.7932403828830283,2.7932403828830283,2.7932403828830283,2.7932403828830283,2.7932403828830283,2.7932403828830283,2.7932403828830283,2.7932403828830283,2.7932403828830283,2.7932403828830283,2.7932403828830283,2.7932403828830283,2.7932403828830283,2.7932403828830283,2.7932403828830283,2.7932403828830283,2.7932403828830283,2.7932403828830283,2.7932403828830283,2.7932403828830283,2.7932403828830283,2.7932403828830283,2.7932403828830283,2.7932403828830283,2.7932403828830283,2.7932403828830283,2.7932403828830283,2.7932403828830283,2.7932403828830283,2.7932403828830283,2.7932403828830283,2.7932403828830283,2.7932403828830283,2.7932403828830283,2.7932403828830283,2.7932403828830283,2.7932403828830283,2.7932403828830283,2.7932403828830283,2.7932403828830283,2.7932403828830283,2.7932403828830283,2.7932403828830283,2.7932403828830283,2.7932403828830283,2.7932403828830283,2.7932403828830283,2.7932403828830283,2.7932403828830283,2.7932403828830283,2.7932403828830283,2.7932403828830283,2.7932403828830283,2.7932403828830283,2.7932403828830283,2.7932403828830283,2.7932403828830283,2.7932403828830283,2.7932403828830283,2.7932403828830283,2.7932403828830283,2.7932403828830283,2.7932403828830283,2.7932403828830283,2.7932403828830283,2.7932403828830283,2.7932403828830283,2.7932403828830283,2.7932403828830283,2.7932403828830283,2.7932403828830283,2.7932403828830283,2.7932403828830283,2.7932403828830283,2.7932403828830283,2.7932403828830283,2.7932403828830283,2.7932403828830283,2.7932403828830283,2.7932403828830283,2.7932403828830283,2.7932403828830283,2.7932403828830283,2.7932403828830283,2.7932403828830283,2.7932403828830283,2.7932403828830283,2.7932403828830283,2.7932403828830283,2.7932403828830283,2.7932403828830283,2.7932403828830283,2.7932403828830283,2.7932403828830283,2.7932403828830283,2.7932403828830283,2.7932403828830283,2.7932403828830283,2.7932403828830283,2.7932403828830283,2.7932403828830283,2.7932403828830283,2.7932403828830283,2.7932403828830283,2.7932403828830283,2.7932403828830283,2.7932403828830283,2.7932403828830283,2.7932403828830283,2.7932403828830283,2.7932403828830283,2.7932403828830283,2.7932403828830283,2.7932403828830283,2.7932403828830283,2.7932403828830283,2.7932403828830283,2.7932403828830283,2.7932403828830283,2.7932403828830283,2.7932403828830283,2.7932403828830283,2.7932403828830283,2.7932403828830283,2.7932403828830283,2.7932403828830283,2.7932403828830283,2.7932403828830283,2.7932403828830283,2.7932403828830283,2.7932403828830283,2.7932403828830283,2.7932403828830283,2.7932403828830283,2.7932403828830283,2.7932403828830283,2.7932403828830283,2.7932403828830283,2.7932403828830283,2.7932403828830283,2.7932403828830283,2.7932403828830283,2.7932403828830283,2.7932403828830283,2.7932403828830283,2.7932403828830283,2.7932403828830283,2.7932403828830283,2.7932403828830283,2.7932403828830283,2.7932403828830283,2.7932403828830283,2.7932403828830283,2.7932403828830283,2.7932403828830283,2.7932403828830283,2.7932403828830283,2.7932403828830283,2.7932403828830283,2.7932403828830283,2.7932403828830283,2.7932403828830283,2.7932403828830283,2.7932403828830283,2.7932403828830283,2.7932403828830283,2.7932403828830283,2.7932403828830283,2.7932403828830283,2.7932403828830283,2.7932403828830283,2.7932403828830283,2.7932403828830283,2.7932403828830283,2.7932403828830283,2.7932403828830283,2.7932403828830283,2.7932403828830283,2.7932403828830283,2.7932403828830283,2.7932403828830283,2.7932403828830283,2.7932403828830283,2.7932403828830283,2.7932403828830283,2.7932403828830283,2.7932403828830283,2.7932403828830283,2.7932403828830283,2.7932403828830283,2.7932403828830283,2.7932403828830283,2.7932403828830283,2.7932403828830283,2.7932403828830283,2.7932403828830283,2.7932403828830283,2.7932403828830283,2.7932403828830283,2.7932403828830283,2.7932403828830283,2.7932403828830283,2.7932403828830283,2.7932403828830283,2.7932403828830283,2.7932403828830283,2.7932403828830283,2.7932403828830283,2.7932403828830283,2.7932403828830283,2.7932403828830283,2.7932403828830283,2.7932403828830283,2.7932403828830283,2.7932403828830283,2.7932403828830283,2.7932403828830283,2.7932403828830283,2.7932403828830283,2.7932403828830283,2.7932403828830283,2.7932403828830283,2.7932403828830283,2.7932403828830283,2.7932403828830283,2.7932403828830283,2.7932403828830283,2.7932403828830283,2.7932403828830283,2.7932403828830283,2.7932403828830283,2.7932403828830283,2.7932403828830283,2.7932403828830283,2.7932403828830283,2.7932403828830283,2.7932403828830283,2.7932403828830283,2.7932403828830283,2.7932403828830283,2.7932403828830283,2.7932403828830283,2.7932403828830283,2.7932403828830283,2.7932403828830283,2.7932403828830283,2.7932403828830283,2.7932403828830283,2.7932403828830283,2.7932403828830283,2.7932403828830283,2.7932403828830283,2.7932403828830283,2.7932403828830283,2.7932403828830283,2.7932403828830283,2.7932403828830283,2.7932403828830283,2.7932403828830283,2.7932403828830283,2.7932403828830283,2.7932403828830283,2.7932403828830283,2.7932403828830283,2.7932403828830283,2.7932403828830283,2.7932403828830283,2.7932403828830283,2.7932403828830283,2.7932403828830283,2.7932403828830283,2.7932403828830283,2.7932403828830283,2.7932403828830283,2.7932403828830283,2.7932403828830283,2.7932403828830283,2.7932403828830283,2.7932403828830283,2.7932403828830283,2.7932403828830283,2.7932403828830283,2.7932403828830283,2.7932403828830283,2.7932403828830283,2.7932403828830283,2.7932403828830283,2.7932403828830283,2.7932403828830283,2.7932403828830283,2.7932403828830283,2.7932403828830283,2.7932403828830283,2.7932403828830283,2.7932403828830283,2.7932403828830283,2.7932403828830283,2.7932403828830283,2.7932403828830283,2.7932403828830283,2.7932403828830283,2.7932403828830283,2.7932403828830283,2.7932403828830283,2.7932403828830283,2.7932403828830283,2.7932403828830283,2.7932403828830283,2.7932403828830283,2.7932403828830283,2.7932403828830283,2.7932403828830283,2.7932403828830283,2.7932403828830283,2.7932403828830283,2.7932403828830283,2.7932403828830283,2.7932403828830283,2.7932403828830283,2.7932403828830283,2.7932403828830283,2.7932403828830283,2.7932403828830283,2.7932403828830283,2.7932403828830283,2.7932403828830283,2.7932403828830283,2.7932403828830283,2.7932403828830283,2.7932403828830283,2.7932403828830283,2.7932403828830283,2.7932403828830283,2.7932403828830283,2.7932403828830283,2.7932403828830283,2.7932403828830283,2.7932403828830283,2.7932403828830283,2.7932403828830283,2.7932403828830283,2.7932403828830283,2.7932403828830283,2.7932403828830283,2.7932403828830283,2.7932403828830283,2.7932403828830283,2.7932403828830283,2.7932403828830283,2.7932403828830283,2.7932403828830283,2.7932403828830283,2.7932403828830283,2.7932403828830283,2.7932403828830283,2.7932403828830283,2.7932403828830283,2.7932403828830283,2.7932403828830283,2.7932403828830283,2.7932403828830283,2.7932403828830283,2.7932403828830283,2.7932403828830283,2.7932403828830283,2.7932403828830283,2.7932403828830283,2.7932403828830283,2.7932403828830283,2.7932403828830283,2.7932403828830283,2.7932403828830283,2.7932403828830283,2.7932403828830283,2.7932403828830283,2.7932403828830283,2.7932403828830283,2.7932403828830283,2.7932403828830283,2.7932403828830283,2.7932403828830283,2.7932403828830283,2.7932403828830283,2.7932403828830283,2.7932403828830283,2.7932403828830283,2.7932403828830283,2.7932403828830283,2.7932403828830283,2.7932403828830283,2.7932403828830283,2.7932403828830283,2.7932403828830283,2.7932403828830283,2.7932403828830283,2.7932403828830283,2.7932403828830283,2.7932403828830283,2.7932403828830283,2.7932403828830283,2.7932403828830283,2.7932403828830283,2.7932403828830283,2.7932403828830283,2.7932403828830283,2.7932403828830283,2.7932403828830283,2.7932403828830283,2.7932403828830283,2.7932403828830283,2.7932403828830283,2.7932403828830283,2.7932403828830283,2.7932403828830283,2.7932403828830283,2.7932403828830283,2.7932403828830283,2.7932403828830283,2.7932403828830283,2.7932403828830283,2.7932403828830283,2.7932403828830283,2.7932403828830283,2.7932403828830283,2.7932403828830283,2.7932403828830283,2.7932403828830283,2.7932403828830283,2.7932403828830283,2.7932403828830283,2.7932403828830283,2.7932403828830283,2.7932403828830283,2.7932403828830283,2.7932403828830283,2.7932403828830283,2.7932403828830283,2.7932403828830283,2.7932403828830283,2.7932403828830283,2.7932403828830283,2.7932403828830283,2.7932403828830283,2.7932403828830283,2.7932403828830283,2.7932403828830283,2.7932403828830283,2.7932403828830283,2.7932403828830283,2.7932403828830283,2.7932403828830283,2.7932403828830283,2.7932403828830283,2.7932403828830283,2.7932403828830283,2.7932403828830283,2.7932403828830283,2.7932403828830283,2.7932403828830283,2.7932403828830283,2.7932403828830283,2.7932403828830283,2.7932403828830283,2.7932403828830283,2.7932403828830283,2.7932403828830283,2.7932403828830283,2.7932403828830283,2.7932403828830283,2.7932403828830283,2.7932403828830283,2.7932403828830283,2.7932403828830283,2.7932403828830283,2.7932403828830283,2.7932403828830283,2.7932403828830283,2.7932403828830283,2.7932403828830283,2.7932403828830283,2.7932403828830283,2.7932403828830283,2.7932403828830283,2.7932403828830283,2.7932403828830283,2.7932403828830283,2.7932403828830283,2.7932403828830283,2.7932403828830283,2.7932403828830283,2.7932403828830283,2.7932403828830283,2.7932403828830283,2.7932403828830283,2.7932403828830283,2.7932403828830283,2.7932403828830283,2.7932403828830283,2.7932403828830283],\"yaxis\":\"y\",\"type\":\"scattergl\"},{\"hovertemplate\":\"variable=D<br>index=%{x}<br>value=%{y}<extra></extra>\",\"legendgroup\":\"D\",\"line\":{\"color\":\"#ab63fa\",\"dash\":\"solid\"},\"marker\":{\"symbol\":\"circle\"},\"mode\":\"lines\",\"name\":\"D\",\"showlegend\":true,\"x\":[\"2000-01-01T00:00:00\",\"2000-01-02T00:00:00\",\"2000-01-03T00:00:00\",\"2000-01-04T00:00:00\",\"2000-01-05T00:00:00\",\"2000-01-06T00:00:00\",\"2000-01-07T00:00:00\",\"2000-01-08T00:00:00\",\"2000-01-09T00:00:00\",\"2000-01-10T00:00:00\",\"2000-01-11T00:00:00\",\"2000-01-12T00:00:00\",\"2000-01-13T00:00:00\",\"2000-01-14T00:00:00\",\"2000-01-15T00:00:00\",\"2000-01-16T00:00:00\",\"2000-01-17T00:00:00\",\"2000-01-18T00:00:00\",\"2000-01-19T00:00:00\",\"2000-01-20T00:00:00\",\"2000-01-21T00:00:00\",\"2000-01-22T00:00:00\",\"2000-01-23T00:00:00\",\"2000-01-24T00:00:00\",\"2000-01-25T00:00:00\",\"2000-01-26T00:00:00\",\"2000-01-27T00:00:00\",\"2000-01-28T00:00:00\",\"2000-01-29T00:00:00\",\"2000-01-30T00:00:00\",\"2000-01-31T00:00:00\",\"2000-02-01T00:00:00\",\"2000-02-02T00:00:00\",\"2000-02-03T00:00:00\",\"2000-02-04T00:00:00\",\"2000-02-05T00:00:00\",\"2000-02-06T00:00:00\",\"2000-02-07T00:00:00\",\"2000-02-08T00:00:00\",\"2000-02-09T00:00:00\",\"2000-02-10T00:00:00\",\"2000-02-11T00:00:00\",\"2000-02-12T00:00:00\",\"2000-02-13T00:00:00\",\"2000-02-14T00:00:00\",\"2000-02-15T00:00:00\",\"2000-02-16T00:00:00\",\"2000-02-17T00:00:00\",\"2000-02-18T00:00:00\",\"2000-02-19T00:00:00\",\"2000-02-20T00:00:00\",\"2000-02-21T00:00:00\",\"2000-02-22T00:00:00\",\"2000-02-23T00:00:00\",\"2000-02-24T00:00:00\",\"2000-02-25T00:00:00\",\"2000-02-26T00:00:00\",\"2000-02-27T00:00:00\",\"2000-02-28T00:00:00\",\"2000-02-29T00:00:00\",\"2000-03-01T00:00:00\",\"2000-03-02T00:00:00\",\"2000-03-03T00:00:00\",\"2000-03-04T00:00:00\",\"2000-03-05T00:00:00\",\"2000-03-06T00:00:00\",\"2000-03-07T00:00:00\",\"2000-03-08T00:00:00\",\"2000-03-09T00:00:00\",\"2000-03-10T00:00:00\",\"2000-03-11T00:00:00\",\"2000-03-12T00:00:00\",\"2000-03-13T00:00:00\",\"2000-03-14T00:00:00\",\"2000-03-15T00:00:00\",\"2000-03-16T00:00:00\",\"2000-03-17T00:00:00\",\"2000-03-18T00:00:00\",\"2000-03-19T00:00:00\",\"2000-03-20T00:00:00\",\"2000-03-21T00:00:00\",\"2000-03-22T00:00:00\",\"2000-03-23T00:00:00\",\"2000-03-24T00:00:00\",\"2000-03-25T00:00:00\",\"2000-03-26T00:00:00\",\"2000-03-27T00:00:00\",\"2000-03-28T00:00:00\",\"2000-03-29T00:00:00\",\"2000-03-30T00:00:00\",\"2000-03-31T00:00:00\",\"2000-04-01T00:00:00\",\"2000-04-02T00:00:00\",\"2000-04-03T00:00:00\",\"2000-04-04T00:00:00\",\"2000-04-05T00:00:00\",\"2000-04-06T00:00:00\",\"2000-04-07T00:00:00\",\"2000-04-08T00:00:00\",\"2000-04-09T00:00:00\",\"2000-04-10T00:00:00\",\"2000-04-11T00:00:00\",\"2000-04-12T00:00:00\",\"2000-04-13T00:00:00\",\"2000-04-14T00:00:00\",\"2000-04-15T00:00:00\",\"2000-04-16T00:00:00\",\"2000-04-17T00:00:00\",\"2000-04-18T00:00:00\",\"2000-04-19T00:00:00\",\"2000-04-20T00:00:00\",\"2000-04-21T00:00:00\",\"2000-04-22T00:00:00\",\"2000-04-23T00:00:00\",\"2000-04-24T00:00:00\",\"2000-04-25T00:00:00\",\"2000-04-26T00:00:00\",\"2000-04-27T00:00:00\",\"2000-04-28T00:00:00\",\"2000-04-29T00:00:00\",\"2000-04-30T00:00:00\",\"2000-05-01T00:00:00\",\"2000-05-02T00:00:00\",\"2000-05-03T00:00:00\",\"2000-05-04T00:00:00\",\"2000-05-05T00:00:00\",\"2000-05-06T00:00:00\",\"2000-05-07T00:00:00\",\"2000-05-08T00:00:00\",\"2000-05-09T00:00:00\",\"2000-05-10T00:00:00\",\"2000-05-11T00:00:00\",\"2000-05-12T00:00:00\",\"2000-05-13T00:00:00\",\"2000-05-14T00:00:00\",\"2000-05-15T00:00:00\",\"2000-05-16T00:00:00\",\"2000-05-17T00:00:00\",\"2000-05-18T00:00:00\",\"2000-05-19T00:00:00\",\"2000-05-20T00:00:00\",\"2000-05-21T00:00:00\",\"2000-05-22T00:00:00\",\"2000-05-23T00:00:00\",\"2000-05-24T00:00:00\",\"2000-05-25T00:00:00\",\"2000-05-26T00:00:00\",\"2000-05-27T00:00:00\",\"2000-05-28T00:00:00\",\"2000-05-29T00:00:00\",\"2000-05-30T00:00:00\",\"2000-05-31T00:00:00\",\"2000-06-01T00:00:00\",\"2000-06-02T00:00:00\",\"2000-06-03T00:00:00\",\"2000-06-04T00:00:00\",\"2000-06-05T00:00:00\",\"2000-06-06T00:00:00\",\"2000-06-07T00:00:00\",\"2000-06-08T00:00:00\",\"2000-06-09T00:00:00\",\"2000-06-10T00:00:00\",\"2000-06-11T00:00:00\",\"2000-06-12T00:00:00\",\"2000-06-13T00:00:00\",\"2000-06-14T00:00:00\",\"2000-06-15T00:00:00\",\"2000-06-16T00:00:00\",\"2000-06-17T00:00:00\",\"2000-06-18T00:00:00\",\"2000-06-19T00:00:00\",\"2000-06-20T00:00:00\",\"2000-06-21T00:00:00\",\"2000-06-22T00:00:00\",\"2000-06-23T00:00:00\",\"2000-06-24T00:00:00\",\"2000-06-25T00:00:00\",\"2000-06-26T00:00:00\",\"2000-06-27T00:00:00\",\"2000-06-28T00:00:00\",\"2000-06-29T00:00:00\",\"2000-06-30T00:00:00\",\"2000-07-01T00:00:00\",\"2000-07-02T00:00:00\",\"2000-07-03T00:00:00\",\"2000-07-04T00:00:00\",\"2000-07-05T00:00:00\",\"2000-07-06T00:00:00\",\"2000-07-07T00:00:00\",\"2000-07-08T00:00:00\",\"2000-07-09T00:00:00\",\"2000-07-10T00:00:00\",\"2000-07-11T00:00:00\",\"2000-07-12T00:00:00\",\"2000-07-13T00:00:00\",\"2000-07-14T00:00:00\",\"2000-07-15T00:00:00\",\"2000-07-16T00:00:00\",\"2000-07-17T00:00:00\",\"2000-07-18T00:00:00\",\"2000-07-19T00:00:00\",\"2000-07-20T00:00:00\",\"2000-07-21T00:00:00\",\"2000-07-22T00:00:00\",\"2000-07-23T00:00:00\",\"2000-07-24T00:00:00\",\"2000-07-25T00:00:00\",\"2000-07-26T00:00:00\",\"2000-07-27T00:00:00\",\"2000-07-28T00:00:00\",\"2000-07-29T00:00:00\",\"2000-07-30T00:00:00\",\"2000-07-31T00:00:00\",\"2000-08-01T00:00:00\",\"2000-08-02T00:00:00\",\"2000-08-03T00:00:00\",\"2000-08-04T00:00:00\",\"2000-08-05T00:00:00\",\"2000-08-06T00:00:00\",\"2000-08-07T00:00:00\",\"2000-08-08T00:00:00\",\"2000-08-09T00:00:00\",\"2000-08-10T00:00:00\",\"2000-08-11T00:00:00\",\"2000-08-12T00:00:00\",\"2000-08-13T00:00:00\",\"2000-08-14T00:00:00\",\"2000-08-15T00:00:00\",\"2000-08-16T00:00:00\",\"2000-08-17T00:00:00\",\"2000-08-18T00:00:00\",\"2000-08-19T00:00:00\",\"2000-08-20T00:00:00\",\"2000-08-21T00:00:00\",\"2000-08-22T00:00:00\",\"2000-08-23T00:00:00\",\"2000-08-24T00:00:00\",\"2000-08-25T00:00:00\",\"2000-08-26T00:00:00\",\"2000-08-27T00:00:00\",\"2000-08-28T00:00:00\",\"2000-08-29T00:00:00\",\"2000-08-30T00:00:00\",\"2000-08-31T00:00:00\",\"2000-09-01T00:00:00\",\"2000-09-02T00:00:00\",\"2000-09-03T00:00:00\",\"2000-09-04T00:00:00\",\"2000-09-05T00:00:00\",\"2000-09-06T00:00:00\",\"2000-09-07T00:00:00\",\"2000-09-08T00:00:00\",\"2000-09-09T00:00:00\",\"2000-09-10T00:00:00\",\"2000-09-11T00:00:00\",\"2000-09-12T00:00:00\",\"2000-09-13T00:00:00\",\"2000-09-14T00:00:00\",\"2000-09-15T00:00:00\",\"2000-09-16T00:00:00\",\"2000-09-17T00:00:00\",\"2000-09-18T00:00:00\",\"2000-09-19T00:00:00\",\"2000-09-20T00:00:00\",\"2000-09-21T00:00:00\",\"2000-09-22T00:00:00\",\"2000-09-23T00:00:00\",\"2000-09-24T00:00:00\",\"2000-09-25T00:00:00\",\"2000-09-26T00:00:00\",\"2000-09-27T00:00:00\",\"2000-09-28T00:00:00\",\"2000-09-29T00:00:00\",\"2000-09-30T00:00:00\",\"2000-10-01T00:00:00\",\"2000-10-02T00:00:00\",\"2000-10-03T00:00:00\",\"2000-10-04T00:00:00\",\"2000-10-05T00:00:00\",\"2000-10-06T00:00:00\",\"2000-10-07T00:00:00\",\"2000-10-08T00:00:00\",\"2000-10-09T00:00:00\",\"2000-10-10T00:00:00\",\"2000-10-11T00:00:00\",\"2000-10-12T00:00:00\",\"2000-10-13T00:00:00\",\"2000-10-14T00:00:00\",\"2000-10-15T00:00:00\",\"2000-10-16T00:00:00\",\"2000-10-17T00:00:00\",\"2000-10-18T00:00:00\",\"2000-10-19T00:00:00\",\"2000-10-20T00:00:00\",\"2000-10-21T00:00:00\",\"2000-10-22T00:00:00\",\"2000-10-23T00:00:00\",\"2000-10-24T00:00:00\",\"2000-10-25T00:00:00\",\"2000-10-26T00:00:00\",\"2000-10-27T00:00:00\",\"2000-10-28T00:00:00\",\"2000-10-29T00:00:00\",\"2000-10-30T00:00:00\",\"2000-10-31T00:00:00\",\"2000-11-01T00:00:00\",\"2000-11-02T00:00:00\",\"2000-11-03T00:00:00\",\"2000-11-04T00:00:00\",\"2000-11-05T00:00:00\",\"2000-11-06T00:00:00\",\"2000-11-07T00:00:00\",\"2000-11-08T00:00:00\",\"2000-11-09T00:00:00\",\"2000-11-10T00:00:00\",\"2000-11-11T00:00:00\",\"2000-11-12T00:00:00\",\"2000-11-13T00:00:00\",\"2000-11-14T00:00:00\",\"2000-11-15T00:00:00\",\"2000-11-16T00:00:00\",\"2000-11-17T00:00:00\",\"2000-11-18T00:00:00\",\"2000-11-19T00:00:00\",\"2000-11-20T00:00:00\",\"2000-11-21T00:00:00\",\"2000-11-22T00:00:00\",\"2000-11-23T00:00:00\",\"2000-11-24T00:00:00\",\"2000-11-25T00:00:00\",\"2000-11-26T00:00:00\",\"2000-11-27T00:00:00\",\"2000-11-28T00:00:00\",\"2000-11-29T00:00:00\",\"2000-11-30T00:00:00\",\"2000-12-01T00:00:00\",\"2000-12-02T00:00:00\",\"2000-12-03T00:00:00\",\"2000-12-04T00:00:00\",\"2000-12-05T00:00:00\",\"2000-12-06T00:00:00\",\"2000-12-07T00:00:00\",\"2000-12-08T00:00:00\",\"2000-12-09T00:00:00\",\"2000-12-10T00:00:00\",\"2000-12-11T00:00:00\",\"2000-12-12T00:00:00\",\"2000-12-13T00:00:00\",\"2000-12-14T00:00:00\",\"2000-12-15T00:00:00\",\"2000-12-16T00:00:00\",\"2000-12-17T00:00:00\",\"2000-12-18T00:00:00\",\"2000-12-19T00:00:00\",\"2000-12-20T00:00:00\",\"2000-12-21T00:00:00\",\"2000-12-22T00:00:00\",\"2000-12-23T00:00:00\",\"2000-12-24T00:00:00\",\"2000-12-25T00:00:00\",\"2000-12-26T00:00:00\",\"2000-12-27T00:00:00\",\"2000-12-28T00:00:00\",\"2000-12-29T00:00:00\",\"2000-12-30T00:00:00\",\"2000-12-31T00:00:00\",\"2001-01-01T00:00:00\",\"2001-01-02T00:00:00\",\"2001-01-03T00:00:00\",\"2001-01-04T00:00:00\",\"2001-01-05T00:00:00\",\"2001-01-06T00:00:00\",\"2001-01-07T00:00:00\",\"2001-01-08T00:00:00\",\"2001-01-09T00:00:00\",\"2001-01-10T00:00:00\",\"2001-01-11T00:00:00\",\"2001-01-12T00:00:00\",\"2001-01-13T00:00:00\",\"2001-01-14T00:00:00\",\"2001-01-15T00:00:00\",\"2001-01-16T00:00:00\",\"2001-01-17T00:00:00\",\"2001-01-18T00:00:00\",\"2001-01-19T00:00:00\",\"2001-01-20T00:00:00\",\"2001-01-21T00:00:00\",\"2001-01-22T00:00:00\",\"2001-01-23T00:00:00\",\"2001-01-24T00:00:00\",\"2001-01-25T00:00:00\",\"2001-01-26T00:00:00\",\"2001-01-27T00:00:00\",\"2001-01-28T00:00:00\",\"2001-01-29T00:00:00\",\"2001-01-30T00:00:00\",\"2001-01-31T00:00:00\",\"2001-02-01T00:00:00\",\"2001-02-02T00:00:00\",\"2001-02-03T00:00:00\",\"2001-02-04T00:00:00\",\"2001-02-05T00:00:00\",\"2001-02-06T00:00:00\",\"2001-02-07T00:00:00\",\"2001-02-08T00:00:00\",\"2001-02-09T00:00:00\",\"2001-02-10T00:00:00\",\"2001-02-11T00:00:00\",\"2001-02-12T00:00:00\",\"2001-02-13T00:00:00\",\"2001-02-14T00:00:00\",\"2001-02-15T00:00:00\",\"2001-02-16T00:00:00\",\"2001-02-17T00:00:00\",\"2001-02-18T00:00:00\",\"2001-02-19T00:00:00\",\"2001-02-20T00:00:00\",\"2001-02-21T00:00:00\",\"2001-02-22T00:00:00\",\"2001-02-23T00:00:00\",\"2001-02-24T00:00:00\",\"2001-02-25T00:00:00\",\"2001-02-26T00:00:00\",\"2001-02-27T00:00:00\",\"2001-02-28T00:00:00\",\"2001-03-01T00:00:00\",\"2001-03-02T00:00:00\",\"2001-03-03T00:00:00\",\"2001-03-04T00:00:00\",\"2001-03-05T00:00:00\",\"2001-03-06T00:00:00\",\"2001-03-07T00:00:00\",\"2001-03-08T00:00:00\",\"2001-03-09T00:00:00\",\"2001-03-10T00:00:00\",\"2001-03-11T00:00:00\",\"2001-03-12T00:00:00\",\"2001-03-13T00:00:00\",\"2001-03-14T00:00:00\",\"2001-03-15T00:00:00\",\"2001-03-16T00:00:00\",\"2001-03-17T00:00:00\",\"2001-03-18T00:00:00\",\"2001-03-19T00:00:00\",\"2001-03-20T00:00:00\",\"2001-03-21T00:00:00\",\"2001-03-22T00:00:00\",\"2001-03-23T00:00:00\",\"2001-03-24T00:00:00\",\"2001-03-25T00:00:00\",\"2001-03-26T00:00:00\",\"2001-03-27T00:00:00\",\"2001-03-28T00:00:00\",\"2001-03-29T00:00:00\",\"2001-03-30T00:00:00\",\"2001-03-31T00:00:00\",\"2001-04-01T00:00:00\",\"2001-04-02T00:00:00\",\"2001-04-03T00:00:00\",\"2001-04-04T00:00:00\",\"2001-04-05T00:00:00\",\"2001-04-06T00:00:00\",\"2001-04-07T00:00:00\",\"2001-04-08T00:00:00\",\"2001-04-09T00:00:00\",\"2001-04-10T00:00:00\",\"2001-04-11T00:00:00\",\"2001-04-12T00:00:00\",\"2001-04-13T00:00:00\",\"2001-04-14T00:00:00\",\"2001-04-15T00:00:00\",\"2001-04-16T00:00:00\",\"2001-04-17T00:00:00\",\"2001-04-18T00:00:00\",\"2001-04-19T00:00:00\",\"2001-04-20T00:00:00\",\"2001-04-21T00:00:00\",\"2001-04-22T00:00:00\",\"2001-04-23T00:00:00\",\"2001-04-24T00:00:00\",\"2001-04-25T00:00:00\",\"2001-04-26T00:00:00\",\"2001-04-27T00:00:00\",\"2001-04-28T00:00:00\",\"2001-04-29T00:00:00\",\"2001-04-30T00:00:00\",\"2001-05-01T00:00:00\",\"2001-05-02T00:00:00\",\"2001-05-03T00:00:00\",\"2001-05-04T00:00:00\",\"2001-05-05T00:00:00\",\"2001-05-06T00:00:00\",\"2001-05-07T00:00:00\",\"2001-05-08T00:00:00\",\"2001-05-09T00:00:00\",\"2001-05-10T00:00:00\",\"2001-05-11T00:00:00\",\"2001-05-12T00:00:00\",\"2001-05-13T00:00:00\",\"2001-05-14T00:00:00\",\"2001-05-15T00:00:00\",\"2001-05-16T00:00:00\",\"2001-05-17T00:00:00\",\"2001-05-18T00:00:00\",\"2001-05-19T00:00:00\",\"2001-05-20T00:00:00\",\"2001-05-21T00:00:00\",\"2001-05-22T00:00:00\",\"2001-05-23T00:00:00\",\"2001-05-24T00:00:00\",\"2001-05-25T00:00:00\",\"2001-05-26T00:00:00\",\"2001-05-27T00:00:00\",\"2001-05-28T00:00:00\",\"2001-05-29T00:00:00\",\"2001-05-30T00:00:00\",\"2001-05-31T00:00:00\",\"2001-06-01T00:00:00\",\"2001-06-02T00:00:00\",\"2001-06-03T00:00:00\",\"2001-06-04T00:00:00\",\"2001-06-05T00:00:00\",\"2001-06-06T00:00:00\",\"2001-06-07T00:00:00\",\"2001-06-08T00:00:00\",\"2001-06-09T00:00:00\",\"2001-06-10T00:00:00\",\"2001-06-11T00:00:00\",\"2001-06-12T00:00:00\",\"2001-06-13T00:00:00\",\"2001-06-14T00:00:00\",\"2001-06-15T00:00:00\",\"2001-06-16T00:00:00\",\"2001-06-17T00:00:00\",\"2001-06-18T00:00:00\",\"2001-06-19T00:00:00\",\"2001-06-20T00:00:00\",\"2001-06-21T00:00:00\",\"2001-06-22T00:00:00\",\"2001-06-23T00:00:00\",\"2001-06-24T00:00:00\",\"2001-06-25T00:00:00\",\"2001-06-26T00:00:00\",\"2001-06-27T00:00:00\",\"2001-06-28T00:00:00\",\"2001-06-29T00:00:00\",\"2001-06-30T00:00:00\",\"2001-07-01T00:00:00\",\"2001-07-02T00:00:00\",\"2001-07-03T00:00:00\",\"2001-07-04T00:00:00\",\"2001-07-05T00:00:00\",\"2001-07-06T00:00:00\",\"2001-07-07T00:00:00\",\"2001-07-08T00:00:00\",\"2001-07-09T00:00:00\",\"2001-07-10T00:00:00\",\"2001-07-11T00:00:00\",\"2001-07-12T00:00:00\",\"2001-07-13T00:00:00\",\"2001-07-14T00:00:00\",\"2001-07-15T00:00:00\",\"2001-07-16T00:00:00\",\"2001-07-17T00:00:00\",\"2001-07-18T00:00:00\",\"2001-07-19T00:00:00\",\"2001-07-20T00:00:00\",\"2001-07-21T00:00:00\",\"2001-07-22T00:00:00\",\"2001-07-23T00:00:00\",\"2001-07-24T00:00:00\",\"2001-07-25T00:00:00\",\"2001-07-26T00:00:00\",\"2001-07-27T00:00:00\",\"2001-07-28T00:00:00\",\"2001-07-29T00:00:00\",\"2001-07-30T00:00:00\",\"2001-07-31T00:00:00\",\"2001-08-01T00:00:00\",\"2001-08-02T00:00:00\",\"2001-08-03T00:00:00\",\"2001-08-04T00:00:00\",\"2001-08-05T00:00:00\",\"2001-08-06T00:00:00\",\"2001-08-07T00:00:00\",\"2001-08-08T00:00:00\",\"2001-08-09T00:00:00\",\"2001-08-10T00:00:00\",\"2001-08-11T00:00:00\",\"2001-08-12T00:00:00\",\"2001-08-13T00:00:00\",\"2001-08-14T00:00:00\",\"2001-08-15T00:00:00\",\"2001-08-16T00:00:00\",\"2001-08-17T00:00:00\",\"2001-08-18T00:00:00\",\"2001-08-19T00:00:00\",\"2001-08-20T00:00:00\",\"2001-08-21T00:00:00\",\"2001-08-22T00:00:00\",\"2001-08-23T00:00:00\",\"2001-08-24T00:00:00\",\"2001-08-25T00:00:00\",\"2001-08-26T00:00:00\",\"2001-08-27T00:00:00\",\"2001-08-28T00:00:00\",\"2001-08-29T00:00:00\",\"2001-08-30T00:00:00\",\"2001-08-31T00:00:00\",\"2001-09-01T00:00:00\",\"2001-09-02T00:00:00\",\"2001-09-03T00:00:00\",\"2001-09-04T00:00:00\",\"2001-09-05T00:00:00\",\"2001-09-06T00:00:00\",\"2001-09-07T00:00:00\",\"2001-09-08T00:00:00\",\"2001-09-09T00:00:00\",\"2001-09-10T00:00:00\",\"2001-09-11T00:00:00\",\"2001-09-12T00:00:00\",\"2001-09-13T00:00:00\",\"2001-09-14T00:00:00\",\"2001-09-15T00:00:00\",\"2001-09-16T00:00:00\",\"2001-09-17T00:00:00\",\"2001-09-18T00:00:00\",\"2001-09-19T00:00:00\",\"2001-09-20T00:00:00\",\"2001-09-21T00:00:00\",\"2001-09-22T00:00:00\",\"2001-09-23T00:00:00\",\"2001-09-24T00:00:00\",\"2001-09-25T00:00:00\",\"2001-09-26T00:00:00\",\"2001-09-27T00:00:00\",\"2001-09-28T00:00:00\",\"2001-09-29T00:00:00\",\"2001-09-30T00:00:00\",\"2001-10-01T00:00:00\",\"2001-10-02T00:00:00\",\"2001-10-03T00:00:00\",\"2001-10-04T00:00:00\",\"2001-10-05T00:00:00\",\"2001-10-06T00:00:00\",\"2001-10-07T00:00:00\",\"2001-10-08T00:00:00\",\"2001-10-09T00:00:00\",\"2001-10-10T00:00:00\",\"2001-10-11T00:00:00\",\"2001-10-12T00:00:00\",\"2001-10-13T00:00:00\",\"2001-10-14T00:00:00\",\"2001-10-15T00:00:00\",\"2001-10-16T00:00:00\",\"2001-10-17T00:00:00\",\"2001-10-18T00:00:00\",\"2001-10-19T00:00:00\",\"2001-10-20T00:00:00\",\"2001-10-21T00:00:00\",\"2001-10-22T00:00:00\",\"2001-10-23T00:00:00\",\"2001-10-24T00:00:00\",\"2001-10-25T00:00:00\",\"2001-10-26T00:00:00\",\"2001-10-27T00:00:00\",\"2001-10-28T00:00:00\",\"2001-10-29T00:00:00\",\"2001-10-30T00:00:00\",\"2001-10-31T00:00:00\",\"2001-11-01T00:00:00\",\"2001-11-02T00:00:00\",\"2001-11-03T00:00:00\",\"2001-11-04T00:00:00\",\"2001-11-05T00:00:00\",\"2001-11-06T00:00:00\",\"2001-11-07T00:00:00\",\"2001-11-08T00:00:00\",\"2001-11-09T00:00:00\",\"2001-11-10T00:00:00\",\"2001-11-11T00:00:00\",\"2001-11-12T00:00:00\",\"2001-11-13T00:00:00\",\"2001-11-14T00:00:00\",\"2001-11-15T00:00:00\",\"2001-11-16T00:00:00\",\"2001-11-17T00:00:00\",\"2001-11-18T00:00:00\",\"2001-11-19T00:00:00\",\"2001-11-20T00:00:00\",\"2001-11-21T00:00:00\",\"2001-11-22T00:00:00\",\"2001-11-23T00:00:00\",\"2001-11-24T00:00:00\",\"2001-11-25T00:00:00\",\"2001-11-26T00:00:00\",\"2001-11-27T00:00:00\",\"2001-11-28T00:00:00\",\"2001-11-29T00:00:00\",\"2001-11-30T00:00:00\",\"2001-12-01T00:00:00\",\"2001-12-02T00:00:00\",\"2001-12-03T00:00:00\",\"2001-12-04T00:00:00\",\"2001-12-05T00:00:00\",\"2001-12-06T00:00:00\",\"2001-12-07T00:00:00\",\"2001-12-08T00:00:00\",\"2001-12-09T00:00:00\",\"2001-12-10T00:00:00\",\"2001-12-11T00:00:00\",\"2001-12-12T00:00:00\",\"2001-12-13T00:00:00\",\"2001-12-14T00:00:00\",\"2001-12-15T00:00:00\",\"2001-12-16T00:00:00\",\"2001-12-17T00:00:00\",\"2001-12-18T00:00:00\",\"2001-12-19T00:00:00\",\"2001-12-20T00:00:00\",\"2001-12-21T00:00:00\",\"2001-12-22T00:00:00\",\"2001-12-23T00:00:00\",\"2001-12-24T00:00:00\",\"2001-12-25T00:00:00\",\"2001-12-26T00:00:00\",\"2001-12-27T00:00:00\",\"2001-12-28T00:00:00\",\"2001-12-29T00:00:00\",\"2001-12-30T00:00:00\",\"2001-12-31T00:00:00\",\"2002-01-01T00:00:00\",\"2002-01-02T00:00:00\",\"2002-01-03T00:00:00\",\"2002-01-04T00:00:00\",\"2002-01-05T00:00:00\",\"2002-01-06T00:00:00\",\"2002-01-07T00:00:00\",\"2002-01-08T00:00:00\",\"2002-01-09T00:00:00\",\"2002-01-10T00:00:00\",\"2002-01-11T00:00:00\",\"2002-01-12T00:00:00\",\"2002-01-13T00:00:00\",\"2002-01-14T00:00:00\",\"2002-01-15T00:00:00\",\"2002-01-16T00:00:00\",\"2002-01-17T00:00:00\",\"2002-01-18T00:00:00\",\"2002-01-19T00:00:00\",\"2002-01-20T00:00:00\",\"2002-01-21T00:00:00\",\"2002-01-22T00:00:00\",\"2002-01-23T00:00:00\",\"2002-01-24T00:00:00\",\"2002-01-25T00:00:00\",\"2002-01-26T00:00:00\",\"2002-01-27T00:00:00\",\"2002-01-28T00:00:00\",\"2002-01-29T00:00:00\",\"2002-01-30T00:00:00\",\"2002-01-31T00:00:00\",\"2002-02-01T00:00:00\",\"2002-02-02T00:00:00\",\"2002-02-03T00:00:00\",\"2002-02-04T00:00:00\",\"2002-02-05T00:00:00\",\"2002-02-06T00:00:00\",\"2002-02-07T00:00:00\",\"2002-02-08T00:00:00\",\"2002-02-09T00:00:00\",\"2002-02-10T00:00:00\",\"2002-02-11T00:00:00\",\"2002-02-12T00:00:00\",\"2002-02-13T00:00:00\",\"2002-02-14T00:00:00\",\"2002-02-15T00:00:00\",\"2002-02-16T00:00:00\",\"2002-02-17T00:00:00\",\"2002-02-18T00:00:00\",\"2002-02-19T00:00:00\",\"2002-02-20T00:00:00\",\"2002-02-21T00:00:00\",\"2002-02-22T00:00:00\",\"2002-02-23T00:00:00\",\"2002-02-24T00:00:00\",\"2002-02-25T00:00:00\",\"2002-02-26T00:00:00\",\"2002-02-27T00:00:00\",\"2002-02-28T00:00:00\",\"2002-03-01T00:00:00\",\"2002-03-02T00:00:00\",\"2002-03-03T00:00:00\",\"2002-03-04T00:00:00\",\"2002-03-05T00:00:00\",\"2002-03-06T00:00:00\",\"2002-03-07T00:00:00\",\"2002-03-08T00:00:00\",\"2002-03-09T00:00:00\",\"2002-03-10T00:00:00\",\"2002-03-11T00:00:00\",\"2002-03-12T00:00:00\",\"2002-03-13T00:00:00\",\"2002-03-14T00:00:00\",\"2002-03-15T00:00:00\",\"2002-03-16T00:00:00\",\"2002-03-17T00:00:00\",\"2002-03-18T00:00:00\",\"2002-03-19T00:00:00\",\"2002-03-20T00:00:00\",\"2002-03-21T00:00:00\",\"2002-03-22T00:00:00\",\"2002-03-23T00:00:00\",\"2002-03-24T00:00:00\",\"2002-03-25T00:00:00\",\"2002-03-26T00:00:00\",\"2002-03-27T00:00:00\",\"2002-03-28T00:00:00\",\"2002-03-29T00:00:00\",\"2002-03-30T00:00:00\",\"2002-03-31T00:00:00\",\"2002-04-01T00:00:00\",\"2002-04-02T00:00:00\",\"2002-04-03T00:00:00\",\"2002-04-04T00:00:00\",\"2002-04-05T00:00:00\",\"2002-04-06T00:00:00\",\"2002-04-07T00:00:00\",\"2002-04-08T00:00:00\",\"2002-04-09T00:00:00\",\"2002-04-10T00:00:00\",\"2002-04-11T00:00:00\",\"2002-04-12T00:00:00\",\"2002-04-13T00:00:00\",\"2002-04-14T00:00:00\",\"2002-04-15T00:00:00\",\"2002-04-16T00:00:00\",\"2002-04-17T00:00:00\",\"2002-04-18T00:00:00\",\"2002-04-19T00:00:00\",\"2002-04-20T00:00:00\",\"2002-04-21T00:00:00\",\"2002-04-22T00:00:00\",\"2002-04-23T00:00:00\",\"2002-04-24T00:00:00\",\"2002-04-25T00:00:00\",\"2002-04-26T00:00:00\",\"2002-04-27T00:00:00\",\"2002-04-28T00:00:00\",\"2002-04-29T00:00:00\",\"2002-04-30T00:00:00\",\"2002-05-01T00:00:00\",\"2002-05-02T00:00:00\",\"2002-05-03T00:00:00\",\"2002-05-04T00:00:00\",\"2002-05-05T00:00:00\",\"2002-05-06T00:00:00\",\"2002-05-07T00:00:00\",\"2002-05-08T00:00:00\",\"2002-05-09T00:00:00\",\"2002-05-10T00:00:00\",\"2002-05-11T00:00:00\",\"2002-05-12T00:00:00\",\"2002-05-13T00:00:00\",\"2002-05-14T00:00:00\",\"2002-05-15T00:00:00\",\"2002-05-16T00:00:00\",\"2002-05-17T00:00:00\",\"2002-05-18T00:00:00\",\"2002-05-19T00:00:00\",\"2002-05-20T00:00:00\",\"2002-05-21T00:00:00\",\"2002-05-22T00:00:00\",\"2002-05-23T00:00:00\",\"2002-05-24T00:00:00\",\"2002-05-25T00:00:00\",\"2002-05-26T00:00:00\",\"2002-05-27T00:00:00\",\"2002-05-28T00:00:00\",\"2002-05-29T00:00:00\",\"2002-05-30T00:00:00\",\"2002-05-31T00:00:00\",\"2002-06-01T00:00:00\",\"2002-06-02T00:00:00\",\"2002-06-03T00:00:00\",\"2002-06-04T00:00:00\",\"2002-06-05T00:00:00\",\"2002-06-06T00:00:00\",\"2002-06-07T00:00:00\",\"2002-06-08T00:00:00\",\"2002-06-09T00:00:00\",\"2002-06-10T00:00:00\",\"2002-06-11T00:00:00\",\"2002-06-12T00:00:00\",\"2002-06-13T00:00:00\",\"2002-06-14T00:00:00\",\"2002-06-15T00:00:00\",\"2002-06-16T00:00:00\",\"2002-06-17T00:00:00\",\"2002-06-18T00:00:00\",\"2002-06-19T00:00:00\",\"2002-06-20T00:00:00\",\"2002-06-21T00:00:00\",\"2002-06-22T00:00:00\",\"2002-06-23T00:00:00\",\"2002-06-24T00:00:00\",\"2002-06-25T00:00:00\",\"2002-06-26T00:00:00\",\"2002-06-27T00:00:00\",\"2002-06-28T00:00:00\",\"2002-06-29T00:00:00\",\"2002-06-30T00:00:00\",\"2002-07-01T00:00:00\",\"2002-07-02T00:00:00\",\"2002-07-03T00:00:00\",\"2002-07-04T00:00:00\",\"2002-07-05T00:00:00\",\"2002-07-06T00:00:00\",\"2002-07-07T00:00:00\",\"2002-07-08T00:00:00\",\"2002-07-09T00:00:00\",\"2002-07-10T00:00:00\",\"2002-07-11T00:00:00\",\"2002-07-12T00:00:00\",\"2002-07-13T00:00:00\",\"2002-07-14T00:00:00\",\"2002-07-15T00:00:00\",\"2002-07-16T00:00:00\",\"2002-07-17T00:00:00\",\"2002-07-18T00:00:00\",\"2002-07-19T00:00:00\",\"2002-07-20T00:00:00\",\"2002-07-21T00:00:00\",\"2002-07-22T00:00:00\",\"2002-07-23T00:00:00\",\"2002-07-24T00:00:00\",\"2002-07-25T00:00:00\",\"2002-07-26T00:00:00\",\"2002-07-27T00:00:00\",\"2002-07-28T00:00:00\",\"2002-07-29T00:00:00\",\"2002-07-30T00:00:00\",\"2002-07-31T00:00:00\",\"2002-08-01T00:00:00\",\"2002-08-02T00:00:00\",\"2002-08-03T00:00:00\",\"2002-08-04T00:00:00\",\"2002-08-05T00:00:00\",\"2002-08-06T00:00:00\",\"2002-08-07T00:00:00\",\"2002-08-08T00:00:00\",\"2002-08-09T00:00:00\",\"2002-08-10T00:00:00\",\"2002-08-11T00:00:00\",\"2002-08-12T00:00:00\",\"2002-08-13T00:00:00\",\"2002-08-14T00:00:00\",\"2002-08-15T00:00:00\",\"2002-08-16T00:00:00\",\"2002-08-17T00:00:00\",\"2002-08-18T00:00:00\",\"2002-08-19T00:00:00\",\"2002-08-20T00:00:00\",\"2002-08-21T00:00:00\",\"2002-08-22T00:00:00\",\"2002-08-23T00:00:00\",\"2002-08-24T00:00:00\",\"2002-08-25T00:00:00\",\"2002-08-26T00:00:00\",\"2002-08-27T00:00:00\",\"2002-08-28T00:00:00\",\"2002-08-29T00:00:00\",\"2002-08-30T00:00:00\",\"2002-08-31T00:00:00\",\"2002-09-01T00:00:00\",\"2002-09-02T00:00:00\",\"2002-09-03T00:00:00\",\"2002-09-04T00:00:00\",\"2002-09-05T00:00:00\",\"2002-09-06T00:00:00\",\"2002-09-07T00:00:00\",\"2002-09-08T00:00:00\",\"2002-09-09T00:00:00\",\"2002-09-10T00:00:00\",\"2002-09-11T00:00:00\",\"2002-09-12T00:00:00\",\"2002-09-13T00:00:00\",\"2002-09-14T00:00:00\",\"2002-09-15T00:00:00\",\"2002-09-16T00:00:00\",\"2002-09-17T00:00:00\",\"2002-09-18T00:00:00\",\"2002-09-19T00:00:00\",\"2002-09-20T00:00:00\",\"2002-09-21T00:00:00\",\"2002-09-22T00:00:00\",\"2002-09-23T00:00:00\",\"2002-09-24T00:00:00\",\"2002-09-25T00:00:00\",\"2002-09-26T00:00:00\"],\"xaxis\":\"x\",\"y\":[-0.8703748416057548,-0.3172940384124382,-0.3172940384124382,0.445844276277919,0.445844276277919,0.445844276277919,0.6932181982038842,0.9726637472287196,1.61812136031954,1.61812136031954,1.61812136031954,1.61812136031954,1.61812136031954,1.61812136031954,1.61812136031954,1.61812136031954,1.61812136031954,1.61812136031954,1.61812136031954,1.61812136031954,1.61812136031954,1.61812136031954,1.61812136031954,1.61812136031954,1.61812136031954,1.61812136031954,1.61812136031954,1.61812136031954,1.61812136031954,1.61812136031954,1.61812136031954,1.61812136031954,1.61812136031954,1.61812136031954,1.61812136031954,1.61812136031954,1.61812136031954,1.61812136031954,1.61812136031954,1.61812136031954,1.61812136031954,1.61812136031954,1.61812136031954,1.61812136031954,2.164358022175949,2.164358022175949,2.164358022175949,2.164358022175949,2.164358022175949,2.164358022175949,2.164358022175949,2.164358022175949,2.164358022175949,2.164358022175949,2.164358022175949,2.164358022175949,2.164358022175949,2.164358022175949,2.164358022175949,2.164358022175949,2.164358022175949,2.164358022175949,2.164358022175949,2.9539771233598784,2.9539771233598784,2.9539771233598784,2.9539771233598784,2.9539771233598784,2.9539771233598784,2.9539771233598784,2.9539771233598784,2.9539771233598784,2.9539771233598784,2.9539771233598784,2.9539771233598784,2.9539771233598784,2.9539771233598784,2.9539771233598784,2.9539771233598784,2.9539771233598784,2.9539771233598784,2.9539771233598784,2.9539771233598784,2.9539771233598784,2.9539771233598784,2.9539771233598784,2.9539771233598784,2.9539771233598784,2.9539771233598784,2.9539771233598784,2.9539771233598784,2.9539771233598784,2.9539771233598784,3.324269143469498,3.324269143469498,3.324269143469498,3.324269143469498,3.324269143469498,3.324269143469498,3.324269143469498,3.324269143469498,3.324269143469498,3.324269143469498,3.324269143469498,3.324269143469498,3.324269143469498,3.324269143469498,3.324269143469498,3.324269143469498,3.324269143469498,3.324269143469498,3.324269143469498,3.324269143469498,3.324269143469498,3.324269143469498,3.324269143469498,3.324269143469498,3.324269143469498,3.324269143469498,3.324269143469498,3.324269143469498,3.324269143469498,3.324269143469498,3.324269143469498,3.324269143469498,3.324269143469498,3.324269143469498,3.324269143469498,3.324269143469498,3.324269143469498,3.324269143469498,3.324269143469498,3.324269143469498,3.324269143469498,3.324269143469498,3.324269143469498,3.324269143469498,3.324269143469498,3.324269143469498,3.324269143469498,3.324269143469498,3.324269143469498,3.324269143469498,3.324269143469498,3.324269143469498,3.324269143469498,3.481002870784768,3.481002870784768,3.481002870784768,3.481002870784768,3.481002870784768,3.481002870784768,3.481002870784768,3.481002870784768,3.481002870784768,3.481002870784768,3.481002870784768,3.481002870784768,3.481002870784768,3.481002870784768,3.481002870784768,3.481002870784768,3.481002870784768,3.481002870784768,3.481002870784768,3.481002870784768,3.481002870784768,3.481002870784768,3.481002870784768,3.481002870784768,3.481002870784768,3.481002870784768,3.481002870784768,3.481002870784768,3.481002870784768,3.481002870784768,3.481002870784768,3.481002870784768,3.481002870784768,3.481002870784768,3.481002870784768,3.481002870784768,3.481002870784768,3.481002870784768,3.481002870784768,3.481002870784768,3.481002870784768,3.481002870784768,3.481002870784768,3.481002870784768,3.481002870784768,3.481002870784768,3.481002870784768,3.481002870784768,3.481002870784768,3.481002870784768,3.481002870784768,3.481002870784768,3.481002870784768,3.481002870784768,3.481002870784768,3.481002870784768,3.481002870784768,3.481002870784768,3.481002870784768,3.481002870784768,3.481002870784768,3.481002870784768,3.481002870784768,3.481002870784768,3.481002870784768,3.481002870784768,3.481002870784768,3.481002870784768,3.481002870784768,3.481002870784768,3.481002870784768,3.481002870784768,3.481002870784768,3.481002870784768,3.481002870784768,3.481002870784768,3.481002870784768,3.481002870784768,3.481002870784768,3.481002870784768,3.481002870784768,3.481002870784768,3.481002870784768,3.481002870784768,3.481002870784768,3.481002870784768,3.481002870784768,3.481002870784768,3.481002870784768,3.481002870784768,3.481002870784768,3.481002870784768,3.481002870784768,3.481002870784768,3.481002870784768,3.481002870784768,3.481002870784768,3.481002870784768,3.481002870784768,3.481002870784768,3.481002870784768,3.481002870784768,3.481002870784768,3.481002870784768,3.481002870784768,3.481002870784768,3.481002870784768,3.481002870784768,3.481002870784768,3.481002870784768,3.481002870784768,3.481002870784768,3.481002870784768,3.481002870784768,3.481002870784768,3.481002870784768,3.481002870784768,3.481002870784768,3.481002870784768,3.481002870784768,3.481002870784768,3.481002870784768,3.481002870784768,3.481002870784768,3.481002870784768,3.481002870784768,3.481002870784768,3.481002870784768,3.481002870784768,3.481002870784768,3.481002870784768,3.481002870784768,3.481002870784768,3.481002870784768,3.481002870784768,3.481002870784768,3.481002870784768,3.481002870784768,3.481002870784768,3.481002870784768,3.481002870784768,3.481002870784768,3.481002870784768,3.481002870784768,3.481002870784768,3.481002870784768,3.481002870784768,3.481002870784768,3.481002870784768,3.481002870784768,3.481002870784768,3.481002870784768,3.481002870784768,3.481002870784768,3.481002870784768,3.481002870784768,3.481002870784768,3.481002870784768,3.481002870784768,3.481002870784768,3.481002870784768,3.481002870784768,3.481002870784768,3.481002870784768,3.481002870784768,3.481002870784768,3.481002870784768,3.481002870784768,3.481002870784768,3.481002870784768,3.481002870784768,3.481002870784768,3.481002870784768,3.481002870784768,3.481002870784768,3.481002870784768,3.481002870784768,3.481002870784768,3.481002870784768,3.481002870784768,3.481002870784768,3.481002870784768,3.481002870784768,3.481002870784768,3.481002870784768,3.481002870784768,3.481002870784768,3.481002870784768,3.481002870784768,3.481002870784768,3.481002870784768,3.481002870784768,3.481002870784768,3.481002870784768,3.481002870784768,3.481002870784768,3.481002870784768,3.481002870784768,3.481002870784768,3.481002870784768,3.481002870784768,3.481002870784768,3.481002870784768,3.481002870784768,3.481002870784768,3.481002870784768,3.481002870784768,3.481002870784768,3.481002870784768,3.481002870784768,3.481002870784768,3.481002870784768,3.481002870784768,3.481002870784768,3.481002870784768,3.481002870784768,3.481002870784768,3.481002870784768,3.481002870784768,3.481002870784768,3.481002870784768,3.481002870784768,3.481002870784768,3.481002870784768,3.481002870784768,3.481002870784768,3.481002870784768,3.481002870784768,3.481002870784768,3.481002870784768,3.481002870784768,3.481002870784768,3.481002870784768,3.481002870784768,3.481002870784768,3.481002870784768,3.481002870784768,3.481002870784768,3.481002870784768,3.481002870784768,3.481002870784768,3.481002870784768,3.481002870784768,3.481002870784768,3.481002870784768,3.481002870784768,3.481002870784768,3.481002870784768,3.481002870784768,3.481002870784768,3.481002870784768,3.481002870784768,3.481002870784768,3.481002870784768,3.481002870784768,3.481002870784768,3.481002870784768,3.481002870784768,3.481002870784768,3.481002870784768,3.481002870784768,3.481002870784768,3.481002870784768,3.481002870784768,3.481002870784768,3.481002870784768,3.481002870784768,3.481002870784768,3.481002870784768,3.481002870784768,3.481002870784768,3.481002870784768,3.481002870784768,3.481002870784768,3.481002870784768,3.481002870784768,3.481002870784768,3.481002870784768,3.481002870784768,3.481002870784768,3.481002870784768,3.481002870784768,3.481002870784768,3.481002870784768,3.481002870784768,3.481002870784768,3.481002870784768,3.481002870784768,3.481002870784768,3.481002870784768,3.481002870784768,3.481002870784768,3.481002870784768,3.481002870784768,3.481002870784768,3.481002870784768,3.481002870784768,3.481002870784768,3.481002870784768,3.481002870784768,3.481002870784768,3.481002870784768,3.481002870784768,3.481002870784768,3.481002870784768,3.481002870784768,3.481002870784768,3.481002870784768,3.481002870784768,3.481002870784768,3.481002870784768,3.481002870784768,3.481002870784768,3.481002870784768,3.481002870784768,3.481002870784768,3.481002870784768,3.481002870784768,3.481002870784768,3.481002870784768,3.481002870784768,3.481002870784768,3.481002870784768,3.481002870784768,3.481002870784768,3.481002870784768,3.481002870784768,3.481002870784768,3.481002870784768,3.481002870784768,3.481002870784768,3.481002870784768,3.481002870784768,3.481002870784768,3.481002870784768,3.481002870784768,3.481002870784768,3.481002870784768,3.481002870784768,3.481002870784768,3.481002870784768,3.481002870784768,3.481002870784768,3.481002870784768,3.481002870784768,3.481002870784768,3.481002870784768,3.481002870784768,3.481002870784768,3.481002870784768,3.481002870784768,3.481002870784768,3.481002870784768,3.481002870784768,3.481002870784768,3.481002870784768,3.481002870784768,3.481002870784768,3.481002870784768,3.481002870784768,3.481002870784768,3.481002870784768,3.481002870784768,3.481002870784768,3.481002870784768,3.481002870784768,3.481002870784768,3.481002870784768,3.481002870784768,3.481002870784768,3.481002870784768,3.481002870784768,3.481002870784768,3.481002870784768,3.481002870784768,3.481002870784768,3.481002870784768,3.481002870784768,3.481002870784768,3.481002870784768,3.481002870784768,3.481002870784768,3.481002870784768,3.481002870784768,3.481002870784768,3.481002870784768,3.481002870784768,3.481002870784768,3.481002870784768,3.481002870784768,3.481002870784768,3.481002870784768,3.481002870784768,3.481002870784768,3.481002870784768,3.481002870784768,3.481002870784768,3.481002870784768,3.481002870784768,3.481002870784768,3.481002870784768,3.481002870784768,3.481002870784768,3.481002870784768,3.481002870784768,3.481002870784768,3.481002870784768,3.481002870784768,3.481002870784768,3.481002870784768,3.481002870784768,3.481002870784768,3.481002870784768,3.481002870784768,3.481002870784768,3.481002870784768,3.481002870784768,3.481002870784768,3.481002870784768,3.481002870784768,3.481002870784768,3.481002870784768,3.481002870784768,3.481002870784768,3.481002870784768,3.481002870784768,3.481002870784768,3.481002870784768,3.481002870784768,3.481002870784768,3.481002870784768,3.481002870784768,3.481002870784768,3.481002870784768,3.481002870784768,3.481002870784768,3.481002870784768,3.481002870784768,3.481002870784768,3.481002870784768,3.481002870784768,3.481002870784768,3.481002870784768,3.481002870784768,3.481002870784768,3.481002870784768,3.481002870784768,3.481002870784768,3.481002870784768,3.481002870784768,3.481002870784768,3.481002870784768,3.481002870784768,3.481002870784768,3.481002870784768,3.481002870784768,3.481002870784768,3.481002870784768,3.481002870784768,3.481002870784768,3.481002870784768,3.481002870784768,3.481002870784768,3.481002870784768,3.481002870784768,3.481002870784768,3.481002870784768,3.481002870784768,3.481002870784768,3.481002870784768,3.481002870784768,3.481002870784768,3.481002870784768,3.481002870784768,3.481002870784768,3.481002870784768,3.481002870784768,3.481002870784768,3.481002870784768,3.481002870784768,3.481002870784768,3.481002870784768,3.481002870784768,3.481002870784768,3.481002870784768,3.481002870784768,3.481002870784768,3.481002870784768,3.481002870784768,3.481002870784768,3.481002870784768,3.481002870784768,3.481002870784768,3.481002870784768,3.481002870784768,3.481002870784768,3.481002870784768,3.481002870784768,3.481002870784768,3.481002870784768,3.481002870784768,3.481002870784768,3.481002870784768,3.481002870784768,3.481002870784768,3.481002870784768,3.481002870784768,3.481002870784768,3.481002870784768,3.481002870784768,3.481002870784768,3.481002870784768,3.481002870784768,3.481002870784768,3.481002870784768,3.481002870784768,3.481002870784768,3.481002870784768,3.481002870784768,3.481002870784768,3.481002870784768,3.481002870784768,3.481002870784768,3.481002870784768,3.481002870784768,3.481002870784768,3.481002870784768,3.481002870784768,3.481002870784768,3.481002870784768,3.481002870784768,3.481002870784768,3.481002870784768,3.481002870784768,3.481002870784768,3.481002870784768,3.481002870784768,3.481002870784768,3.481002870784768,3.481002870784768,3.481002870784768,3.481002870784768,3.481002870784768,3.481002870784768,3.481002870784768,3.481002870784768,3.481002870784768,3.481002870784768,3.481002870784768,3.481002870784768,3.481002870784768,3.481002870784768,3.481002870784768,3.481002870784768,3.481002870784768,3.481002870784768,3.481002870784768,3.481002870784768,3.481002870784768,3.481002870784768,3.481002870784768,3.481002870784768,3.481002870784768,3.481002870784768,3.481002870784768,3.481002870784768,3.481002870784768,3.481002870784768,3.481002870784768,3.481002870784768,3.481002870784768,3.481002870784768,3.481002870784768,3.481002870784768,3.481002870784768,3.481002870784768,3.481002870784768,3.481002870784768,3.481002870784768,3.481002870784768,3.481002870784768,3.481002870784768,3.481002870784768,3.481002870784768,3.481002870784768,3.481002870784768,3.481002870784768,3.481002870784768,3.481002870784768,3.481002870784768,3.481002870784768,3.481002870784768,3.481002870784768,3.481002870784768,3.481002870784768,3.481002870784768,3.481002870784768,3.481002870784768,3.481002870784768,3.481002870784768,3.481002870784768,3.481002870784768,3.481002870784768,3.481002870784768,3.481002870784768,3.481002870784768,3.481002870784768,3.481002870784768,3.481002870784768,3.481002870784768,3.481002870784768,3.481002870784768,3.481002870784768,3.481002870784768,3.481002870784768,3.481002870784768,3.481002870784768,3.481002870784768,3.481002870784768,3.481002870784768,3.481002870784768,3.481002870784768,3.481002870784768,3.481002870784768,3.481002870784768,3.481002870784768,3.481002870784768,3.481002870784768,3.481002870784768,3.481002870784768,3.481002870784768,3.481002870784768,3.481002870784768,3.481002870784768,3.481002870784768,3.481002870784768,3.481002870784768,3.481002870784768,3.481002870784768,3.481002870784768,3.481002870784768,3.481002870784768,3.481002870784768,3.481002870784768,3.481002870784768,3.481002870784768,3.481002870784768,3.481002870784768,3.481002870784768,3.481002870784768,3.481002870784768,3.481002870784768,3.481002870784768,3.481002870784768,3.481002870784768,3.481002870784768,3.481002870784768,3.481002870784768,3.481002870784768,3.481002870784768,3.481002870784768,3.481002870784768,3.481002870784768,3.481002870784768,3.481002870784768,3.481002870784768,3.481002870784768,3.481002870784768,3.481002870784768,3.481002870784768,3.481002870784768,3.481002870784768,3.481002870784768,3.481002870784768,3.481002870784768,3.481002870784768,3.481002870784768,3.481002870784768,3.481002870784768,3.481002870784768,3.481002870784768,3.481002870784768,3.481002870784768,3.481002870784768,3.481002870784768,3.481002870784768,3.481002870784768,3.481002870784768,3.481002870784768,3.481002870784768,3.481002870784768,3.481002870784768,3.481002870784768,3.481002870784768,3.481002870784768,3.481002870784768,3.481002870784768,3.481002870784768,3.481002870784768,3.481002870784768,3.481002870784768,3.481002870784768,3.481002870784768,3.481002870784768,3.481002870784768,3.481002870784768,3.481002870784768,3.481002870784768,3.481002870784768,3.481002870784768,3.481002870784768,3.481002870784768,3.481002870784768,3.481002870784768,3.481002870784768,3.481002870784768,3.481002870784768,3.481002870784768,3.481002870784768,3.481002870784768,3.481002870784768,3.481002870784768,3.481002870784768,3.481002870784768,3.481002870784768,3.481002870784768,3.481002870784768,3.481002870784768,3.481002870784768,3.481002870784768,3.481002870784768,3.481002870784768,3.481002870784768,3.481002870784768,3.481002870784768,3.481002870784768,3.481002870784768,3.481002870784768,3.481002870784768,3.481002870784768,3.481002870784768,3.481002870784768,3.481002870784768,3.481002870784768,3.481002870784768,3.481002870784768,3.481002870784768,3.481002870784768,3.481002870784768,3.481002870784768,3.481002870784768,3.481002870784768,3.481002870784768,3.481002870784768,3.481002870784768,3.481002870784768,3.481002870784768,3.481002870784768,3.481002870784768,3.481002870784768,3.481002870784768,3.481002870784768,3.481002870784768,3.481002870784768,3.481002870784768,3.481002870784768,3.481002870784768,3.481002870784768,3.481002870784768,3.481002870784768,3.481002870784768,3.481002870784768,3.481002870784768,3.481002870784768,3.481002870784768,3.481002870784768,3.481002870784768,3.481002870784768,3.481002870784768,3.543466050998851,3.543466050998851,3.543466050998851,3.543466050998851,3.543466050998851,3.543466050998851,3.543466050998851,3.543466050998851,3.543466050998851,3.543466050998851,3.543466050998851,3.543466050998851,3.543466050998851,3.543466050998851,3.543466050998851,3.543466050998851,3.543466050998851,3.543466050998851,3.543466050998851,3.543466050998851,3.543466050998851,3.543466050998851,3.543466050998851,3.543466050998851,3.543466050998851,3.543466050998851,3.543466050998851,3.543466050998851,3.543466050998851,3.543466050998851,3.543466050998851,3.543466050998851,3.543466050998851,3.543466050998851,3.543466050998851,3.543466050998851,3.543466050998851,3.543466050998851,3.543466050998851,3.543466050998851,3.543466050998851,3.543466050998851,3.543466050998851,3.543466050998851,3.543466050998851,3.543466050998851,3.543466050998851,3.543466050998851,3.543466050998851,3.543466050998851,3.543466050998851,3.543466050998851,3.543466050998851,3.543466050998851,3.543466050998851,3.543466050998851,3.543466050998851,3.543466050998851,3.543466050998851,3.543466050998851,3.543466050998851,3.543466050998851,3.543466050998851,3.543466050998851,3.543466050998851,3.543466050998851,3.543466050998851,3.543466050998851,3.543466050998851,3.543466050998851,3.543466050998851,3.543466050998851,3.543466050998851,3.543466050998851,3.543466050998851],\"yaxis\":\"y\",\"type\":\"scattergl\"}],                        {\"template\":{\"data\":{\"histogram2dcontour\":[{\"type\":\"histogram2dcontour\",\"colorbar\":{\"outlinewidth\":0,\"ticks\":\"\"},\"colorscale\":[[0.0,\"#0d0887\"],[0.1111111111111111,\"#46039f\"],[0.2222222222222222,\"#7201a8\"],[0.3333333333333333,\"#9c179e\"],[0.4444444444444444,\"#bd3786\"],[0.5555555555555556,\"#d8576b\"],[0.6666666666666666,\"#ed7953\"],[0.7777777777777778,\"#fb9f3a\"],[0.8888888888888888,\"#fdca26\"],[1.0,\"#f0f921\"]]}],\"choropleth\":[{\"type\":\"choropleth\",\"colorbar\":{\"outlinewidth\":0,\"ticks\":\"\"}}],\"histogram2d\":[{\"type\":\"histogram2d\",\"colorbar\":{\"outlinewidth\":0,\"ticks\":\"\"},\"colorscale\":[[0.0,\"#0d0887\"],[0.1111111111111111,\"#46039f\"],[0.2222222222222222,\"#7201a8\"],[0.3333333333333333,\"#9c179e\"],[0.4444444444444444,\"#bd3786\"],[0.5555555555555556,\"#d8576b\"],[0.6666666666666666,\"#ed7953\"],[0.7777777777777778,\"#fb9f3a\"],[0.8888888888888888,\"#fdca26\"],[1.0,\"#f0f921\"]]}],\"heatmap\":[{\"type\":\"heatmap\",\"colorbar\":{\"outlinewidth\":0,\"ticks\":\"\"},\"colorscale\":[[0.0,\"#0d0887\"],[0.1111111111111111,\"#46039f\"],[0.2222222222222222,\"#7201a8\"],[0.3333333333333333,\"#9c179e\"],[0.4444444444444444,\"#bd3786\"],[0.5555555555555556,\"#d8576b\"],[0.6666666666666666,\"#ed7953\"],[0.7777777777777778,\"#fb9f3a\"],[0.8888888888888888,\"#fdca26\"],[1.0,\"#f0f921\"]]}],\"heatmapgl\":[{\"type\":\"heatmapgl\",\"colorbar\":{\"outlinewidth\":0,\"ticks\":\"\"},\"colorscale\":[[0.0,\"#0d0887\"],[0.1111111111111111,\"#46039f\"],[0.2222222222222222,\"#7201a8\"],[0.3333333333333333,\"#9c179e\"],[0.4444444444444444,\"#bd3786\"],[0.5555555555555556,\"#d8576b\"],[0.6666666666666666,\"#ed7953\"],[0.7777777777777778,\"#fb9f3a\"],[0.8888888888888888,\"#fdca26\"],[1.0,\"#f0f921\"]]}],\"contourcarpet\":[{\"type\":\"contourcarpet\",\"colorbar\":{\"outlinewidth\":0,\"ticks\":\"\"}}],\"contour\":[{\"type\":\"contour\",\"colorbar\":{\"outlinewidth\":0,\"ticks\":\"\"},\"colorscale\":[[0.0,\"#0d0887\"],[0.1111111111111111,\"#46039f\"],[0.2222222222222222,\"#7201a8\"],[0.3333333333333333,\"#9c179e\"],[0.4444444444444444,\"#bd3786\"],[0.5555555555555556,\"#d8576b\"],[0.6666666666666666,\"#ed7953\"],[0.7777777777777778,\"#fb9f3a\"],[0.8888888888888888,\"#fdca26\"],[1.0,\"#f0f921\"]]}],\"surface\":[{\"type\":\"surface\",\"colorbar\":{\"outlinewidth\":0,\"ticks\":\"\"},\"colorscale\":[[0.0,\"#0d0887\"],[0.1111111111111111,\"#46039f\"],[0.2222222222222222,\"#7201a8\"],[0.3333333333333333,\"#9c179e\"],[0.4444444444444444,\"#bd3786\"],[0.5555555555555556,\"#d8576b\"],[0.6666666666666666,\"#ed7953\"],[0.7777777777777778,\"#fb9f3a\"],[0.8888888888888888,\"#fdca26\"],[1.0,\"#f0f921\"]]}],\"mesh3d\":[{\"type\":\"mesh3d\",\"colorbar\":{\"outlinewidth\":0,\"ticks\":\"\"}}],\"scatter\":[{\"fillpattern\":{\"fillmode\":\"overlay\",\"size\":10,\"solidity\":0.2},\"type\":\"scatter\"}],\"parcoords\":[{\"type\":\"parcoords\",\"line\":{\"colorbar\":{\"outlinewidth\":0,\"ticks\":\"\"}}}],\"scatterpolargl\":[{\"type\":\"scatterpolargl\",\"marker\":{\"colorbar\":{\"outlinewidth\":0,\"ticks\":\"\"}}}],\"bar\":[{\"error_x\":{\"color\":\"#2a3f5f\"},\"error_y\":{\"color\":\"#2a3f5f\"},\"marker\":{\"line\":{\"color\":\"#E5ECF6\",\"width\":0.5},\"pattern\":{\"fillmode\":\"overlay\",\"size\":10,\"solidity\":0.2}},\"type\":\"bar\"}],\"scattergeo\":[{\"type\":\"scattergeo\",\"marker\":{\"colorbar\":{\"outlinewidth\":0,\"ticks\":\"\"}}}],\"scatterpolar\":[{\"type\":\"scatterpolar\",\"marker\":{\"colorbar\":{\"outlinewidth\":0,\"ticks\":\"\"}}}],\"histogram\":[{\"marker\":{\"pattern\":{\"fillmode\":\"overlay\",\"size\":10,\"solidity\":0.2}},\"type\":\"histogram\"}],\"scattergl\":[{\"type\":\"scattergl\",\"marker\":{\"colorbar\":{\"outlinewidth\":0,\"ticks\":\"\"}}}],\"scatter3d\":[{\"type\":\"scatter3d\",\"line\":{\"colorbar\":{\"outlinewidth\":0,\"ticks\":\"\"}},\"marker\":{\"colorbar\":{\"outlinewidth\":0,\"ticks\":\"\"}}}],\"scattermapbox\":[{\"type\":\"scattermapbox\",\"marker\":{\"colorbar\":{\"outlinewidth\":0,\"ticks\":\"\"}}}],\"scatterternary\":[{\"type\":\"scatterternary\",\"marker\":{\"colorbar\":{\"outlinewidth\":0,\"ticks\":\"\"}}}],\"scattercarpet\":[{\"type\":\"scattercarpet\",\"marker\":{\"colorbar\":{\"outlinewidth\":0,\"ticks\":\"\"}}}],\"carpet\":[{\"aaxis\":{\"endlinecolor\":\"#2a3f5f\",\"gridcolor\":\"white\",\"linecolor\":\"white\",\"minorgridcolor\":\"white\",\"startlinecolor\":\"#2a3f5f\"},\"baxis\":{\"endlinecolor\":\"#2a3f5f\",\"gridcolor\":\"white\",\"linecolor\":\"white\",\"minorgridcolor\":\"white\",\"startlinecolor\":\"#2a3f5f\"},\"type\":\"carpet\"}],\"table\":[{\"cells\":{\"fill\":{\"color\":\"#EBF0F8\"},\"line\":{\"color\":\"white\"}},\"header\":{\"fill\":{\"color\":\"#C8D4E3\"},\"line\":{\"color\":\"white\"}},\"type\":\"table\"}],\"barpolar\":[{\"marker\":{\"line\":{\"color\":\"#E5ECF6\",\"width\":0.5},\"pattern\":{\"fillmode\":\"overlay\",\"size\":10,\"solidity\":0.2}},\"type\":\"barpolar\"}],\"pie\":[{\"automargin\":true,\"type\":\"pie\"}]},\"layout\":{\"autotypenumbers\":\"strict\",\"colorway\":[\"#636efa\",\"#EF553B\",\"#00cc96\",\"#ab63fa\",\"#FFA15A\",\"#19d3f3\",\"#FF6692\",\"#B6E880\",\"#FF97FF\",\"#FECB52\"],\"font\":{\"color\":\"#2a3f5f\"},\"hovermode\":\"closest\",\"hoverlabel\":{\"align\":\"left\"},\"paper_bgcolor\":\"white\",\"plot_bgcolor\":\"#E5ECF6\",\"polar\":{\"bgcolor\":\"#E5ECF6\",\"angularaxis\":{\"gridcolor\":\"white\",\"linecolor\":\"white\",\"ticks\":\"\"},\"radialaxis\":{\"gridcolor\":\"white\",\"linecolor\":\"white\",\"ticks\":\"\"}},\"ternary\":{\"bgcolor\":\"#E5ECF6\",\"aaxis\":{\"gridcolor\":\"white\",\"linecolor\":\"white\",\"ticks\":\"\"},\"baxis\":{\"gridcolor\":\"white\",\"linecolor\":\"white\",\"ticks\":\"\"},\"caxis\":{\"gridcolor\":\"white\",\"linecolor\":\"white\",\"ticks\":\"\"}},\"coloraxis\":{\"colorbar\":{\"outlinewidth\":0,\"ticks\":\"\"}},\"colorscale\":{\"sequential\":[[0.0,\"#0d0887\"],[0.1111111111111111,\"#46039f\"],[0.2222222222222222,\"#7201a8\"],[0.3333333333333333,\"#9c179e\"],[0.4444444444444444,\"#bd3786\"],[0.5555555555555556,\"#d8576b\"],[0.6666666666666666,\"#ed7953\"],[0.7777777777777778,\"#fb9f3a\"],[0.8888888888888888,\"#fdca26\"],[1.0,\"#f0f921\"]],\"sequentialminus\":[[0.0,\"#0d0887\"],[0.1111111111111111,\"#46039f\"],[0.2222222222222222,\"#7201a8\"],[0.3333333333333333,\"#9c179e\"],[0.4444444444444444,\"#bd3786\"],[0.5555555555555556,\"#d8576b\"],[0.6666666666666666,\"#ed7953\"],[0.7777777777777778,\"#fb9f3a\"],[0.8888888888888888,\"#fdca26\"],[1.0,\"#f0f921\"]],\"diverging\":[[0,\"#8e0152\"],[0.1,\"#c51b7d\"],[0.2,\"#de77ae\"],[0.3,\"#f1b6da\"],[0.4,\"#fde0ef\"],[0.5,\"#f7f7f7\"],[0.6,\"#e6f5d0\"],[0.7,\"#b8e186\"],[0.8,\"#7fbc41\"],[0.9,\"#4d9221\"],[1,\"#276419\"]]},\"xaxis\":{\"gridcolor\":\"white\",\"linecolor\":\"white\",\"ticks\":\"\",\"title\":{\"standoff\":15},\"zerolinecolor\":\"white\",\"automargin\":true,\"zerolinewidth\":2},\"yaxis\":{\"gridcolor\":\"white\",\"linecolor\":\"white\",\"ticks\":\"\",\"title\":{\"standoff\":15},\"zerolinecolor\":\"white\",\"automargin\":true,\"zerolinewidth\":2},\"scene\":{\"xaxis\":{\"backgroundcolor\":\"#E5ECF6\",\"gridcolor\":\"white\",\"linecolor\":\"white\",\"showbackground\":true,\"ticks\":\"\",\"zerolinecolor\":\"white\",\"gridwidth\":2},\"yaxis\":{\"backgroundcolor\":\"#E5ECF6\",\"gridcolor\":\"white\",\"linecolor\":\"white\",\"showbackground\":true,\"ticks\":\"\",\"zerolinecolor\":\"white\",\"gridwidth\":2},\"zaxis\":{\"backgroundcolor\":\"#E5ECF6\",\"gridcolor\":\"white\",\"linecolor\":\"white\",\"showbackground\":true,\"ticks\":\"\",\"zerolinecolor\":\"white\",\"gridwidth\":2}},\"shapedefaults\":{\"line\":{\"color\":\"#2a3f5f\"}},\"annotationdefaults\":{\"arrowcolor\":\"#2a3f5f\",\"arrowhead\":0,\"arrowwidth\":1},\"geo\":{\"bgcolor\":\"white\",\"landcolor\":\"#E5ECF6\",\"subunitcolor\":\"white\",\"showland\":true,\"showlakes\":true,\"lakecolor\":\"white\"},\"title\":{\"x\":0.05},\"mapbox\":{\"style\":\"light\"}}},\"xaxis\":{\"anchor\":\"y\",\"domain\":[0.0,1.0],\"title\":{\"text\":\"index\"}},\"yaxis\":{\"anchor\":\"x\",\"domain\":[0.0,1.0],\"title\":{\"text\":\"value\"}},\"legend\":{\"title\":{\"text\":\"variable\"},\"tracegroupgap\":0},\"margin\":{\"t\":60}},                        {\"responsive\": true}                    ).then(function(){\n",
              "                            \n",
              "var gd = document.getElementById('8ada174a-c129-401b-86ae-75b541e654c4');\n",
              "var x = new MutationObserver(function (mutations, observer) {{\n",
              "        var display = window.getComputedStyle(gd).display;\n",
              "        if (!display || display === 'none') {{\n",
              "            console.log([gd, 'removed!']);\n",
              "            Plotly.purge(gd);\n",
              "            observer.disconnect();\n",
              "        }}\n",
              "}});\n",
              "\n",
              "// Listen for the removal of the full notebook cells\n",
              "var notebookContainer = gd.closest('#notebook-container');\n",
              "if (notebookContainer) {{\n",
              "    x.observe(notebookContainer, {childList: true});\n",
              "}}\n",
              "\n",
              "// Listen for the clearing of the current output cell\n",
              "var outputEl = gd.closest('.output');\n",
              "if (outputEl) {{\n",
              "    x.observe(outputEl, {childList: true});\n",
              "}}\n",
              "\n",
              "                        })                };                            </script>        </div>\n",
              "</body>\n",
              "</html>"
            ]
          },
          "metadata": {}
        }
      ]
    }
  ]
}